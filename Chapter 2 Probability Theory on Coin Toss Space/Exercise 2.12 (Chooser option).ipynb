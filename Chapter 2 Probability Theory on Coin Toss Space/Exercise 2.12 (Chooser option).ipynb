{
 "cells": [
  {
   "cell_type": "markdown",
   "metadata": {},
   "source": [
    "# Problem"
   ]
  },
  {
   "cell_type": "markdown",
   "metadata": {},
   "source": [
    "Let $1\\leq m\\leq N-1$ and $K>0$ be given. A *chooser option* is a contract sold at time zero that confers on its owner the right to receive either a call or a put at time $m$. The owner of the chooser may wait until time $m$ before choosing. The call or put chosen expires at time $N$ with strike price $K$. Show that the time-zero price of a chooser option is the sum of the time-zero price of a put, expiring at time $N$ and having strike price $K$, and a call, expiring at time $m$ and having strike price $\\frac{K}{(1+r)^{N-m}}$."
   ]
  },
  {
   "cell_type": "markdown",
   "metadata": {},
   "source": [
    "# Answer"
   ]
  },
  {
   "cell_type": "markdown",
   "metadata": {},
   "source": [
    "To calculate the time-zero price of such a derivative, we construct a replicating portfolio and determine the time-zero value of that portfolio.  We do this in two parts.  First, we show how one can replicate the portfolio for times $m+1,m+2,\\dots,N-1,N$.  Then we show one can replicate the portfolio for times $0,1,\\dots,m-1,m$."
   ]
  },
  {
   "cell_type": "markdown",
   "metadata": {},
   "source": [
    "The first part is easy.  Depending on whether the chooser chooses a call or a put at time $m$, one simply constructs a replciating portfolio for that in the usual way. "
   ]
  },
  {
   "cell_type": "markdown",
   "metadata": {},
   "source": [
    "The second part is trickier.  The first observation to make that will help us is to note that the no-arbitrage condition requires that the owner of such an option will, at time $m$, choose the contract (i.e. either the call or the put) that maximizes his or her wealth.  In other words, if $V_m$ denotes the value of the chooser contract at time $m$, it must hold that\n",
    "\\begin{equation}\n",
    "V_m=\\max\\{C_m,P_m\\}.\n",
    "\\end{equation}"
   ]
  },
  {
   "cell_type": "markdown",
   "metadata": {},
   "source": [
    "From the previous exercise, we know that $C_m=F_m+P_m$.  Plugging this into the equation above, we see that\n",
    "\\begin{equation}\n",
    "V_m=\\max\\{F_m+P_m,P_m\\}.\n",
    "\\end{equation}"
   ]
  },
  {
   "cell_type": "markdown",
   "metadata": {},
   "source": [
    "We claim that a derivative with such a payoff can be replicated for times $0,1,\\dots,m-1,m$ by buying, at time zero, a put with strike price $K$ that expires at time $N$, and a call with strike price $\\frac{K}{(1+r)^{N-m}}$ that expires at time $m$.  Let $V'_m$ be the payoff of such a proposed replicating portfolio.  Recall from Theorem 2.4.7 that discounted derivatives prices are martinagles under the risk-neutral measure.  Additionally, recall from Exercise 2.8(i) that if two martingales are equal for some time $m$, then in fact they are equal for all times $0,1,\\dots,m-1,m$.  Hence if we can show that $V'_m\\stackrel{!}{=}V_m$, we will have that $V'_0=V_0$, and this is the time-zero value of the chooser option."
   ]
  },
  {
   "cell_type": "markdown",
   "metadata": {},
   "source": [
    "Let $C^{m}_m$ be the price of the call in our proposed replicating portfolio at time $m$. The superscript $m$ here is to remind us that the call expires at time $m$, and *not* time $N$, as is usually implied.  Then we have that $V'_m=C^m_m+P_m$.  At time $m$, the price of such a call is given by\n",
    "\\begin{align}\n",
    "C_m^m&=\\left(S_m-\\frac{K}{(1+r)^{N-m}}\\right)^+\\\\\n",
    "&=\\left(S_m-\\frac{K}{(1+r)^{N-m}}\\right)^+\\times\\frac{(1+r)^{N-m}}{(1+r)^{N-m}}\\\\\n",
    "&=\\frac{\\left(S_m(1+r)^{N-m}-K\\right)^+}{(1+r)^{N-m}}\\\\\n",
    "&=\\max\\left\\{0,\\frac{S_m(1+r)^{N-m}-K}{(1+r)^{N-m}}\\right\\}.\n",
    "\\end{align}"
   ]
  },
  {
   "cell_type": "markdown",
   "metadata": {},
   "source": [
    "Recall from Theorem 2.4.4 that the discounted stock price is a martingale under the risk-neutral measure.  This means that\n",
    "\\begin{equation}\n",
    "S_m=\\tilde{\\mathbb{E}}_m\\left[\\frac{S_N}{(1+r)^{N-m}}\\right],\n",
    "\\end{equation}\n",
    "and hence\n",
    "\\begin{align}\n",
    "\\frac{S_m(1+r)^{N-m}-K}{(1+r)^{N-m}}&=\\frac{\\tilde{\\mathbb{E}}_m\\left[\\frac{S_N}{(1+r)^{N-m}}\\right](1+r)^{N-m}-K}{(1+r)^{N-m}}\\\\\n",
    "&=\\frac{\\tilde{\\mathbb{E}}_m[S_N]-K}{(1+r)^{N-m}}\\\\\n",
    "&=\\tilde{\\mathbb{E}}_m\\left[\\frac{S_N-K}{(1+r)^{N-m}}\\right]\\\\\n",
    "&=F_m.\n",
    "\\end{align}"
   ]
  },
  {
   "cell_type": "markdown",
   "metadata": {},
   "source": [
    "In short,\n",
    "\\begin{equation}\n",
    "C_m^m=\\max\\left\\{0,F_m\\right\\},\n",
    "\\end{equation}\n",
    "and hence\n",
    "\\begin{align}\n",
    "V'_m&=C^m_m+P_m\\\\\n",
    "&=\\max\\left\\{0,F_m\\right\\}+P_m\\\\\n",
    "&=\\max\\{F_m+P_m,P_m\\}\\\\\n",
    "&=V_m.\n",
    "\\end{align}"
   ]
  },
  {
   "cell_type": "markdown",
   "metadata": {},
   "source": [
    "This establishes the desired result. $\\square$"
   ]
  },
  {
   "cell_type": "code",
   "execution_count": null,
   "metadata": {},
   "outputs": [],
   "source": []
  }
 ],
 "metadata": {
  "kernelspec": {
   "display_name": "Python 3",
   "language": "python",
   "name": "python3"
  },
  "language_info": {
   "codemirror_mode": {
    "name": "ipython",
    "version": 3
   },
   "file_extension": ".py",
   "mimetype": "text/x-python",
   "name": "python",
   "nbconvert_exporter": "python",
   "pygments_lexer": "ipython3",
   "version": "3.7.6"
  }
 },
 "nbformat": 4,
 "nbformat_minor": 4
}
