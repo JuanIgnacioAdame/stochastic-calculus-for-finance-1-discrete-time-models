{
 "cells": [
  {
   "cell_type": "markdown",
   "metadata": {},
   "source": [
    "# Problem"
   ]
  },
  {
   "cell_type": "markdown",
   "metadata": {},
   "source": [
    "Suppose $M_0,M_1,\\dots,M_N$ is a martingale, and let $\\Delta_0,\\Delta_1,\\dots,\\Delta_{N-1}$ be an adapted process. Define the *discrete-time stochastic integral* (sometimes called a *martingale transform*) $I_0,I_1,\\dots,I_N$ by setting $I_0=0$ and\n",
    "\\begin{equation}\n",
    "I_n=\\sum_{j=0}^{n-1}\\Delta_j(M_{j+1}-M_{j}), \\quad n=1,\\dots,N.\n",
    "\\end{equation}"
   ]
  },
  {
   "cell_type": "markdown",
   "metadata": {},
   "source": [
    "Show that $I_0,I_1,\\dots,I_N$ is a martingale."
   ]
  },
  {
   "cell_type": "markdown",
   "metadata": {},
   "source": [
    "# Answer"
   ]
  },
  {
   "cell_type": "markdown",
   "metadata": {},
   "source": [
    "\\begin{align}\n",
    "\\mathbb{E}_{n}[I_{n+1}]&=\\mathbb{E}_{n}[I_{n}+\\Delta_n(M_{n+1}-M_n)]\\\\\n",
    "&=I_n+\\mathbb{E}_{n}[\\Delta_n(M_{n+1}-M_n)]\\\\\n",
    "&=I_n+\\mathbb{E}_{n}[\\Delta_nM_{n+1}-\\Delta_nM_n]\\\\\n",
    "&=I_n+\\mathbb{E}_{n}[\\Delta_nM_{n+1}]-\\Delta_nM_n\\\\\n",
    "&=I_n+\\Delta_n\\mathbb{E}_{n}[M_{n+1}]-\\Delta_nM_n\\\\\n",
    "&=I_n+\\Delta_nM_n-\\Delta_nM_n\\\\\n",
    "&=I_n.\n",
    "\\end{align}"
   ]
  },
  {
   "cell_type": "code",
   "execution_count": null,
   "metadata": {},
   "outputs": [],
   "source": []
  }
 ],
 "metadata": {
  "kernelspec": {
   "display_name": "Python 3",
   "language": "python",
   "name": "python3"
  },
  "language_info": {
   "codemirror_mode": {
    "name": "ipython",
    "version": 3
   },
   "file_extension": ".py",
   "mimetype": "text/x-python",
   "name": "python",
   "nbconvert_exporter": "python",
   "pygments_lexer": "ipython3",
   "version": "3.7.6"
  }
 },
 "nbformat": 4,
 "nbformat_minor": 4
}
