{
 "cells": [
  {
   "cell_type": "markdown",
   "metadata": {},
   "source": [
    "# Problem"
   ]
  },
  {
   "cell_type": "markdown",
   "metadata": {},
   "source": [
    "Consider an $N$-period binomial model. An *Asian option* has a payoff based on the average stock price, i.e.,\n",
    "\\begin{equation}\n",
    "V_N=f\\left(\\frac{1}{N+1}\\sum_{n=0}^{N}S_n\\right),\n",
    "\\end{equation}\n",
    "where the function $f$ is determined by the contractual details of the option."
   ]
  },
  {
   "cell_type": "markdown",
   "metadata": {},
   "source": [
    "(i) Define $Y_n=\\sum_{k=0}^{n}S_k$ and use the Independence Lemma 2.5.3 to show that the two-dimensional process $(S_n,Y_n), n=0,1,\\dots,N$ is Markov."
   ]
  },
  {
   "cell_type": "markdown",
   "metadata": {},
   "source": [
    "(ii) According to Theorem 2.5.8, the price $V_n$ of the Asian option at time $n$ is some function $v_n$ of $S_n$ and $Y_n$, i.e.,\n",
    "\\begin{equation}\n",
    "V_n=v_n(S_n,Y_n), \\quad n=0,1,\\dots,N.\n",
    "\\end{equation}\n",
    "Give a formula for $v_N(s,y)$, and provide an algorithm for computing $v_n(s,y)$ in terms of $v_{n+1}$."
   ]
  },
  {
   "cell_type": "markdown",
   "metadata": {},
   "source": [
    "# Answer"
   ]
  },
  {
   "cell_type": "markdown",
   "metadata": {},
   "source": [
    "(i) Note that $S_{n+1}=S_n\\frac{S_{n+1}}{S_n}$, and that $Y_{n+1}=Y_n+S_{n+1}=Y_n+S_n\\frac{S_{n+1}}{S_n}$.  Let $Z_{n+1}=\\frac{S_{n+1}}{S_n}$, so that\n",
    "\\begin{align}\n",
    "S_{n+1}&=S_{n}Z_{n+1},\\\\\n",
    "Y_{n+1}&=Y_{n}+S_nZ_{n+1}.\n",
    "\\end{align}\n",
    "Then, for any function$f$ it holds that $f(S_{n+1},Y_{n+1})=f\\left(S_{n}Z_{n+1}, Y_{n}+S_nZ_{n+1}\\right)$.  We replace $S_n$ by the dummy variable $s$, and $Y_n$ by the dummy variable $y$, and define\n",
    "\\begin{equation}\n",
    "\\tilde{\\mathbb{E}}\\left[f\\left(sZ_{n+1}, y+sZ_{n+1}\\right)\\right]=g(s,y).\n",
    "\\end{equation}\n",
    "From Lemma 2.5.3, we have that\n",
    "\\begin{align}\n",
    "g(S_n,Y_n)&=\\tilde{\\mathbb{E}}_n\\left[f\\left(S_{n}Z_{n+1}, Y_{n}+S_nZ_{n+1}\\right)\\right]\\\\\n",
    "&=\\tilde{\\mathbb{E}}_n\\left[f\\left(S_{n+1}, Y_{n+1}\\right)\\right].\\square\n",
    "\\end{align}"
   ]
  },
  {
   "cell_type": "markdown",
   "metadata": {},
   "source": [
    "(ii)\n",
    "Case: $n=N$. Our goal is to find a function $v_N(s,y)$ of dummy variables $s$ and $y$ such that when we replace $s$ with $S_N$ and $y$ with $Y_N$, we get\n",
    "\\begin{equation}\n",
    "v_N(S_N,Y_N)=V_N(S_N,Y_N).\n",
    "\\end{equation}\n",
    "This is given by the function\n",
    "\\begin{equation}\n",
    "v_n(s,y)=f\\left(\\frac{y}{N+1}\\right).\n",
    "\\end{equation}\n",
    "Ineed, note that\n",
    "\\begin{equation}\n",
    "v_n(S_N,Y_N)=f\\left(\\frac{Y_N}{N+1}\\right)=V_N(S_N,Y_N),\n",
    "\\end{equation}\n",
    "where the last equality holds by deifnition of $V_N(S_N,Y_N)$."
   ]
  },
  {
   "cell_type": "markdown",
   "metadata": {},
   "source": [
    "Case: $0\\leq n<N$. Note that we always have the risk-neutral pricing formula\n",
    "\\begin{equation}\n",
    "V_{n}=\\frac{1}{1+r}\\tilde{\\mathbb{E}}_n\\left[V_{n+1}\\right].\n",
    "\\end{equation}\n",
    "From Theorem 2.5.8, we have that there is some function $v_{n+1}(s',y')$ of dummy variables $s'$ and $y'$ such that when we replace $s'$ with $S_{n+1}$ and $y'$ with $Y_{n+1}$, then\n",
    "\\begin{equation}\n",
    "v_{n+1}(S_{n+1},Y_{n+1})=V_{n+1}.\n",
    "\\end{equation}\n",
    "Hence, the risk-neutral pricing formula can be rewritten\n",
    "\\begin{equation}\n",
    "V_{n}=\\frac{1}{1+r}\\tilde{\\mathbb{E}}_n\\left[v_{n+1}(S_{n+1},Y_{n+1})\\right].\n",
    "\\end{equation}\n",
    "From our result in (i), recall that we can rewrite $v_{n+1}(S_{n+1},Y_{n+1})=v_{n+1}(S_{n}Z_{n+1},Y_{n}+S_{n}Z_{n+1})$. Replace $S_n$ by the dummy variable $s$, and replace $Y_n$ by the dummy variable $y$.  Next, define\n",
    "\\begin{equation}\n",
    "v_n(s,y)=\\frac{1}{1+r}\\tilde{\\mathbb{E}}\\left[v_{n+1}(sZ_{n+1},y+sZ_{n+1})\\right].\n",
    "\\end{equation}\n",
    "From Lemma 2.5.3, we have that\n",
    "\\begin{align}\n",
    "v_n(S_n,Y_n)&=\\frac{1}{1+r}\\tilde{\\mathbb{E}}_n\\left[v_{n+1}(S_{n}Z_{n+1},Y_{n}+S_{n}Z_{n+1}))\\right]\\\\\n",
    "&=\\frac{1}{1+r}\\tilde{\\mathbb{E}}_n\\left[v_{n+1}(S_{n+1},Y_{n+1}))\\right]\\\\\n",
    "&=V_n.\n",
    "\\end{align}\n",
    "In short, we see that $v_n(s,y)$ is indeed the function we are after.  To obtain it in terms of $v_{n+1}$, we simply multiply out the following\n",
    "\\begin{align}\n",
    "v_n(s,y)&=\\frac{1}{1+r}\\tilde{\\mathbb{E}}\\left[v_{n+1}(sZ_{n+1},y+sZ_{n+1})\\right]\\\\\n",
    "&=\\frac{1}{1+r}[\\tilde{p}v_{n+1}(su,y+su)+\\tilde{q}v_{n+1}(sd,y+sd)].\\square\n",
    "\\end{align}"
   ]
  },
  {
   "cell_type": "code",
   "execution_count": null,
   "metadata": {},
   "outputs": [],
   "source": []
  }
 ],
 "metadata": {
  "kernelspec": {
   "display_name": "Python 3",
   "language": "python",
   "name": "python3"
  },
  "language_info": {
   "codemirror_mode": {
    "name": "ipython",
    "version": 3
   },
   "file_extension": ".py",
   "mimetype": "text/x-python",
   "name": "python",
   "nbconvert_exporter": "python",
   "pygments_lexer": "ipython3",
   "version": "3.7.6"
  }
 },
 "nbformat": 4,
 "nbformat_minor": 4
}
