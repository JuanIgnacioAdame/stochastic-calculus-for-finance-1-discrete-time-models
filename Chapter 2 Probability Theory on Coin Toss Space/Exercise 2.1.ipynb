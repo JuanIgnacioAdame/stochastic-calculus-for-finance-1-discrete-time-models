{
 "cells": [
  {
   "cell_type": "markdown",
   "metadata": {},
   "source": [
    "# Problem"
   ]
  },
  {
   "cell_type": "markdown",
   "metadata": {},
   "source": [
    "Using Definition 2.1.1 show the following."
   ]
  },
  {
   "cell_type": "markdown",
   "metadata": {},
   "source": [
    "(i) If $A$ is an event and $A^{c}$ denotes its complement, then $\\mathbb{P}(A^{c})=1-\\mathbb{P}(A)$."
   ]
  },
  {
   "cell_type": "markdown",
   "metadata": {},
   "source": [
    "(ii) If $A_1,A_2,\\dots,A_N$ is a finite set of events, then\n",
    "\\begin{equation}\n",
    "\\mathbb{P}\\left(\\cup_{n=1}^{N}A_n\\right)\\leq\\sum_{n=1}^{N}\\mathbb{P}(A_n).\n",
    "\\end{equation}\n",
    "If the events $A_1,A_2,\\dots,A_N$ are disjoint, then equality holds in (2.8.1)."
   ]
  },
  {
   "cell_type": "markdown",
   "metadata": {},
   "source": [
    "# Answer"
   ]
  },
  {
   "cell_type": "markdown",
   "metadata": {},
   "source": [
    "(i) From Definition 2.1.1, we have that $\\sum_{\\omega\\in\\Omega}\\mathbb{P}(\\omega)=1$, and hence\n",
    "\\begin{align}\n",
    "\\sum_{\\omega\\in\\Omega}\\mathbb{P}(\\omega)&=\\sum_{\\omega\\in(A\\sqcup A^{c})}\\mathbb{P}(\\omega)\\\\\n",
    "&=\\sum_{\\omega\\in A}\\mathbb{P}(\\omega)+\\sum_{\\omega\\in A^{c}}\\mathbb{P}(\\omega)\\\\\n",
    "&=\\mathbb{P}(A)+\\mathbb{P}(A^{c})=1.\n",
    "\\end{align}"
   ]
  },
  {
   "cell_type": "markdown",
   "metadata": {},
   "source": [
    "(ii) Let $A:=A_1$ and $B:=\\cup_{i=2}^{N}A_i$. Then\n",
    "\\begin{align}\n",
    "\\mathbb{P}\\left(\\cup_{i=1}^{N}A_i\\right)&=\\mathbb{P}\\left(A\\cup B\\right)\\\\\n",
    "&=\\mathbb{P}\\left((A\\setminus B)\\sqcup (A\\cap B)\\sqcup(B\\setminus A)\\right)\\\\\n",
    "&=\\mathbb{P}(A\\sqcup(B\\setminus A))\\\\\n",
    "&=\\mathbb{P}(A)+\\mathbb{P}(B\\setminus A)\\\\\n",
    "&\\leq\\mathbb{P}(A)+\\mathbb{P}(B)\\\\\n",
    "&=\\mathbb{P}\\left(A_1\\right)+\\mathbb{P}\\left(\\cup_{i=2}^{N}A_i\\right).\n",
    "\\end{align}"
   ]
  },
  {
   "cell_type": "markdown",
   "metadata": {},
   "source": [
    "Note that if $A$ and $B$ are disjoint, then $B\\setminus A=B$, so that the inequality above holds. We can continue the process as we did above in order to get the desired result\n",
    "\\begin{equation}\n",
    "\\mathbb{P}\\left(\\cup_{i=1}^{N}A_i\\right)\\leq\\sum_{n=1}^{N}\\mathbb{P}(A_i)\n",
    "\\end{equation}"
   ]
  },
  {
   "cell_type": "markdown",
   "metadata": {},
   "source": [
    "Using the same reasoning as above, we can conclude that this inequality becomes an equality if the $A_1\\dots A_N$ are disjoint."
   ]
  },
  {
   "cell_type": "code",
   "execution_count": null,
   "metadata": {},
   "outputs": [],
   "source": []
  }
 ],
 "metadata": {
  "kernelspec": {
   "display_name": "Python 3",
   "language": "python",
   "name": "python3"
  },
  "language_info": {
   "codemirror_mode": {
    "name": "ipython",
    "version": 3
   },
   "file_extension": ".py",
   "mimetype": "text/x-python",
   "name": "python",
   "nbconvert_exporter": "python",
   "pygments_lexer": "ipython3",
   "version": "3.7.6"
  }
 },
 "nbformat": 4,
 "nbformat_minor": 4
}
