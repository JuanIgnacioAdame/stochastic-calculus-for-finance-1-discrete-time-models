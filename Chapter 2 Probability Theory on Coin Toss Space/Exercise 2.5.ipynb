{
 "cells": [
  {
   "cell_type": "markdown",
   "metadata": {},
   "source": [
    "# Problem"
   ]
  },
  {
   "cell_type": "markdown",
   "metadata": {},
   "source": [
    "Let $M_0,M_1,M_2,\\dots$ be the symmetric random walk of Exercise 2.4, ande define $I_0=0$ and\n",
    "\\begin{equation}\n",
    "I_n=\\sum_{j=0}^{n-1}M_j(M_{j+1}-M_j), \\quad n=1,2,\\dots.\n",
    "\\end{equation}"
   ]
  },
  {
   "cell_type": "markdown",
   "metadata": {},
   "source": [
    "(i) Show that\n",
    "\\begin{equation}\n",
    "I_n=\\frac{1}{2}M_n^2-\\frac{n}{2}.\n",
    "\\end{equation}"
   ]
  },
  {
   "cell_type": "markdown",
   "metadata": {},
   "source": [
    "(ii) Let $n$ be an arbitrary nonnegative integer, and let $f(i)$ be an arbitrary function of a variable $i$. In terms of $n$ and $f$, define another function $g(i)$ satisfying\n",
    "\\begin{equation}\n",
    "E_n\\left[f(I_{n+1})\\right]=g(I_n).\n",
    "\\end{equation}"
   ]
  },
  {
   "cell_type": "markdown",
   "metadata": {},
   "source": [
    "Note that although the function $g(I_n)$ on the right-hand side of this equation may depend on $n$, the only random variable that may appear in its argument is $I_n$; the random variable $M_n$ may not appear. You will need to use the formula in part (i). The conclusion of part (ii) is that the process $I_0,I_1,I_2,\\dots$ is a Markov process."
   ]
  },
  {
   "cell_type": "markdown",
   "metadata": {},
   "source": [
    "# Answer"
   ]
  },
  {
   "cell_type": "markdown",
   "metadata": {},
   "source": [
    "(i)\n",
    "\\begin{align}\n",
    "I_n&=\\sum_{j=0}^{n-1}M_j(M_{j+1}-M_j)\\\\\n",
    "&=\\sum_{j=1}^{n-1}M_jX_{j+1}\\\\\n",
    "&=(X_1X_2)+(X_1X_3+X_1X_2)+\\dots+(X_1X_{n}+\\dots +X_{n-1}X_n).\n",
    "\\end{align}"
   ]
  },
  {
   "cell_type": "markdown",
   "metadata": {},
   "source": [
    "Note that you can think of the indices of the terms in each paranthetical as lying in an $n\\times n$ grid, except that indices corresponding to a diagonal are not allowed, and we are only keeping the lower triangular part of the grid.  In other words, this is equivalent to keeping *half* of *all* the indices in the entire grid, minus half for each diagonal.  In short,\n",
    "\\begin{align}\n",
    "(X_1X_2)+(X_1X_3+X_1X_2)+\\dots+(X_1X_{n}+\\dots +X_{n-1}X_n)&=\\underbrace{\\sum_{i,j=1}^{n}\\frac{1}{2}X_iX_j}_{\\text{half of entire grid}}-\\underbrace{\\sum_{i=1}^{n}\\frac{1}{2}X_iX_i}_{\\text{half of diagonal}}\\\\\n",
    "&=\\frac{M_n^2}{2}-\\frac{n}{2}.\n",
    "\\end{align}"
   ]
  },
  {
   "cell_type": "markdown",
   "metadata": {},
   "source": [
    "(ii) Note that $I_{n+1}=I_n+M_nX_{n+1}$, and because $\\pm\\sqrt{2I_n+n}=M_n$ from part (i), we have that\n",
    "\\begin{equation}\n",
    "I_{n+1}=I_n\\pm\\sqrt{2I_n+n}X_{n+1}.\n",
    "\\end{equation}\n",
    "It follows that\n",
    "\\begin{equation}\n",
    "f(I_{n+1})=f(I_n\\pm\\sqrt{2I_n+n}X_{n+1}).\n",
    "\\end{equation}\n",
    "The ambiguity via the $\\pm$ might seem troublesome, but note that because we are dealing with a *symmetric* random walk (i.e. $\\mathbb{P}(X_{n+1}=1)=\\mathbb{P}(X_{n+1}=-1)=\\frac{1}{2}$), it does not matter, for the purposes of defining $g(.)$, whether we choose $\\sqrt{2I_n+n}$ or $-\\sqrt{2I_n+n}$.  More specifically, if we treat $I_n$ like a dummy variable for the calculation below, note that\n",
    "\\begin{align}\n",
    "\\mathbb{E}[f(I_n+\\sqrt{2I_n+n}X_{n+1})]&=\\frac{1}{2}f(I_n+\\sqrt{2I_n+n}(1))+\\frac{1}{2}f(I_n+\\sqrt{2I_n+n}(-1))\\\\\n",
    "&=\\frac{1}{2}f(I_n-\\sqrt{2I_n+n}(-1))+\\frac{1}{2}f(I_n-\\sqrt{2I_n+n}(1))\\\\\n",
    "&=\\mathbb{E}[f(I_n-\\sqrt{2I_n+n}X_{n+1})].\n",
    "\\end{align}"
   ]
  },
  {
   "cell_type": "markdown",
   "metadata": {},
   "source": [
    "In summary, to use the notation of Lemma 2.5.3, we obtain the desired result result:\n",
    "\\begin{align}\n",
    "g(I_n)&=\\mathbb{E}[f(I_n,X_{n+1})]\\\\\n",
    "&=\\mathbb{E}[f(I_n-\\sqrt{2I_n+n}X_{n+1})]\\\\\n",
    "&=\\frac{1}{2}f(I_n+\\sqrt{2I_n+n})+\\frac{1}{2}f(I_n-\\sqrt{2I_n+n}).\n",
    "\\end{align}"
   ]
  }
 ],
 "metadata": {
  "kernelspec": {
   "display_name": "Python 3",
   "language": "python",
   "name": "python3"
  },
  "language_info": {
   "codemirror_mode": {
    "name": "ipython",
    "version": 3
   },
   "file_extension": ".py",
   "mimetype": "text/x-python",
   "name": "python",
   "nbconvert_exporter": "python",
   "pygments_lexer": "ipython3",
   "version": "3.7.6"
  }
 },
 "nbformat": 4,
 "nbformat_minor": 4
}
