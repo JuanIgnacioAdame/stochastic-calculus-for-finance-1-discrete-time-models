{
 "cells": [
  {
   "cell_type": "markdown",
   "metadata": {},
   "source": [
    "# Problem"
   ]
  },
  {
   "cell_type": "markdown",
   "metadata": {},
   "source": [
    "Toss a coin repeatedly. Assume the probability of head on each toss is $\\frac{1}{2}$, as is the probability of tail. Let $X_{j}=1$ if the $j$th toss results in a head and $X_j=-1$ if the $j$th toss results in a tail. Consider the stochastic process $M_0,M_1,\\dots$ defined by $M_0=0$ and\n",
    "\\begin{equation}\n",
    "M_n=\\sum_{j=1}^{n}X_j, \\quad n\\geq 1.\n",
    "\\end{equation}"
   ]
  },
  {
   "cell_type": "markdown",
   "metadata": {},
   "source": [
    "This is called a *symmetric random walk*; with each head, it steps up one, and with each tail, it steps down one."
   ]
  },
  {
   "cell_type": "markdown",
   "metadata": {},
   "source": [
    "(i) Using the properties of Theorem 2.3.2, show that $M_0,M_1,\\dots$ is a martingale."
   ]
  },
  {
   "cell_type": "markdown",
   "metadata": {},
   "source": [
    "(ii) Let $\\sigma$ be a positive constant and, for $n\\geq 0$, define\n",
    "\\begin{equation}\n",
    "S_n=e^{\\sigma M_n}\\left(\\frac{2}{e^\\sigma+e^{-\\sigma}}\\right)^n.\n",
    "\\end{equation}\n",
    "Show that $S_0,S_1,\\dots$ is a martingale. Note that even though the symmetric random walk $M_n$ has no tendency to grow, the \"geometric symmetric random walk\" $e^{\\sigma M_n}$ does have a tendency to grow. This is the result of putting a martingale into the (convex) exponential function (see Exercise 2.3). In order to again have a martingale, we must \"discount\" the geometric symmetric random walk, using the term $\\frac{2}{e^{\\sigma}+e^{-\\sigma}}$ as the discount rate. This term is trctly less than one unless $\\sigma=0$."
   ]
  },
  {
   "cell_type": "markdown",
   "metadata": {},
   "source": [
    "# Answer"
   ]
  },
  {
   "cell_type": "markdown",
   "metadata": {},
   "source": [
    "(i) Note that we make use of the \"taking out what is known\" property conditional expectation to write \n",
    "\\begin{equation}\n",
    "\\mathbb{E}_n\\left[M_{n+1}\\right]=\\mathbb{E}_n\\left[\\sum_{j=1}^{n+1}X_j\\right]=\\sum_{j=1}^{n}X_j+\\mathbb{E}_n\\left[X_{n+1}\\right].\n",
    "\\end{equation}\n",
    "Additionally, note that $\\mathbb{E}_n\\left[X_{n+1}\\right]=0$, and we arrive at the desired result\n",
    "\\begin{equation}\n",
    "\\mathbb{E}_n\\left[M_{n+1}\\right]=\\mathbb{E}_n\\left[\\sum_{j=1}^{n+1}X_j\\right]=\\sum_{j=1}^{n}X_j+0=M_n.\n",
    "\\end{equation}"
   ]
  },
  {
   "cell_type": "markdown",
   "metadata": {},
   "source": [
    "(ii) \\begin{align}\n",
    "\\mathbb{E}_{n}\\left[S_{n+1}\\right]&=\\mathbb{E}_{n}\\left[e^{\\sigma M_{n+1}}\\left(\\frac{2}{e^\\sigma+e^{-\\sigma}}\\right)^{n+1}\\right]\\\\\n",
    "&=\\mathbb{E}_{n}\\left[e^{\\sigma(M_n+X_{n+1})}\\left(\\frac{2}{e^\\sigma+e^{-\\sigma}}\\right)^{n+1}\\right]\\\\\n",
    "&=e^{\\sigma M_n}\\left(\\frac{2}{e^\\sigma+e^{-\\sigma}}\\right)^{n}\\mathbb{E}_{n}\\left[e^{\\sigma X_{n+1}}\\left(\\frac{2}{e^\\sigma+e^{-\\sigma}}\\right)\\right]\\\\\n",
    "&=e^{\\sigma M_n}\\left(\\frac{2}{e^\\sigma+e^{-\\sigma}}\\right)^{n}\\left[\\left(\\frac{1}{2}e^{\\sigma}+\\frac{1}{2}e^{-\\sigma}\\right)\\left(\\frac{2}{e^\\sigma+e^{-\\sigma}}\\right)\\right]\\\\\n",
    "&=e^{\\sigma M_n}\\left(\\frac{2}{e^\\sigma+e^{-\\sigma}}\\right)^{n}=S_n.\n",
    "\\end{align}"
   ]
  },
  {
   "cell_type": "code",
   "execution_count": null,
   "metadata": {},
   "outputs": [],
   "source": []
  }
 ],
 "metadata": {
  "kernelspec": {
   "display_name": "Python 3",
   "language": "python",
   "name": "python3"
  },
  "language_info": {
   "codemirror_mode": {
    "name": "ipython",
    "version": 3
   },
   "file_extension": ".py",
   "mimetype": "text/x-python",
   "name": "python",
   "nbconvert_exporter": "python",
   "pygments_lexer": "ipython3",
   "version": "3.7.6"
  }
 },
 "nbformat": 4,
 "nbformat_minor": 4
}
