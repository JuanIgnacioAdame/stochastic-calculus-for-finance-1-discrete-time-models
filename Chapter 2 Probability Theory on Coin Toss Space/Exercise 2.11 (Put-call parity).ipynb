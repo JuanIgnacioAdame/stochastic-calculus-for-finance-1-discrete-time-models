{
 "cells": [
  {
   "cell_type": "markdown",
   "metadata": {},
   "source": [
    "# Problem"
   ]
  },
  {
   "cell_type": "markdown",
   "metadata": {},
   "source": [
    "Consider a stock that pays no dividend in an $N$-period binomial model. A European call has payoff $C_N=(S_N-K)^{+}$ at time $N$. The price $C_n$ of this call at earlier times is given by the risk-neutral pricing formula (2.4.11):\n",
    "\\begin{equation}\n",
    "C_n=\\tilde{\\mathbb{E}}_n\\left[\\frac{C_N}{(1+r)^{N-n}}\\right], \\quad n=0,1\\dots,N-1.\n",
    "\\end{equation}"
   ]
  },
  {
   "cell_type": "markdown",
   "metadata": {},
   "source": [
    "Consider also a put with payoff $P_N=(K-S_N)^{+}$ at time $N$, whose price at earlier times is\n",
    "\\begin{equation}\n",
    "P_n=\\tilde{\\mathbb{E}}_n\\left[\\frac{P_N}{(1+r)^{N-n}}\\right], \\quad n=0,1\\dots,N-1.\n",
    "\\end{equation}"
   ]
  },
  {
   "cell_type": "markdown",
   "metadata": {},
   "source": [
    "Finally, consider a forward contract to buy one share of stock at time $N$ for $K$ dollars. The price of this contract at time $N$ is $F_N=S_N-K$, and its price at earlier times is\n",
    "\\begin{equation}\n",
    "F_n=\\tilde{\\mathbb{E}}_n\\left[\\frac{F_N}{(1+r)^{N-n}}\\right], \\quad n=0,1\\dots,N-1.\n",
    "\\end{equation}"
   ]
  },
  {
   "cell_type": "markdown",
   "metadata": {},
   "source": [
    "(Note that, unlike the call, the forward contract requires that the stock be purchased at time $N$ for $K$ dollars and has a negative payoff if $S_N<K$.)"
   ]
  },
  {
   "cell_type": "markdown",
   "metadata": {},
   "source": [
    "(i) If at time zero you buy a forward contract and a put, and hold them until expiration, explain why the payoff you receive is the same as the payoff of a call; i.e. explain why $C_N=F_N+P_N$."
   ]
  },
  {
   "cell_type": "markdown",
   "metadata": {},
   "source": [
    "(ii) Using the risk-neutral pricing formulas given above for $C_n, P_n$, and $F_n$ and the linearity of conditional expectations, show that $C_n=F_n+P_n$ for every $n$."
   ]
  },
  {
   "cell_type": "markdown",
   "metadata": {},
   "source": [
    "(iii) Using the fact that the discounted stock price is a martingale under the risk-neutral measure, show that $F_0=S_0-\\frac{K}{(1+r)^N}$."
   ]
  },
  {
   "cell_type": "markdown",
   "metadata": {},
   "source": [
    "(iv) Suppose you begin at time zero with $F_0$, buy one share of stock, borrowing money as necessary to do that, and make no further trades. Show that at time $N$ you have a portfolio valued at $F_N$. (This is called a *static replication* of the forward contract. If you sell the forward contract for $F_0$ at time zero, you can use this static replication to hedge your short position in the forward contract."
   ]
  },
  {
   "cell_type": "markdown",
   "metadata": {},
   "source": [
    "(v) The *forward contract* of the stock at time zero is defined to be that value of $K$ that causes the forward contract to have price zero at time zero. The forward price in this model is $(1+r)^NS_0$. Show that, at time zero, the price of a call struck at the forward price is the same as the price of a put struck at the forward price. This fact is called *put-call parity*."
   ]
  },
  {
   "cell_type": "markdown",
   "metadata": {},
   "source": [
    "(vi) If we choose $K=(1+r)^{N}S_0$, we just saw in (v) that C_0=P_0. Do we have $C_n=P_n$ for every $n$?"
   ]
  },
  {
   "cell_type": "markdown",
   "metadata": {},
   "source": [
    "# Answer"
   ]
  },
  {
   "cell_type": "markdown",
   "metadata": {},
   "source": [
    "(i) We want to verify that $C_N=F_N+P_N$.\n",
    "\\begin{equation}\n",
    "F_N+P_N=S_N-K+(K-S_N)^{+}.\n",
    "\\end{equation}\n",
    "If $(K-S_N)^{+}=0$, then $(S_N-K)^{+}=S_N-K$.  In this case, the above equation becomes\n",
    "\\begin{equation}\n",
    "F_N+P_N=S_N-K+0=(S_N-K)^{+}=C_N.\n",
    "\\end{equation}\n",
    "Similarly, if $(K-S_N)^{+}=K-S_N$, then $(S_N-K)^{+}=0$.  In this case, the above equation becomes\n",
    "\\begin{equation}\n",
    "F_N+P_N=S_N-K+K-S_N=0=(S_N-K)^{+}=C_N.\n",
    "\\end{equation}\n",
    "In both cases we see that $C_N=F_N+P_N$. $\\square$."
   ]
  },
  {
   "cell_type": "markdown",
   "metadata": {},
   "source": [
    "(ii)\n",
    "\\begin{align}\n",
    "F_n+P_n&=\\tilde{\\mathbb{E}}_n\\left[\\frac{F_N}{(1+r)^{N-n}}\\right]+\\tilde{\\mathbb{E}}_n\\left[\\frac{P_N}{(1+r)^{N-n}}\\right]\\\\\n",
    "&=\\tilde{\\mathbb{E}}_n\\left[\\frac{F_N+P_N}{(1+r)^{N-n}}\\right]\\\\\n",
    "&=\\tilde{\\mathbb{E}}_n\\left[\\frac{C_N}{(1+r)^{N-n}}\\right]\\\\\n",
    "&=C_n.\\square\n",
    "\\end{align}"
   ]
  },
  {
   "cell_type": "markdown",
   "metadata": {},
   "source": [
    "(iii) \\begin{align}\n",
    "F_0&=\\tilde{\\mathbb{E}}_0\\left[\\frac{F_N}{(1+r)^N}\\right]\\\\\n",
    "&=\\tilde{\\mathbb{E}}_0\\left[\\frac{S_N-K}{(1+r)^N}\\right]\\\\\n",
    "&=\\tilde{\\mathbb{E}}_0\\left[\\frac{S_N}{(1+r)^N}\\right]-\\tilde{\\mathbb{E}}_0\\left[\\frac{K}{(1+r)^N}\\right]\\\\\n",
    "&=S_0-\\frac{K}{(1+r)^N}.\\square\n",
    "\\end{align}"
   ]
  },
  {
   "cell_type": "markdown",
   "metadata": {},
   "source": [
    "(iv) Our wealth at time zero is given by\n",
    "\\beign{equation}\n",
    "X_0=1S_0+\\frac{-K}{(1+r)^{N}}(1+r)^0,\n",
    "\\end{equation}\n",
    "and at time $n$ given by\n",
    "\\begin{equation}\n",
    "X_n=1S_n+\\frac{-K}{(1+r)^{N}}(1+r)^n.\n",
    "\\end{equation}\n",
    "Therefore, our wealth at time $N$ is given by\n",
    "\\begin{equation}\n",
    "X_N=1S_N+\\frac{-K}{(1+r)^{N}}(1+r)^N=S_N-K=F_N.\\square\n",
    "\\end{equation}"
   ]
  },
  {
   "cell_type": "markdown",
   "metadata": {},
   "source": [
    "(v) From (ii), we have $C_n=F_n+P_n$, and hence also $C_0-P_0=F_0$. By definition, the forward price of the stock at time zero is defined to be that value of $K$ such that $F_0=0$.  Plugging this into the previous equation, we see that $C_0-P_0=0\\Rightarrow C_0=P_0$, as desired. $\\square$"
   ]
  },
  {
   "cell_type": "markdown",
   "metadata": {},
   "source": [
    "(vi) Although $C_0=P_0$, it is in general *not* the case that $C_n=P_n$ for every $n$.  Recall that $C_n=F_n+P_n$, and hence $C_n=P_n$ for every $n$ if and only if $F_n=0$ for every $n$.  Recalling the formula for $F_n$, we see that\n",
    "\\begin{align}\n",
    "F_n&=\\tilde{\\mathbb{E}}_n\\left[\\frac{F_N}{(1+r)^{N-n}}\\right]\\\\\n",
    "&=\\tilde{\\mathbb{E}}_n\\left[\\frac{S_N-(1+r^N)S_0}{(1+r)^{N-n}}\\right]\\\\\n",
    "&=\\tilde{\\mathbb{E}}_n\\left[\\frac{S_N}{(1+r)^{N-n}}\\right]-\\tilde{\\mathbb{E}}_n\\left[\\frac{(1+r^N)S_0}{(1+r)^{N-n}}\\right]\\\\\n",
    "&=S_n-(1+r^n)S_0. \\quad \\text{ (discounted stock price is a martingale)}.\n",
    "\\end{align}"
   ]
  },
  {
   "cell_type": "markdown",
   "metadata": {},
   "source": [
    "Note that $S_n$ is some arbitrary function of $n$ coin tosses whereas $(1+r^n)S_0$ is a constant (i.e. does not depend on any coin tosses).  Hence, $S_n=(1+r^n)S_0$ holds if and only if $n=0$.$\\square$"
   ]
  },
  {
   "cell_type": "code",
   "execution_count": null,
   "metadata": {},
   "outputs": [],
   "source": []
  }
 ],
 "metadata": {
  "kernelspec": {
   "display_name": "Python 3",
   "language": "python",
   "name": "python3"
  },
  "language_info": {
   "codemirror_mode": {
    "name": "ipython",
    "version": 3
   },
   "file_extension": ".py",
   "mimetype": "text/x-python",
   "name": "python",
   "nbconvert_exporter": "python",
   "pygments_lexer": "ipython3",
   "version": "3.7.6"
  }
 },
 "nbformat": 4,
 "nbformat_minor": 4
}
