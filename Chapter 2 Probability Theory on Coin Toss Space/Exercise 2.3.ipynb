{
 "cells": [
  {
   "cell_type": "markdown",
   "metadata": {},
   "source": [
    "# Problem"
   ]
  },
  {
   "cell_type": "markdown",
   "metadata": {},
   "source": [
    "Show that a convex function of a martingale is a submartingale. In other words, let $M_0,M_1,\\dots,M_N$ be a martingale and let $\\varphi$ be a convex function. Show that $\\varphi(M_0),\\varphi(M_1),\\dots,\\varphi(M_N)$ is a submartingale."
   ]
  },
  {
   "cell_type": "markdown",
   "metadata": {},
   "source": [
    "# Answer"
   ]
  },
  {
   "cell_type": "markdown",
   "metadata": {},
   "source": [
    "Let $X:=M_{n+1}$.  Then Jensen's inequality reads\n",
    "\\begin{align}\n",
    "\\mathbb{E}_n[\\varphi(X)]\\geq \\varphi(\\mathbb{E}_n[X])\\Rightarrow\\\\\n",
    "\\mathbb{E}_n[\\varphi(M_{n+1})]\\geq \\varphi(\\mathbb{E}_n[M_{n+1}]).\n",
    "\\end{align}\n",
    "Because $M_0,M_1,\\dots,M_N$ is a martingale, we know that $M_n=\\mathbb{E}_n[M_{n+1}]$, and hence the last inequality above may be written as\n",
    "\\begin{equation}\n",
    "\\mathbb{E}_n[\\varphi(M_{n+1})]\\geq \\varphi(M_n),\n",
    "\\end{equation}\n",
    "establishing the result $\\square$."
   ]
  }
 ],
 "metadata": {
  "kernelspec": {
   "display_name": "Python 3",
   "language": "python",
   "name": "python3"
  },
  "language_info": {
   "codemirror_mode": {
    "name": "ipython",
    "version": 3
   },
   "file_extension": ".py",
   "mimetype": "text/x-python",
   "name": "python",
   "nbconvert_exporter": "python",
   "pygments_lexer": "ipython3",
   "version": "3.7.6"
  }
 },
 "nbformat": 4,
 "nbformat_minor": 4
}
