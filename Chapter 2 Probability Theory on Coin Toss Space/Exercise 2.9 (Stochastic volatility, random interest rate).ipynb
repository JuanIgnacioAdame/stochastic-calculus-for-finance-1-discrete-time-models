{
 "cells": [
  {
   "cell_type": "markdown",
   "metadata": {},
   "source": [
    "# Problem"
   ]
  },
  {
   "cell_type": "markdown",
   "metadata": {},
   "source": [
    "Consider a two-period stochastic volatility, random interest rate model of the type described in Exercise 1.9 of Chapter 1. The stock prices and interest rates are shown in Figure 2.8.1."
   ]
  },
  {
   "cell_type": "markdown",
   "metadata": {},
   "source": [
    "(i) Determine risk-neutral probabilities\n",
    "\\begin{equation}\n",
    "\\tilde{\\mathbb{P}}(HH), \\tilde{\\mathbb{P}}(HT), \\tilde{\\mathbb{P}}(TH), \\tilde{\\mathbb{P}}(TT),\n",
    "\\end{equation}\n",
    "such that the time-zero value of an option that pays off $V_2$ at time two is given by the risk-neutral pricing formula\n",
    "\\begin{equation}\n",
    "V_0=\\tilde{\\mathbb{E}}\\left[\\frac{V_2}{(1+r_0)(1+r_1)}\\right].\n",
    "\\end{equation}"
   ]
  },
  {
   "cell_type": "markdown",
   "metadata": {},
   "source": [
    "(ii) Let $V_2=(S_2-7)^{+}$. Compute $V_0, V_1(H)$, and $V_1(T)$."
   ]
  },
  {
   "cell_type": "markdown",
   "metadata": {},
   "source": [
    "(iii) Suppose an agent sells the option in (ii) for $V_0$ at time zero. Compute the position $\\Delta_0$ she should take in the stock at time zero so that at time one, regardless of whether the first coin toss results in head or tail, the value of her portfolio is $V_1$."
   ]
  },
  {
   "cell_type": "markdown",
   "metadata": {},
   "source": [
    "(iv) Suppose in (iii) that the first coin toss results in head. What position in $\\Delta_1(H)$ should the agent now take int he stock to be sure that, regardless of whether the second coin toss results in head or tail, the value of her portfolio at time two will be $(S_2-7)^{+}$."
   ]
  },
  {
   "cell_type": "markdown",
   "metadata": {},
   "source": [
    "# Answer"
   ]
  },
  {
   "cell_type": "markdown",
   "metadata": {},
   "source": [
    "(i) Consider the pricing that results from the following pricing scheme:\n",
    "\\begin{align}\n",
    "V_0&=\\frac{1}{1+r_0}\\left(\\tilde{p}_0V_1(H)+\\tilde{q}_0V_1(T)\\right),\\\\\n",
    "V_1&=\\frac{1}{1+r_1}\\left(\\tilde{p}_1V_2(H)+\\tilde{q}_1V_2(T)\\right),\n",
    "\\end{align}\n",
    "where the second equation is in fact two different equations:\n",
    "\\begin{align}\n",
    "V_1(H)&=\\frac{1}{1+r_1(H)}\\left(\\tilde{p}_1(H)V_2(HH)+\\tilde{q}_1(H)V_2(HT)\\right),\\\\\n",
    "V_1(T)&=\\frac{1}{1+r_1(T)}\\left(\\tilde{p}_1(T)V_2(TH)+\\tilde{q}_1(T)V_2(TT)\\right).\n",
    "\\end{align}\n",
    "Here, the values for $\\tilde{p}_0, \\tilde{q}_0, \\tilde{p}_1, \\tilde{q}_1$ are given by\n",
    "\\begin{align}\n",
    "\\tilde{p}_0=\\frac{1+r_0-d_0}{u_0-d_0}=\\frac{1+\\frac{1}{4}-\\frac{1}{2}}{2-\\frac{1}{2}}=\\frac{1}{2},\\\\\n",
    "\\tilde{q}_0=\\frac{u_0-1-r_0}{u_0-d_0}=\\frac{2-1-\\frac{1}{4}}{2-\\frac{1}{2}}=\\frac{1}{2},\n",
    "\\end{align}\n",
    "and\n",
    "\\begin{align}\n",
    "\\tilde{p}_1(H)=\\frac{1+r_1(H)-d_1(H)}{u_1(H)-d_1(H)}=\\frac{1+\\frac{1}{4}-1}{\\frac{3}{2}-1}=\\frac{1}{2},\\\\\n",
    "\\tilde{q}_1(H)=\\frac{u_1(H)-1-r_1(H)}{u_1(H)-d_1(H)}=\\frac{\\frac{3}{2}-1-\\frac{1}{4}}{\\frac{3}{2}-1}=\\frac{1}{2},\n",
    "\\end{align}\n",
    "and finally\n",
    "\\begin{align}\n",
    "\\tilde{p}_1(T)=\\frac{1+r_1(T)-d_1(T)}{u_1(T)-d_1(T)}=\\frac{1+\\frac{1}{2}-1}{4-1}=\\frac{1}{6},\\\\\n",
    "\\tilde{q}_1(T)=\\frac{u_1(T)-1-r_1(T)}{u_1(T)-d_1(T)}=\\frac{4-1-\\frac{1}{2}}{4-1}=\\frac{5}{6}.\n",
    "\\end{align}"
   ]
  },
  {
   "cell_type": "markdown",
   "metadata": {},
   "source": [
    "Our goal now is to obtain $V_0$ in terms of $V_2$.  We do this below.\n",
    "\\begin{align}\n",
    "V_0&=\\frac{1}{1+r_0}\\left(\\tilde{p}_0\\left(\\frac{1}{1+r_1(H)}\\left(\\tilde{p}_1(H)V_2(HH)+\\tilde{q}_1(H)V_2(HT)\\right)\\right)+\\tilde{q}_0\\left(\\frac{1}{1+r_1(T)}\\left(\\tilde{p}_1(T)V_2(TH)+\\tilde{q}_1(T)V_2(TT)\\right)\\right)\\right),\\\\\n",
    "&=\\tilde{p}_0\\tilde{p}_1(H)\\frac{V_2(HH)}{(1+r_0)(1+r_1(H))}+\\tilde{p}_0\\tilde{q}_1(H)\\frac{V_2(HT)}{(1+r_0)(1+r_1(H))}+\\tilde{q}_0\\tilde{p}_1(T)\\frac{V_2(TH)}{(1+r_0)(1+r_1(T))}\\\\\n",
    "&+\\tilde{q}_0\\tilde{q}_1(T)\\frac{V_2(TT)}{(1+r_0)(1+r_1(T))}.\n",
    "\\end{align}"
   ]
  },
  {
   "cell_type": "markdown",
   "metadata": {},
   "source": [
    "From the expression above, we see that\n",
    "\\begin{align}\n",
    "&\\tilde{\\mathbb{P}}(HH)=\\tilde{p}_0\\tilde{p}_1(H)=\\frac{1}{2}\\frac{1}{2}=\\frac{1}{4},\\\\\n",
    "&\\tilde{\\mathbb{P}}(HT)=\\tilde{p}_0\\tilde{q}_1(H)=\\frac{1}{2}\\frac{1}{2}=\\frac{1}{4},\\\\\n",
    "&\\tilde{\\mathbb{P}}(TH)=\\tilde{q}_0\\tilde{p}_1(T)=\\frac{1}{2}\\frac{1}{6}=\\frac{1}{12},\\\\\n",
    "&\\tilde{\\mathbb{P}}(TT)=\\tilde{q}_0\\tilde{q}_1(T)=\\frac{1}{2}\\frac{5}{6}=\\frac{5}{12}.\\square\n",
    "\\end{align}"
   ]
  },
  {
   "cell_type": "markdown",
   "metadata": {},
   "source": [
    "(ii) If $V_2=(S_2-7)^{+}$, then\n",
    "\\begin{align}\n",
    "&V_2(HH)=(S_2(HH)-7)^{+}=(12-7)^{+}=5,\\\\\n",
    "&V_2(HT)=(S_2(HT)-7)^{+}=(8-7)^{+}=1,\\\\\n",
    "&V_2(TH)=(S_2(TH)-7)^{+}=(8-7)^{+}=1,\\\\\n",
    "&V_2(TT)=(S_2(TT)-7)^{+}=(2-7)^{+}=0.\n",
    "\\end{align}"
   ]
  },
  {
   "cell_type": "markdown",
   "metadata": {},
   "source": [
    "We now plug in these values into the relevant expressions for the prices of interest.\n",
    "\\begin{align}\n",
    "V_1(H)&=\\frac{1}{1+r_1(H)}\\left(\\tilde{p}_1(H)V_2(HH)+\\tilde{q}_1(H)V_2(HT)\\right)\\\\\n",
    "&=\\frac{1}{1+\\frac{1}{4}}\\left(\\frac{1}{2}5+\\frac{1}{2}1\\right)\\\\\n",
    "&=\\frac{12}{5}.\n",
    "\\end{align}\n",
    "\n",
    "\\begin{align}\n",
    "V_1(T)&=\\frac{1}{1+r_1(T)}\\left(\\tilde{p}_1(T)V_2(TH)+\\tilde{q}_1(T)V_2(TT)\\right)\\\\\n",
    "&=\\frac{1}{1+\\frac{1}{2}}\\left(\\frac{1}{6}1+\\frac{5}{6}0\\right)\\\\\n",
    "&=\\frac{1}{9}.\n",
    "\\end{align}"
   ]
  },
  {
   "cell_type": "markdown",
   "metadata": {},
   "source": [
    "\\begin{align}\n",
    "V_0&=\\frac{1}{1+r_0}\\left(\\tilde{p}_0V_1(H)+\\tilde{q}_0V_1(T)\\right)\\\\\n",
    "&=\\frac{1}{1+\\frac{1}{4}}\\left(\\frac{1}{2}\\frac{12}{5}+\\frac{1}{2}\\frac{1}{9}\\right)\\\\\n",
    "&=\\frac{226}{225}.\\square\n",
    "\\end{align}"
   ]
  },
  {
   "cell_type": "markdown",
   "metadata": {},
   "source": [
    "(iii) The desired position is given by\n",
    "\\begin{align}\n",
    "\\Delta_0&=\\frac{V_1(H)-V_1(T)}{S_1(H)-S_1(T)}\\\\\n",
    "&=\\frac{\\frac{12}{5}-\\frac{1}{9}}{8-2}\\\\\n",
    "&=\\frac{103}{270}.\\square\n",
    "\\end{align}"
   ]
  },
  {
   "cell_type": "markdown",
   "metadata": {},
   "source": [
    "(iv) The desired position is given by\n",
    "\\begin{align}\n",
    "\\Delta_1(H)&=\\frac{V_2(HH)-V_2(HT)}{S_2(HH)-S_2(HT)}\\\\\n",
    "&=\\frac{5-1}{12-8}\\\\\n",
    "&=1.\\square\n",
    "\\end{align}"
   ]
  },
  {
   "cell_type": "code",
   "execution_count": null,
   "metadata": {},
   "outputs": [],
   "source": []
  }
 ],
 "metadata": {
  "kernelspec": {
   "display_name": "Python 3",
   "language": "python",
   "name": "python3"
  },
  "language_info": {
   "codemirror_mode": {
    "name": "ipython",
    "version": 3
   },
   "file_extension": ".py",
   "mimetype": "text/x-python",
   "name": "python",
   "nbconvert_exporter": "python",
   "pygments_lexer": "ipython3",
   "version": "3.7.6"
  }
 },
 "nbformat": 4,
 "nbformat_minor": 4
}
