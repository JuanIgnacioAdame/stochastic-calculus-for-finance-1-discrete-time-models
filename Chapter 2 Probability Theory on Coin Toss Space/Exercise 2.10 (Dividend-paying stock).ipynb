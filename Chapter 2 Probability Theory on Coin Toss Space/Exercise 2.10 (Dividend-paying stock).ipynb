{
 "cells": [
  {
   "cell_type": "markdown",
   "metadata": {},
   "source": [
    "# Problem"
   ]
  },
  {
   "cell_type": "markdown",
   "metadata": {},
   "source": [
    "Consider a binomial asset pricing model as in Chapter 1, except that, after each movement in the stock price, a dividend is paid and the stock price is reduced accordingly.  To describe this in equations, we define\n",
    "\\begin{align}\n",
    "Y_{n+1}(\\omega_1\\dots\\omega_n\\omega_{n+1})&=u\\quad \\text{if }\\omega_{n+1}=H,\\\\\n",
    "&=d\\quad \\text{if }\\omega_{n+1}=T.\n",
    "\\end{align}"
   ]
  },
  {
   "cell_type": "markdown",
   "metadata": {},
   "source": [
    "Note that $Y_{n+1}$ depends only on the $(n+1)$st coin toss. In the binomial model of Chapter 1, $Y_{n+1}S_n$ was the stcok price at time $n+1$. In the dividend-paying model considered here, we have a random variable $A_{n+1}(\\omega_1\\dots\\omega_n\\omega_{n+1})$, taking values in (0,1), and the dividend paid at time $n+1$ is $A_{n+1}Y_{n+1}S_n$.  After the dividend is paid, the stock price at time $n+1$ is\n",
    "\\begin{equation}\n",
    "S_{n+1}=(1-A_{n+1})Y_{n+1}S_n.\n",
    "\\end{equation}"
   ]
  },
  {
   "cell_type": "markdown",
   "metadata": {},
   "source": [
    "An agent who begins with initial capital $X_0$ and at each time $n$ takes a position of $\\Delta_n$ shares of stock, where $\\Delta_n$ depends only on the first $n$ coin tosses, has a portfolio value governed by the waealth equation (see (2.4.6))\n",
    "\\begin{align}\n",
    "X_{n+1}&=\\Delta_nS_{n+1}+(1+r)(X_n-\\Delta_nS_n)+\\Delta_nA_{n+1}Y_{n+1}S_n,\\\\\n",
    "&=\\Delta_nY_{n+1}S_n+(1+r)(X_n-\\Delta_nS_n).\n",
    "\\end{align}"
   ]
  },
  {
   "cell_type": "markdown",
   "metadata": {},
   "source": [
    "(i) Show that the discounted wealth process is a martingale under the risk-neutral measure (i.e. Theorem 2.4.5 still holds for the wealth process (2.8.2)). As usual, the risk-neutral measure is still defined by the equations\n",
    "\\begin{align}\n",
    "\\tilde{p}=\\frac{1+r-d}{u-d},\\\\\n",
    "\\tilde{q}=\\frac{u-1-r}{u-d}.\n",
    "\\end{align}"
   ]
  },
  {
   "cell_type": "markdown",
   "metadata": {},
   "source": [
    "(ii) Show that the risk-neutral pricing formula still applies (i.e., Theorem 2.4.7 holds for the dividend-paying model)."
   ]
  },
  {
   "cell_type": "markdown",
   "metadata": {},
   "source": [
    "(iii) Show that the discounted stock price is not a martingale under the risk-neutral measure (i.e., Theorem 2.4.4 no longer holds). However, if $A_{n+1}$ is a constant $a\\in(0,1)$, regardless of the value of $n$ and the outcome of the coin tossing $\\omega_1\\dots\\omega_{n+1}$, then $\\frac{S_n}{(1-a)^n(1+r)^n}$ is a martingale under the risk-neutral measure."
   ]
  },
  {
   "cell_type": "markdown",
   "metadata": {},
   "source": [
    "# Answer"
   ]
  },
  {
   "cell_type": "markdown",
   "metadata": {},
   "source": [
    "(i) \\begin{align}\n",
    "\\tilde{\\mathbb{E}}_n[X_{n+1}]&=\\tilde{\\mathbb{E}}_n[\\Delta_nY_{n+1}S_n+(1+r)(X_n-\\Delta_nS_n)]\\\\\n",
    "&=\\tilde{\\mathbb{E}}_n[\\Delta_nY_{n+1}S_n]+\\tilde{\\mathbb{E}}_n[(1+r)(X_n-\\Delta_nS_n)]\\\\\n",
    "&=\\Delta_nS_n\\tilde{\\mathbb{E}}_n[Y_{n+1}]+(1+r)(X_n-\\Delta_nS_n)\\\\\n",
    "&=\\Delta_nS_n\\left[\\tilde{p}u+\\tilde{q}d\\right]+(1+r)(X_n-\\Delta_nS_n)\\\\\n",
    "&=\\Delta_nS_n(1+r)+(1+r)(X_n-\\Delta_nS_n)\\\\\n",
    "&=(1+r)X_n.\\square\n",
    "\\end{align}"
   ]
  },
  {
   "cell_type": "markdown",
   "metadata": {},
   "source": [
    "(ii) Let\n",
    "\\begin{align}\n",
    "\\Delta_n&=\\frac{V_{n+1}(H)-V_{n+1}(T)}{Y_{n+1}(H)S_{n}-Y_{n+1}(T)S_{n}}\\\\\n",
    "&=\\frac{V_{n+1}(H)-V_{n+1}(T)}{S_n(u-d)}.\n",
    "\\end{align}\n",
    "Let $X_0=V_0$ and define $X_n$ recursively forward in time by the wealth equation, i.e.,\n",
    "\\begin{equation}\n",
    "X_{n+1}=\\Delta_nY_{n+1}S_n+(1+r)(X_n-\\Delta_nS_n).\n",
    "\\end{equation}\n",
    "Our goal is to show that $X_n=V_n$.  If we can show this, then the result from part (i) above can immediately be written as\n",
    "\\begin{equation}\n",
    "\\tilde{\\mathbb{E}}_n[V_{n+1}]=(1+r)V_n,\n",
    "\\end{equation}\n",
    "which is the statement of Theorem 2.4.7, and hence our goal."
   ]
  },
  {
   "cell_type": "markdown",
   "metadata": {},
   "source": [
    "Let us now proceed to check that $X_n=V_n$.\n",
    "\\begin{align}\n",
    "X_{n+1}&=\\Delta_nY_{n+1}S_n+(1+r)(X_n-\\Delta_nS_n)\\\\\n",
    "&=\\frac{V_{n+1}(H)-V_{n+1}(T)}{S_n(u-d)}Y_{n+1}S_n+(1+r)\\left(X_n-\\frac{V_{n+1}(H)-V_{n+1}(T)}{S_n(u-d)}S_n\\right)\\\\\n",
    "&=\\frac{V_{n+1}(H)-V_{n+1}(T)}{u-d}Y_{n+1}+(1+r)\\left(X_n-\\frac{V_{n+1}(H)-V_{n+1}(T)}{u-d}\\right).\n",
    "\\end{align}"
   ]
  },
  {
   "cell_type": "markdown",
   "metadata": {},
   "source": [
    "By induction, recall that $X_n=V_n$, and by definition, recall that $V_n=\\frac{1}{1+r}(\\tilde{p}V_{n+1}(H)+\\tilde{q}V_{n+1}(T))$, where $\\tilde{p}$ and $\\tilde{q}$ are given above.  We plug this into the equation above and obtain\n",
    "\\begin{align}\n",
    "&\\frac{V_{n+1}(H)-V_{n+1}(T)}{u-d}Y_{n+1}+(1+r)\\left(\\frac{1}{1+r}(\\tilde{p}V_{n+1}(H)+\\tilde{q}V_{n+1}(T))-\\frac{V_{n+1}(H)-V_{n+1}(T)}{u-d}\\right)\\\\\n",
    "&=\\frac{V_{n+1}(H)-V_{n+1}(T)}{u-d}Y_{n+1}+\\tilde{p}V_{n+1}(H)+\\tilde{q}V_{n+1}(T)-(1+r)\\frac{V_{n+1}(H)-V_{n+1}(T)}{u-d}\\\\\n",
    "&=\\left[\\frac{V_{n+1}(H)-V_{n+1}(T)}{u-d}\\right](Y_{n+1}-(1+r))+\\tilde{p}V_{n+1}(H)+\\tilde{q}V_{n+1}(T)\\\\\n",
    "&=\\left[\\frac{V_{n+1}(H)-V_{n+1}(T)}{u-d}\\right](Y_{n+1}-(1+r))+\\frac{1+r-d}{u-d}V_{n+1}(H)+\\frac{u-1-r}{u-d}V_{n+1}(T)\\\\\n",
    "&=\\frac{V_{n+1}(H)(Y_{n+1}-d)+V_{n+1}(T)(u-Y_{n+1})}{u-d}.\n",
    "\\end{align}"
   ]
  },
  {
   "cell_type": "markdown",
   "metadata": {},
   "source": [
    "From the above equation, we can see that regardless of whether $\\omega_{n+1}=H$ or $\\omega_{n+1}=T$, i.e., regardless of whether $Y_{n+1}=u$ or $Y_{n+1}=d$, it holds that $X_{n+1}=V_{n+1}.\\square$"
   ]
  },
  {
   "cell_type": "markdown",
   "metadata": {},
   "source": [
    "(iii) Note that\n",
    "\\begin{align}\n",
    "\\tilde{\\mathbb{E}}_n[S_{n+1}]&=\\tilde{\\mathbb{E}}_n[(1-A_{n+1})Y_{n+1}S_n]\\\\\n",
    "&=S_n\\tilde{\\mathbb{E}}_n[(1-A_{n+1})Y_{n+1}]\\\\\n",
    "&=S_n[\\tilde{p}u(1-A_{n+1}(H))+\\tilde{q}d(1-A_{n+1}(T))].\n",
    "\\end{align}"
   ]
  },
  {
   "cell_type": "markdown",
   "metadata": {},
   "source": [
    "Because $\\tilde{p},\\tilde{q},u,d>0$, the term in the square brakets is maximized by maximizing $1-A_{n+1}(H)$ and $1-A_{n+1}(T)$, and these are both bounded from above by 1 because $A_{n+1}(H),A_{n+1}(T)\\in(0,1)$. In other words,\n",
    "\\begin{align}\n",
    "S_n[\\tilde{p}u(1-A_{n+1}(H))+\\tilde{q}d(1-A_{n+1}(T))]&<S_n[\\tilde{p}u+\\tilde{q}d]\\\\\n",
    "&=S_n(1+r).\n",
    "\\end{align}"
   ]
  },
  {
   "cell_type": "markdown",
   "metadata": {},
   "source": [
    "Putting this all together, we obtain\n",
    "\\begin{align}\n",
    "&\\tilde{\\mathbb{E}}_n[S_{n+1}]<S_n(1+r)\\Rightarrow\\\\\n",
    "&\\tilde{\\mathbb{E}}_n\\left[\\frac{S_{n+1}}{(1+r)^{n+1}}\\right]<\\frac{S_n}{(1+r)^n},\n",
    "\\end{align}\n",
    "as desired."
   ]
  },
  {
   "cell_type": "markdown",
   "metadata": {},
   "source": [
    "On the other hand, suppose $A_{n+1}$ is a constant $a\\in(0,1)$, regardless of the value of $n$ and the outcome of the coin tossing $\\omega_1\\dots\\omega_{n+1}$. Then\n",
    "\\begin{align}\n",
    "\\tilde{\\mathbb{E}}_n[S_{n+1}]&=\\tilde{\\mathbb{E}}_n[(1-A_{n+1})Y_{n+1}S_n]\\\\\n",
    "&=S_n(1-a)(\\tilde{p}u+\\tilde{q}d)\\\\\n",
    "&=S_n(1-a)(1+r).\n",
    "\\end{align}\n",
    "This implies that\n",
    "\\begin{align}\n",
    "\\tilde{\\mathbb{E}}_n\\left[\\frac{S_{n+1}}{(1-a)^{n+1}(1+r)^{n+1}}\\right]=\\frac{S_{n}}{(1-a)^{n}(1+r)^{n}},\n",
    "\\end{align}\n",
    "as desired. $\\square$."
   ]
  },
  {
   "cell_type": "code",
   "execution_count": null,
   "metadata": {},
   "outputs": [],
   "source": []
  }
 ],
 "metadata": {
  "kernelspec": {
   "display_name": "Python 3",
   "language": "python",
   "name": "python3"
  },
  "language_info": {
   "codemirror_mode": {
    "name": "ipython",
    "version": 3
   },
   "file_extension": ".py",
   "mimetype": "text/x-python",
   "name": "python",
   "nbconvert_exporter": "python",
   "pygments_lexer": "ipython3",
   "version": "3.7.6"
  }
 },
 "nbformat": 4,
 "nbformat_minor": 4
}
