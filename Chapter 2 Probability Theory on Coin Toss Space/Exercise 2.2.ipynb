{
 "cells": [
  {
   "cell_type": "markdown",
   "metadata": {},
   "source": [
    " # Problem"
   ]
  },
  {
   "cell_type": "markdown",
   "metadata": {},
   "source": [
    "Consider the stock price $S_3$ in Figure 2.3.1"
   ]
  },
  {
   "cell_type": "markdown",
   "metadata": {},
   "source": [
    "(i) What is the distribution of $S_3$ under the risk-neutral probabilities $\\tilde{p}=\\frac{1}{2}, \\tilde{q}=\\frac{1}{2}$."
   ]
  },
  {
   "cell_type": "markdown",
   "metadata": {},
   "source": [
    "(ii) Compute $\\tilde{\\mathbb{E}}S_1, \\tilde{\\mathbb{E}}S_2,$ and  $\\tilde{\\mathbb{E}}S_3$. What is the average rate of growth of the stock price under $\\tilde{\\mathbb{P}}$?"
   ]
  },
  {
   "cell_type": "markdown",
   "metadata": {},
   "source": [
    "(iii) Answer (i) and (ii) again under the actual probabilities $p=\\frac{2}{3}, q=\\frac{1}{3}$."
   ]
  },
  {
   "cell_type": "markdown",
   "metadata": {},
   "source": [
    "# Answer"
   ]
  },
  {
   "cell_type": "markdown",
   "metadata": {},
   "source": [
    "(i) \\begin{align}\n",
    "&\\tilde{\\mathbb{P}}(S_3=32)=\\frac{1}{8},\\\\\n",
    "&\\tilde{\\mathbb{P}}(S_3=8)=\\frac{3}{8},\\\\\n",
    "&\\tilde{\\mathbb{P}}(S_3=2)=\\frac{3}{8},\\\\\n",
    "&\\tilde{\\mathbb{P}}(S_3=0.50)=\\frac{1}{8}.\n",
    "\\end{align}"
   ]
  },
  {
   "cell_type": "markdown",
   "metadata": {},
   "source": [
    "(ii) \\begin{align}\n",
    "&\\tilde{\\mathbb{E}}S_1=\\frac{1}{2}8+\\frac{1}{2}2=5,\\\\\n",
    "&\\tilde{\\mathbb{E}}S_2=\\frac{1}{4}16+\\frac{1}{2}4+\\frac{1}{4}1=6.25,\\\\\n",
    "&\\tilde{\\mathbb{E}}S_3=\\frac{1}{8}32+\\frac{3}{8}8+\\frac{3}{8}2+\\frac{1}{8}0.50=7.8125.\n",
    "\\end{align}"
   ]
  },
  {
   "cell_type": "markdown",
   "metadata": {},
   "source": [
    "The average rate of growth of the stock price under $\\tilde{\\mathbb{P}}$ is $6.25/5=7.8125/6.25=1.25=1+r$."
   ]
  },
  {
   "cell_type": "markdown",
   "metadata": {},
   "source": [
    "(iii) \\begin{align}\n",
    "&\\mathbb{P}(S_3=32)=\\frac{8}{27},\\\\\n",
    "&\\mathbb{P}(S_3=8)=\\frac{12}{27},\\\\\n",
    "&\\mathbb{P}(S_3=2)=\\frac{6}{27},\\\\\n",
    "&\\mathbb{P}(S_3=0.50)=\\frac{1}{27}.\n",
    "\\end{align}"
   ]
  },
  {
   "cell_type": "markdown",
   "metadata": {},
   "source": [
    "\\begin{align}\n",
    "&\\mathbb{E}S_1=\\frac{2}{3}8+\\frac{1}{3}2=6,\\\\\n",
    "&\\mathbb{E}S_2=\\frac{4}{9}16+\\frac{4}{9}4+\\frac{1}{9}1=9,\\\\\n",
    "&\\mathbb{E}S_3=\\frac{8}{27}32+\\frac{12}{27}8+\\frac{6}{27}2+\\frac{1}{27}0.50=13.5.\n",
    "\\end{align}"
   ]
  },
  {
   "cell_type": "markdown",
   "metadata": {},
   "source": [
    "The average rate of growth of the stock price under $\\mathbb{P}$ is $9/6=13.5/9=1.5>1+r$."
   ]
  }
 ],
 "metadata": {
  "kernelspec": {
   "display_name": "Python 3",
   "language": "python",
   "name": "python3"
  },
  "language_info": {
   "codemirror_mode": {
    "name": "ipython",
    "version": 3
   },
   "file_extension": ".py",
   "mimetype": "text/x-python",
   "name": "python",
   "nbconvert_exporter": "python",
   "pygments_lexer": "ipython3",
   "version": "3.7.6"
  }
 },
 "nbformat": 4,
 "nbformat_minor": 4
}
