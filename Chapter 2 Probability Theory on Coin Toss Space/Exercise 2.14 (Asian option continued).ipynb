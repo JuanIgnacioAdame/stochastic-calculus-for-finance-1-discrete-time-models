{
 "cells": [
  {
   "cell_type": "markdown",
   "metadata": {},
   "source": [
    "# Problem"
   ]
  },
  {
   "cell_type": "markdown",
   "metadata": {},
   "source": [
    "Consider an $N$-period binomial model, and let $M$ be a fixed number between 0 and $N-1$. Consider an Asian option whose payoff at time $N$ is\n",
    "\\begin{equation}\n",
    "V_N=f\\left(\\frac{1}{N-M}\\sum_{n=M+1}^N S_n\\right),\n",
    "\\end{equation}\n",
    "where again the function $f$ is determined by the contractual details of the option."
   ]
  },
  {
   "cell_type": "markdown",
   "metadata": {},
   "source": [
    "(i) Define\n",
    "\\begin{align}\n",
    "Y_n&=0, \\quad &0\\leq n\\leq M,\\\\\n",
    "&=\\sum_{k=M+1}^{n}S_k, \\quad &M+1\\leq n\\leq N.\n",
    "\\end{align}\n",
    "Show that the two-dimensional process $(S_n,Y_n), n=0,1,\\dots,N$ is Markov (under the risk-neutral measure $\\tilde{\\mathbb{P}}$)."
   ]
  },
  {
   "cell_type": "markdown",
   "metadata": {},
   "source": [
    "(ii) According to Theorem 2.5.8, the price $V_n$ of the Asian option at time $n$ is some function $v_n$ of $S_n$ and $Y_n$, i.e.,\n",
    "\\begin{equation}\n",
    "V_n=v_n(S_n,Y_n), \\quad n=0,1,\\dots,N.\n",
    "\\end{equation}\n",
    "Of course, when $n\\leq M$, $Y_n$ is not random and does not need to be included in this function. Thus, for such $n$ we should seek a function $v_n$ of $S_n$ alone and have\n",
    "\\begin{align}\n",
    "V_n&=v_n(S_n), \\quad &0\\leq n\\leq M,\\\\\n",
    "&=v_n(S_n,Y_n), &M+1\\leq n\\leq N.\n",
    "\\end{align}\n",
    "Give a formula for $v_N(s,y)$, and provide an algorithm for computing $v_n$ in terms of $v_{n+1}$. Note the algorithm is different for $n<M$ and $n>M$, and there is a separate transition formula for $v_M(s)$ in terms of $v_{M+1}(.,.)$."
   ]
  },
  {
   "cell_type": "markdown",
   "metadata": {},
   "source": [
    "# Answer"
   ]
  },
  {
   "cell_type": "markdown",
   "metadata": {},
   "source": [
    "(i) Case: $0\\leq n\\leq M-1$. We can rewrite $S_{n+1}=S_{n}Z_{n+1}$, where $Z_{n+1}=\\frac{S_{n+1}}{S_n}$, and $Y_{n+1}=0$.  Hence,\n",
    "\\begin{equation}\n",
    "f(S_{n+1},Y_{n+1})=f(S_{n}Z_{n+1},0).\n",
    "\\end{equation}\n",
    "We replace $S_n$ by a dummy variable $s$, and $Y_{n+1}$ by the dummy variable $y$, and define\n",
    "\\begin{equation}\n",
    "g(s,y)=\\tilde{\\mathbb{E}}\\left[f(sZ_{n+1})\\right].\n",
    "\\end{equation}\n",
    "Then, by Lemma 2.5.3, we have that\n",
    "\\begin{align}\n",
    "g(S_n,Y_n)&=\\tilde{\\mathbb{E}}_n\\left[f(S_{n}Z_{n+1},Y_{n+1})\\right]\\\\\n",
    "&=\\tilde{\\mathbb{E}}_n\\left[f(S_{n+1},Y_{n+1})\\right].\n",
    "\\end{align}"
   ]
  },
  {
   "cell_type": "markdown",
   "metadata": {},
   "source": [
    "Case: $M\\leq n\\leq N-1$. We can rewrite $S_{n+1}=S_{n}Z_{n+1}$, where $Z_{n+1}=\\frac{S_{n+1}}{S_n}$, and $Y_{n+1}=Y_{n}+S_{n+1}=Y_{n}+S_{n}Z_{n+1}$.  Hence,\n",
    "\\begin{equation}\n",
    "f(S_{n+1},Y_{n+1})=f(S_{n}Z_{n+1},Y_{n}+S_{n}Z_{n+1}).\n",
    "\\end{equation}\n",
    "We replace $S_n$ by a dummy variable $s$, and $Y_{n+1}$ by the dummy variable $y$, and define\n",
    "\\begin{equation}\n",
    "g(s,y)=\\tilde{\\mathbb{E}}\\left[f(sZ_{n+1},y+sZ_{n+1})\\right].\n",
    "\\end{equation}\n",
    "Then, by Lemma 2.5.3, we have that\n",
    "\\begin{align}\n",
    "g(S_n,Y_n)&=\\tilde{\\mathbb{E}}_n\\left[f(S_{n}Z_{n+1},Y_{n}+S_{n}Z_{n+1})\\right]\\\\\n",
    "&=\\tilde{\\mathbb{E}}_n\\left[f(S_{n+1},Y_{n+1})\\right]. \\square\n",
    "\\end{align}"
   ]
  },
  {
   "cell_type": "markdown",
   "metadata": {},
   "source": [
    "(ii) Case: $M+1\\leq n\\leq N-1$. Let\n",
    "\\begin{equation}\n",
    "v_N(s,y)=f\\left(\\frac{(y-s)+s}{N-M}\\right),\n",
    "\\end{equation}\n",
    "where $s$ and $y$ are dummy variables (note that the dependence on $s$ is trivial, i.e., $v_N$ in fact does not depend on $s$). Note that\n",
    "\\begin{align}\n",
    "v_N(S_N,Y_N)&=f\\left(\\frac{(Y_N-S_N)+S_N}{N-M}\\right)\\\\\n",
    "&=f\\left(\\frac{Y_N}{N-M}\\right)\\\\\n",
    "&=V_N.\n",
    "\\end{align}\n",
    "From the previous exercise, note that we can write\n",
    "\\begin{equation}\n",
    "v_N(S_N,Y_N)=v_N(S_{N-1}Z_N, Y_{N-1}+S_{N-1}Z_N)\n",
    "\\end{equation}\n",
    "Replace $S_{N-1}$ by a dummy variable $s$, $Y_{N-1}$ by a dummy variable $y$, and define\n",
    "\\begin{align}\n",
    "v_{N-1}(s,y)=\\tilde{\\mathbb{E}}\\left[\\frac{v_N(sZ_N, y+sZ_N)}{1+r}\\right].\n",
    "\\end{align}\n",
    "Then, by Lemma 2.5.3, we obtain\n",
    "\\begin{align}\n",
    "v_{N-1}(S_{N-1},Y_{N-1})&=\\tilde{\\mathbb{E}}_{N-1}\\left[\\frac{v_N(S_{N-1}Z_N, Y_{N-1}+S_{N-1}Z_N)}{1+r}\\right]\\\\\n",
    "&=\\tilde{\\mathbb{E}}_{N-1}\\left[\\frac{v_N(S_N, Y_N)}{1+r}\\right]\\\\\n",
    "&=V_{N-1},\n",
    "\\end{align}\n",
    "where the last equality holds from the risk-neutral pricing formula of Theorem 2.4.7."
   ]
  },
  {
   "cell_type": "markdown",
   "metadata": {},
   "source": [
    "In short, if we define $v_n$ recursively backward in time as above for $M\\leq n\\leq N-1$, then $v_n$ is indeed the derivative pricing formula we are after.  We obtain an algorithm for computing it by\n",
    "\\begin{align}\n",
    "v_{n}(s,y)&=\\tilde{\\mathbb{E}}\\left[\\frac{v_{n+1}(sZ_{n+1}, y+sZ_{n+1})}{1+r}\\right]\\\\\n",
    "&=\\frac{1}{1+r}\\left[\\tilde{p}v_{n+1}(su, y+su)+\\tilde{q}v_{n+1}(sd, y+sd)\\right].\n",
    "\\end{align}"
   ]
  },
  {
   "cell_type": "markdown",
   "metadata": {},
   "source": [
    "Case: $n=M$.\n",
    "\\begin{align}\n",
    "v_{M}(s,0)&=\\tilde{\\mathbb{E}}\\left[\\frac{v_{M+1}(sZ_{M+1}, 0+sZ_{M+1})}{1+r}\\right]\\\\\n",
    "&=\\frac{1}{1+r}\\left[\\tilde{p}v_{M+1}(su, su)+\\tilde{q}v_{M+1}(sd, sd)\\right].\n",
    "\\end{align}"
   ]
  },
  {
   "cell_type": "markdown",
   "metadata": {},
   "source": [
    "Case: $0\\leq n\\leq M-1$. Note that $Y_M=0$.  Therefore, $V_M(S_M,Y_M)=V_M(S_M,0)=v_M(S_M,0)$.  Then, for $M-1$, define the function\n",
    "\\begin{equation}\n",
    "v_{M-1}(s,0)=\\tilde{\\mathbb{E}}\\left[\\frac{v_M(sZ_M, 0)}{1+r}\\right],\n",
    "\\end{equation}\n",
    "where $s$ is a dummy variable.  If we plug in $S_{M-1}$ for $s$, Lemma 2.5.3 gives us\n",
    "\\begin{align}\n",
    "v_{M-1}(S_{M-1},0)&=\\tilde{\\mathbb{E}}_n\\left[\\frac{v_M(S_{M-1}Z_M, 0)}{1+r}\\right]\\\\\n",
    "&=\\tilde{\\mathbb{E}}_n\\left[\\frac{v_M(S_M, 0)}{1+r}\\right]\\\\\n",
    "&=V_{M},\n",
    "\\end{align}\n",
    "where the last equality holds from the risk-neutral pricing formula of Theorem 2.4.7."
   ]
  },
  {
   "cell_type": "markdown",
   "metadata": {},
   "source": [
    "In short, if we define $v_n$ recursively backward in time as above for $0\\leq n\\leq M-1$, then $v_n$ is indeed the derivative pricing formula we are after.  We obtain an algorithm for computing it by\n",
    "\\begin{align}\n",
    "v_{n}(s,0)&=\\tilde{\\mathbb{E}}\\left[\\frac{v_{n+1}(sZ_{n+1}, 0)}{1+r}\\right]\\\\\n",
    "&=\\frac{1}{1+r}\\left[\\tilde{p}v_{n+1}(su, 0)+\\tilde{q}v_{n+1}(sd, 0)\\right].\\square\n",
    "\\end{align}"
   ]
  },
  {
   "cell_type": "code",
   "execution_count": null,
   "metadata": {},
   "outputs": [],
   "source": []
  }
 ],
 "metadata": {
  "kernelspec": {
   "display_name": "Python 3",
   "language": "python",
   "name": "python3"
  },
  "language_info": {
   "codemirror_mode": {
    "name": "ipython",
    "version": 3
   },
   "file_extension": ".py",
   "mimetype": "text/x-python",
   "name": "python",
   "nbconvert_exporter": "python",
   "pygments_lexer": "ipython3",
   "version": "3.7.6"
  }
 },
 "nbformat": 4,
 "nbformat_minor": 4
}
