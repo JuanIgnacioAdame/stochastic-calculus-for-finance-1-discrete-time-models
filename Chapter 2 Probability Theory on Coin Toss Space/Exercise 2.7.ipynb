{
 "cells": [
  {
   "cell_type": "markdown",
   "metadata": {},
   "source": [
    "# Problem"
   ]
  },
  {
   "cell_type": "markdown",
   "metadata": {},
   "source": [
    "In a binomial model, given an example of a stochastic process that is a martingale but is not Markov."
   ]
  },
  {
   "cell_type": "markdown",
   "metadata": {},
   "source": [
    "# Answer"
   ]
  },
  {
   "cell_type": "markdown",
   "metadata": {},
   "source": [
    "We can draw inspiration from the martingale $I_n$ of the previous exercise (i.e. Exercise 2.6) to constructive a martingale that is not Markov. Note that\n",
    "\\begin{equation}\n",
    "I_{n+1}=I_n+\\Delta_n(M_{n+1}-M_n).\n",
    "\\end{equation}"
   ]
  },
  {
   "cell_type": "markdown",
   "metadata": {},
   "source": [
    "It follows that for any function $f$,\n",
    "\\begin{equation}\n",
    "\\mathbb{E}_n[f(I_{n+1})]=\\mathbb{E}_n[f(I_n+\\Delta_n(M_{n+1}-M_n))].\n",
    "\\end{equation}"
   ]
  },
  {
   "cell_type": "markdown",
   "metadata": {},
   "source": [
    "In order for $I_n$ to be Markov, there has to be a function $g$ such that\n",
    "\\begin{equation}\n",
    "\\mathbb{E}_n[f(I_n+\\Delta_n(M_{n+1}-M_n))]=g(I_n)\n",
    "\\end{equation}"
   ]
  },
  {
   "cell_type": "markdown",
   "metadata": {},
   "source": [
    "Consider two sequences of coin tosses that differ only at the $n+1th$ coin toss, i.e. $\\omega_1\\dots\\omega_n\\omega_{n+1}$ and $\\omega_1\\dots\\omega_n\\omega'_{n+1}$"
   ]
  },
  {
   "cell_type": "markdown",
   "metadata": {},
   "source": [
    "The Markov condition requires that the following two statements hold true:\n",
    "\\begin{align}\n",
    "&\\mathbb{E}_n[f(I_n+\\Delta_n(M_{n+1}(w_{n+1})-M_n))]=g(I_n)\\\\\n",
    "&\\mathbb{E}_n[f(I_n+\\Delta_n(M_{n+1}(w'_{n+1})-M_n))]=g(I_n).\n",
    "\\end{align}"
   ]
  },
  {
   "cell_type": "markdown",
   "metadata": {},
   "source": [
    "In other words, this requires that for any $f$,\n",
    "\\begin{equation}\n",
    "\\mathbb{E}_n[f(I_n+\\Delta_n(M_{n+1}(w_{n+1})-M_n))]\\stackrel{!}{=}\\mathbb{E}_n[f(I_n+\\Delta_n(M_{n+1}(w'_{n+1})-M_n))].\n",
    "\\end{equation}"
   ]
  },
  {
   "cell_type": "markdown",
   "metadata": {},
   "source": [
    "To finish our construction, our task now is to find a martingale $M_n$ and an adapted process $\\Delta_n$ such that the above equality does not hold.  This will show that $I_n$ is not Markov, even though it *is* a martingale from Exercise 2.6."
   ]
  },
  {
   "cell_type": "markdown",
   "metadata": {},
   "source": [
    "We can arrive at such an example by letting $M_n$ be the symmetric random walk, in which case the above equality simplifies to\n",
    "\\begin{align}\n",
    "\\mathbb{E}_n[f(I_n+\\Delta_nX_{n+1}(w_{n+1}))]&\\stackrel{!}{=}\\mathbb{E}_n[f(I_n+\\Delta_nX_{n+1}(w'_{n+1}))]\\Rightarrow\\\\\n",
    "\\mathbb{E}_n[f(I_n+\\Delta_n)]&\\stackrel{!}{=}\\mathbb{E}_n[f(I_n-\\Delta_n)]\\Rightarrow\\\\\n",
    "f(I_n+\\Delta_n)&\\stackrel{!}{=}f(I_n-\\Delta_n).\n",
    "\\end{align}"
   ]
  },
  {
   "cell_type": "markdown",
   "metadata": {},
   "source": [
    "Recall that $\\Delta_n$ can be any arbitrary adapted stochastic process, i.e. \"we can choose to make it be whatever we want it to be, the only requirement being the mild requirement that it be adaptive\".  Therefore, we can always choose it so that the above equality does not hold.  This concludes our proof. $\\square$."
   ]
  },
  {
   "cell_type": "code",
   "execution_count": null,
   "metadata": {},
   "outputs": [],
   "source": []
  }
 ],
 "metadata": {
  "kernelspec": {
   "display_name": "Python 3",
   "language": "python",
   "name": "python3"
  },
  "language_info": {
   "codemirror_mode": {
    "name": "ipython",
    "version": 3
   },
   "file_extension": ".py",
   "mimetype": "text/x-python",
   "name": "python",
   "nbconvert_exporter": "python",
   "pygments_lexer": "ipython3",
   "version": "3.7.6"
  }
 },
 "nbformat": 4,
 "nbformat_minor": 4
}
