{
 "cells": [
  {
   "cell_type": "markdown",
   "metadata": {},
   "source": [
    "# Problem"
   ]
  },
  {
   "cell_type": "markdown",
   "metadata": {},
   "source": [
    "Consider an $N$-period binomial model."
   ]
  },
  {
   "cell_type": "markdown",
   "metadata": {},
   "source": [
    "(i) Let $M_0,M_1,\\dots,M_N$ and $M'_0,M'_1,\\dots,M'_N$ be martingales under the risk-neutral measure $\\mathbb{P}$. Show that if $M_N=M_{N'}$ (for every possible outcome of the sequence of coin tosses), then, for each $n$ between $0$ and $N$, we have $M_n=M_{n'}$ (for every possible outcome of the sequence of coin tosses)."
   ]
  },
  {
   "cell_type": "markdown",
   "metadata": {},
   "source": [
    "(ii) Let $V_N$ be the payoff at time $N$ of some derivative security. This is a random variable that can depend on all $N$ coin tosses. Define recursively $V_{N-1},V_{N-2},\\dots,V_0$ by the algorithm (1.2.16) of Chapter 1. Show that\n",
    "\\begin{equation}\n",
    "V_0, \\frac{V_1}{1+r},\\dots,\\frac{V_{N-1}}{(1+r)^{N-1}},\\frac{V_N}{(1+r)^{N}}\n",
    "\\end{equation}\n",
    "is a martingale under $\\mathbb{P}$."
   ]
  },
  {
   "cell_type": "markdown",
   "metadata": {},
   "source": [
    "(iii) Using the risk-neutral pricing formula (2.4.11) of this chapter, define\n",
    "\\begin{equation}\n",
    "V'_{n}=\\tilde{\\mathbb{E}}_n\\left[\\frac{V_N}{(1+r)^{N-n}}\\right],\\quad n=0,1,\\dots,N-1.\n",
    "\\end{equation}\n",
    "Show that\n",
    "\\begin{equation}\n",
    "V'_0, \\frac{V'_1}{1+r},\\dots,\\frac{V'_{N-1}}{(1+r)^{N-1}},\\frac{V_N}{(1+r)^{N}}\n",
    "\\end{equation}\n",
    "is a martingale."
   ]
  },
  {
   "cell_type": "markdown",
   "metadata": {},
   "source": [
    "(iv) Conclude that $V_n=V'_n$ for every $n$ (i.e., the algorithm (1.2.16) of Theorem 1.2.2 of Chapter 1 gives the same derivative security prices as the risk-neutral pricing formula (2.4.11) of Chapter 2)."
   ]
  },
  {
   "cell_type": "markdown",
   "metadata": {},
   "source": [
    "# Answer"
   ]
  },
  {
   "cell_type": "markdown",
   "metadata": {},
   "source": [
    "(i) From equation (2.4.3) in the book, note that whenever $0\\leq n\\leq m\\leq N$, it holds that\n",
    "\\begin{equation}\n",
    "M_n=\\tilde{\\mathbb{E}}_{n}[M_m].\n",
    "\\end{equation}\n",
    "If $m=N$, this equation reads\n",
    "\\begin{equation}\n",
    "M_n=\\tilde{\\mathbb{E}}_{n}[M_N]=\\tilde{\\mathbb{E}}_{n}[M'_N]=M'_n.\\square\n",
    "\\end{equation}"
   ]
  },
  {
   "cell_type": "markdown",
   "metadata": {},
   "source": [
    "(ii) Let $M_0=V_0, M_1=\\frac{V_1}{1+r},\\dots,M_{N-1}=\\frac{V_{N-1}}{(1+r)^{N-1}},M_N=\\frac{V_N}{(1+r)^{N}}$.  Our goal is to show that for every $n\\in\\{0,\\dots,N-1\\}$,\n",
    "\\begin{equation}\n",
    "M_n\\stackrel{!}{=}\\tilde{\\mathbb{E}}_{n}[M_{n+1}].\n",
    "\\end{equation}\n",
    "Pugging in the respective values for $M_n$ and $M_{n+1}$, we obtain\n",
    "\\begin{align}\n",
    "\\frac{V_n}{(1+r)^n}&\\stackrel{!}{=}\\tilde{\\mathbb{E}}_{n}\\left[\\frac{V_{n+1}}{(1+r)^{n+1}}\\right]\\Leftrightarrow\\\\\n",
    "V_n&\\stackrel{!}{=}\\tilde{\\mathbb{E}}_{n}\\left[\\frac{V_{n+1}}{(1+r)}\\right].\n",
    "\\end{align}\n",
    "This is precisely the form of algorithm (1.2.16) $\\square$."
   ]
  },
  {
   "cell_type": "markdown",
   "metadata": {},
   "source": [
    "(iii) Let $M'_0=V'_0, M'_1=\\frac{V'_1}{1+r},\\dots,M'_{N-1}=\\frac{V'_{N-1}}{(1+r)^{N-1}},M'_N=\\frac{V_N}{(1+r)^{N}}$.  Our goal is to show that for every $n\\in\\{0,\\dots,N-1\\}$,\n",
    "\\begin{equation}\n",
    "M'_n\\stackrel{!}{=}\\tilde{\\mathbb{E}}_{n}[M'_{n+1}].\n",
    "\\end{equation}"
   ]
  },
  {
   "cell_type": "markdown",
   "metadata": {},
   "source": [
    "\\begin{align}\n",
    "M'_n&=\\frac{V'_n}{(1+r)^n}\\\\\n",
    "&=\\frac{1}{(1+r)^n}\\tilde{\\mathbb{E}}_n\\left[ \\frac{V_N}{(1+r)^{N-n}} \\right]\\\\\n",
    "&=\\frac{1}{(1+r)^{n+1}}\\tilde{\\mathbb{E}}_n\\left[\\tilde{\\mathbb{E}}_{n+1}\\left[ \\frac{V_N}{(1+r)^{N-(n+1)}} \\right]\\right]\\\\\n",
    "&=\\frac{1}{(1+r)^{n+1}}\\tilde{\\mathbb{E}}_n\\left[V'_{n+1}\\right]\\\\\n",
    "&=\\tilde{\\mathbb{E}}_n\\left[M'_{n+1}\\right]. \\square\n",
    "\\end{align}"
   ]
  },
  {
   "cell_type": "markdown",
   "metadata": {},
   "source": [
    "(iv) Results (i)-(iii) immediately yield that that $\\frac{V_{n}}{(1+r)^{n}}=\\frac{V'_{n}}{(1+r)^{n}}$, and hence $V_n=V'_n$. $\\square$"
   ]
  },
  {
   "cell_type": "code",
   "execution_count": null,
   "metadata": {},
   "outputs": [],
   "source": []
  }
 ],
 "metadata": {
  "kernelspec": {
   "display_name": "Python 3",
   "language": "python",
   "name": "python3"
  },
  "language_info": {
   "codemirror_mode": {
    "name": "ipython",
    "version": 3
   },
   "file_extension": ".py",
   "mimetype": "text/x-python",
   "name": "python",
   "nbconvert_exporter": "python",
   "pygments_lexer": "ipython3",
   "version": "3.7.6"
  }
 },
 "nbformat": 4,
 "nbformat_minor": 4
}
