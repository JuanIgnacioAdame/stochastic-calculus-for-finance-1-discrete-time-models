{
 "cells": [
  {
   "cell_type": "markdown",
   "metadata": {},
   "source": [
    "# Exercise 1.8 (Asian option)"
   ]
  },
  {
   "cell_type": "markdown",
   "metadata": {},
   "source": [
    "Consider the three-period model of Example 1.2.1, with $S_0=4, u=2, d=\\frac{1}{2}$, and take the interest rate $r=\\frac{1}{4}$, so that $\\tilde{p}=\\tilde{q}=\\frac{1}{2}$. For $n=0,1,2,3$, define $Y_n=\\sum_{k=0}^{n}S_k$ to be the sum of the stock prices between times zero and $n$. Consider an Asian call option that expires at time three and has strike $K=4$ (i.e., whose payoff at time three is ($\\frac{1}{4}Y_3-4)^{+}$). This is like a European call, except the payoff of the option is based on the average stock price rather than the final stock price.  Let $v_n(s,y)$ denote the price of this option at time $n$ if $S_n=s$ and $Y_n=y$. In particular, $v_3(s,y)=(\\frac{1}{4}y-4)^{+})$."
   ]
  },
  {
   "cell_type": "markdown",
   "metadata": {},
   "source": [
    "(i) Develop an algorithm for computing $v_n$ recursively. In particular, write a formula for $v_n$ in terms of $v_{n+1}$."
   ]
  },
  {
   "cell_type": "markdown",
   "metadata": {},
   "source": [
    "(ii) Apply the algorithm developed in (i) to compute $v_0(4,4)$, the price of the Asian option at time zero."
   ]
  },
  {
   "cell_type": "markdown",
   "metadata": {},
   "source": [
    "(iii) Provide a formula for $\\delta_n(s,y)$, the number of shares of stock that should be held by the replicating portfolio at time $n$ if $S_n=s$ and $Y_n=y$."
   ]
  },
  {
   "cell_type": "markdown",
   "metadata": {},
   "source": [
    "# Answer"
   ]
  },
  {
   "cell_type": "markdown",
   "metadata": {},
   "source": [
    "(i) Recall from Theorem 1.2.2 that\n",
    "\\begin{equation}\n",
    "V_n(\\omega_1\\dots\\omega_n)=\\frac{1}{1+r}(\\tilde{p}V_{n+1}(\\omega_1\\dots\\omega_nH)+\\tilde{q}V_{n+1}(\\omega_1\\dots\\omega_nT)).\n",
    "\\end{equation}\n",
    "Suppose the stock price $S_n=s$ and $Y_n=y$ if the first $n$ coin tosses turn out to be $\\omega_1\\dots\\omega_n$.  Then, if the first $n+1$ coin tosses turn out to be $\\omega_1\\dots\\omega_nH$, the stock price $S_{n+1}=us$ and $Y_{n+1}=y+us$.  Similarly, if the first $n+1$ coin tosses turn out to be $\\omega_1\\dots\\omega_nT$, the stock price $S_{n+1}=sd$ and $Y_{n+1}=y+sd$.  Then, assuming the derivative contract can be priced in terms of $S_n$ and $Y_n$, then the above equation can be rewritten as\n",
    "\\begin{equation}\n",
    "v_n(s,y)=\\frac{1}{1+r}(\\tilde{p}v_{n+1}(su,y+su)+\\tilde{q}v_{n+1}(sd,y+sd)).\n",
    "\\end{equation}"
   ]
  },
  {
   "cell_type": "markdown",
   "metadata": {},
   "source": [
    "(ii) See code below. We perform the recursion above and plug-in the boundary condition $v_3(s,y)=(\\frac{1}{4}y-4)^{+}$. "
   ]
  },
  {
   "cell_type": "code",
   "execution_count": 38,
   "metadata": {},
   "outputs": [],
   "source": [
    "# Code to perform calculation\n",
    "u=2\n",
    "d=0.5\n",
    "r=0.25\n",
    "p=0.5\n",
    "q=0.5\n",
    "K=4\n",
    "def v(n,s,y):\n",
    "    if n<2:\n",
    "        return (1/(1+r))*(p*v(n+1,s*u,y+s*u)+q*v(n+1,s*d,y+s*d))\n",
    "    else:\n",
    "        # up case\n",
    "        v3u=max((1/4)*(y+s*u)-K,0)\n",
    "        # down case\n",
    "        v3d=max((1/4)*(y+s*d)-K,0)\n",
    "        return (1/(1+r))*(p*v3u+q*v3d)"
   ]
  },
  {
   "cell_type": "code",
   "execution_count": 39,
   "metadata": {},
   "outputs": [
    {
     "name": "stdout",
     "output_type": "stream",
     "text": [
      "1.2160000000000002\n"
     ]
    }
   ],
   "source": [
    "# This is the answer\n",
    "print(v(0,4,4))"
   ]
  },
  {
   "cell_type": "markdown",
   "metadata": {},
   "source": [
    "(iii) Using the same reasoning as (i) above, we rewrite\n",
    "\\begin{equation}\n",
    "\\Delta_n(\\omega_1\\dots\\omega_n)=\\frac{V_{n+1}(\\omega_1\\dots\\omega_nH)-V_{n+1}(\\omega_1\\dots\\omega_nT)}{S_{n+1}(\\omega_1\\dots\\omega_nH)-S_{n+1}(\\omega_1\\dots\\omega_nT)}\n",
    "\\end{equation}\n",
    "as\n",
    "\\begin{equation}\n",
    "\\delta_n(s,y)=\\frac{v_{n+1}(su,y+su)-v_{n+1}(du,y+du)}{s(u-d)}.\n",
    "\\end{equation}"
   ]
  },
  {
   "cell_type": "code",
   "execution_count": null,
   "metadata": {},
   "outputs": [],
   "source": []
  }
 ],
 "metadata": {
  "kernelspec": {
   "display_name": "Python 3",
   "language": "python",
   "name": "python3"
  },
  "language_info": {
   "codemirror_mode": {
    "name": "ipython",
    "version": 3
   },
   "file_extension": ".py",
   "mimetype": "text/x-python",
   "name": "python",
   "nbconvert_exporter": "python",
   "pygments_lexer": "ipython3",
   "version": "3.7.6"
  }
 },
 "nbformat": 4,
 "nbformat_minor": 4
}
