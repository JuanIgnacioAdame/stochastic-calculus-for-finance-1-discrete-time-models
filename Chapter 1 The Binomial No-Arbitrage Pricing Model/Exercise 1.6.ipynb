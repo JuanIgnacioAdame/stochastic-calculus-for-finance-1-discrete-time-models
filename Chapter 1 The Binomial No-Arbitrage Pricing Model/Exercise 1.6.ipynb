{
 "cells": [
  {
   "cell_type": "markdown",
   "metadata": {},
   "source": [
    "# Problem"
   ]
  },
  {
   "cell_type": "markdown",
   "metadata": {},
   "source": [
    "(Hedging a long position-one period). Consider a bank that has a long position in the European call written on the stock price in Figure 1.1.2. The call expires at time one and has strike $K=5$. In Section 1.1., we determined the time-zero price of this call to be $V_0=1.20$.  At time zero, the bank owns this option, which ties up capital $V_0=1.20$.  The bank wants to earn the interest rate $25%$ on this capital until time one (i.e., without investing any more money, and regardless of how the coin tossing turns out, the bank wants to have\n",
    "\\begin{equation}\n",
    "\\frac{5}{4}\\times 1.20=1.50\n",
    "\\end{equation}\n",
    "at time one, after collecting the payoff from the option (if any) at time one).  Specify how the bank's trader should invest in the stock and money markets to accompish this."
   ]
  },
  {
   "cell_type": "markdown",
   "metadata": {},
   "source": [
    "# Answer"
   ]
  },
  {
   "cell_type": "markdown",
   "metadata": {},
   "source": [
    "The value of the bank's portfolio at time one is given by\n",
    "\\begin{equation}\n",
    "X_1=\\Delta_0S_1+\\Gamma_0(S_1-5)^{+}-\\frac{5}{4}(4\\Delta_0).\n",
    "\\end{equation}\n",
    "Because $\\Gamma_0=1$, the equation above simplifies to\n",
    "\\begin{equation}\n",
    "X_1=\\Delta_0S_1+(S_1-5)^{+}-\\frac{5}{4}(4\\Delta_0)\n",
    "\\end{equation}"
   ]
  },
  {
   "cell_type": "markdown",
   "metadata": {},
   "source": [
    "We want $X_1\\stackrel{!}{=}\\frac{5}{4}\\times 1.20=\\frac{3}{2}$ regardless of the outcome.  We first consider the case that $\\omega_1=T$.  Then we have\n",
    "\\begin{align}\n",
    "\\frac{3}{2}&=\\Delta_0S_1+(2-5)^{+}-\\frac{5}{4}(4\\Delta_0)\\\\\n",
    "&=2\\Delta_0-5\\Delta_0\\\\\n",
    "&=-3\\Delta_0\\Rightarrow\\\\\n",
    "\\Delta_0&=-\\frac{1}{2}.\n",
    "\\end{align}"
   ]
  },
  {
   "cell_type": "markdown",
   "metadata": {},
   "source": [
    "We next consider the case $\\omega_1=H$ and verify that taking a position $\\Delta_0=-1$ results in a portfolio value of $\\frac{3}{2}$.\n",
    "\\begin{align}\n",
    "X_1(H)&=\\Delta_0S_1+\\Gamma_0(S_1-5)^{+}-\\frac{5}{4}(4\\Delta_0)\\\\\n",
    "&=-4+3-\\frac{5}{4}(-2)\\\\\n",
    "&=\\frac{3}{2}.\n",
    "\\end{align}"
   ]
  },
  {
   "cell_type": "markdown",
   "metadata": {},
   "source": [
    "We are done $\\square$."
   ]
  },
  {
   "cell_type": "markdown",
   "metadata": {},
   "source": [
    "$\\it{Remark}$: Note that the portfolio's value at time one is $X_1=\\Delta_0S_1+\\Gamma_0(S_1-5)^{+}-\\frac{5}{4}(4\\Delta_0)$ and $\\it{not}$ $X_1=\\Delta_0S_1+\\Gamma_0(S_1-5)^{+}-\\frac{5}{4}(4\\Delta_0-\\frac{6}{5}\\Gamma_0)$.  In other words, in the last term we do not need to subtract $\\frac{6}{5}\\Gamma_0$ because this is something that the bank already owned."
   ]
  },
  {
   "cell_type": "code",
   "execution_count": null,
   "metadata": {},
   "outputs": [],
   "source": []
  }
 ],
 "metadata": {
  "kernelspec": {
   "display_name": "Python 3",
   "language": "python",
   "name": "python3"
  },
  "language_info": {
   "codemirror_mode": {
    "name": "ipython",
    "version": 3
   },
   "file_extension": ".py",
   "mimetype": "text/x-python",
   "name": "python",
   "nbconvert_exporter": "python",
   "pygments_lexer": "ipython3",
   "version": "3.7.6"
  }
 },
 "nbformat": 4,
 "nbformat_minor": 4
}
