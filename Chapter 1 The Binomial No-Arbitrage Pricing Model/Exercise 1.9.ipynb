{
 "cells": [
  {
   "cell_type": "markdown",
   "metadata": {},
   "source": [
    "# Exercise 1.9 (Stochastic volatility, random interest rate)."
   ]
  },
  {
   "cell_type": "markdown",
   "metadata": {},
   "source": [
    "Consider a binomial pricing model, but at each time $n\\geq 1$, the \"up factor\" $u_n(\\omega_1\\omega_2\\dots\\omega_n)$, the \"down factor\" $d_n(\\omega_1\\omega_2\\dots\\omega_n)$, and the interest rate $r_n(\\omega_1\\omega_2\\dots\\omega_n)$ are allowed to depend on $n$ and on the first $n$ coin tosses $\\omega_1\\omega_2\\dots\\omega_n$. The initial up factor $u_0$, the initial down factor $d_0$, and the initial interest rate $r_0$ are not random.  More specifically, the stock price at time one is given by\n",
    "\\begin{align}\n",
    "S_1(\\omega_1)&=u_0S_0 \\text{ if } \\omega_1=H,\\\\\n",
    "             &=d_0S_0 \\text{ if } \\omega_1=T,\n",
    "\\end{align}\n",
    "and, for $n\\geq1$, the stock price at time $n+1$ is given by\n",
    "\\begin{align}\n",
    "S_{n+1}(\\omega_1\\omega_2\\dots\\omega_n\\omega_{n+1})&=u_n(\\omega_1\\omega_2\\dots\\omega_n)S_n(\\omega_1\\omega_2\\dots\\omega_n) \\text{ if } \\omega_{n+1}=H,\\\\\n",
    "&=d_n(\\omega_1\\omega_2\\dots\\omega_n)S_n(\\omega_1\\omega_2\\dots\\omega_n) \\text{ if } \\omega_{n+1}=T.\n",
    "\\end{align}"
   ]
  },
  {
   "cell_type": "markdown",
   "metadata": {},
   "source": [
    "One dollar invested in or borrwed from the money market at time zero grows to an investment or debt of $1+r_0$ at time one, and, for $n\\geq1$, one dollar invested in or borrowed from the money market at time $n$ grows to an investment or debt of $1+r_n(\\omega_1\\omega_2\\dots\\omega_n)$ at time $n+1$. We assume that for each $n$ and for all $\\omega_1\\omega_2\\dots\\omega_n$, the no-arbitrage condition\n",
    "\\begin{equation}\n",
    "0<d_n(\\omega_1\\omega_2\\dots\\omega_n)<1+r_n(\\omega_1\\omega_2\\dots\\omega_n)<u_n(\\omega_1\\omega_2\\dots\\omega_n)\n",
    "\\end{equation}\n",
    "holds. We also assume that $0<d_0<1+r_0<u_0$."
   ]
  },
  {
   "cell_type": "markdown",
   "metadata": {},
   "source": [
    "(i) Let $N$ be a positive integer. In the model just described, provide an algorithm determining the price at time zero for a derivative security that at time $N$ pays off a random amount of $V_N$ depending on the result of the first $N$ coin tosses."
   ]
  },
  {
   "cell_type": "markdown",
   "metadata": {},
   "source": [
    "(ii) Provide a formula for the number of shares of stock that should be held at each time $n$ $(0\\leq n \\leq N-1)$ by a protfolio that replicates the derivative security $V_N$."
   ]
  },
  {
   "cell_type": "markdown",
   "metadata": {},
   "source": [
    "(iii) Suppose the initial stock price is $S_0=80$, with each head the stock price increases by 10, and with each tail the stock price decreases by 10. In other words, $S_1(H)=90$, $S_1(T)=70$, $S_2(HH)=100$, etc. Assume the interest rate is always zero. Consider a European call with strike price $80$, expiring at time five.  What is the price of this call at time zero?"
   ]
  },
  {
   "cell_type": "markdown",
   "metadata": {},
   "source": [
    "# Answer"
   ]
  },
  {
   "cell_type": "markdown",
   "metadata": {},
   "source": [
    "(i) At time $n$, define\n",
    "\\begin{align}\n",
    "\\tilde{p}_n(\\omega_1\\dots\\omega_n)=\\frac{1+r(\\omega_1\\dots\\omega_n)-d(\\omega_1\\dots\\omega_n)}{u(\\omega_1\\dots\\omega_n)-d(\\omega_1\\dots\\omega_n)},\\\\\n",
    "\\tilde{q}_n(\\omega_1\\dots\\omega_n)=\\frac{u(\\omega_1\\dots\\omega_n)-1-r(\\omega_1\\dots\\omega_n)}{u(\\omega_1\\dots\\omega_n)-d(\\omega_1\\dots\\omega_n)}.\n",
    "\\end{align}"
   ]
  },
  {
   "cell_type": "markdown",
   "metadata": {},
   "source": [
    "Let $V_N(\\omega_1\\dots\\omega_N)$ be a random variable (a derivative security paying off at time $N$) depending on the first $N$ coin tosses $\\omega_1\\dots\\omega_N$.  Define recursively backward in the time the sequence of random variables $V_{N-1}(\\omega_1\\dots\\omega_{N-1}),V_{N-2}(\\omega_1\\dots\\omega_{N-2}),\\dots, V_0$ by\n",
    "\\begin{equation}\n",
    "V_n(\\omega_1\\dots\\omega_n)=\\frac{1}{1+r(\\omega_1\\dots\\omega_n)}\\left(\\tilde{p}_n(\\omega_1\\dots\\omega_n)V_{n+1}(\\omega_1\\dots\\omega_{n}H)+\\tilde{q}_n(\\omega_1\\dots\\omega_n)V_{n+1}(\\omega_1\\dots\\omega_{n}T)\\right),\n",
    "\\end{equation}\n",
    "so that each $V_n$ depends on the first $n$ coin tosses $\\omega_1\\omega_2\\dots\\omega_n$, where $n$ ranges between $N-1$ and $0$."
   ]
  },
  {
   "cell_type": "markdown",
   "metadata": {},
   "source": [
    "Next define\n",
    "\\begin{equation}\n",
    "\\Delta_n(\\omega_1\\dots\\omega_n)=\\frac{V_{n+1}(\\omega_1\\dots\\omega_{n}H)-V_{n+1}(\\omega_1\\dots\\omega_{n}T)}{S_{n+1}(\\omega_1\\dots\\omega_{n}H)-S_{n+1}(\\omega_1\\dots\\omega_{n}T)},\n",
    "\\end{equation}\n",
    "where again $n$ ranges between $0$ and $N-1$."
   ]
  },
  {
   "cell_type": "markdown",
   "metadata": {},
   "source": [
    "If we set $X_0=V_0$ and define recursively forward in time the portfolio values $X_1,X_2,\\dots,X_N$ by\n",
    "\\begin{equation}\n",
    "X_{n+1}=\\Delta_nS_{n+1}+(1+r)(X_n-\\Delta_nS_n),\n",
    "\\end{equation}\n",
    "then\n",
    "\\begin{equation}\n",
    "X_N(\\omega_1\\omega_2\\dots\\omega_N)=V_N(\\omega_1\\omega_2\\dots\\omega_N)\n",
    "\\end{equation}\n",
    "for all $\\omega_1\\omega_2\\dots\\omega_N$."
   ]
  },
  {
   "cell_type": "markdown",
   "metadata": {},
   "source": [
    "(ii) We can see from above that\n",
    "\\begin{equation}\n",
    "\\Delta_n(\\omega_1\\dots\\omega_n)=\\frac{V_{n+1}(\\omega_1\\dots\\omega_{n}H)-V_{n+1}(\\omega_1\\dots\\omega_{n}T)}{S_{n+1}(\\omega_1\\dots\\omega_{n}H)-S_{n+1}(\\omega_1\\dots\\omega_{n}T)}.\n",
    "\\end{equation}"
   ]
  },
  {
   "cell_type": "markdown",
   "metadata": {},
   "source": [
    "(iii) See code below, which is an implementation of the recursion relation\n",
    "\\begin{align}\n",
    "v_n(s)&=\\frac{v_{n+1}(s+10)-v_{n+1}(s-10)}{s+10-(s-10)}\\\\\n",
    "&=\\frac{v_{n+1}(s+10)-v_{n+1}(s-10)}{20},\n",
    "\\end{align}\n",
    "with the boundary condition\n",
    "\\begin{equation}\n",
    "v_5(s)=(s-K)^{+},\n",
    "\\end{equation}\n",
    "where the strike price $K=80$. Note that the up and down factors, and hence the risk-neutral probabilities, change at every time period. The up and down factors are given by\n",
    "\\begin{align}\n",
    "u_n&=\\frac{S_n+10}{S_n}\\\\\n",
    "d_n&=\\frac{S_n-10}{S_n}.\n",
    "\\end{align}"
   ]
  },
  {
   "cell_type": "code",
   "execution_count": 8,
   "metadata": {},
   "outputs": [
    {
     "name": "stdout",
     "output_type": "stream",
     "text": [
      "9.374999999999998\n"
     ]
    }
   ],
   "source": [
    "K=80\n",
    "def v(n,s):\n",
    "    if n<4:\n",
    "        # calculate p-tilde and q-tilde first\n",
    "        u=(s+10)/s\n",
    "        d=(s-10)/s\n",
    "        p=(1-d)/(u-d)\n",
    "        q=(u-1)/(u-d)\n",
    "        return p*v(n+1,s+10)+q*v(n+1,s-10)\n",
    "    else:\n",
    "        # calculate p-tilde and q-tilde first\n",
    "        u=(s+10)/s\n",
    "        d=(s-10)/s\n",
    "        p=(1-d)/(u-d)\n",
    "        q=(u-1)/(u-d)\n",
    "        # plug in boundary condition\n",
    "        v5u=max(s+10-K,0)\n",
    "        v5d=max(s-10-K,0)\n",
    "        return p*v5u+q*v5d\n",
    "print(v(0,80))"
   ]
  },
  {
   "cell_type": "code",
   "execution_count": null,
   "metadata": {},
   "outputs": [],
   "source": []
  },
  {
   "cell_type": "code",
   "execution_count": null,
   "metadata": {},
   "outputs": [],
   "source": []
  }
 ],
 "metadata": {
  "kernelspec": {
   "display_name": "Python 3",
   "language": "python",
   "name": "python3"
  },
  "language_info": {
   "codemirror_mode": {
    "name": "ipython",
    "version": 3
   },
   "file_extension": ".py",
   "mimetype": "text/x-python",
   "name": "python",
   "nbconvert_exporter": "python",
   "pygments_lexer": "ipython3",
   "version": "3.7.6"
  }
 },
 "nbformat": 4,
 "nbformat_minor": 4
}
