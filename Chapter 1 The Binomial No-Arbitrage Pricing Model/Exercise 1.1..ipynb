{
 "cells": [
  {
   "cell_type": "markdown",
   "id": "retired-saudi",
   "metadata": {},
   "source": [
    "# Question"
   ]
  },
  {
   "cell_type": "markdown",
   "id": "listed-ranch",
   "metadata": {},
   "source": [
    "Assume in the one-period binomial market of Section 1.1. that both $H$ and $T$ have positive probability of occurring.  Show that condition \n",
    "\\begin{equation}\n",
    "d< 1+r< u\n",
    "\\end{equation}\n",
    "precludes arbitrage.  In other words, show that if $X_0=0$ and\n",
    "\\begin{equation}\n",
    "X_1=\\Delta_0S_1+(1+r)(X_0-\\Delta_0S_0),\n",
    "\\end{equation}\n",
    "then we cannot have $X_1$ strictly positive with positive probability unless $X_1$ is strictly negative with positive probility as well, and this is the case regardless of the choice of the number $\\Delta_0$."
   ]
  },
  {
   "cell_type": "markdown",
   "id": "expressed-candidate",
   "metadata": {},
   "source": [
    "# Answer"
   ]
  },
  {
   "cell_type": "markdown",
   "id": "increased-tractor",
   "metadata": {},
   "source": [
    "We begin by plugging in $X_0=0$ in order to simplify the expression for $X_1$:\n",
    "\n",
    "\\begin{align}\n",
    "X_1&=\\Delta_0S_1+(1+r)(0-\\Delta_0S_0)\\\\\n",
    "   &=\\Delta_0S_1-(1+r)\\Delta_0S_0\\\\\n",
    "   &=\\Delta_0(S_1-(1+r)S_0).\n",
    "\\end{align}"
   ]
  },
  {
   "cell_type": "markdown",
   "id": "viral-cassette",
   "metadata": {},
   "source": [
    "Suppose that $X_1(H)=\\Delta_0(S_1(H)-(1+r)S_0)$ is strictly positive, i.e.\n",
    "\n",
    "\\begin{align}\n",
    "\\Delta_0(S_1(H)-(1+r)S_0)&=\\\\\n",
    "\\Delta_0(uS_0-(1+r)S_0)&=\\\\\n",
    "\\Delta_0S_0(u-(1+r))&>0.\n",
    "\\end{align}"
   ]
  },
  {
   "cell_type": "markdown",
   "id": "smaller-housing",
   "metadata": {},
   "source": [
    "Because $S_0>0$ and $u-(1+r)>0$ by assumption, we know $\\Delta_0>0$ (this is because the expression above is positive).  We also know that $d-(1+r)<0$, and this implies that $X_1(T)=\\Delta_0(S_1(T)-(1+r)S_0)$ is strictly negative, as can be seen from the following calculation:\n",
    "\n",
    "\\begin{align}\n",
    "\\Delta_0(S_1(T)-(1+r)S_0)&=\\\\\n",
    "\\Delta_0(dS_0-(1+r)S_0)&=\\\\\n",
    "\\underbrace{\\Delta_0S_0}_{>0}\\underbrace{(d-(1+r))}_{<0}&<0.\n",
    "\\end{align}"
   ]
  },
  {
   "cell_type": "markdown",
   "id": "agricultural-italian",
   "metadata": {},
   "source": [
    "If we instead had assumed that $X_1(T)=\\Delta_0(S_1(T)-(1+r)S_0)$ were strictly positive, we would obtain that $\\Delta_0<0$, and computation analogous to the one above would reveral that $X_1(H)$ would be strictly negative. $\\square$"
   ]
  },
  {
   "cell_type": "markdown",
   "id": "urban-reviewer",
   "metadata": {},
   "source": [
    "# Interactive"
   ]
  },
  {
   "cell_type": "code",
   "execution_count": 51,
   "id": "identified-airplane",
   "metadata": {},
   "outputs": [
    {
     "name": "stdout",
     "output_type": "stream",
     "text": [
      "d<1+r<u holds: True\n",
      "\n",
      "\n",
      "Portfolio value at time 0: 0 dollars\n",
      "\n",
      "\n",
      "Portfolio value at time 1:\n",
      "10.0 dollars with probability 0.5,\n",
      "and -10.0 dollars with probability 0.5\n",
      "\n"
     ]
    }
   ],
   "source": [
    "# initial wealth is 0\n",
    "X0=0\n",
    "\n",
    "# Choose initial stock price\n",
    "S0=1\n",
    "\n",
    "# choose risk-free rate\n",
    "r=0.1\n",
    "\n",
    "# choose u>1+r\n",
    "u=1+r+1\n",
    "S1H=u*S0\n",
    "# choose probability that this happens\n",
    "pH=0.5\n",
    "\n",
    "# choose d<1+r\n",
    "d=1+r-1\n",
    "S1T=d*S0\n",
    "# choose probability that this happens\n",
    "pT=1-pH\n",
    "\n",
    "# Choose any delta!\n",
    "D0=10\n",
    "\n",
    "# wealth after 1 period\n",
    "X1={'H': (pH, D0*S0*(u-(1+r))), 'T': (pT, D0*S0*(d-(1+r)))}\n",
    "\n",
    "print(\"d<1+r<u holds: {0}\".format(d<1+r and 1+r<u))\n",
    "print(\"\\n\")\n",
    "print(\"Portfolio value at time 0: 0 dollars\")\n",
    "print(\"\\n\")\n",
    "print(\"Portfolio value at time 1:\\n\"+\n",
    "      \"{0} dollars with probability {1},\\n\".format(X1['H'][1], pH)+\n",
    "      \"and {0} dollars with probability {1}\\n\".format(X1['T'][1], pT))"
   ]
  },
  {
   "cell_type": "code",
   "execution_count": 47,
   "id": "exceptional-chicago",
   "metadata": {},
   "outputs": [
    {
     "name": "stdout",
     "output_type": "stream",
     "text": [
      "If one sells 1 stock, there is a 0.5 probability of losing 1.0 dollars!\n"
     ]
    }
   ],
   "source": [
    "if D0<0:\n",
    "    print(\"If one sells {0} stock, there is a {1} probability of losing {2} dollars!\".format(abs(D0), pH, -X1['H'][1]))\n",
    "if D0>0:\n",
    "    print(\"If one buys {0} stock, there is a {1} probability of losing {2} dollars!\".format(abs(D0), pT, -X1['T'][1]))\n",
    "    "
   ]
  },
  {
   "cell_type": "code",
   "execution_count": null,
   "id": "otherwise-circle",
   "metadata": {},
   "outputs": [],
   "source": []
  }
 ],
 "metadata": {
  "kernelspec": {
   "display_name": "Python 3",
   "language": "python",
   "name": "python3"
  },
  "language_info": {
   "codemirror_mode": {
    "name": "ipython",
    "version": 3
   },
   "file_extension": ".py",
   "mimetype": "text/x-python",
   "name": "python",
   "nbconvert_exporter": "python",
   "pygments_lexer": "ipython3",
   "version": "3.7.6"
  }
 },
 "nbformat": 4,
 "nbformat_minor": 5
}
