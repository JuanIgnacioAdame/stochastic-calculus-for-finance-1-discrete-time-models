{
 "cells": [
  {
   "cell_type": "markdown",
   "metadata": {},
   "source": [
    "# Problem"
   ]
  },
  {
   "cell_type": "markdown",
   "metadata": {},
   "source": [
    "In the one-period binomial model of Section 1.1, suppose we want to determine the price at time zero of the derivative security $V_1=S_1$ (i.e. the derivative security pays off the stock price.) (This can be regarded as a European call with strike price $K=0$).  What is the time-zero price $V_0$ given by the risk-neutral pricing formula (1.1.10)?"
   ]
  },
  {
   "cell_type": "markdown",
   "metadata": {},
   "source": [
    "# Answer"
   ]
  },
  {
   "cell_type": "markdown",
   "metadata": {},
   "source": [
    "## A sort of \"pre-answer\""
   ]
  },
  {
   "cell_type": "markdown",
   "metadata": {},
   "source": [
    "First we recall the method risk-netrual pricing.  Recall that the risk-neutral pricing formula is given by the initial wealth $X_0$ that is required to replicate the pay-off of the derivative security at time one (i.e. $V_1$) by trading in the stock and money markets.  In other words, we aim to find the quantity $X_0$ such\n",
    "\\begin{align}\n",
    "X_1&=\\Delta_0S_1+(1+r)(X_0-\\Delta_0S_0)\\stackrel{!}{=}V_1.\n",
    "\\end{align}\n",
    "When we \"plug-in\" $\\omega$, we obtain a system of 2 equations with the 2 unknowns $X_0$ and $\\Delta_0$:\n",
    "\\begin{align}\n",
    "X_1(H)&=\\Delta_0S_1(H)+(1+r)(X_0-\\Delta_0S_0),\\\\\n",
    "X_1(T)&=\\Delta_0S_1(T)+(1+r)(X_0-\\Delta_0S_0).\\\\\n",
    "\\end{align}\n",
    "If we multiply the first equation by any $\\tilde{p}\\in[0,1]$, the second equation by  $\\tilde{q}=1-\\tilde{p}$, and add them together, we get\n",
    "\\begin{align}\n",
    "X_0+\\Delta_0\\left(\\frac{1}{1+r}(\\tilde{p}S_1(H)+\\tilde{q}S_1(T))-S_0\\right)=\\frac{1}{1+r}(\\tilde{p}V_1(H)+\\tilde{q}V_1(T)).\n",
    "\\end{align}\n",
    "\n",
    "Choose $\\tilde{p}$ such that\n",
    "\\begin{align}\n",
    "\\frac{1}{1+r}(\\tilde{p}S_1(H)+\\tilde{q}S_1(T))=S_0.\n",
    "\\end{align}\n",
    "\n",
    "To see that this is always possible, recall that $S_1(H)=uS_0$ and $S_1(T)=dS_0$.  If we plug these values into the equation above, we get\n",
    "\\begin{align}\n",
    "\\frac{1}{1+r}(\\tilde{p}S_1(H)+\\tilde{q}S_1(T))=\\frac{\\tilde{p}u+\\tilde{q}d}{1+r}S_0.\n",
    "\\end{align}\n",
    "\n",
    "Note that the quantity $\\frac{\\tilde{p}u+\\tilde{q}d}{1+r}$ can be made to be anything in the interval $\\left[\\frac{d}{1+r},\\frac{u}{1+r}\\right]$, and so, in particular, can take on the value 1.  Continuing with the calculation, we immediately get\n",
    "\\begin{equation}\n",
    "X_0=\\frac{1}{1+r}(\\tilde{p}V_1(H)+\\tilde{q}V_1(T)).\n",
    "\\end{equation}\n",
    "\n",
    "We can solve for $\\tilde{p}$ directly and obtain\n",
    "\\begin{align}\n",
    "\\tilde{p}=\\frac{(1+r)-d}{u-d},\\\\\n",
    "\\tilde{q}=\\frac{u-(1+r)}{u-d}.\n",
    "\\end{align}\n",
    "\n",
    "Tol solve for $\\Delta_0$, we can \"plug-in\" $\\tilde{p}$ and $\\tilde{q}$ into the expression for $X_0$, and plug the resulting expression of $X_0$ into the original system of two equations and we obtain\n",
    "\\begin{equation}\n",
    "\\Delta_0=\\frac{V_1(H)-V_1(T)}{S_1(H)-S_1(T)}.\n",
    "\\end{equation}"
   ]
  },
  {
   "cell_type": "markdown",
   "metadata": {},
   "source": [
    "Because $V_0=X_0$ by the definition in the risk-neutral pricing setting, we obtain\n",
    "\\begin{equation}\n",
    "V_0=\\frac{1}{1+r}(\\tilde{p}V_1(H)+\\tilde{q}V_1(T)).\n",
    "\\end{equation}"
   ]
  },
  {
   "cell_type": "markdown",
   "metadata": {},
   "source": [
    "In the specific case of Example 1.1.1., we have $u=2$, $d=0.5$, and $r=0.25$.  Hence, $\\tilde{p}=\\tilde{q}=0.5$.  Plugging this into the formula for $V_0$, we get\n",
    "\\begin{align}\n",
    "V_0&=\\frac{1}{1.25}(0.5\\times 2+0.5\\times8)\\\\\n",
    "&=4=S_0.\n",
    "\\end{align}"
   ]
  },
  {
   "cell_type": "code",
   "execution_count": null,
   "metadata": {},
   "outputs": [],
   "source": []
  }
 ],
 "metadata": {
  "kernelspec": {
   "display_name": "Python 3",
   "language": "python",
   "name": "python3"
  },
  "language_info": {
   "codemirror_mode": {
    "name": "ipython",
    "version": 3
   },
   "file_extension": ".py",
   "mimetype": "text/x-python",
   "name": "python",
   "nbconvert_exporter": "python",
   "pygments_lexer": "ipython3",
   "version": "3.7.6"
  }
 },
 "nbformat": 4,
 "nbformat_minor": 5
}
