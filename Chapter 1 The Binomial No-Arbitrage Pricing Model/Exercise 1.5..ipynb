{
 "cells": [
  {
   "cell_type": "markdown",
   "metadata": {},
   "source": [
    "# Problem"
   ]
  },
  {
   "cell_type": "markdown",
   "metadata": {},
   "source": [
    "In Example 1.2.4, we considered an agent who sold the look-back option for $V_0=1.376$, and bought $\\Delta_0=0.1733$ shares of stock at time zero.  At time one, if the stock goes up, she has a portfolio valued at $V_1(H)=2.24$.  Assume that she now takes a position of $\\Delta_1(H)=\\frac{V_2(HH)-V_2(HT)}{S_2(HH)-S_2(HT)}$ in the stock.  Show that, at time two, if the stock goes up again, she will have a portfolio valued at $V_2(HH)=3.20$, whereas if the stock goes down, her portfolio will be worth $V_2(HT)=2.40$.  Finally, under the assumption that the stcok goes up in the first period and down in the second period, assume the agent takes a position of $\\Delta_{2}(HT)=\\frac{V_3(HTH)-V_3(HTT)}{S_3(HTH)-S_3(HTT)}$ in the stock.  Show that, at time three, if the stock goes up in the third period, she will have a portfolio valued at $V_3(HTH)=0$, whereas if the stock goes down, her portfolio will be worth $V_3(HTT)=6$.  In other words, she has hedged her short position in the option."
   ]
  },
  {
   "cell_type": "markdown",
   "metadata": {},
   "source": [
    "# Answer"
   ]
  },
  {
   "cell_type": "markdown",
   "metadata": {},
   "source": [
    "First we compute the portfolio's value at time two if $\\omega_1=\\omega_2=HH$.\n",
    "\\begin{align}\n",
    "X_2(HH)&=\\Delta_1(H)S_2(HH)+(1+r)(X_1(H)-\\Delta_1(H)S_1(H)\\\\\n",
    "&=\\frac{V_2(HH)-V_2(HT)}{S_2(HH)-S_2(HT)}\\times 16+(1+\\frac{1}{4})(2.24-\\frac{V_2(HH)-V_2(HT)}{S_2(HH)-S_2(HT)}\\times 8)\\\\\n",
    "&=\\frac{1}{15}\\times 16+(1+\\frac{1}{4})(2.24-\\frac{1}{15}\\times 8)\\\\\n",
    "&=3.20.\n",
    "\\end{align}"
   ]
  },
  {
   "cell_type": "markdown",
   "metadata": {},
   "source": [
    "Next we compute the portfolio's value at time two if $\\omega_1=H$ and $\\omega_2=T$.\n",
    "\\begin{align}\n",
    "X_2(HT)&=\\Delta_1(H)S_2(HT)+(1+r)(X_1(H)-\\Delta_1(H)S_1(H)\\\\\n",
    "&=\\frac{V_2(HH)-V_2(HT)}{S_2(HH)-S_2(HT)}\\times 4+(1+\\frac{1}{4})(2.24-\\frac{V_2(HH)-V_2(HT)}{S_2(HH)-S_2(HT)}\\times 8)\\\\\n",
    "&=\\frac{1}{15}\\times 4+(1+\\frac{1}{4})(2.24-\\frac{1}{15}\\times 8)\\\\\n",
    "&=2.40.\n",
    "\\end{align}"
   ]
  },
  {
   "cell_type": "markdown",
   "metadata": {},
   "source": [
    "Now we suppose that $\\omega_1=H$ and $\\omega_2=T$.  First, we compute the value of the portfolio if $\\omega_3=H$.\n",
    "\\begin{align}\n",
    "X_2(HTH)&=\\Delta_2(HT)S_3(HTH)+(1+r)(X_2(HT)-\\Delta_2(HT)S_2(HT)\\\\\n",
    "&=\\frac{V_3(HTH)-V_3(HTT)}{S_3(HTH)-S_3(HTT)}\\times 8+(1+\\frac{1}{4})(2.4-\\frac{V_3(HTH)-V_3(HTT)}{S_3(HTH)-S_3(HTT)}\\times 4)\\\\\n",
    "&=-1\\times 8+(1+\\frac{1}{4})(2.4-(-1)\\times 4)\\\\\n",
    "&=0.\n",
    "\\end{align}"
   ]
  },
  {
   "cell_type": "markdown",
   "metadata": {},
   "source": [
    "Next, we compute the value of the portfolio if $\\omega_3=T$.\n",
    "\\begin{align}\n",
    "X_2(HTT)&=\\Delta_2(HT)S_3(HTT)+(1+r)(X_2(HT)-\\Delta_2(HT)S_2(HT)\\\\\n",
    "&=\\frac{V_3(HTH)-V_3(HTT)}{S_3(HTH)-S_3(HTT)}\\times 8+(1+\\frac{1}{4})(2.4-\\frac{V_3(HTH)-V_3(HTT)}{S_3(HTH)-S_3(HTT)}\\times 4)\\\\\n",
    "&=-1\\times 2+(1+\\frac{1}{4})(2.4-(-1)\\times 4)\\\\\n",
    "&=6.\n",
    "\\end{align}"
   ]
  },
  {
   "cell_type": "markdown",
   "metadata": {},
   "source": [
    "We are done $\\square$."
   ]
  },
  {
   "cell_type": "code",
   "execution_count": null,
   "metadata": {},
   "outputs": [],
   "source": []
  }
 ],
 "metadata": {
  "kernelspec": {
   "display_name": "Python 3",
   "language": "python",
   "name": "python3"
  },
  "language_info": {
   "codemirror_mode": {
    "name": "ipython",
    "version": 3
   },
   "file_extension": ".py",
   "mimetype": "text/x-python",
   "name": "python",
   "nbconvert_exporter": "python",
   "pygments_lexer": "ipython3",
   "version": "3.7.6"
  }
 },
 "nbformat": 4,
 "nbformat_minor": 4
}
