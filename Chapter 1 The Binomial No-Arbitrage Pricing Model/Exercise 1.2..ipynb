{
 "cells": [
  {
   "cell_type": "markdown",
   "id": "coupled-mining",
   "metadata": {},
   "source": [
    "# Question"
   ]
  },
  {
   "cell_type": "markdown",
   "id": "italian-camping",
   "metadata": {},
   "source": [
    "Suppose in the situation of Example 1.1.1 that the option sells for 1.20 at time zero.  In other words, suppose there is a European call option with price $V_0=1.20$ at time zero, and $V_1=\\text{max}\\{0,S_1-K\\}:=(S_1-K)^{+}$ where the strike price $K=5$.  Consider an agent who begins with wealth $X_0=0$ and at time zero buys $\\Delta_0$ shares of stock and $\\Gamma_0$ options.  The numbers $\\Delta_0$ and $\\Gamma_0$ can be either positive or negative or zero.  This leaves the agent with a cash position of $-4\\Delta_0-1.20\\Gamma_0$.  If this is positive, it is invested in the money market; if it is negative, it represents money borrowed from the money market.  At time one, the value of the agent's portfolio of stock, option, and money market assets is \\\n",
    "\\begin{align}\n",
    "X_1=\\Delta_0S_1+\\Gamma_0(S_1-5)^{+}-1.25(4\\Delta_0+1.20\\Delta_0).\n",
    "\\end{align}\n",
    "Assume that both $H$ and $T$ have positive probability of occurring.  Show that if there is apositive probability that $X_1$ is positive, then there is a positive probability that $X_1$ is negative.  In other words, one cannot find an arbitrage when the time-zero price of the option is 1.20."
   ]
  },
  {
   "cell_type": "markdown",
   "id": "peaceful-cassette",
   "metadata": {},
   "source": [
    "# Answer"
   ]
  },
  {
   "cell_type": "markdown",
   "id": "limited-newport",
   "metadata": {},
   "source": [
    "Suppose $X_1(H)$ is positive.  Let us plug in the value $S_1(H)=8$ to simplify the expression of $X_1(H)$:\n",
    "\\begin{align}\n",
    "X_1(H)&=8\\Delta_0+3\\Gamma_0-1.25(4\\Delta_0+1.20\\Gamma_0)\\\\\n",
    "&=8\\Delta_0+3\\Gamma_0-5\\Delta_0-1.5\\Gamma_0\\\\\n",
    "&=3\\Delta_0+1.5\\Gamma_0>0.\n",
    "\\end{align}"
   ]
  },
  {
   "cell_type": "markdown",
   "id": "advised-migration",
   "metadata": {},
   "source": [
    "Now let us simplify the expression for $X_1(T)$:\n",
    "\\begin{align}\n",
    "X_1(T)&=2\\Delta_0-1.25(4\\Delta_0+1.20\\Gamma_0)\\\\\n",
    "&=2\\Delta_0-5\\Delta_0-1.5\\Gamma_0\\\\\n",
    "&=-3\\Delta_0-1.5\\Gamma_0\\\\\n",
    "&=-X_1(H)<0.\n",
    "\\end{align}"
   ]
  },
  {
   "cell_type": "markdown",
   "id": "premium-observer",
   "metadata": {},
   "source": [
    "Had we instead assumed $X_1(T)$ were positive, an analogous computation would show that $X_1(H)$ was negative.$\\square$"
   ]
  },
  {
   "cell_type": "markdown",
   "id": "illegal-effectiveness",
   "metadata": {},
   "source": [
    "# Interactive"
   ]
  },
  {
   "cell_type": "code",
   "execution_count": null,
   "id": "split-surgery",
   "metadata": {},
   "outputs": [],
   "source": []
  }
 ],
 "metadata": {
  "kernelspec": {
   "display_name": "Python 3",
   "language": "python",
   "name": "python3"
  },
  "language_info": {
   "codemirror_mode": {
    "name": "ipython",
    "version": 3
   },
   "file_extension": ".py",
   "mimetype": "text/x-python",
   "name": "python",
   "nbconvert_exporter": "python",
   "pygments_lexer": "ipython3",
   "version": "3.7.6"
  }
 },
 "nbformat": 4,
 "nbformat_minor": 5
}
