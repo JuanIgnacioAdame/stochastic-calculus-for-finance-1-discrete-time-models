{
 "cells": [
  {
   "cell_type": "markdown",
   "metadata": {},
   "source": [
    "# Problem"
   ]
  },
  {
   "cell_type": "markdown",
   "metadata": {},
   "source": [
    "In the proof of Theorem 1.2., show under the induction hypothesis that\n",
    "\\begin{equation}\n",
    "X_{n+1}(\\omega_{1}\\dots\\omega_{n}T)=V_{n+1}(\\omega_{1}\\dots\\omega_{n}T)\n",
    "\\end{equation}"
   ]
  },
  {
   "cell_type": "markdown",
   "metadata": {},
   "source": [
    "# Answer"
   ]
  },
  {
   "cell_type": "markdown",
   "metadata": {},
   "source": [
    "By the induction hypothesis, we know that $X_{n}(\\omega_{1}\\dots\\omega_{n})=V_{n}(\\omega_{1}\\dots\\omega_{n})$.  Additionally, we know by definition that\n",
    "\\begin{align}\n",
    "\\Delta_{n}(\\omega_{1}\\dots\\omega_{n})&=\\frac{V_{n+1}(\\omega_{1}\\dots\\omega_{n}H)-V_{n+1}(\\omega_{1}\\dots\\omega_{n}T)}{S_{n+1}(\\omega_{1}\\dots\\omega_{n}H)-S_{n+1}(\\omega_{1}\\dots\\omega_{n}T)}\\\\\n",
    "&=\\frac{V_{n+1}(H)-V_{n+1}(T)}{(u-d)S_n}.\n",
    "\\end{align}\n",
    "By definition of $X_{n+1}$, we have\n",
    "\\begin{align}\n",
    "X_{T}=\\Delta_{n}dS_{n}+(1+r)(X_n-\\Delta_nS_n),\n",
    "\\end{align}\n",
    "where we have suppressed the first $n$ coint tosses $\\omega_1,\\dots,\\omega_n$ to simplify the notation."
   ]
  },
  {
   "cell_type": "markdown",
   "metadata": {},
   "source": [
    "\\begin{align}\n",
    "&=(1+r)V_n+\\frac{(V_{n+1}(H)-V_{n+1}(T))(d-(1+r))}{u-d}\\\\\n",
    "&=(1+r)V_n-\\tilde{p}V_{n+1}(H)+\\tilde{p}V_{n+1}(T).\n",
    "\\end{align}"
   ]
  },
  {
   "cell_type": "markdown",
   "metadata": {},
   "source": [
    "Recall that $(1+r)V_n=\\tilde{p}V_{n+1}(H)+\\tilde{q}V_{n+1}(T)$.  Plugging this into the equation above, we get\n",
    "\\begin{align}\n",
    "\\tilde{p}V_{n+1}(H)+\\tilde{q}V_{n+1}(T)-\\tilde{p}V_{n+1}(H)+\\tilde{p}V_{n+1}(T)&=\\tilde{q}V_{n+1}(T)+\\tilde{p}V_{n+1}(T)\\\\\n",
    "&=V_{n+1}(T).\n",
    "\\end{align}"
   ]
  },
  {
   "cell_type": "markdown",
   "metadata": {},
   "source": [
    "And we are done."
   ]
  }
 ],
 "metadata": {
  "kernelspec": {
   "display_name": "Python 3",
   "language": "python",
   "name": "python3"
  },
  "language_info": {
   "codemirror_mode": {
    "name": "ipython",
    "version": 3
   },
   "file_extension": ".py",
   "mimetype": "text/x-python",
   "name": "python",
   "nbconvert_exporter": "python",
   "pygments_lexer": "ipython3",
   "version": "3.7.6"
  }
 },
 "nbformat": 4,
 "nbformat_minor": 4
}
