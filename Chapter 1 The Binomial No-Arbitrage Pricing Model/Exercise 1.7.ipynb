{
 "cells": [
  {
   "cell_type": "markdown",
   "metadata": {},
   "source": [
    "# Problem"
   ]
  },
  {
   "cell_type": "markdown",
   "metadata": {},
   "source": [
    "(Hedging a long position-multiple periods). Consider a bank that has a long position in the lookback option of Example 1.2.4. The bank intends to hold this option until expiration and receive the payoff $V_3$. At time zero, the bank has caputal $V_0=1.376$ tied up in the option and wants to earn the interest rate of $25\\%$ on this capital until time three (i.e., without investing any more money, and regardless of how the coin tossing turns out, the bank wants to have\n",
    "\\begin{equation}\n",
    "\\left(\\frac{5}{4}\\right)^{3}\\times1.376=2.6875\n",
    "\\end{equation}\n",
    "at time three, after collecting the payoff from the lookback option at time three). Specify how the bank's trader should invest in the stock and the money market account to accomplish this."
   ]
  },
  {
   "cell_type": "markdown",
   "metadata": {},
   "source": [
    "# Answer"
   ]
  },
  {
   "cell_type": "markdown",
   "metadata": {},
   "source": [
    "Before we focus on the numbers specific to this problem, we first describe what the general strategy is.\n",
    "From Theorem 1.2.2 (Replication in the multiperiod binomial model), we know that if we choose\n",
    "\\begin{equation}\n",
    "\\Delta_0=\\frac{V_1(H)-V_1(T)}{S_1(H)-S_1(T)}\n",
    "\\end{equation}\n",
    "and $X_0=V_0$, then\n",
    "\\begin{align}\n",
    "\\underbrace{X_1}_{V_1}&=\\Delta_0S_1+(1+r)(\\underbrace{X_0}_{V_0}-\\Delta_0S_0)\\Rightarrow\\\\\n",
    "V_1&=\\Delta_0S_1+(1+r)(V_0-\\Delta_0S_0)\\Rightarrow\\\\\n",
    "-\\Delta_0S_1+(1+r)(\\Delta_0S_0)&=(1+r)V_0-V_1\n",
    "\\end{align}"
   ]
  },
  {
   "cell_type": "markdown",
   "metadata": {},
   "source": [
    "In other words, suppose you have a portfolio $Y_0$ that at time zero is worth $0$, i.e. $Y_0=0$.  If at time zero you take a position $-\\Delta_0$ in the stock and invest the proceeds $\\Delta_0S_0$ in the money market, at time one you will have a portfolio worth\n",
    "\\begin{equation}\n",
    "Y_1=-\\Delta_0S_1+(1+r)(\\Delta_0S_0)=(1+r)V_0-V_1.\n",
    "\\end{equation}"
   ]
  },
  {
   "cell_type": "markdown",
   "metadata": {},
   "source": [
    "The bank initially has a portfolio worth $V_0+0=V_0+Y_0$.  By investing the portion $Y_0$ of their portfolio at time zero as described above, the bank will at time one have a portfolio worth $V_1+Y_1=V_1+(1+r)V_0-V_1=(1+r)V_0$."
   ]
  },
  {
   "cell_type": "markdown",
   "metadata": {},
   "source": [
    "Now we go ahead and plug the numbers specific to the problem.\n",
    "\\begin{align}\n",
    "\\Delta_0&=\\frac{V_1(H)-V_1(T)}{S_1(H)-S_1(T)}\\\\\n",
    "&=\\frac{2.24-1.20}{8-2}\\\\\n",
    "&=0.173.\n",
    "\\end{align}"
   ]
  },
  {
   "cell_type": "markdown",
   "metadata": {},
   "source": [
    "In summary, the bank trader should sell 0.173 stock at time zero, and invest the proceeds in the money market."
   ]
  },
  {
   "cell_type": "markdown",
   "metadata": {},
   "source": [
    "For subsequent time steps, a similar analysis yields the stock and money market positions that the bank trader should take in order to hedge its long position in the derivative contract.$\\square$"
   ]
  },
  {
   "cell_type": "code",
   "execution_count": null,
   "metadata": {},
   "outputs": [],
   "source": []
  }
 ],
 "metadata": {
  "kernelspec": {
   "display_name": "Python 3",
   "language": "python",
   "name": "python3"
  },
  "language_info": {
   "codemirror_mode": {
    "name": "ipython",
    "version": 3
   },
   "file_extension": ".py",
   "mimetype": "text/x-python",
   "name": "python",
   "nbconvert_exporter": "python",
   "pygments_lexer": "ipython3",
   "version": "3.7.6"
  }
 },
 "nbformat": 4,
 "nbformat_minor": 4
}
