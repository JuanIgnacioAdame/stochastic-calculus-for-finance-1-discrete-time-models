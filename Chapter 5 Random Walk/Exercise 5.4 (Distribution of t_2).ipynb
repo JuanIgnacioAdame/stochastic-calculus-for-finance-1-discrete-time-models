{
 "cells": [
  {
   "cell_type": "markdown",
   "metadata": {},
   "source": [
    "### Problem"
   ]
  },
  {
   "cell_type": "markdown",
   "metadata": {},
   "source": [
    "Consider the symmetric random walk, and let $\\tau_2$ be the first time the random walk, starting from level $0$, reaches the level $2$.  According to Theorem 5.2.3,\n",
    "\\begin{equation}\n",
    "\\mathbb{E}\\alpha^{\\tau_2}=\\left(\\frac{1-\\sqrt{1-\\alpha^2}}{\\alpha}\\right)^2 \\quad \\text{for all } \\alpha\\in(0,1).\n",
    "\\end{equation}"
   ]
  },
  {
   "cell_type": "markdown",
   "metadata": {},
   "source": [
    "Using the power series (5.2.21), we may write the right-hand side as\n",
    "\\begin{align}\n",
    "\\left(\\frac{1-\\sqrt{1-\\alpha^2}}{\\alpha}\\right)^2&=\\frac{2}{\\alpha}\\frac{1-\\sqrt{1-\\alpha^2}}{\\alpha}-1\\\\\n",
    "&=-1+\\sum_{j=1}^{\\infty}\\left(\\frac{\\alpha}{2}\\right)^{2j-2}\\frac{(2j-2)!}{j!(j-1)!}\\\\\n",
    "&=\\sum_{j=2}^{\\infty}\\left(\\frac{\\alpha}{2}\\right)^{2j-2}\\frac{(2j-2)!}{j!(j-1)!}\\\\\n",
    "&=\\sum_{k=1}^{\\infty}\\left(\\frac{\\alpha}{2}\\right)^{2k}\\frac{(2k)!}{(k+1)!k!}.\n",
    "\\end{align}"
   ]
  },
  {
   "cell_type": "markdown",
   "metadata": {},
   "source": [
    "### Exercise 5.4.1"
   ]
  },
  {
   "cell_type": "markdown",
   "metadata": {},
   "source": [
    "Use the power series above to determine $\\mathbb{P}\\left\\{\\tau_2=2k\\right\\}$, $k=1,2,\\dots$."
   ]
  },
  {
   "cell_type": "markdown",
   "metadata": {},
   "source": [
    "### Solution 5.4.1"
   ]
  },
  {
   "cell_type": "markdown",
   "metadata": {},
   "source": [
    "First, note that $\\tau_2$ can only occur on an even number of steps.  To see this, let $N^{+}-N^{-}=2$, where $N^{+}+N^{-}=\\tau_2$, $N^{+}$ is the number of up steps the random walk took, and $N^{-}$ is the number of down steps the random walk took.  Plugging in $N^{+}=2+N^{-}$ into $N^{+}+N^{-}=\\tau_2$, we obtain $2+N^{-}+N^{-}=2(1+N^{-})=\\tau_2$, and hence $\\tau_2$ is even."
   ]
  },
  {
   "cell_type": "markdown",
   "metadata": {},
   "source": [
    "Because $\\tau_2$ is even, we may write\n",
    "\\begin{align}\n",
    "\\mathbb{E}\\alpha^{\\tau_2}&=\\sum_{j=1}^{\\infty}\\alpha^{2j}\\mathbb{P}\\left\\{\\tau_2=2k\\right\\}\\\\\n",
    "&=\\sum_{j=1}^{\\infty}\\left(\\frac{\\alpha}{2}\\right)^{2j}2^{2j}\\mathbb{P}\\left\\{\\tau_2=2k\\right\\}\\\\\n",
    "&=\\sum_{j=1}^{\\infty}\\left(\\frac{\\alpha}{2}\\right)^{2j}4^j\\mathbb{P}\\left\\{\\tau_2=2k\\right\\}.\n",
    "\\end{align}"
   ]
  },
  {
   "cell_type": "markdown",
   "metadata": {},
   "source": [
    "If we now equate this expression to the power series, we obtain\n",
    "\\begin{align}\n",
    "\\sum_{k=1}^{\\infty}\\left(\\frac{\\alpha}{2}\\right)^{2k}\\frac{(2k)!}{(k+1)!k!}=\\sum_{j=1}^{\\infty}\\left(\\frac{\\alpha}{2}\\right)^{2j}4^j\\mathbb{P}\\left\\{\\tau_2=2k\\right\\},\n",
    "\\end{align}\n",
    "and hence\n",
    "\\begin{align}\n",
    "4^j\\mathbb{P}\\left\\{\\tau_2=2k\\right\\}&=\\frac{(2k)!}{(k+1)!k!}\\Rightarrow\\\\\n",
    "\\mathbb{P}\\left\\{\\tau_2=2k\\right\\}&=4^{-j}\\frac{(2j)!}{(j+1)!j!}.\\square\n",
    "\\end{align}"
   ]
  },
  {
   "cell_type": "markdown",
   "metadata": {},
   "source": [
    "### Exercise 5.4.2"
   ]
  },
  {
   "cell_type": "markdown",
   "metadata": {},
   "source": [
    "Use the reflection principle to determine $\\mathbb{P}\\{\\tau_2=2k\\}$, $k=1,2,\\dots$."
   ]
  },
  {
   "cell_type": "markdown",
   "metadata": {},
   "source": [
    "### Solution 5.4.2"
   ]
  },
  {
   "cell_type": "markdown",
   "metadata": {},
   "source": [
    "First, recall that by definition of $\\tau_2$, we have\n",
    "\\begin{equation}\n",
    "\\mathbb{P}\\{\\tau_2=2k\\}=\\mathbb{P}\\{\\tau_2\\leq 2k\\}-\\mathbb{P}\\{\\tau_2\\leq 2(k-1)\\}\n",
    "\\end{equation}"
   ]
  },
  {
   "cell_type": "markdown",
   "metadata": {},
   "source": [
    "The main idea behind the proof will be obtain a nicer expression for the cumulative distribution function of $\\tau_2$, i.e., expressions of the form $\\mathbb{P}\\{\\tau_2\\leq 2k\\}$.  Using the reflection principle, we will be able to write $\\mathbb{P}\\{\\tau_2\\leq 2k\\}$ as some function of probabilities of $M_{2k}$, and this is easier to work with than probabilities for $\\tau_{2k}$."
   ]
  },
  {
   "cell_type": "markdown",
   "metadata": {},
   "source": [
    "We now begin the proof.  Note that to count the paths that have reached level $2$ by time $\\tau_2\\leq 2k$, we can count (i) the paths that exceed $2$ at time $2k$, (ii) the paths that are at $2$ at time  $2k$, and (iii) the number of reflected paths that are above $2k$.  Note that the paths in (iii) are in one-to-one correspondence with the paths that reached $2$ at some time before $2k$, and ended up below $2$ at time $2k$."
   ]
  },
  {
   "cell_type": "markdown",
   "metadata": {},
   "source": [
    "Next, note that there are as many reflected paths that exceed $2$ at time $2k$ as are are original paths that exceed $2$ at time $2k$.  Thus, to count the number of paths that reach level $2$ by time $2k$, we can count the paths that are at $2$ at time $2k$, and then add *twice* the number of paths that exceed $2$ at time $2k$.  In short, we have\n",
    "\\begin{equation}\n",
    "\\mathbb{P}\\{\\tau_2\\leq 2k\\}=\\mathbb{P}\\{M_{2k}=2\\}+2\\mathbb{P}\\{M_{2k}>2\\}.\n",
    "\\end{equation}"
   ]
  },
  {
   "cell_type": "markdown",
   "metadata": {},
   "source": [
    "But when $p=q$, we have that\n",
    "\\begin{equation}\n",
    "\\mathbb{P}\\{M_{2k}>2\\}=\\mathbb{P}\\{M_{2k}<-2\\},\n",
    "\\end{equation}\n",
    "and hence\n",
    "\\begin{align}\n",
    "\\mathbb{P}\\{\\tau_2\\leq 2k\\}&=\\mathbb{P}\\{M_{2k}=2\\}+\\mathbb{P}\\{M_{2k}>2\\}+\\mathbb{P}\\{M_{2k}<-2\\}\\\\\n",
    "&=1-\\mathbb{P}\\{M_{2k}=-2\\}-\\mathbb{P}\\{M_{2k}=0\\}.\n",
    "\\end{align}"
   ]
  },
  {
   "cell_type": "markdown",
   "metadata": {},
   "source": [
    "In order for $M_{2k}=-2$, we need to have $k-1$ heads and $k+1$ tails.  There are\n",
    "\\begin{equation}\n",
    "{2k\\choose k-1}=\\frac{(2k)!}{(k-1)!(k+1)!}\n",
    "\\end{equation}\n",
    "paths that have this property, and each one has probability $\\left(\\frac{1}{2}\\right)^{2k}$.  Hence,\n",
    "\\begin{equation}\n",
    "\\mathbb{P}\\{M_{2k}=-2\\}=\\left(\\frac{1}{2}\\right)^{2k}\\frac{(2k)!}{(k-1)!(k+1)!}.\n",
    "\\end{equation}"
   ]
  },
  {
   "cell_type": "markdown",
   "metadata": {},
   "source": [
    "Similarly,\n",
    "\\begin{equation}\n",
    "\\mathbb{P}\\{M_{2k}=0\\}=\\left(\\frac{1}{2}\\right)^{2k}\\frac{(2k)!}{k!k!}\n",
    "\\end{equation}"
   ]
  },
  {
   "cell_type": "markdown",
   "metadata": {},
   "source": [
    "By definition of $\\tau_2$, we have\n",
    "\\begin{equation}\n",
    "\\mathbb{P}\\{\\tau_2=2k\\}=\\mathbb{P}\\{\\tau_2\\leq 2k\\}-\\mathbb{P}\\{\\tau_2\\leq 2(k-1)\\},\n",
    "\\end{equation}\n",
    "and from our calculations above, this is equal to\n",
    "\\begin{align}\n",
    "\\mathbb{P}\\{\\tau_2=2k\\}&=(1-\\mathbb{P}\\{M_{2k}=-2\\}-\\mathbb{P}\\{M_{2k}=0\\})\\\\\n",
    "&-(1-\\mathbb{P}\\{M_{2(k-1)}=-2\\}-\\mathbb{P}\\{M_{2(k-1)}=0\\})\\\\\n",
    "&=\\mathbb{P}\\{M_{2(k-1)}=-2\\}+\\mathbb{P}\\{M_{2(k-1)}=0\\}-\\mathbb{P}\\{M_{2k}=-2\\}-\\mathbb{P}\\{M_{2k}=0\\}\\\\\n",
    "&=\\left(\\frac{1}{2}\\right)^{2(k-1)}\\left(\\frac{[2(k-1)]!}{k!(k-2)!}+\\frac{[2(k-1)]!}{(k-1)!(k-1)!}\\right)\\\\\n",
    "&-\\left(\\frac{1}{2}\\right)^{2k}\\left(\\frac{(2k)!}{(k-1)!(k+1)!}+\\frac{(2k)!}{k!k!}\\right)\\\\\n",
    "&=\\frac{(2k)!}{4^k(k+1)!k!}.\\square\n",
    "\\end{align}"
   ]
  },
  {
   "cell_type": "markdown",
   "metadata": {},
   "source": [
    "### Code"
   ]
  },
  {
   "cell_type": "code",
   "execution_count": 14,
   "metadata": {},
   "outputs": [],
   "source": [
    "import random\n",
    "from math import factorial"
   ]
  },
  {
   "cell_type": "code",
   "execution_count": 19,
   "metadata": {},
   "outputs": [],
   "source": [
    "# number of experiments\n",
    "num_exp = int(1e05)\n",
    "# maximum coin tosses for each experiment\n",
    "max_t = int(1e02)\n",
    "# we store the results here\n",
    "results = {2*i: 0 for i in range(1,max_t+1)}\n",
    "for exp in range(num_exp):\n",
    "    # random walk\n",
    "    M = 0\n",
    "    # number of tosses\n",
    "    t = 0\n",
    "    while M!=2 and t<max_t:\n",
    "        M+=random.choice([-1,1])\n",
    "        t+=1\n",
    "    if M==2:\n",
    "        results[t]+=1\n",
    "# get rid of key,values where value=0\n",
    "results = {key:value for key,value in results.items() if value!=0}"
   ]
  },
  {
   "cell_type": "code",
   "execution_count": 20,
   "metadata": {},
   "outputs": [
    {
     "name": "stdout",
     "output_type": "stream",
     "text": [
      "Empirical P(t_2=2)=0.24933\n",
      "Theoretical P(t_2=2)=0.25\n",
      "\n",
      "\n",
      "Empirical P(t_2=4)=0.12513\n",
      "Theoretical P(t_2=4)=0.125\n",
      "\n",
      "\n",
      "Empirical P(t_2=6)=0.07818\n",
      "Theoretical P(t_2=6)=0.078125\n",
      "\n",
      "\n",
      "Empirical P(t_2=8)=0.05388\n",
      "Theoretical P(t_2=8)=0.0546875\n",
      "\n",
      "\n",
      "Empirical P(t_2=10)=0.04123\n",
      "Theoretical P(t_2=10)=0.041015625\n",
      "\n",
      "\n",
      "Empirical P(t_2=12)=0.03225\n",
      "Theoretical P(t_2=12)=0.0322265625\n",
      "\n",
      "\n",
      "Empirical P(t_2=14)=0.0258\n",
      "Theoretical P(t_2=14)=0.02618408203125\n",
      "\n",
      "\n",
      "Empirical P(t_2=16)=0.02186\n",
      "Theoretical P(t_2=16)=0.021820068359375\n",
      "\n",
      "\n",
      "Empirical P(t_2=18)=0.01812\n",
      "Theoretical P(t_2=18)=0.01854705810546875\n",
      "\n",
      "\n",
      "Empirical P(t_2=20)=0.01655\n",
      "Theoretical P(t_2=20)=0.016017913818359375\n",
      "\n",
      "\n",
      "Empirical P(t_2=22)=0.0143\n",
      "Theoretical P(t_2=22)=0.014015674591064453\n",
      "\n",
      "\n",
      "Empirical P(t_2=24)=0.01286\n",
      "Theoretical P(t_2=24)=0.012398481369018555\n",
      "\n",
      "\n",
      "Empirical P(t_2=26)=0.01126\n",
      "Theoretical P(t_2=26)=0.011070072650909424\n",
      "\n",
      "\n",
      "Empirical P(t_2=28)=0.01017\n",
      "Theoretical P(t_2=28)=0.009963065385818481\n",
      "\n",
      "\n",
      "Empirical P(t_2=30)=0.00908\n",
      "Theoretical P(t_2=30)=0.009029028005897999\n",
      "\n",
      "\n",
      "Empirical P(t_2=32)=0.0086\n",
      "Theoretical P(t_2=32)=0.008232349064201117\n",
      "\n",
      "\n",
      "Empirical P(t_2=34)=0.0071\n",
      "Theoretical P(t_2=34)=0.007546319975517691\n",
      "\n",
      "\n",
      "Empirical P(t_2=36)=0.00674\n",
      "Theoretical P(t_2=36)=0.006950557872187347\n",
      "\n",
      "\n",
      "Empirical P(t_2=38)=0.00628\n",
      "Theoretical P(t_2=38)=0.006429266031773295\n",
      "\n",
      "\n",
      "Empirical P(t_2=40)=0.00658\n",
      "Theoretical P(t_2=40)=0.005970032743789488\n",
      "\n",
      "\n",
      "Empirical P(t_2=42)=0.00511\n",
      "Theoretical P(t_2=42)=0.005562985056712932\n",
      "\n",
      "\n",
      "Empirical P(t_2=44)=0.00551\n",
      "Theoretical P(t_2=44)=0.0052001816834490455\n",
      "\n",
      "\n",
      "Empirical P(t_2=46)=0.00454\n",
      "Theoretical P(t_2=46)=0.00487517032823348\n",
      "\n",
      "\n",
      "Empirical P(t_2=48)=0.00452\n",
      "Theoretical P(t_2=48)=0.004582660108539472\n",
      "\n",
      "\n",
      "Empirical P(t_2=50)=0.00416\n",
      "Theoretical P(t_2=50)=0.004318275871508347\n",
      "\n",
      "\n",
      "Empirical P(t_2=52)=0.00411\n",
      "Theoretical P(t_2=52)=0.004078371656424551\n",
      "\n",
      "\n",
      "Empirical P(t_2=54)=0.00396\n",
      "Theoretical P(t_2=54)=0.0038598874605446643\n",
      "\n",
      "\n",
      "Empirical P(t_2=56)=0.00406\n",
      "Theoretical P(t_2=56)=0.003660238109137182\n",
      "\n",
      "\n",
      "Empirical P(t_2=58)=0.00334\n",
      "Theoretical P(t_2=58)=0.0034772262036803225\n",
      "\n",
      "\n",
      "Empirical P(t_2=60)=0.00358\n",
      "Theoretical P(t_2=60)=0.003308973322857081\n",
      "\n",
      "\n",
      "Empirical P(t_2=62)=0.00324\n",
      "Theoretical P(t_2=62)=0.003153865198348156\n",
      "\n",
      "\n",
      "Empirical P(t_2=64)=0.00297\n",
      "Theoretical P(t_2=64)=0.0030105076893323307\n",
      "\n",
      "\n",
      "Empirical P(t_2=66)=0.00297\n",
      "Theoretical P(t_2=66)=0.002877691173626492\n",
      "\n",
      "\n",
      "Empirical P(t_2=68)=0.00263\n",
      "Theoretical P(t_2=68)=0.002754361551899642\n",
      "\n",
      "\n",
      "Empirical P(t_2=70)=0.00256\n",
      "Theoretical P(t_2=70)=0.002639596487237157\n",
      "\n",
      "\n",
      "Empirical P(t_2=72)=0.00261\n",
      "Theoretical P(t_2=72)=0.0025325858188356507\n",
      "\n",
      "\n",
      "Empirical P(t_2=74)=0.00261\n",
      "Theoretical P(t_2=74)=0.002432615325986875\n",
      "\n",
      "\n",
      "Empirical P(t_2=76)=0.00242\n",
      "Theoretical P(t_2=76)=0.002339053198064303\n",
      "\n",
      "\n",
      "Empirical P(t_2=78)=0.00212\n",
      "Theoretical P(t_2=78)=0.002251338703136892\n",
      "\n",
      "\n",
      "Empirical P(t_2=80)=0.00224\n",
      "Theoretical P(t_2=80)=0.0021689726530221276\n",
      "\n",
      "\n",
      "Empirical P(t_2=82)=0.00204\n",
      "Theoretical P(t_2=82)=0.002091509343985623\n",
      "\n",
      "\n",
      "Empirical P(t_2=84)=0.00185\n",
      "Theoretical P(t_2=84)=0.0020185497157070545\n",
      "\n",
      "\n",
      "Empirical P(t_2=86)=0.00202\n",
      "Theoretical P(t_2=86)=0.001949735520853405\n",
      "\n",
      "\n",
      "Empirical P(t_2=88)=0.0018\n",
      "Theoretical P(t_2=88)=0.0018847443368249584\n",
      "\n",
      "\n",
      "Empirical P(t_2=90)=0.00187\n",
      "Theoretical P(t_2=90)=0.0018232852823632747\n",
      "\n",
      "\n",
      "Empirical P(t_2=92)=0.00181\n",
      "Theoretical P(t_2=92)=0.0017650953265431703\n",
      "\n",
      "\n",
      "Empirical P(t_2=94)=0.00155\n",
      "Theoretical P(t_2=94)=0.001709936097588696\n",
      "\n",
      "\n",
      "Empirical P(t_2=96)=0.00159\n",
      "Theoretical P(t_2=96)=0.0016575911150094505\n",
      "\n",
      "\n",
      "Empirical P(t_2=98)=0.00167\n",
      "Theoretical P(t_2=98)=0.0016078633815591672\n",
      "\n",
      "\n",
      "Empirical P(t_2=100)=0.0016\n",
      "Theoretical P(t_2=100)=0.0015605732821015446\n",
      "\n",
      "\n"
     ]
    }
   ],
   "source": [
    "for key,value in results.items():\n",
    "    p_emp = value/num_exp\n",
    "    print(\"Empirical P(t_2={0})={1}\".format(key, p_emp))\n",
    "    k = key/2\n",
    "    p_th = factorial(2*k)/(4**k*factorial(k+1)*factorial(k))\n",
    "    print(\"Theoretical P(t_2={0})={1}\".format(key, p_th))\n",
    "    print(\"\\n\")"
   ]
  },
  {
   "cell_type": "code",
   "execution_count": null,
   "metadata": {},
   "outputs": [],
   "source": []
  }
 ],
 "metadata": {
  "kernelspec": {
   "display_name": "Python 3",
   "language": "python",
   "name": "python3"
  },
  "language_info": {
   "codemirror_mode": {
    "name": "ipython",
    "version": 3
   },
   "file_extension": ".py",
   "mimetype": "text/x-python",
   "name": "python",
   "nbconvert_exporter": "python",
   "pygments_lexer": "ipython3",
   "version": "3.7.6"
  }
 },
 "nbformat": 4,
 "nbformat_minor": 4
}
