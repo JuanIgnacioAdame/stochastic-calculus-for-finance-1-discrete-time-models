{
 "cells": [
  {
   "cell_type": "markdown",
   "metadata": {},
   "source": [
    "Modify Exercise 5.2 by assuming $0<p<\\frac{1}{2}$ so that $\\frac{1}{2}<q<1$."
   ]
  },
  {
   "cell_type": "markdown",
   "metadata": {},
   "source": [
    "### Exercise 5.3.1"
   ]
  },
  {
   "cell_type": "markdown",
   "metadata": {},
   "source": [
    "(i) Find a positive number $\\sigma_0$ such that the function $f(\\sigma)=pe^\\sigma+qe^{-\\sigma}$ satisfies $f(\\sigma_0)=1$ and $f(\\sigma)>1$ for all $\\sigma>\\sigma_0$."
   ]
  },
  {
   "cell_type": "markdown",
   "metadata": {},
   "source": [
    "This can be shown with a straightforward calculation.\n",
    "\\begin{align}\n",
    "pe^{\\sigma}+qe^{-\\sigma}\\stackrel{!}{=}1\\iff \\\\\n",
    "pe^{\\sigma}+qe^{-\\sigma}-1\\stackrel{!}{=}0\\iff \\\\\n",
    "q(e^{-\\sigma})^2-e^{-\\sigma}+p\\stackrel{!}{=}0.\n",
    "\\end{align}"
   ]
  },
  {
   "cell_type": "markdown",
   "metadata": {},
   "source": [
    "This is a quadratic equation in $e^{-\\sigma}$, so we know\n",
    "\\begin{equation}\n",
    "e^{-\\sigma}=\\frac{1\\pm\\sqrt{1-4qp}}{2q}.\n",
    "\\end{equation}"
   ]
  },
  {
   "cell_type": "markdown",
   "metadata": {},
   "source": [
    "Tedious algebra shows that if we take the positive root, this yields $\\sigma=0$.  We do not want this value because for sufficiently small $\\epsilon>0=\\sigma$, we have $f(\\epsilon)<1$.  Hence, we know that\n",
    "\\begin{align}\n",
    "e^{-\\sigma_0}=\\frac{1-\\sqrt{1-4qp}}{2q}\\Rightarrow\\\\\n",
    "-\\sigma_0=\\log\\left(\\frac{1-\\sqrt{1-4qp}}{2q}\\right)\\Rightarrow\\\\\n",
    "\\sigma_0=-\\log\\left(\\frac{1-\\sqrt{1-4qp}}{2q}\\right).\n",
    "\\end{align}"
   ]
  },
  {
   "cell_type": "markdown",
   "metadata": {},
   "source": [
    "Further tedious algebra shows that the above expression can be simplified further to\n",
    "\\begin{equation}\n",
    "\\sigma_0=\\log\\frac{q}{p}=\\log q-\\log p.\\square\n",
    "\\end{equation}"
   ]
  },
  {
   "cell_type": "markdown",
   "metadata": {},
   "source": [
    "### Exercise 5.3.2"
   ]
  },
  {
   "cell_type": "markdown",
   "metadata": {},
   "source": [
    "(ii) Determine $\\mathbb{P}\\{\\tau_1<\\infty\\}$. (This quantity is no longer equal to 1.)"
   ]
  },
  {
   "cell_type": "markdown",
   "metadata": {},
   "source": [
    "Recall from Exercise 5.2.2 that for all $\\sigma>0$, and hence for all $\\sigma>\\sigma_0$, the process\n",
    "\\begin{equation}\n",
    "S_n=e^{\\sigma M_n}\\left(\\frac{1}{f(\\sigma)}\\right)^n\n",
    "\\end{equation}\n",
    "is a martingale."
   ]
  },
  {
   "cell_type": "markdown",
   "metadata": {},
   "source": [
    "Because $S_n$ is a martingale, the stopped process $S_{n\\land\\tau_1}$ is also a martingale and hence has constant expectation, i.e.,\n",
    "\\begin{equation}\n",
    "1=S_0=\\mathbb{E}S_{n\\land\\tau_1}=\\mathbb{E}\\left[e^{\\sigma M_{n\\land\\tau_1}}\\left(\\frac{1}{f(\\sigma)}\\right)^{n\\land\\tau_1}\\right]\\quad\\text{for all }n\\geq0.\n",
    "\\end{equation}"
   ]
  },
  {
   "cell_type": "markdown",
   "metadata": {},
   "source": [
    "Now we would like to let $n\\rightarrow\\infty$.  In order to do that, we must determine the lmit as $n\\rightarrow\\infty$ of $e^{\\sigma M_{n\\land\\tau_1}}\\left(\\frac{1}{f(\\sigma)}\\right)^{n\\land\\tau_1}$.  We treat the two factors separately.  Note that the factor $e^{\\sigma M_{n\\land\\tau_1}}$ was already analyzed in the proof of Theorem 5.2.2, so we will just use those results directly."
   ]
  },
  {
   "cell_type": "markdown",
   "metadata": {},
   "source": [
    "For the other factor, recall that $f(\\sigma)>1$ for all $\\sigma>\\sigma_0$, so\n",
    "\\begin{equation}\n",
    "0<\\frac{1}{f(\\sigma)}<1 \\quad \\text{for all }\\sigma>\\sigma_0.\n",
    "\\end{equation}\n",
    "Hence, for fixed $\\sigma>\\sigma_0$, we can use that bound to conclude\n",
    "\\begin{align}\n",
    "\\lim_{n\\rightarrow\\infty}\\left(\\frac{1}{f(\\sigma)}\\right)^{n\\land\\tau_1}&=\\left(\\frac{1}{f(\\sigma)}\\right)^{\\tau_1} \\quad \\text{if } \\tau_1<\\infty,\\\\\n",
    "&=0 \\quad \\text{if } \\tau_1=\\infty.\n",
    "\\end{align}"
   ]
  },
  {
   "cell_type": "markdown",
   "metadata": {},
   "source": [
    "This result can be written more compactly as\n",
    "\\begin{equation}\n",
    "\\lim_{n\\rightarrow\\infty}\\left(\\frac{1}{f(\\sigma)}\\right)^{n\\land\\tau_1}=\\mathbb{I}_{\\{\\tau_1<\\infty\\}}\\left(\\frac{1}{f(\\sigma)}\\right)^{\\tau_1}.\n",
    "\\end{equation}"
   ]
  },
  {
   "cell_type": "markdown",
   "metadata": {},
   "source": [
    "Using the analysis from the textbook for the factor $e^{\\sigma M_{n\\land\\tau_1}}$, we have\n",
    "\\begin{align}\n",
    "\\lim_{n\\rightarrow\\infty}e^{\\sigma M_{n\\land\\tau_1}}\\left(\\frac{1}{f(\\sigma)}\\right)^{n\\land\\tau_1}&=e^{\\sigma}\\left(\\frac{1}{f(\\sigma)}\\right)^{\\tau_1} \\quad \\text{if } \\tau_1<\\infty,\\\\\n",
    "&=0 \\quad \\text{if } \\tau_1=\\infty.\n",
    "\\end{align}"
   ]
  },
  {
   "cell_type": "markdown",
   "metadata": {},
   "source": [
    "This result can be rewritten more compactly as\n",
    "\\begin{equation}\n",
    "\\lim_{n\\rightarrow\\infty}e^{\\sigma M_{n\\land\\tau_1}}\\left(\\frac{1}{f(\\sigma)}\\right)^{n\\land\\tau_1}=\\mathbb{I}_{\\{\\tau_1<\\infty\\}}e^{\\sigma}\\left(\\frac{1}{f(\\sigma)}\\right)^{\\tau_1}.\n",
    "\\end{equation}"
   ]
  },
  {
   "cell_type": "markdown",
   "metadata": {},
   "source": [
    "In short, we have proven that\n",
    "\\begin{align}\n",
    "\\lim_{n\\rightarrow\\infty}1&=\\lim_{n\\rightarrow\\infty}\\mathbb{E}\\left[e^{\\sigma M_{n\\land\\tau_1}}\\left(\\frac{1}{f(\\sigma)}\\right)^{n\\land\\tau_1}\\right]\\\\\n",
    "&=\\mathbb{E}\\left[\\lim_{n\\rightarrow\\infty}e^{\\sigma M_{n\\land\\tau_1}}\\left(\\frac{1}{f(\\sigma)}\\right)^{n\\land\\tau_1}\\right]\\\\\n",
    "&=\\mathbb{E}\\left[\\mathbb{I}_{\\{\\tau_1<\\infty\\}}e^{\\sigma}\\left(\\frac{1}{f(\\sigma)}\\right)^{\\tau_1}\\right].\n",
    "\\end{align}"
   ]
  },
  {
   "cell_type": "markdown",
   "metadata": {},
   "source": [
    "Multiplying both sides by $e^{-\\sigma}$, we obtain the result\n",
    "\\begin{equation}\n",
    "e^{-\\sigma}=\\mathbb{E}\\left[\\mathbb{I}_{\\{\\tau_1<\\infty\\}}\\left(\\frac{1}{f(\\sigma)}\\right)^{\\tau_1}\\right].\n",
    "\\end{equation}"
   ]
  },
  {
   "cell_type": "markdown",
   "metadata": {},
   "source": [
    "Taking the limit as $\\sigma\\downarrow\\sigma_0$, we may also conclude\n",
    "\\begin{align}\n",
    "\\lim_{\\sigma\\downarrow\\sigma_0}e^{-\\sigma}=e^{-\\sigma_0}&=\\lim_{\\sigma\\downarrow\\sigma_0}\\mathbb{E}\\left[\\mathbb{I}_{\\{\\tau_1<\\infty\\}}\\left(\\frac{1}{f(\\sigma)}\\right)^{\\tau_1}\\right]\\\\\n",
    "&=\\mathbb{E}\\left[\\lim_{\\sigma\\downarrow\\sigma_0}\\mathbb{I}_{\\{\\tau_1<\\infty\\}}\\left(\\frac{1}{f(\\sigma)}\\right)^{\\tau_1}\\right]\\\\\n",
    "&=\\mathbb{E}\\left[\\mathbb{I}_{\\{\\tau_1<\\infty\\}}\\left(\\frac{1}{\\underbrace{f(\\sigma_0)}_{=1}}\\right)^{\\tau_1}\\right]\\\\\n",
    "&=\\mathbb{E}\\left[\\mathbb{I}_{\\{\\tau_1<\\infty\\}}\\right]=\\mathbb{P}\\{\\tau_1<\\infty\\}.\n",
    "\\end{align}"
   ]
  },
  {
   "cell_type": "markdown",
   "metadata": {},
   "source": [
    "From the previous exercise,\n",
    "\\begin{equation}\n",
    "e^{-\\sigma_0}=e^{-\\log\\frac{q}{p}}=e^{\\log\\frac{p}{q}}=\\frac{p}{q},\n",
    "\\end{equation}\n",
    "and thus we obtain our final result\n",
    "\\begin{equation}\n",
    "\\mathbb{P}\\{\\tau_1<\\infty\\}=\\frac{p}{q}<1.\\square\n",
    "\\end{equation}"
   ]
  },
  {
   "cell_type": "markdown",
   "metadata": {},
   "source": [
    "*Remark*: The justification for being able to exchange limits in the places where we exchanged them is the Dominated Convergence Theorem."
   ]
  },
  {
   "cell_type": "markdown",
   "metadata": {},
   "source": [
    "### Exercise 5.3.3"
   ]
  },
  {
   "cell_type": "markdown",
   "metadata": {},
   "source": [
    "(iii) Compute $\\mathbb{E}\\alpha^{\\tau_1}$ for $\\alpha\\in(0,1)$."
   ]
  },
  {
   "cell_type": "markdown",
   "metadata": {},
   "source": [
    "We follow the strategy used in the proof of Theorem 5.2.3."
   ]
  },
  {
   "cell_type": "markdown",
   "metadata": {},
   "source": [
    "Our goal is to find a $\\sigma>\\sigma_0$ such that\n",
    "\\begin{equation}\n",
    "\\alpha=\\frac{1}{f(\\sigma)}.\n",
    "\\end{equation}"
   ]
  },
  {
   "cell_type": "markdown",
   "metadata": {},
   "source": [
    "This is equivalent to\n",
    "\\begin{align}\n",
    "\\alpha f(\\sigma)-1=0\\Rightarrow\\\\\n",
    "\\alpha pe^{\\sigma}+\\alpha qe^{-\\sigma}-1=0\\Rightarrow\\\\\n",
    "\\alpha q(e^{-\\sigma})^2-e^{-\\sigma}+\\alpha p=0.\n",
    "\\end{align}"
   ]
  },
  {
   "cell_type": "markdown",
   "metadata": {},
   "source": [
    "This is a quadratic function in $e^{-\\sigma}$, and hence\n",
    "\\begin{equation}\n",
    "e^{-\\sigma}=\\frac{1\\pm\\sqrt{1-4\\alpha^2pq}}{2\\alpha q}.\n",
    "\\end{equation}\n",
    "Tedious algebra shows that the above equation can be satisfied for $\\sigma>\\sigma_0$ only if we take the negative root, i.e.\n",
    "\\begin{equation}\n",
    "e^{-\\sigma}=\\frac{1-\\sqrt{1-4\\alpha^2pq}}{2\\alpha q}.\n",
    "\\end{equation}"
   ]
  },
  {
   "cell_type": "markdown",
   "metadata": {},
   "source": [
    "\\begin{equation}\n",
    "\\frac{1-\\sqrt{1-4\\alpha^2pq}}{2\\alpha q}=\\mathbb{E}\\left[\\mathbb{I}_{\\{\\tau_1<\\infty\\}}\\alpha^{\\tau_1}\\right].\n",
    "\\end{equation}"
   ]
  },
  {
   "cell_type": "markdown",
   "metadata": {},
   "source": [
    "Note that\n",
    "\\begin{equation}\n",
    "\\mathbb{E}\\left[\\alpha^{\\tau_1}\\right]=\\mathbb{E}\\left[\\mathbb{I}_{\\{\\tau_1<\\infty\\}}\\alpha^{\\tau_1}+\\underbrace{\\mathbb{I}_{\\{\\tau_1=\\infty\\}}\\alpha^{\\tau_1}}_{=0}\\right]=\\mathbb{E}\\left[\\mathbb{I}_{\\{\\tau_1<\\infty\\}}\\alpha^{\\tau_1}\\right],\n",
    "\\end{equation}\n",
    "so the above equation can be written as\n",
    "\\begin{equation}\n",
    "\\mathbb{E}\\left[\\alpha^{\\tau_1}\\right]=\\frac{1-\\sqrt{1-4\\alpha^2pq}}{2\\alpha q}.\\square\n",
    "\\end{equation}"
   ]
  },
  {
   "cell_type": "markdown",
   "metadata": {},
   "source": [
    "### Exercise 5.3.4"
   ]
  },
  {
   "cell_type": "markdown",
   "metadata": {},
   "source": [
    "(iv) Compute $\\mathbb{E}\\mathbb{1}_{\\tau_1<\\infty}\\tau_1$. (Since $\\mathbb{P}\\{\\tau_1=\\infty\\}>0$, we have $\\mathbb{E}\\tau_1=\\infty$.)"
   ]
  },
  {
   "cell_type": "markdown",
   "metadata": {},
   "source": [
    "We follow the strategy used in the proof of Corollary 5.2.4."
   ]
  },
  {
   "cell_type": "markdown",
   "metadata": {},
   "source": [
    "If we differentiate the expression above with respect to $\\alpha$, we obtain\n",
    "\\begin{align}\n",
    "\\mathbb{E}[\\tau_1\\alpha^{\\tau_1-1}]&=\\frac{\\partial}{\\partial\\alpha}\\mathbb{E}\\alpha^{\\tau_1}\\\\\n",
    "&=\\frac{\\partial}{\\partial\\alpha}\\left(\\frac{1-\\sqrt{1-4\\alpha^2pq}}{2\\alpha q}\\right)\\\\\n",
    "&=-\\frac{1-\\sqrt{1-4\\alpha^2 pq}}{2\\alpha q^2}-\\frac{4\\alpha^2q-4\\alpha^2p}{4\\alpha q\\sqrt{1-4\\alpha^2pq}}.\n",
    "\\end{align}"
   ]
  },
  {
   "cell_type": "markdown",
   "metadata": {},
   "source": [
    "We may not plug in $\\alpha=1$, but we may take the limit as $\\alpha\\uparrow1$, in which case we get\n",
    "\\begin{align}\n",
    "\\lim_{\\alpha\\uparrow 1}&-\\frac{1-\\sqrt{1-4\\alpha^2 pq}}{2\\alpha q^2}-\\frac{4\\alpha^2q-4\\alpha^2p}{4\\alpha q\\sqrt{1-4\\alpha^2pq}}\\\\\n",
    "&=\\frac{\\frac{1}{|1-2q|}-1}{2q}.\n",
    "\\end{align}"
   ]
  },
  {
   "cell_type": "markdown",
   "metadata": {},
   "source": [
    "Because $q>\\frac{1}{2}$, $|1-2q|=2q-1$, so the above expression reduces to\n",
    "\\begin{align}\n",
    "\\frac{\\frac{1}{2q-1}-1}{2q}=\\frac{p}{q}\\frac{1}{q-p}.\n",
    "\\end{align}"
   ]
  },
  {
   "cell_type": "markdown",
   "metadata": {},
   "source": [
    "In short, we get\n",
    "\\begin{align}\n",
    "\\lim_{\\alpha\\uparrow 1}\\mathbb{E}[\\tau_1\\alpha^{\\tau_1-1}]&=\\lim_{\\alpha\\uparrow 1}-\\frac{1-\\sqrt{1-4\\alpha^2 pq}}{2\\alpha q^2}-\\frac{4\\alpha^2q-4\\alpha^2p}{4\\alpha q\\sqrt{1-4\\alpha^2pq}}\\Rightarrow\\\\\n",
    "\\mathbb{E}\\left[\\lim_{\\alpha\\uparrow 1}\\tau_1\\alpha^{\\tau_1-1}\\right]&=\\frac{p}{q}\\frac{1}{q-p}\\Rightarrow\\\\\n",
    "\\mathbb{E}\\tau_1&=\\frac{p}{q}\\frac{1}{q-p}. \\square\n",
    "\\end{align}"
   ]
  },
  {
   "cell_type": "markdown",
   "metadata": {},
   "source": [
    "*Remark*: The justification for being able to exchange limits in the places where we exchanged them is the Dominated Convergence Theorem."
   ]
  },
  {
   "cell_type": "markdown",
   "metadata": {},
   "source": [
    "### Code"
   ]
  },
  {
   "cell_type": "markdown",
   "metadata": {},
   "source": [
    "Here are some tips for making the code below work as you would expected."
   ]
  },
  {
   "cell_type": "markdown",
   "metadata": {},
   "source": [
    "When $q$ is close to $\\frac{1}{2}$, you need to increase the `max_tosses` parameter.  Intuitively, this is because large-but-finite first passage times will occur more frequently."
   ]
  },
  {
   "cell_type": "markdown",
   "metadata": {},
   "source": [
    "When $q$ is very large, large-but-finite first passage times will be very rare, so you can get away with very small passage time."
   ]
  },
  {
   "cell_type": "markdown",
   "metadata": {},
   "source": [
    "For example, for $q=0.55$, setting `max_tosses=1e03` and `num_experiments=int(1e05)` is good enough to get a pretty good estimate."
   ]
  },
  {
   "cell_type": "markdown",
   "metadata": {},
   "source": [
    "For example, for $q=0.7$, setting `max_tosses=1e02` and `num_experiments=int(1e04)` is good enough to get a pretty good estimate."
   ]
  },
  {
   "cell_type": "markdown",
   "metadata": {},
   "source": [
    "For example, for $q=0.9$, setting `max_tosses=1e01` and `num_experiments=int(1e04)` is good enough to get a pretty good estimate."
   ]
  },
  {
   "cell_type": "code",
   "execution_count": 172,
   "metadata": {},
   "outputs": [],
   "source": [
    "import numpy as np\n",
    "import random\n",
    "from collections import defaultdict"
   ]
  },
  {
   "cell_type": "code",
   "execution_count": 168,
   "metadata": {},
   "outputs": [
    {
     "name": "stdout",
     "output_type": "stream",
     "text": [
      "Empirical P(t_1=infinity) = 0.18202\n",
      "Theoretical P(t_1=infinity) = 0.18181818181818188\n",
      "\n",
      "\n",
      "Empirical E(t_1|t_1<infinity) = 8.07412000000001\n",
      "Theoretical E(t_1|t_1<infinity) = 8.181818181818178\n"
     ]
    }
   ],
   "source": [
    "# choose probabilities\n",
    "# choose q>1/2\n",
    "q = 0.55\n",
    "p = 0.45\n",
    "# choose alpha in (0,1)\n",
    "a = 0.9\n",
    "# NOTE: Accurate estimation requires A LOT of experiments,\n",
    "# as well as a large max_tosses\n",
    "# number of experiments\n",
    "num_experiments = int(1e05)\n",
    "# store results\n",
    "allResults = []\n",
    "finiteResults = defaultdict(int)\n",
    "infiniteResults = []\n",
    "# max number of tosses before we stop simulating random walk\n",
    "max_tosses = int(1e03)\n",
    "for experiment in range(num_experiments):\n",
    "    M = 0\n",
    "    t = 0\n",
    "    # throw coins until we reach level 1, or we reach max_tosses limit\n",
    "    while M<1 and t<max_tosses:\n",
    "        t +=1\n",
    "        M += np.random.choice([-1,1], replace=True, p=[q,p])\n",
    "    allResults.append(int(t!=max_tosses)*t + int(t==max_tosses)*max_tosses)\n",
    "    if t!=max_tosses:\n",
    "        finiteResults[t]+=1\n",
    "    elif t==max_tosses:\n",
    "        infiniteResults.append(t)\n",
    "    \n",
    "\n",
    "print(\"Empirical P(t_1=infinity) = {0}\".format(len(infiniteResults)/len(allResults)))\n",
    "print(\"Theoretical P(t_1=infinity) = {0}\".format(1-p/q))\n",
    "print(\"\\n\")\n",
    "#\n",
    "# This is the error! This quantity is NOT the same as E I_{event} * \\tau\n",
    "#\n",
    "E = 0\n",
    "for key,value in finiteResults.items():\n",
    "    E+=key*value/num_experiments\n",
    "print(\"Empirical E(t_1|t_1<infinity) = {0}\".format(E))\n",
    "#\n",
    "# Again, the above line needs to be fixed\n",
    "#\n",
    "print(\"Theoretical E(t_1|t_1<infinity) = {0}\".format(p/q*1/(q-p)))"
   ]
  },
  {
   "cell_type": "code",
   "execution_count": 171,
   "metadata": {},
   "outputs": [
    {
     "name": "stdout",
     "output_type": "stream",
     "text": [
      "{1: 45103, 17: 878, 25: 463, 5: 5459, 3: 11060, 9: 2441, 19: 713, 7: 3524, 21: 605, 13: 1313, 47: 179, 45: 179, 11: 1785, 31: 346, 27: 436, 139: 24, 57: 137, 61: 105, 63: 96, 181: 12, 33: 299, 157: 9, 135: 18, 189: 8, 23: 582, 231: 11, 37: 247, 39: 231, 15: 1122, 35: 284, 43: 204, 71: 86, 55: 140, 85: 68, 53: 131, 51: 132, 41: 219, 103: 35, 29: 384, 93: 57, 109: 38, 203: 6, 91: 61, 123: 25, 209: 6, 105: 39, 179: 13, 87: 52, 95: 50, 67: 99, 121: 40, 177: 14, 245: 3, 65: 99, 185: 8, 73: 64, 133: 30, 219: 5, 79: 71, 101: 45, 217: 12, 163: 14, 201: 7, 167: 13, 89: 60, 111: 41, 83: 71, 107: 38, 59: 114, 49: 164, 335: 5, 77: 88, 159: 15, 161: 13, 175: 16, 125: 21, 131: 20, 345: 5, 69: 81, 225: 8, 195: 14, 151: 21, 129: 22, 235: 9, 97: 49, 207: 11, 239: 8, 165: 12, 191: 9, 113: 32, 273: 2, 155: 18, 541: 1, 211: 8, 137: 20, 147: 21, 275: 5, 353: 2, 115: 32, 359: 5, 75: 86, 323: 1, 99: 55, 357: 3, 183: 12, 143: 17, 127: 24, 153: 15, 199: 9, 289: 4, 173: 13, 193: 7, 251: 12, 297: 5, 295: 3, 117: 38, 169: 17, 205: 7, 215: 9, 141: 24, 243: 3, 119: 32, 261: 8, 259: 6, 311: 7, 145: 18, 229: 7, 247: 3, 343: 2, 349: 2, 187: 13, 255: 8, 337: 3, 421: 3, 233: 7, 171: 13, 263: 7, 953: 1, 449: 2, 279: 4, 149: 20, 309: 5, 227: 4, 257: 4, 213: 9, 81: 58, 401: 1, 271: 2, 317: 2, 365: 2, 377: 1, 303: 3, 313: 2, 241: 9, 319: 4, 333: 4, 453: 1, 329: 2, 389: 2, 411: 4, 291: 3, 315: 4, 403: 1, 287: 1, 367: 1, 305: 3, 197: 3, 395: 3, 285: 4, 325: 5, 307: 3, 481: 1, 427: 2, 283: 6, 267: 5, 355: 2, 715: 1, 419: 1, 373: 1, 237: 8, 497: 1, 369: 2, 503: 1, 433: 1, 577: 1, 299: 2, 413: 1, 479: 1, 437: 2, 339: 1, 507: 1, 221: 4, 525: 1, 383: 2, 281: 2, 375: 3, 253: 2, 363: 1, 341: 1, 301: 4, 409: 1, 447: 3, 223: 4, 265: 3, 327: 3, 321: 1, 475: 1, 277: 4, 417: 2, 551: 1, 649: 1, 269: 1, 771: 1, 491: 1, 595: 1, 249: 5, 387: 1, 515: 1, 749: 1, 623: 1, 393: 1, 569: 1, 757: 1, 429: 1, 347: 1, 601: 1, 443: 2, 445: 1, 707: 1, 397: 1, 441: 1, 461: 1, 399: 1, 847: 1, 455: 1, 621: 1, 465: 1, 391: 1, 351: 1}\n"
     ]
    }
   ],
   "source": [
    "print(dict(finiteResults))"
   ]
  },
  {
   "cell_type": "code",
   "execution_count": null,
   "metadata": {},
   "outputs": [],
   "source": [
    "print()"
   ]
  }
 ],
 "metadata": {
  "kernelspec": {
   "display_name": "Python 3",
   "language": "python",
   "name": "python3"
  },
  "language_info": {
   "codemirror_mode": {
    "name": "ipython",
    "version": 3
   },
   "file_extension": ".py",
   "mimetype": "text/x-python",
   "name": "python",
   "nbconvert_exporter": "python",
   "pygments_lexer": "ipython3",
   "version": "3.7.6"
  }
 },
 "nbformat": 4,
 "nbformat_minor": 4
}
