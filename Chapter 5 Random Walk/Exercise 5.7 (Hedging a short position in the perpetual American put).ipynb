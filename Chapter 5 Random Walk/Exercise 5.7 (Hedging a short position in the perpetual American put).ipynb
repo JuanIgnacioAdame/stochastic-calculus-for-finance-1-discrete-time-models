{
 "cells": [
  {
   "cell_type": "markdown",
   "metadata": {},
   "source": [
    "### Problem"
   ]
  },
  {
   "cell_type": "markdown",
   "metadata": {},
   "source": [
    "Suppose you have sold the perpetual American put of Section 5.4 and are hedging the short position in this put.  Suppose that at the current time the stcok price is $s$ and the value of your hedging portfolio is $v(s)$.  Your hedge is to first consume the amount\n",
    "\\begin{equation}\n",
    "c(s)=v(s)-\\frac{4}{5}\\left[\\frac{1}{2}v(2s)+\\frac{1}{2}v\\left(\\frac{s}{2}\\right)\\right],\n",
    "\\end{equation}\n",
    "and then take a position\n",
    "\\begin{equation}\n",
    "\\delta(s)=\\frac{v(2s)-v\\left(\\frac{s}{2}\\right)}{2s-\\frac{s}{2}}\n",
    "\\end{equation}\n",
    "in the stock."
   ]
  },
  {
   "cell_type": "markdown",
   "metadata": {},
   "source": [
    "(See Theorem 4.2.2 of Chapter 4.  The processes $C_n$ and $\\Delta_n$ in that theorem are obtained by replacing the dummy variable $s$ by the stock price $S_n$ in (5.7.3) and (5.7.4); i.e., $C_n=c(S_n)$ and $\\Delta_n=\\delta(S_n).)$"
   ]
  },
  {
   "cell_type": "markdown",
   "metadata": {},
   "source": [
    "If you hedge this way, then regardless of whether the stcok goes up or down on the next step, the value of your hedging portfolio should agree with the value of the perpetual American put."
   ]
  },
  {
   "cell_type": "markdown",
   "metadata": {},
   "source": [
    "### Exercise 5.7.1"
   ]
  },
  {
   "cell_type": "markdown",
   "metadata": {},
   "source": [
    "Compute $c(s)$ when $s=2^j$ for the three cases $j\\leq 0$, $j=1$, and $j\\geq 2.$"
   ]
  },
  {
   "cell_type": "markdown",
   "metadata": {},
   "source": [
    "### Solution 5.7.1"
   ]
  },
  {
   "cell_type": "markdown",
   "metadata": {},
   "source": [
    "First, let us briefly simplify the expression for $c(s)$:\n",
    "\\begin{align}\n",
    "c(s)=c(2^j)&=v(2^j)-\\frac{4}{5}\\left[\\frac{1}{2}v(22^j)+\\frac{1}{2}v\\left(\\frac{2^j}{2}\\right)\\right]\\\\\n",
    "&=v(2^j)-\\frac{4}{5}\\left[\\frac{1}{2}v(2^{j+1})+\\frac{1}{2}v\\left(2^{j-1}\\right)\\right]\\\\\n",
    "&=v(2^j)-\\frac{2}{5}\\left[v(2^{j+1})+v\\left(2^{j-1}\\right)\\right].\n",
    "\\end{align}"
   ]
  },
  {
   "cell_type": "markdown",
   "metadata": {},
   "source": [
    "Recall from Equation (5.4.6) that\n",
    "\\begin{align}\n",
    "v(2^j)&=4-2^j \\quad \\text{if } j\\leq1,\\\\\n",
    "&=\\frac{4}{2^j} \\quad \\text{if } j\\geq 1.\n",
    "\\end{align}"
   ]
  },
  {
   "cell_type": "markdown",
   "metadata": {},
   "source": [
    "Plugging this back into the equation above for $j\\leq 0$, we obtain\n",
    "\\begin{align}\n",
    "c(s)=4-2^j-\\frac{2}{5}\\left[4-2^{j+1}+4-2^{j-1}\\right]=\\frac{4}{5}.\n",
    "\\end{align}"
   ]
  },
  {
   "cell_type": "markdown",
   "metadata": {},
   "source": [
    "For $j=1$, we obtain\n",
    "\\begin{equation}\n",
    "c(s)=4-2^j-\\frac{2}{5}\\left[\\frac{4}{2^{j+1}}+4-2^{j-1}\\right]=\\frac{2}{5}.\n",
    "\\end{equation}"
   ]
  },
  {
   "cell_type": "markdown",
   "metadata": {},
   "source": [
    "For $j\\geq 2$, we obtain\n",
    "\\begin{equation}\n",
    "\\frac{4}{2^j}-\\frac{2}{5}\\left[\\frac{4}{2^{j+1}}+\\frac{4}{2^{j-1}}\\right]=0. \\square\n",
    "\\end{equation}"
   ]
  },
  {
   "cell_type": "markdown",
   "metadata": {},
   "source": [
    "### Exercise 5.7.2"
   ]
  },
  {
   "cell_type": "markdown",
   "metadata": {},
   "source": [
    "Compute $\\delta(s)$ when $s=2^j$ for the three cases $j\\leq 0$, $j=1$, and $j\\geq 2.$"
   ]
  },
  {
   "cell_type": "markdown",
   "metadata": {},
   "source": [
    "### Solution 5.7.2"
   ]
  },
  {
   "cell_type": "markdown",
   "metadata": {},
   "source": [
    "First, let us briefly simplify the expression for $\\delta(s)$:\n",
    "\\begin{align}\n",
    "\\delta(s)=\\delta(2^j)&=\\frac{v(2\\times2^j)-v\\left(\\frac{2^j}{2}\\right)}{2\\times2^j-\\frac{2^j}{2}}\\\\\n",
    "&=\\frac{v(2^{j+1})-v(2^{j-1})}{2^{j+1}-2^{j-1}}.\n",
    "\\end{align}"
   ]
  },
  {
   "cell_type": "markdown",
   "metadata": {},
   "source": [
    "When $j\\leq 0$, this reduces to\n",
    "\\begin{equation}\n",
    "\\frac{4-2^{j+1}-4+2^{j-1}}{2^{j+1}-2^{j-1}}=-1.\n",
    "\\end{equation}"
   ]
  },
  {
   "cell_type": "markdown",
   "metadata": {},
   "source": [
    "When $j=1$, this reduces to\n",
    "\\begin{equation}\n",
    "\\frac{\\frac{4}{2^{j+1}}-4+2^{j-1}}{2^{j+1}-2^{j-1}}=-\\frac{2}{3}.\n",
    "\\end{equation}"
   ]
  },
  {
   "cell_type": "markdown",
   "metadata": {},
   "source": [
    "Finally, for $j\\geq 2$, this becomes\n",
    "\\begin{equation}\n",
    "\\frac{\\frac{4}{2^{j+1}}-\\frac{4}{2^{j-1}}}{2^{j+1}-2^{j-1}}=-4^{1-j}.\\square\n",
    "\\end{equation}"
   ]
  },
  {
   "cell_type": "markdown",
   "metadata": {},
   "source": [
    "### Exercise 5.7.3"
   ]
  },
  {
   "cell_type": "markdown",
   "metadata": {},
   "source": [
    "Verify in each of the three cases $s=2^j$ for $j\\leq 0$, $j=1$, and $j\\geq 2$ that the hedge works (i.e., regardless of whether the stock goes up or down, the value of your hedging portfolio at the next time is equal to the value of the perpetual American put at that time)."
   ]
  },
  {
   "cell_type": "markdown",
   "metadata": {},
   "source": [
    "### Solution 5.7.3"
   ]
  },
  {
   "cell_type": "markdown",
   "metadata": {},
   "source": [
    "We have to verify that\n",
    "\\begin{equation}\n",
    "V_{n+1}\\stackrel{!}{=}(1+r)(X_n-C_n-\\Delta_nS_n)+\\Delta_nS_{n+1}\\Rightarrow\\\\\n",
    "v(S_{n+1})\\stackrel{!}{=}(1+r)(v(S_n)-c(S_n)-\\delta(S_n)S_n)+\\delta(S_n)S_{n+1}.\n",
    "\\end{equation}"
   ]
  },
  {
   "cell_type": "markdown",
   "metadata": {},
   "source": [
    "For $j\\leq 0$, $S_{n+1}=2S_n$ we have\n",
    "\\begin{align}\n",
    "v(2^{j+1})=4-2^{j+1}&=(1+r)(v(2^j)-c(2^j)-\\delta(2^j)2^j)+\\delta(2^j)2^{j+1}\\\\\n",
    "&=\\frac{5}{4}(4-2^j-\\frac{4}{5}-(-1)2^j)+(-1)2^{j+1}\\\\\n",
    "&=\\frac{5}{4}(4-\\frac{5}{4})-2^{j+1}\\\\\n",
    "&=4-2^{j+1}. \\checkmark\n",
    "\\end{align}"
   ]
  },
  {
   "cell_type": "markdown",
   "metadata": {},
   "source": [
    "For $j\\leq0$, $S_{n+1}=\\frac{S_n}{2}$, we have\n",
    "\\begin{align}\n",
    "v(2^{j-1})=4-2^{j-1}&=(1+r)(v(2^j)-c(2^j)-\\delta(2^j)2^j)+\\delta(2^j)2^{j-1}\\\\\n",
    "&=\\frac{5}{4}(4-2^j-\\frac{4}{5}-(-1)2^j)+(-1)2^{j-1}\\\\\n",
    "&=\\frac{5}{4}(4-\\frac{5}{4})-2^{j+1}\\\\\n",
    "&=4-2^{j-1}. \\checkmark\n",
    "\\end{align}"
   ]
  },
  {
   "cell_type": "markdown",
   "metadata": {},
   "source": [
    "For $j=1$, $S_{n+1}=2S_n$, we have\n",
    "\\begin{align}\n",
    "v(2^{j+1})=\\frac{4}{2^{j+1}}=1&=(1+r)(v(2^j)-c(2^j)-\\delta(2^j)2^j)+\\delta(2^j)2^{j+1}\\\\\n",
    "&=\\frac{5}{4}(4-2^j-\\frac{2}{5}-(-\\frac{2}{3})2^j)+(-\\frac{2}{3})2^{j+1}\\\\\n",
    "&=1. \\checkmark\n",
    "\\end{align}"
   ]
  },
  {
   "cell_type": "markdown",
   "metadata": {},
   "source": [
    "For $j=1$, $S_{n+1}=\\frac{S_n}{2}$, we have\n",
    "\\begin{align}\n",
    "v(2^{j-1})=4-2^{j-1}=3&=(1+r)(v(2^j)-c(2^j)-\\delta(2^j)2^j)+\\delta(2^j)2^{j-1}\\\\\n",
    "&=\\frac{5}{4}(4-2^j-\\frac{2}{5}-(-\\frac{2}{3})2^j)+(-\\frac{2}{3})2^{j-1}\\\\\n",
    "&=3. \\checkmark\n",
    "\\end{align}"
   ]
  },
  {
   "cell_type": "markdown",
   "metadata": {},
   "source": [
    "For $j\\geq 2$, $S_{n+1}=2S_n$, we have\n",
    "\\begin{align}\n",
    "v(2^{j+1})=\\frac{4}{2^{j+1}}&=(1+r)(v(2^j)-c(2^j)-\\delta(2^j)2^j)+\\delta(2^j)2^{j+1}\\\\\n",
    "&=\\frac{5}{4}(\\frac{4}{2^j}-0-(-4^{1-j})2^j)+(-4^{1-j})2^{j+1}\\\\\n",
    "&=\\frac{4}{2^{j+1}}.\\checkmark\n",
    "\\end{align}"
   ]
  },
  {
   "cell_type": "markdown",
   "metadata": {},
   "source": [
    "For $j\\geq 2$, $S_{n+1}=\\frac{S_n}{2}$, we have\n",
    "\\begin{align}\n",
    "v(2^{j-1})=\\frac{4}{2^{j-1}}&=(1+r)(v(2^j)-c(2^j)-\\delta(2^j)2^j)+\\delta(2^j)2^{j-1}\\\\\n",
    "&=\\frac{5}{4}(\\frac{4}{2^j}-0-(-4^{1-j})2^j)+(-4^{1-j})2^{j-1}\\\\\n",
    "&=\\frac{4}{2^{j-1}}. \\square\n",
    "\\end{align}"
   ]
  },
  {
   "cell_type": "code",
   "execution_count": null,
   "metadata": {},
   "outputs": [],
   "source": []
  }
 ],
 "metadata": {
  "kernelspec": {
   "display_name": "Python 3",
   "language": "python",
   "name": "python3"
  },
  "language_info": {
   "codemirror_mode": {
    "name": "ipython",
    "version": 3
   },
   "file_extension": ".py",
   "mimetype": "text/x-python",
   "name": "python",
   "nbconvert_exporter": "python",
   "pygments_lexer": "ipython3",
   "version": "3.7.6"
  }
 },
 "nbformat": 4,
 "nbformat_minor": 4
}
