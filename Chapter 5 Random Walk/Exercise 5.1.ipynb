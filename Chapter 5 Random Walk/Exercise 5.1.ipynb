{
 "cells": [
  {
   "cell_type": "markdown",
   "metadata": {},
   "source": [
    "For the symmetric walk, consider the first passage time $\\tau_m$ to level $m$.  The random variable $\\tau_2-\\tau_1$ is the number of steps required for the random walk to rise from level 1 to level 2, and this random variable has the same distribution as $\\tau_1$, the number of steps required for the random walk to rise from level 0 to level 1.  Furthermore, $\\tau_2-\\tau_1$ and $\\tau_1$ are independent of one another; the latter depends only on the coin tosses $1,2,\\dots,\\tau_1$, and the former depends only on the coin tosses $\\tau_1+1, \\tau_1+2, \\dots, \\tau_2$."
   ]
  },
  {
   "cell_type": "markdown",
   "metadata": {},
   "source": [
    "### Exercise 5.1.1"
   ]
  },
  {
   "cell_type": "markdown",
   "metadata": {},
   "source": [
    "(i) Use these facts to explain why\n",
    "\\begin{equation}\n",
    "\\mathbb{E}\\alpha^{\\tau_2}=(\\mathbb{E}\\alpha^{\\tau_1})^2, \\quad \\text{for all } \\alpha\\in(0,1).\n",
    "\\end{equation}"
   ]
  },
  {
   "cell_type": "markdown",
   "metadata": {},
   "source": [
    "We can show this with a simple calculation.\n",
    "\\begin{align}\n",
    "\\mathbb{E}\\alpha^{\\tau_2}&=\\mathbb{E}\\alpha^{\\tau_2-\\tau_1+\\tau_1}\\\\\n",
    "&=\\mathbb{E}\\alpha^{\\tau_2-\\tau_1}\\mathbb{E}\\alpha^{\\tau_1} \\quad \\text{(Independence)}\\\\\n",
    "&=\\mathbb{E}\\alpha^{\\tau_1}\\mathbb{E}\\alpha^{\\tau_1} \\quad (\\tau_2-\\tau_1\\sim\\tau_1)\\\\\n",
    "&=(\\mathbb{E}\\alpha^{\\tau_1})^2.\\square\n",
    "\\end{align}"
   ]
  },
  {
   "cell_type": "markdown",
   "metadata": {},
   "source": [
    "### Exercise 5.1.2"
   ]
  },
  {
   "cell_type": "markdown",
   "metadata": {},
   "source": [
    "(ii) Without using (5.2.13), explain why for any positive integer $m$, we must have\n",
    "\\begin{equation}\n",
    "\\mathbb{E}\\alpha^{\\tau_m}=(\\mathbb{E}\\alpha^{\\tau_1})^m \\quad \\text{for all } \\alpha\\in(0,1).\n",
    "\\end{equation}"
   ]
  },
  {
   "cell_type": "markdown",
   "metadata": {},
   "source": [
    "First, note that $\\tau_m-\\tau_{m-1}$ is distributed as $\\tau_1$, and that $\\tau_m$ and $\\tau_{m-1}$ are independent.  We can now prove this by induction.  The base case is proven in (i).  Now we just perform the following calculation.\n",
    "\\begin{align}\n",
    "\\mathbb{E}\\alpha^{\\tau_m}&=\\mathbb{E}\\alpha^{\\tau_m-\\tau_{m-1}+\\tau_{m-1}}\\\\\n",
    "&=\\mathbb{E}\\alpha^{\\tau_m-\\tau_{m-1}}\\mathbb{E}\\alpha^{\\tau_{m-1}}\\quad\\text{(Independence)}\\\\\n",
    "&=\\mathbb{E}\\alpha^{\\tau_1}\\mathbb{E}\\alpha^{\\tau_{m-1}}\\quad\\tau_m-\\tau_{m-1}\\sim\\tau_1\\\\\n",
    "&=\\mathbb{E}\\alpha^{\\tau_1}(\\mathbb{E}\\alpha^{\\tau_1})^{m-1}\\quad\\text{(Induction hypothesis)}\\\\\n",
    "&=(\\mathbb{E}\\alpha^{\\tau_1})^{m}.\\square\n",
    "\\end{align}"
   ]
  },
  {
   "cell_type": "markdown",
   "metadata": {},
   "source": [
    "### Exercise 5.1.3"
   ]
  },
  {
   "cell_type": "markdown",
   "metadata": {},
   "source": [
    "Would equation (5.7.1) still hold if the random walk is not symmetric?  Explain why or why not."
   ]
  },
  {
   "cell_type": "markdown",
   "metadata": {},
   "source": [
    "Yes, it would still hold.  Our proof only relies on $\\tau_m-\\tau_{m-1}$ being distributed as $\\tau_1$, and $\\tau_m$ and $\\tau_{m-1}$ being independent.  Both of these still hold if the random walk is not symmetric. $\\square$"
   ]
  },
  {
   "cell_type": "markdown",
   "metadata": {},
   "source": [
    "### Bonus: some simulations!"
   ]
  },
  {
   "cell_type": "markdown",
   "metadata": {},
   "source": [
    "You can use the code below to empirically verify our theoretical results above.  Go ahead and play around with $m>2$, and random walks that are not symmetric."
   ]
  },
  {
   "cell_type": "code",
   "execution_count": 2,
   "metadata": {},
   "outputs": [],
   "source": [
    "import numpy as np\n",
    "import random"
   ]
  },
  {
   "cell_type": "code",
   "execution_count": 9,
   "metadata": {},
   "outputs": [
    {
     "name": "stdout",
     "output_type": "stream",
     "text": [
      "-1\n"
     ]
    }
   ],
   "source": [
    "# choose probabilities\n",
    "p = 0.75\n",
    "q = 0.25\n",
    "print(np.random.choice([-1,1], replace=True, p=[p,q]))"
   ]
  },
  {
   "cell_type": "code",
   "execution_count": 71,
   "metadata": {},
   "outputs": [],
   "source": [
    "# choose probabilities\n",
    "p = 0.2\n",
    "q = 0.8\n",
    "# choose level for comparison\n",
    "m = 5\n",
    "# choose alpha in (0,1)\n",
    "a = 0.9\n",
    "# number of experiments\n",
    "num_experiments = int(10**3)\n",
    "# store results\n",
    "mResults = []\n",
    "oneResults = []\n",
    "# max number of tosses before we stop simulating random walk\n",
    "max_tosses = int(1e02)\n",
    "for experiment in range(num_experiments):\n",
    "    M = 0\n",
    "    t = 0\n",
    "    # throw coins until we reach level 1, or we reach max_tosses limit\n",
    "    while M<1 and t<max_tosses:\n",
    "        t +=1\n",
    "        M += np.random.choice([-1,1], replace=True, p=[p,q])\n",
    "    oneResults.append(min([a**t, int(t!=max_tosses)]))\n",
    "    # throw coins until we reach level m, or we reach max_tosses limit\n",
    "    while M<m and t<max_tosses:\n",
    "        t +=1\n",
    "        M += np.random.choice([-1,1], replace=True, p=[p,q])\n",
    "    mResults.append(min([a**t, int(t!=max_tosses)]))"
   ]
  },
  {
   "cell_type": "code",
   "execution_count": 74,
   "metadata": {},
   "outputs": [
    {
     "name": "stdout",
     "output_type": "stream",
     "text": [
      "0.4408519319192116\n",
      "0.44640439843643853\n"
     ]
    }
   ],
   "source": [
    "print(np.mean(oneResults)**m)\n",
    "print(np.mean(mResults))"
   ]
  },
  {
   "cell_type": "code",
   "execution_count": null,
   "metadata": {},
   "outputs": [],
   "source": []
  }
 ],
 "metadata": {
  "kernelspec": {
   "display_name": "Python 3",
   "language": "python",
   "name": "python3"
  },
  "language_info": {
   "codemirror_mode": {
    "name": "ipython",
    "version": 3
   },
   "file_extension": ".py",
   "mimetype": "text/x-python",
   "name": "python",
   "nbconvert_exporter": "python",
   "pygments_lexer": "ipython3",
   "version": "3.7.6"
  }
 },
 "nbformat": 4,
 "nbformat_minor": 4
}
