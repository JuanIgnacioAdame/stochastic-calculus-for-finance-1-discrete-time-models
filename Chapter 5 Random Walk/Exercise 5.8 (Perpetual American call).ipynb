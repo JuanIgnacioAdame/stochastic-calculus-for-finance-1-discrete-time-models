{
 "cells": [
  {
   "cell_type": "markdown",
   "metadata": {},
   "source": [
    "### Exercise 5.8"
   ]
  },
  {
   "cell_type": "markdown",
   "metadata": {},
   "source": [
    "Like the perpetual American put of Section 5.4, the perpetual American call has no expiration. Consider a binomial model with up factor $u$, down factor $d$, and interest rate $r$ that satisfies the no-arbitrage condition $0<d<1+r<u$.  The risk-neutral probabilities are\n",
    "\\begin{equation}\n",
    "\\tilde{p}=\\frac{1+r-d}{u-d},\\quad \\tilde{q}={u-1-r}{u-d}.\n",
    "\\end{equation}"
   ]
  },
  {
   "cell_type": "markdown",
   "metadata": {},
   "source": [
    "The intrinsic value of the perpetual American call is $g(s)=s-K$, where $K>0$ is the strike price. The purpose of this exercise is to show that the value of the call is always the price of the underlying stock, and there no optimal exercise time."
   ]
  },
  {
   "cell_type": "markdown",
   "metadata": {},
   "source": [
    "### Exercise 5.8.1"
   ]
  },
  {
   "cell_type": "markdown",
   "metadata": {},
   "source": [
    "Let $v(s)=s$.  Show that $v(S_n)$ is always at least as large as the intrinsic value $g(S_n)$ of the call and $\\left(\\frac{1}{1+r}\\right)^nv(S_n)$ is a martingale under the risk-neutral probabilities.  In fact, $\\left(\\frac{1}{1+r}\\right)^nv(S_n)$ is a supermartingale.  These are the analogues of properties (i) and (ii) for the perpetual American put of Section 5.4."
   ]
  },
  {
   "cell_type": "markdown",
   "metadata": {},
   "source": [
    "### Solution 5.8.1"
   ]
  },
  {
   "cell_type": "markdown",
   "metadata": {},
   "source": [
    "We prove this with a simple calculation.\n",
    "\\begin{equation}\n",
    "v(s)=s\\geq g(s)=s-K\\iff s\\geq s-K\\iff 0\\geq-K\\iff K\\geq 0,\n",
    "\\end{equation}\n",
    "where the last inequality holds because $K>0$ by assumption."
   ]
  },
  {
   "cell_type": "markdown",
   "metadata": {},
   "source": [
    "Note that $\\left(\\frac{1}{1+r}\\right)^nv(S_n)=\\left(\\frac{1}{1+r}\\right)^nS_n$, and this is a martingale from Theorem 2.4.4. $\\square"
   ]
  },
  {
   "cell_type": "markdown",
   "metadata": {},
   "source": [
    "### Exercise 5.8.2"
   ]
  },
  {
   "cell_type": "markdown",
   "metadata": {},
   "source": [
    "To show that $v(s)=s$ is not too large to be the value of the perpetual American call, we must find a good policy for the purchaser of the call.  Show that if the purchaser of the call exercises at time $n$, regardless of the stock price at that time, then the discounted risk-neutral expectation of her payoff is $S_0-\\frac{K}{(1+r)^n}$.  Because this is true for every $n$, and\n",
    "\\begin{equation}\n",
    "\\lim_{n\\rightarrow\\infty}\\left[S_0-\\frac{K}{(1+r)^n}\\right]=S_0,\n",
    "\\end{equation}\n",
    "the value of the call at time zero must be at least $S_0$ (The same is true at all other times; the value of the call is at least as great as the current stock price.)"
   ]
  },
  {
   "cell_type": "markdown",
   "metadata": {},
   "source": [
    "### Solution 5.8.2"
   ]
  },
  {
   "cell_type": "markdown",
   "metadata": {},
   "source": [
    "We can prove this with a simple calculation.  The discounted, risk-neutral expectation of her payoff is given by\n",
    "\\begin{align}\n",
    "\\frac{1}{(1+r)^n}\\tilde{E}\\left[g(S_n)\\right]&=\\frac{1}{(1+r)^n}\\tilde{E}\\left[S_n-K\\right]\\\\\n",
    "&=\\frac{1}{(1+r)^n}((1+r)^nS_0-K)\\\\\n",
    "&=S_0-\\frac{K}{(1+r)^n}.\\square\n",
    "\\end{align}"
   ]
  },
  {
   "cell_type": "markdown",
   "metadata": {},
   "source": [
    "### Exercise 5.8.3"
   ]
  },
  {
   "cell_type": "markdown",
   "metadata": {},
   "source": [
    "In place of (i) and (ii) above, we could veriy that $v(s)=s$ is the value of the perpetual American call by checking that this function satisfies the equation (5.4.16) and boundary conditions (5.4.18). Do this verification."
   ]
  },
  {
   "cell_type": "markdown",
   "metadata": {},
   "source": [
    "### Solution 5.8.3"
   ]
  },
  {
   "cell_type": "markdown",
   "metadata": {},
   "source": [
    "Equation (5.4.16) is\n",
    "\\begin{equation}\n",
    "v(s)=\\max\\{g(s), \\frac{1}{1+r}\\left[\\tilde{p}v(us)+\\tilde{q}v(ds)\\right]\\}.\n",
    "\\end{equation}"
   ]
  },
  {
   "cell_type": "markdown",
   "metadata": {},
   "source": [
    "Plugging in $v(s)=s$ above and $g(s)=s-K$, we get\n",
    "\\begin{align}\n",
    "v(s)=s&=\\max\\{s-K, \\frac{1}{1+r}\\left[\\tilde{p}us+\\tilde{q}ds\\right]\\}\\\\\n",
    "&=\\max\\{s-K, s\\}=s.\\checkmark\n",
    "\\end{align}"
   ]
  },
  {
   "cell_type": "markdown",
   "metadata": {},
   "source": [
    "Equation $(5.4.18)$ is\n",
    "\\begin{equation}\n",
    "\\lim_{s\\downarrow0}v(s)=0, \\quad \\lim_{s\\rightarrow\\infty}\\frac{v(s)}{s}=1.\n",
    "\\end{equation}"
   ]
  },
  {
   "cell_type": "markdown",
   "metadata": {},
   "source": [
    "Plugging in $v(s)=s$, we get\n",
    "\\begin{equation}\n",
    "\\lim_{s\\downarrow0}v(s)=\\lim_{s\\downarrow0}s=0\\checkmark,\n",
    "\\end{equation}\n",
    "and\n",
    "\\begin{equation}\n",
    "\\lim_{s\\rightarrow\\infty}\\frac{v(s)}{s}=\\lim_{s\\rightarrow\\infty}\\frac{s}{s}=1.\\square\n",
    "\\end{equation}"
   ]
  },
  {
   "cell_type": "markdown",
   "metadata": {},
   "source": [
    "### Exercise 5.8.4"
   ]
  },
  {
   "cell_type": "markdown",
   "metadata": {},
   "source": [
    "(iv) Show that there is no optimal time to exercise the perpetual American call."
   ]
  },
  {
   "cell_type": "markdown",
   "metadata": {},
   "source": [
    "We can observe this directly from equation (5.4.16).  In other words, because $v(s)=\\max\\{g(s),\\frac{1}{1+r}\\left[\\tilde{p}v(us)+\\tilde{q}v(ds)\\right]\\}>g(s)$, it is never optimal to exercise, as exercising would yield the value $g(s)$. $\\square$"
   ]
  },
  {
   "cell_type": "code",
   "execution_count": null,
   "metadata": {},
   "outputs": [],
   "source": []
  }
 ],
 "metadata": {
  "kernelspec": {
   "display_name": "Python 3",
   "language": "python",
   "name": "python3"
  },
  "language_info": {
   "codemirror_mode": {
    "name": "ipython",
    "version": 3
   },
   "file_extension": ".py",
   "mimetype": "text/x-python",
   "name": "python",
   "nbconvert_exporter": "python",
   "pygments_lexer": "ipython3",
   "version": "3.7.6"
  }
 },
 "nbformat": 4,
 "nbformat_minor": 4
}
