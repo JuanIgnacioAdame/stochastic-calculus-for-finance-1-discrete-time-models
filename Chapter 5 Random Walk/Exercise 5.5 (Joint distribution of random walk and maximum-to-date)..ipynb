{
 "cells": [
  {
   "cell_type": "markdown",
   "metadata": {},
   "source": [
    "### Problem"
   ]
  },
  {
   "cell_type": "markdown",
   "metadata": {},
   "source": [
    "Let $M_n$ be a symmetric random walk, and define its *maximum-to-date* process\n",
    "\\begin{equation}\n",
    "M_n^{*}=\\max_{1\\leq k\\leq n}M_k.\n",
    "\\end{equation}"
   ]
  },
  {
   "cell_type": "markdown",
   "metadata": {},
   "source": [
    "Let $n$ and $m$ be even positive integers, and let $b$ be an integer less than or equal to $m$.  Assume $m\\leq n$ and $2m-b\\leq n$."
   ]
  },
  {
   "cell_type": "markdown",
   "metadata": {},
   "source": [
    "### Exercise 5.5.1"
   ]
  },
  {
   "cell_type": "markdown",
   "metadata": {},
   "source": [
    "Use an argument based on reflected paths to show that\n",
    "\\begin{align}\n",
    "\\mathbb{P}\\{M_n^{*}\\geq m,M_n=b\\}&=\\mathbb{P}\\{M_n=2m-b\\}\\\\\n",
    "&=\\frac{n!}{\\left(\\frac{n+b}{2}+m\\right)!\\left(\\frac{n+b}{2}-m\\right)!}\\left(\\frac{1}{2}\\right)^n.\n",
    "\\end{align}"
   ]
  },
  {
   "cell_type": "markdown",
   "metadata": {},
   "source": [
    "### Solution 5.5.1"
   ]
  },
  {
   "cell_type": "markdown",
   "metadata": {},
   "source": [
    "The idea behind the proof is to observe that there are just as many paths that end at $2m-b$, i.e. $M_n=2m-b$,  as there are paths that at some point before $n$ touched $m$, i.e. $M_n^{*}\\geq m$, but ended at $b$, i.e. $M_n=b$."
   ]
  },
  {
   "cell_type": "markdown",
   "metadata": {},
   "source": [
    "To see this, first note that every path $M_n$ that ends at $2m-b>m$ must have touched $m$ at some time before $n$.  If we now look at the path $M_n'$ obtained from $M_n$ by reflecting $M_n$ at every time after it first touched $m$, note that $M_n'$ ends at $b$."
   ]
  },
  {
   "cell_type": "markdown",
   "metadata": {},
   "source": [
    "This map is a bijection.  And because $p=q$ by assumption, each path has probability $\\left(\\frac{1}{2}\\right)^n$ we obtain the desired result\n",
    " \\begin{align}\n",
    "\\mathbb{P}\\{M_n^{*}\\geq m,M_n=b\\}&=\\mathbb{P}\\{M_n=2m-b\\}\\\\\n",
    "&={n\\choose \\frac{n-2m+b}{2}}\\left(\\frac{1}{2}\\right)^n\\\\\n",
    "&=\\frac{n!}{\\left(\\frac{n-b}{2}+m\\right)!\\left(\\frac{n+b}{2}-m\\right)!}\\left(\\frac{1}{2}\\right)^n.\\square\n",
    "\\end{align}"
   ]
  },
  {
   "cell_type": "markdown",
   "metadata": {},
   "source": [
    "### Exercise 5.5.2"
   ]
  },
  {
   "cell_type": "markdown",
   "metadata": {},
   "source": [
    "If the random walk is asymmetric with probability $p$ for an up step and probability $q=1-p$ for a down step, where $0<p<1$, what is $\\mathbb{P}\\{M_n^{*}\\geq m, M_n=b\\}$?"
   ]
  },
  {
   "cell_type": "markdown",
   "metadata": {},
   "source": [
    "### Solution 5.5.2"
   ]
  },
  {
   "cell_type": "markdown",
   "metadata": {},
   "source": [
    "In Exercise 5.5.1 we counted all the paths that $M_n^{*}\\geq m, M_n=b$, and found that there are\n",
    "\\begin{equation}\n",
    "\\frac{n!}{\\left(\\frac{n-b}{2}+m\\right)!\\left(\\frac{n+b}{2}-m\\right)!}\n",
    "\\end{equation}\n",
    "such paths."
   ]
  },
  {
   "cell_type": "markdown",
   "metadata": {},
   "source": [
    "The probability of each path is $p^{N_u}(1-p)^{N_d}$, where $N_u$ is the number of up moves, and $N_d$ is the number of down moves.  We just need to solve for $N_u$ and $N_d$."
   ]
  },
  {
   "cell_type": "markdown",
   "metadata": {},
   "source": [
    "By definition, we have\n",
    "\\begin{equation}\n",
    "N_u+N_d=n.\n",
    "\\end{equation}"
   ]
  },
  {
   "cell_type": "markdown",
   "metadata": {},
   "source": [
    "If a path ends at $b$, then we have\n",
    "\\begin{equation}\n",
    "N_u-N_d=2m-b.\n",
    "\\end{equation}"
   ]
  },
  {
   "cell_type": "markdown",
   "metadata": {},
   "source": [
    "Solving these two equations for $N_u$ and $N_d$, we obtain\n",
    "\\begin{equation}\n",
    "N_u=m+\\frac{n-b}{2}, \\quad N_d=-m+\\frac{n+b}{2}.\n",
    "\\end{equation}"
   ]
  },
  {
   "cell_type": "markdown",
   "metadata": {},
   "source": [
    "Hence, we obtain the final result\n",
    "\\begin{equation}\n",
    "\\mathbb{P}\\{M_n^{*}\\geq m, M_n=b\\}=\\frac{n!}{\\left(\\frac{n-b}{2}+m\\right)!\\left(\\frac{n+b}{2}-m\\right)!}p^{m+\\frac{n-b}{2}}(1-p)^{\\frac{n+b}{2}-m}.\\square\n",
    "\\end{equation}"
   ]
  },
  {
   "cell_type": "markdown",
   "metadata": {},
   "source": [
    "### Code"
   ]
  },
  {
   "cell_type": "code",
   "execution_count": 1,
   "metadata": {},
   "outputs": [],
   "source": [
    "import random\n",
    "from collections import defaultdict\n",
    "from math import factorial"
   ]
  },
  {
   "cell_type": "code",
   "execution_count": 2,
   "metadata": {},
   "outputs": [],
   "source": [
    "# probability of up\n",
    "p = 0.5\n",
    "# probability of down\n",
    "q = 0.5\n",
    "# number of steps of random walk\n",
    "# the fact that it must be even is just at technicality\n",
    "n = 2*4\n",
    "# number of experiments\n",
    "num_exp = int(1e05)\n",
    "Mresults = defaultdict(int)\n",
    "for exp in range(num_exp):\n",
    "    # this is M1\n",
    "    M=random.choices([-1,1], weights=[q,p], k=1)[0]\n",
    "    maxM=M\n",
    "    t=1\n",
    "    while t<n:\n",
    "        t+=1\n",
    "        M+=random.choices([-1,1], weights=[q,p], k=1)[0]\n",
    "        maxM=max(maxM,M)\n",
    "    Mresults[(maxM,M)]+=1"
   ]
  },
  {
   "cell_type": "code",
   "execution_count": 3,
   "metadata": {},
   "outputs": [
    {
     "name": "stdout",
     "output_type": "stream",
     "text": [
      "defaultdict(<class 'int'>, {(0, 0): 5481, (2, -2): 2766, (3, 2): 7898, (1, -2): 7915, (-1, -2): 5519, (2, 2): 10986, (1, 0): 10951, (2, 0): 7786, (3, 0): 2706, (0, -4): 2339, (5, 4): 2742, (-1, -4): 5427, (4, 4): 7770, (1, -6): 383, (6, 6): 2643, (1, -4): 2716, (3, -2): 368, (-1, -6): 2306, (0, -2): 5505, (4, 2): 2720, (2, -4): 387, (4, 0): 401, (6, 4): 400, (-1, -8): 374, (7, 6): 368, (8, 8): 387, (0, -6): 393, (5, 2): 363})\n"
     ]
    }
   ],
   "source": [
    "print(Mresults)"
   ]
  },
  {
   "cell_type": "code",
   "execution_count": 4,
   "metadata": {},
   "outputs": [
    {
     "name": "stdout",
     "output_type": "stream",
     "text": [
      "2*m-b<=n: True\n",
      "\n",
      "Empirical P(M*_n\\geq m, M_n=b) = 0.00387\n",
      "\n",
      "Theoretical P(M*_n\\geq m, M_n=b) = 0.00390625\n",
      "\n"
     ]
    }
   ],
   "source": [
    "# m as above:\n",
    "# m must be even, and m\\leq n\n",
    "m = 2*2\n",
    "# b\\leq m, also has to be even\n",
    "b = 2*0\n",
    "print(\"2*m-b<=n: {0}\\n\".format(2*m-b<=n))\n",
    "counter = 0\n",
    "for key, value in Mresults.items():\n",
    "    if key[1]==2*m-b:\n",
    "        counter+=value\n",
    "p_emp = counter/num_exp\n",
    "print(\"Empirical P(M*_n\\geq m, M_n=b) = {0}\\n\".format(p_emp))\n",
    "p_th = p**(m+(n-b)/2) * q **(-m+(n+b)/2) * factorial(n) / (factorial(m+(n-b)/2)*factorial((n+b)/2-m))\n",
    "print(\"Theoretical P(M*_n\\geq m, M_n=b) = {0}\\n\".format(p_th))"
   ]
  },
  {
   "cell_type": "code",
   "execution_count": null,
   "metadata": {},
   "outputs": [],
   "source": []
  }
 ],
 "metadata": {
  "kernelspec": {
   "display_name": "Python 3",
   "language": "python",
   "name": "python3"
  },
  "language_info": {
   "codemirror_mode": {
    "name": "ipython",
    "version": 3
   },
   "file_extension": ".py",
   "mimetype": "text/x-python",
   "name": "python",
   "nbconvert_exporter": "python",
   "pygments_lexer": "ipython3",
   "version": "3.7.6"
  }
 },
 "nbformat": 4,
 "nbformat_minor": 4
}
