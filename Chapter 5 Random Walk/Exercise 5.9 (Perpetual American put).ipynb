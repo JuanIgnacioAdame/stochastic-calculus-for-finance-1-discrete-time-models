{
 "cells": [
  {
   "cell_type": "markdown",
   "metadata": {},
   "source": [
    "### Exercise 5.9"
   ]
  },
  {
   "cell_type": "markdown",
   "metadata": {},
   "source": [
    "Here is a method for solving equation $(5.4.13)$ for the value of the perpetual American put in Section 5.4."
   ]
  },
  {
   "cell_type": "markdown",
   "metadata": {},
   "source": [
    "### Exercise 5.9.1"
   ]
  },
  {
   "cell_type": "markdown",
   "metadata": {},
   "source": [
    "We first determine $v(s)$ for large values of $s$.  When $s$ is large, it is not optimal to exercise the put, so the maximum in $(5.4.13)$ will be given by the second term,\n",
    "\\begin{equation}\n",
    "\\frac{4}{5}\\left[\\frac{1}{2}v(2s)+\\frac{1}{2}v\\left(\\frac{s}{2}\\right)\\right]=\\frac{2}{5}v(2s)+\\frac{2}{5}v\\left(\\frac{s}{2}\\right).\n",
    "\\end{equation}"
   ]
  },
  {
   "cell_type": "markdown",
   "metadata": {},
   "source": [
    "We thus seek solutions to the equation\n",
    "\\begin{equation}\n",
    "v(s)=\\frac{2}{5}v(2s)+\\frac{2}{5}v\\left(\\frac{s}{2}\\right).\n",
    "\\end{equation}"
   ]
  },
  {
   "cell_type": "markdown",
   "metadata": {},
   "source": [
    "All such solutions are of the form $s^p$ for some constant $p$ or linear combinations of functions of this form. Substitute $s^p$ into (5.7.5), obtain a qudratic equation for $2^p$, and solve to obtain $2^p=2$ or $2^p=\\frac{1}{2}$.  This leads to the values $p=1$ and $p=-1$, i.e., $v_1(s)=s$ and $v_2(s)=\\frac{1}{s}$ are solutions to $(5.7.5)$."
   ]
  },
  {
   "cell_type": "markdown",
   "metadata": {},
   "source": [
    "### Solution 5.9.1"
   ]
  },
  {
   "cell_type": "markdown",
   "metadata": {},
   "source": [
    "As instructed, we perform the calculation.\n",
    "\\begin{align}\n",
    "s^p&=\\frac{2}{5}(2s)^p+\\frac{2}{5}(\\frac{s}{2})^p\\Rightarrow\\\\\n",
    "1&=\\frac{2}{5}2^p+\\frac{2}{5}\\frac{1}{2^p}\\Rightarrow\\\\\n",
    "2^p&=\\frac{2}{5}(2p)^2+\\frac{2}{5}.\n",
    "\\end{align}"
   ]
  },
  {
   "cell_type": "markdown",
   "metadata": {},
   "source": [
    "Now that we have a quadratic equation for $2^p$, we solve by using the quadratic formula and obtain\n",
    "\\begin{equation}\n",
    "2^p=\\frac{1}{2}, \\quad \\text{or} \\quad 2^p=2.\n",
    "\\end{equation}"
   ]
  },
  {
   "cell_type": "markdown",
   "metadata": {},
   "source": [
    "It follows that either $p=1$ or $p=-1$, which means $v_1(s)=s^1=s$ and $v_2(s)=s^{-1}=\\frac{1}{s}$ are solutions. $\\square$"
   ]
  },
  {
   "cell_type": "markdown",
   "metadata": {},
   "source": [
    "### Exercise 5.9.2"
   ]
  },
  {
   "cell_type": "markdown",
   "metadata": {},
   "source": [
    "The general solution to $(5.7.5)$ is a linear combination of $v_1(s)$ and $v_2(s)$, i.e.,\n",
    "\\begin{equation}\n",
    "v(s)=As+\\frac{B}{s}.\n",
    "\\end{equation}"
   ]
  },
  {
   "cell_type": "markdown",
   "metadata": {},
   "source": [
    "For larg water water water values of $s$, the value of the perpetual American put must be given by $(5.7.6)$. It remains to evaluate $A$ and $B$.  Using the second boundary condition in $(5.4.15)$, show that $A$ must be zero."
   ]
  },
  {
   "cell_type": "markdown",
   "metadata": {},
   "source": [
    "### Solution 5.9.2"
   ]
  },
  {
   "cell_type": "markdown",
   "metadata": {},
   "source": [
    "The second boundary condition is\n",
    "\\begin{equation}\n",
    "\\lim_{s\\rightarrow\\infty}v(s)=0,\n",
    "\\end{equation}\n",
    "which means\n",
    "\\begin{equation}\n",
    "\\lim_{s\\rightarrow\\infty}As+\\frac{B}{s}=\\lim_{s\\rightarrow\\infty}As=0,\n",
    "\\end{equation}\n",
    "which means $A=0$. $\\square$"
   ]
  },
  {
   "cell_type": "markdown",
   "metadata": {},
   "source": [
    "### Exercise 5.9.3"
   ]
  },
  {
   "cell_type": "markdown",
   "metadata": {},
   "source": [
    "We have thus established that for large values of $s$, $v(s)=\\frac{B}{s}$ for some constant $B$ still to be determined.  For small values of $s$, the value of the put is its intrinsic value $4-s$.  We must choose $B$ so these two functions coincide at some point, i.e., we must find a value for $B$ so that, for some $s>0$,\n",
    "\\begin{equation}\n",
    "f_B(s)=\\frac{B}{s}-(4-s)\n",
    "\\end{equation}\n",
    "equals zero.  Show that, when $B>4$, this function does not take the value $0$ for any $s>0$, but, when $B\\leq 4$, the equation $f_B(s)=0$ has a solution."
   ]
  },
  {
   "cell_type": "markdown",
   "metadata": {},
   "source": [
    "### Solution 5.9.3"
   ]
  },
  {
   "cell_type": "markdown",
   "metadata": {},
   "source": [
    "We want to find $B$ such that\n",
    "\\begin{align}\n",
    "\\frac{B}{s}-(4-s)=0\\Rightarrow\n",
    "B-\\underbrace{s(4-s)}_{\\leq 2(4-2)=4}=0\\Rightarrow\\\\\n",
    "B-s(4-s)\\geq B-4>0 \\quad \\text{if } B>4.\n",
    "\\end{align}"
   ]
  },
  {
   "cell_type": "markdown",
   "metadata": {},
   "source": [
    "In other words, note that the function $s(4-s)$ achieves its maximum at $s=2$, where it attains the value $4$.  Hence, if $B>4$, it is impossible to satisfy the equation $B-s(4-s)=0$."
   ]
  },
  {
   "cell_type": "markdown",
   "metadata": {},
   "source": [
    "On the other hand, note that for any $B\\leq 4$, it always possible to find some $s$ such that $s(4-s)=B$. $\\square$"
   ]
  },
  {
   "cell_type": "markdown",
   "metadata": {},
   "source": [
    "### Exercise 5.9.4"
   ]
  },
  {
   "cell_type": "markdown",
   "metadata": {},
   "source": [
    "Let $B$ be less than or equal to $4$, and let $s_B$ be a solution of the equation $f_B(s)=0$.  Suppose $s_B$ is a stock price that can be attained in the model (i.e., $s_B=2^j$ for some integer $j$).  Suppose further that the owner of the perpetual American put exercises the first time the stock price is $s_B$ or smaller.  Then the discounted risk-neutral expected payoff of the put is $v_B(S_0)$, where $v_B(s)$ is given by the formula\n",
    "\\begin{align}\n",
    "v_B(s)&=4-s \\quad \\text{if } s\\leq s_B,\\\\\n",
    "&=\\frac{B}{s}, \\quad \\text{if } s\\geq s_B.\n",
    "\\end{align}"
   ]
  },
  {
   "cell_type": "markdown",
   "metadata": {},
   "source": [
    "For which values of $B$ and $s_B$ give the owner the largest option value?"
   ]
  },
  {
   "cell_type": "markdown",
   "metadata": {},
   "source": [
    "### Solution 5.9.4"
   ]
  },
  {
   "cell_type": "markdown",
   "metadata": {},
   "source": [
    "Note that if $f_B(s_B)=0$, then $B=s_B(4-s_B)$, so we can rewrite the definition of $v_B(s)$ as\n",
    "\\begin{align}\n",
    "v_B(s)&=4-s \\quad \\quad \\quad \\text{if } s\\leq s_B,\\\\\n",
    "&=\\frac{s_B(4-s_B)}{s} \\quad \\text{if } s\\geq s_B.\n",
    "\\end{align}"
   ]
  },
  {
   "cell_type": "markdown",
   "metadata": {},
   "source": [
    "Hence, the parameters $B,s_B$ affect $v_B(s)$ only in the region $s\\geq s_B$, where $v_B(s)=\\frac{s_B(4-s_B)}{s}$. With respect to $s_B$ (and implicitly also through $B$), this is maximized when $s_B=2$.  This implies $B=2(4-2)=4$. $\\square$"
   ]
  },
  {
   "cell_type": "markdown",
   "metadata": {},
   "source": [
    "### Exercise 5.9.5"
   ]
  },
  {
   "cell_type": "markdown",
   "metadata": {},
   "source": [
    "For $s<s_B$, the derivative of $v_B(s)$ is $v'_B(s)=-1$. For $s>s_B$, this derivative is $v'_B(s)=-\\frac{B}{s^2}$.  Show that the best value of $B$ for the option owner makes the derivative of $v_B(s)$ continuous at $s=s_B$ (i.e., the two formulas for $v'_B(s)$ give the same answer at $s=s_B$)."
   ]
  },
  {
   "cell_type": "markdown",
   "metadata": {},
   "source": [
    "### Solution 5.9.5"
   ]
  },
  {
   "cell_type": "markdown",
   "metadata": {},
   "source": [
    "Plugging in $s_B=2,B=4$, as derived above, we obtain $v'_B(s_B)=-\\frac{B}{s_B^2}=-\\frac{4}{2^2}=-1$, as desired. $\\square$"
   ]
  }
 ],
 "metadata": {
  "kernelspec": {
   "display_name": "Python 3",
   "language": "python",
   "name": "python3"
  },
  "language_info": {
   "codemirror_mode": {
    "name": "ipython",
    "version": 3
   },
   "file_extension": ".py",
   "mimetype": "text/x-python",
   "name": "python",
   "nbconvert_exporter": "python",
   "pygments_lexer": "ipython3",
   "version": "3.7.6"
  }
 },
 "nbformat": 4,
 "nbformat_minor": 4
}
