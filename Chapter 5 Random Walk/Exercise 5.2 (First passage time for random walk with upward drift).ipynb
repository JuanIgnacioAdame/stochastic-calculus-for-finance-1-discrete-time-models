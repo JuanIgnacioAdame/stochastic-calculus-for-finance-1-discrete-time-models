{
 "cells": [
  {
   "cell_type": "markdown",
   "metadata": {},
   "source": [
    "Consider the asymmetric random walk with probability $p$ for an up step and probability $q=1-p$ for a down step, where $\\frac{1}{2}<p<1$ so that $0<q<\\frac{1}{2}$.  In the notation of (5.2.1), let $\\tau_1$ be the first time the random walk starting from level 0 reaches level 1.  If the random walk never reaches this level, then $\\tau_1=\\infty$."
   ]
  },
  {
   "cell_type": "markdown",
   "metadata": {},
   "source": [
    "### Exercise 5.2.1"
   ]
  },
  {
   "cell_type": "markdown",
   "metadata": {},
   "source": [
    "(i) Define $f(\\sigma)=pe^\\sigma+qe^{-\\sigma}$.  Show that $f(\\sigma)>1$ for all $\\sigma>0$."
   ]
  },
  {
   "cell_type": "markdown",
   "metadata": {},
   "source": [
    "First, we observe that $f(\\sigma)$ is (strictly) increasing for all $\\sigma>0$.  To see this, take the derivative and observe that it is strictly positive, i.e.\n",
    "\\begin{equation}\n",
    "\\frac{d}{d\\sigma}f(\\sigma)=\\frac{d}{d\\sigma}(pe^\\sigma+qe^{-\\sigma})=pe^\\sigma-qe^{-\\sigma}>0,\n",
    "\\end{equation}\n",
    "the last inequality holding because $p>q$.  Hence,\n",
    "\\begin{equation}\n",
    "f(\\sigma)>\\lim_{\\sigma\\downarrow 0}f(\\sigma)=\\lim_{\\sigma\\downarrow 0}(pe^\\sigma+qe^{-\\sigma})=p+q=1,\n",
    "\\end{equation}\n",
    "as desired. $\\square$"
   ]
  },
  {
   "cell_type": "markdown",
   "metadata": {},
   "source": [
    "### Exercise 5.2.2"
   ]
  },
  {
   "cell_type": "markdown",
   "metadata": {},
   "source": [
    "(ii) Show that, when $\\sigma>0$, the process\n",
    "\\begin{equation}\n",
    "S_n=e^{\\sigma M_n}\\left(\\frac{1}{f(\\sigma)}\\right)^n\n",
    "\\end{equation}\n",
    "is a martingale."
   ]
  },
  {
   "cell_type": "markdown",
   "metadata": {},
   "source": [
    "We prove this with a straightforward calculation.  Firs observe that\n",
    "\\begin{equation}\n",
    "S_{n+1}=e^{\\sigma M_{n+1}}\\left(\\frac{1}{f(\\sigma)}\\right)^{n+1}=e^{\\sigma M_{n}}e^{\\sigma X_{n+1}}\\left(\\frac{1}{f(\\sigma)}\\right)^{n+1}.\n",
    "\\end{equation}\n",
    "Hence\n",
    "\\begin{align}\n",
    "\\mathbb{E}_n[S_{n+1}]&=\\mathbb{E}_n\\left[e^{\\sigma M_{n}}e^{\\sigma X_{n+1}}\\left(\\frac{1}{f(\\sigma)}\\right)^{n+1}\\right]\\\\\n",
    "&=e^{\\sigma M_{n}}\\mathbb{E}_n\\left[e^{\\sigma X_{n+1}}\\left(\\frac{1}{f(\\sigma)}\\right)^{n+1}\\right]\\\\\n",
    "&=e^{\\sigma M_{n}}\\left[pe^\\sigma\\left(\\frac{1}{f(\\sigma)}\\right)^{n+1}+qe^{-\\sigma}\\left(\\frac{1}{f(\\sigma)}\\right)^{n+1}\\right]\\\\\n",
    "&=e^{\\sigma M_{n}}\\left[\\left(\\frac{1}{f(\\sigma)}\\right)^{n+1}\\underbrace{(pe^{\\sigma}+qe^{-\\sigma})}_{=f(\\sigma)}\\right]\\\\\n",
    "&=e^{\\sigma M_{n}}\\left(\\frac{1}{f(\\sigma)}\\right)^{n}=S_n. \\square\n",
    "\\end{align}"
   ]
  },
  {
   "cell_type": "markdown",
   "metadata": {},
   "source": [
    "### Exercise 5.2.3"
   ]
  },
  {
   "cell_type": "markdown",
   "metadata": {},
   "source": [
    "(iii)  Show that, for $\\sigma>0$,\n",
    "\\begin{equation}\n",
    "e^{-\\sigma}=\\mathbb{E}\\left[\\mathbb{I}_{\\{\\tau_1<\\infty\\}}\\left(\\frac{1}{f(\\sigma)}\\right)^{\\tau_1}\\right].\n",
    "\\end{equation}\n",
    "Conclude that $\\mathbb{P}\\{\\tau_1<\\infty\\}=1$."
   ]
  },
  {
   "cell_type": "markdown",
   "metadata": {},
   "source": [
    "We follow the same technique used to prove Theorem 5.2.2."
   ]
  },
  {
   "cell_type": "markdown",
   "metadata": {},
   "source": [
    "Because $S_n$ is a martingale, the stopped process $S_{n\\land\\tau_1}$ is also a martingale and hence has constant expectation, i.e.,\n",
    "\\begin{equation}\n",
    "1=S_0=\\mathbb{E}S_{n\\land\\tau_1}=\\mathbb{E}\\left[e^{\\sigma M_{n\\land\\tau_1}}\\left(\\frac{1}{f(\\sigma)}\\right)^{n\\land\\tau_1}\\right]\\quad\\text{for all }n\\geq0.\n",
    "\\end{equation}"
   ]
  },
  {
   "cell_type": "markdown",
   "metadata": {},
   "source": [
    "Now we would like to let $n\\rightarrow\\infty$.  In order to do that, we must determine the lmit as $n\\rightarrow\\infty$ of $e^{\\sigma M_{n\\land\\tau_1}}\\left(\\frac{1}{f(\\sigma)}\\right)^{n\\land\\tau_1}$.  We treat the two factors separately.  Note that the factor $e^{\\sigma M_{n\\land\\tau_1}}$ was already analyzed in the proof of Theorem 5.2.2, so we will just use those results directly."
   ]
  },
  {
   "cell_type": "markdown",
   "metadata": {},
   "source": [
    "For the other factor, recall that $f(\\sigma)>1$ for all $\\sigma>0$, so\n",
    "\\begin{equation}\n",
    "0<\\frac{1}{f(\\sigma)}<1 \\quad \\text{for all }\\sigma>0.\n",
    "\\end{equation}\n",
    "Hence, for fixed $\\sigma>0$, we can use that bound to conclude\n",
    "\\begin{align}\n",
    "\\lim_{n\\rightarrow\\infty}\\left(\\frac{1}{f(\\sigma)}\\right)^{n\\land\\tau_1}&=\\left(\\frac{1}{f(\\sigma)}\\right)^{\\tau_1} \\quad \\text{if } \\tau_1<\\infty,\\\\\n",
    "&=0 \\quad \\text{if } \\tau_1=\\infty.\n",
    "\\end{align}"
   ]
  },
  {
   "cell_type": "markdown",
   "metadata": {},
   "source": [
    "This result can be written more compactly as\n",
    "\\begin{equation}\n",
    "\\lim_{n\\rightarrow\\infty}\\left(\\frac{1}{f(\\sigma)}\\right)^{n\\land\\tau_1}=\\mathbb{I}_{\\{\\tau_1<\\infty\\}}\\left(\\frac{1}{f(\\sigma)}\\right)^{\\tau_1}\n",
    "\\end{equation}"
   ]
  },
  {
   "cell_type": "markdown",
   "metadata": {},
   "source": [
    "Using the analysis from the textbook for the factor $e^{\\sigma M_{n\\land\\tau_1}}$, we have\n",
    "\\begin{align}\n",
    "\\lim_{n\\rightarrow\\infty}e^{\\sigma M_{n\\land\\tau_1}}\\left(\\frac{1}{f(\\sigma)}\\right)^{n\\land\\tau_1}&=e^{\\sigma}\\left(\\frac{1}{f(\\sigma)}\\right)^{\\tau_1} \\quad \\text{if } \\tau_1<\\infty,\\\\\n",
    "&=0 \\quad \\text{if } \\tau_1=\\infty.\n",
    "\\end{align}"
   ]
  },
  {
   "cell_type": "markdown",
   "metadata": {},
   "source": [
    "This result can be rewritten more compactly as\n",
    "\\begin{equation}\n",
    "\\lim_{n\\rightarrow\\infty}e^{\\sigma M_{n\\land\\tau_1}}\\left(\\frac{1}{f(\\sigma)}\\right)^{n\\land\\tau_1}=\\mathbb{I}_{\\{\\tau_1<\\infty\\}}e^{\\sigma}\\left(\\frac{1}{f(\\sigma)}\\right)^{\\tau_1}.\n",
    "\\end{equation}"
   ]
  },
  {
   "cell_type": "markdown",
   "metadata": {},
   "source": [
    "In short, we have proven that\n",
    "\\begin{align}\n",
    "\\lim_{n\\rightarrow\\infty}1&=\\lim_{n\\rightarrow\\infty}\\mathbb{E}\\left[e^{\\sigma M_{n\\land\\tau_1}}\\left(\\frac{1}{f(\\sigma)}\\right)^{n\\land\\tau_1}\\right]\\\\\n",
    "&=\\mathbb{E}\\left[\\lim_{n\\rightarrow\\infty}e^{\\sigma M_{n\\land\\tau_1}}\\left(\\frac{1}{f(\\sigma)}\\right)^{n\\land\\tau_1}\\right]\\\\\n",
    "&=\\mathbb{E}\\left[\\mathbb{I}_{\\{\\tau_1<\\infty\\}}e^{\\sigma}\\left(\\frac{1}{f(\\sigma)}\\right)^{\\tau_1}\\right].\n",
    "\\end{align}"
   ]
  },
  {
   "cell_type": "markdown",
   "metadata": {},
   "source": [
    "Multiplying both sides by $e^{-\\sigma}$, we obtain the desired result\n",
    "\\begin{equation}\n",
    "e^{-\\sigma}=\\mathbb{E}\\left[\\mathbb{I}_{\\{\\tau_1<\\infty\\}}\\left(\\frac{1}{f(\\sigma)}\\right)^{\\tau_1}\\right].\n",
    "\\end{equation}"
   ]
  },
  {
   "cell_type": "markdown",
   "metadata": {},
   "source": [
    "Taking the limit as $\\sigma\\downarrow0$, we may also conclude\n",
    "\\begin{align}\n",
    "1=\\lim_{\\sigma\\downarrow0}e^{-\\sigma}&=\\lim_{\\sigma\\downarrow0}\\mathbb{E}\\left[\\mathbb{I}_{\\{\\tau_1<\\infty\\}}\\left(\\frac{1}{f(\\sigma)}\\right)^{\\tau_1}\\right]\\\\\n",
    "&=\\mathbb{E}\\left[\\lim_{\\sigma\\downarrow0}\\mathbb{I}_{\\{\\tau_1<\\infty\\}}\\left(\\frac{1}{f(\\sigma)}\\right)^{\\tau_1}\\right]\\\\\n",
    "&=\\mathbb{E}\\left[\\mathbb{I}_{\\{\\tau_1<\\infty\\}}\\right]=\\mathbb{P}\\{\\tau_1<\\infty\\}.\\square\n",
    "\\end{align}"
   ]
  },
  {
   "cell_type": "markdown",
   "metadata": {},
   "source": [
    "*Remark*: The justification for being able to exchange limits in the places where we exchanged them is the Dominated Convergence Theorem."
   ]
  },
  {
   "cell_type": "markdown",
   "metadata": {},
   "source": [
    "### Exercise 5.2.4"
   ]
  },
  {
   "cell_type": "markdown",
   "metadata": {},
   "source": [
    "(iv) Compute $\\mathbb{E}\\left[\\alpha^{\\tau_1}\\right]$ for $\\alpha\\in(0,1)$."
   ]
  },
  {
   "cell_type": "markdown",
   "metadata": {},
   "source": [
    "We follow the strategy used in the proof of Theorem 5.2.3."
   ]
  },
  {
   "cell_type": "markdown",
   "metadata": {},
   "source": [
    "Note that from the previous exercise we have $1=\\mathbb{E}\\left[e^{\\sigma}\\left(\\frac{1}{f(\\sigma)}\\right)^{\\tau_1}\\right]$"
   ]
  },
  {
   "cell_type": "markdown",
   "metadata": {},
   "source": [
    "Our first goal is to find a $\\sigma>0$ such that\n",
    "\\begin{equation}\n",
    "\\alpha=\\frac{1}{f(\\sigma)}.\n",
    "\\end{equation}"
   ]
  },
  {
   "cell_type": "markdown",
   "metadata": {},
   "source": [
    "This is equivalent to\n",
    "\\begin{align}\n",
    "\\alpha f(\\sigma)-1=0\\Rightarrow\\\\\n",
    "\\alpha pe^{\\sigma}+\\alpha qe^{-\\sigma}-1=0\\Rightarrow\\\\\n",
    "\\alpha q(e^{-\\sigma})^2-e^{-\\sigma}+\\alpha p=0.\n",
    "\\end{align}"
   ]
  },
  {
   "cell_type": "markdown",
   "metadata": {},
   "source": [
    "This is a quadratic function in $e^{-\\sigma}$, and hence\n",
    "\\begin{equation}\n",
    "e^{-\\sigma}=\\frac{1\\pm\\sqrt{1-4\\alpha^2pq}}{2\\alpha q}.\n",
    "\\end{equation}\n",
    "Tedious algebra shows that the above equation can be satisfied for $\\sigma>0$ only if we take the negative root, i.e.\n",
    "\\begin{equation}\n",
    "e^{-\\sigma}=\\frac{1-\\sqrt{1-4\\alpha^2pq}}{2\\alpha q}.\n",
    "\\end{equation}"
   ]
  },
  {
   "cell_type": "markdown",
   "metadata": {},
   "source": [
    "Plugging this into the equation derived in the previous exercise, we get\n",
    "\\begin{equation}\n",
    "\\frac{1-\\sqrt{1-4\\alpha^2pq}}{2\\alpha q}=\\mathbb{E}\\left[\\alpha^{\\tau_1}\\right]. \\square\n",
    "\\end{equation}"
   ]
  },
  {
   "cell_type": "markdown",
   "metadata": {},
   "source": [
    "### Exercise 5.2.5"
   ]
  },
  {
   "cell_type": "markdown",
   "metadata": {},
   "source": [
    "(v) Compute $\\mathbb{E}\\tau_1$."
   ]
  },
  {
   "cell_type": "markdown",
   "metadata": {},
   "source": [
    "We follow the strategy used in the proof of Corollary 5.2.4."
   ]
  },
  {
   "cell_type": "markdown",
   "metadata": {},
   "source": [
    "If we differentiate the expression above with respect to $\\alpha$, we obtain\n",
    "\\begin{align}\n",
    "\\mathbb{E}[\\tau_1\\alpha^{\\tau_1-1}]&=\\frac{\\partial}{\\partial\\alpha}\\mathbb{E}\\alpha^{\\tau_1}\\\\\n",
    "&=\\frac{\\partial}{\\partial\\alpha}\\left(\\frac{1-\\sqrt{1-4\\alpha^2pq}}{2\\alpha q}\\right)\\\\\n",
    "&=-\\frac{1-\\sqrt{1-4\\alpha^2 pq}}{2\\alpha q^2}-\\frac{4\\alpha^2q-4\\alpha^2p}{4\\alpha q\\sqrt{1-4\\alpha^2pq}}.\n",
    "\\end{align}"
   ]
  },
  {
   "cell_type": "markdown",
   "metadata": {},
   "source": [
    "We may not plug in $\\alpha=1$, but we may take the limit as $\\alpha\\uparrow1$, in which case we get\n",
    "\\begin{align}\n",
    "\\lim_{\\alpha\\uparrow 1}&-\\frac{1-\\sqrt{1-4\\alpha^2 pq}}{2\\alpha q^2}-\\frac{4\\alpha^2q-4\\alpha^2p}{4\\alpha q\\sqrt{1-4\\alpha^2pq}}\\\\\n",
    "&=\\frac{\\frac{1}{|1-2q|}-1}{2q}.\n",
    "\\end{align}"
   ]
  },
  {
   "cell_type": "markdown",
   "metadata": {},
   "source": [
    "Because $q<\\frac{1}{2}$, $|1-2q|=1-2q$, so the above expression reduces to\n",
    "\\begin{align}\n",
    "\\frac{\\frac{1}{1-2q}-1}{2q}=\\frac{1}{p-q}.\n",
    "\\end{align}"
   ]
  },
  {
   "cell_type": "markdown",
   "metadata": {},
   "source": [
    "In short, we get\n",
    "\\begin{align}\n",
    "\\lim_{\\alpha\\uparrow 1}\\mathbb{E}[\\tau_1\\alpha^{\\tau_1-1}]&=\\lim_{\\alpha\\uparrow 1}-\\frac{1-\\sqrt{1-4\\alpha^2 pq}}{2\\alpha q^2}-\\frac{4\\alpha^2q-4\\alpha^2p}{4\\alpha q\\sqrt{1-4\\alpha^2pq}}\\Rightarrow\\\\\n",
    "\\mathbb{E}\\left[\\lim_{\\alpha\\uparrow 1}\\tau_1\\alpha^{\\tau_1-1}\\right]&=\\frac{1}{p-q}\\Rightarrow\\\\\n",
    "\\mathbb{E}\\tau_1&=\\frac{1}{p-q}. \\square\n",
    "\\end{align}"
   ]
  },
  {
   "cell_type": "markdown",
   "metadata": {},
   "source": [
    "*Remark*: The fact that we can take the limit as $\\alpha\\uparrow1$ inside the $\\mathbb{E}[.]$ is justified by the Monotone Convergence Theorem.  The fact that we can take the partial derivative $\\frac{\\partial}{\\partial\\alpha}$ inside the $\\mathbb{E}[.]$ can also be justified by an argument such as that in Exercise 8 in Volume 2, Chapter 1."
   ]
  },
  {
   "cell_type": "markdown",
   "metadata": {},
   "source": [
    "### Code"
   ]
  },
  {
   "cell_type": "code",
   "execution_count": 44,
   "metadata": {},
   "outputs": [],
   "source": [
    "import numpy as np\n",
    "import random\n",
    "\n",
    "# choose probabilities\n",
    "# choose p>1/2\n",
    "p = 0.7\n",
    "q = 0.3\n",
    "# choose alpha in (0,1)\n",
    "a = 0.9\n",
    "# number of experiments\n",
    "num_experiments = int(10**4)\n",
    "# store results\n",
    "oneResults = []\n",
    "# max number of tosses before we stop simulating random walk\n",
    "max_tosses = int(1e03)\n",
    "for experiment in range(num_experiments):\n",
    "    M = 0\n",
    "    t = 0\n",
    "    # throw coins until we reach level 1, or we reach max_tosses limit\n",
    "    while M<1 and t<max_tosses:\n",
    "        t +=1\n",
    "        M += np.random.choice([-1,1], replace=True, p=[q,p])\n",
    "        \n",
    "    oneResults.append(int(t!=max_tosses)*t + int(t==max_tosses)*max_tosses)"
   ]
  },
  {
   "cell_type": "code",
   "execution_count": 45,
   "metadata": {},
   "outputs": [
    {
     "name": "stdout",
     "output_type": "stream",
     "text": [
      "Empirical first passage time = 2.49\n",
      "Theoretical first passage time = 2.5000000000000004\n"
     ]
    }
   ],
   "source": [
    "print(\"Empirical first passage time = {0}\".format(np.mean(oneResults)))\n",
    "print(\"Theoretical first passage time = {0}\".format(1/(2*p-1)))"
   ]
  },
  {
   "cell_type": "code",
   "execution_count": null,
   "metadata": {},
   "outputs": [],
   "source": []
  }
 ],
 "metadata": {
  "kernelspec": {
   "display_name": "Python 3",
   "language": "python",
   "name": "python3"
  },
  "language_info": {
   "codemirror_mode": {
    "name": "ipython",
    "version": 3
   },
   "file_extension": ".py",
   "mimetype": "text/x-python",
   "name": "python",
   "nbconvert_exporter": "python",
   "pygments_lexer": "ipython3",
   "version": "3.7.6"
  }
 },
 "nbformat": 4,
 "nbformat_minor": 4
}
