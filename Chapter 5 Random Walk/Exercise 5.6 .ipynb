{
 "cells": [
  {
   "cell_type": "markdown",
   "metadata": {},
   "source": [
    "### Problem"
   ]
  },
  {
   "cell_type": "markdown",
   "metadata": {},
   "source": [
    "The value of the perpetual American put in Section $5.4$ is the limit as $n\\rightarrow\\infty$ of the value of an American put with the same strike price 4 that expires at time $n$. When the initial stock price is $S_0=4$, the value of the perpetual American put is 1 (see $(5.4.6)$ with $j=2$). Show that the value of an American put in the same model when the initial stock price is $S_0=4$ is $0.80$ if the put expires at time $1, 0.928$ if the put expires at time $3$, and $0.96896$ if the put expires at time $5$."
   ]
  },
  {
   "cell_type": "markdown",
   "metadata": {},
   "source": [
    "### Solution"
   ]
  },
  {
   "cell_type": "markdown",
   "metadata": {},
   "source": [
    "Please see the code below. $\\square$"
   ]
  },
  {
   "cell_type": "code",
   "execution_count": 1,
   "metadata": {},
   "outputs": [],
   "source": [
    "from collections import defaultdict"
   ]
  },
  {
   "cell_type": "code",
   "execution_count": 2,
   "metadata": {},
   "outputs": [],
   "source": [
    "# intrinsic value of american put\n",
    "def G(S,K):\n",
    "    return K-S"
   ]
  },
  {
   "cell_type": "code",
   "execution_count": 3,
   "metadata": {},
   "outputs": [],
   "source": [
    "# price an american put in a n-period binomial model with\n",
    "# initial stock price S0,\n",
    "# up factor u,\n",
    "# interest rate 1+r,\n",
    "# down factor d,\n",
    "# strike price K\n",
    "def time_zero_price(S0=4,u=2,r=0.25,d=0.5,n=1,K=4):\n",
    "    # calculate risk-neutral probabilities from u,r,d\n",
    "    p = (1+r-d)/(u-d)\n",
    "    q = (u-1-r)/(u-d)\n",
    "    # store derivative prices for different paths\n",
    "    V = defaultdict(int)\n",
    "    \n",
    "    # generate prices at expiry, i.e. time n\n",
    "    for i in range(2**n):\n",
    "        # generate bit string\n",
    "        bin_omega = (n-len(bin(i)[2:]))*'0'+bin(i)[2:]\n",
    "        # corresponding omega\n",
    "        omega = ''\n",
    "        for bit in bin_omega:\n",
    "            omega = omega + int(bit=='0')*'H' + int(bit=='1')*'T'\n",
    "        # corresponding S(omega)\n",
    "        S = S0\n",
    "        for w in omega:\n",
    "            S = S * (int((w=='H'))*u + int((w=='T'))*d)\n",
    "        # corresponding V(omega)\n",
    "        V[omega] = max(0, G(S,K))\n",
    "        \n",
    "    # generate prices for earlier times\n",
    "    for t in range(n-1,1-1,-1):\n",
    "        for i in range(2**t):\n",
    "            # generate bit strong\n",
    "            bin_omega = (t-len(bin(i)[2:]))*'0'+bin(i)[2:]\n",
    "            # corresponding omega\n",
    "            omega = ''\n",
    "            for bit in bin_omega:\n",
    "                omega = omega + int(bit=='0')*'H' + int(bit=='1')*'T'\n",
    "            # corresponding S(omega)\n",
    "            S = S0\n",
    "            for w in omega:\n",
    "                S = S * (int((w=='H'))*u + int((w=='T'))*d)\n",
    "            # futre discounted price\n",
    "            fdp = 1/(1+r)*(p*V[omega+'H']+q*V[omega+'T'])\n",
    "            # corresponding V(omega)\n",
    "            V[omega] = max(fdp, G(S,K))\n",
    "            \n",
    "    # time zero price\n",
    "    fdp = 1/(1+r)*(p*V['H']+q*V['T'])\n",
    "    V[''] = max(fdp, G(S0,K))\n",
    "    return V\n",
    "            \n",
    "    \n",
    "    \n",
    "    "
   ]
  },
  {
   "cell_type": "code",
   "execution_count": 4,
   "metadata": {},
   "outputs": [],
   "source": [
    "from matplotlib import pyplot as plt"
   ]
  },
  {
   "cell_type": "code",
   "execution_count": 5,
   "metadata": {},
   "outputs": [],
   "source": [
    "v0 = {}\n",
    "for t in range(1,11+1,2):\n",
    "    v0[t] = time_zero_price(S0=4,u=2,r=0.25,d=0.5,n=t,K=4)['']"
   ]
  },
  {
   "cell_type": "code",
   "execution_count": 6,
   "metadata": {},
   "outputs": [
    {
     "data": {
      "image/png": "[encoded data removed]",
      "text/plain": [
       "<Figure size 432x288 with 1 Axes>"
      ]
     },
     "metadata": {
      "needs_background": "light"
     },
     "output_type": "display_data"
    }
   ],
   "source": [
    "plt.clf()\n",
    "\n",
    "# plot data\n",
    "plt.plot([1,11], [1,1], label='Perpetual american put price')\n",
    "plt.plot(v0.keys(), v0.values(), label='American put price')\n",
    "\n",
    "# y axis\n",
    "plt.ylabel('Price')\n",
    "\n",
    "# x axis\n",
    "plt.xlabel('Binomial model length, n')\n",
    "\n",
    "# title\n",
    "plt.title(\"Perpetual put price vs limit as n goes to infinity\")\n",
    "\n",
    "plt.legend()\n",
    "plt.show()"
   ]
  },
  {
   "cell_type": "code",
   "execution_count": null,
   "metadata": {},
   "outputs": [],
   "source": []
  }
 ],
 "metadata": {
  "kernelspec": {
   "display_name": "Python 3",
   "language": "python",
   "name": "python3"
  },
  "language_info": {
   "codemirror_mode": {
    "name": "ipython",
    "version": 3
   },
   "file_extension": ".py",
   "mimetype": "text/x-python",
   "name": "python",
   "nbconvert_exporter": "python",
   "pygments_lexer": "ipython3",
   "version": "3.7.6"
  }
 },
 "nbformat": 4,
 "nbformat_minor": 4
}
