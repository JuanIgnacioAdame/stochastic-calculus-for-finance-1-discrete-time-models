{
 "cells": [
  {
   "cell_type": "markdown",
   "metadata": {},
   "source": [
    "# Exercise 4.1"
   ]
  },
  {
   "cell_type": "markdown",
   "metadata": {},
   "source": [
    "In the three-period model of Figure 1.2.2 of Chapter 1, let the interest rate be $r=\\frac{1}{4}$ so the risk-neutral probabilities are $\\tilde{p}=\\tilde{q}=\\frac{1}{2}$."
   ]
  },
  {
   "cell_type": "markdown",
   "metadata": {},
   "source": [
    "(i) Determine the price at time zero, denoted $V_0^P$, of the American put that expires at time three and has intrinsic value $g_P(s)=(4-s)^+$."
   ]
  },
  {
   "cell_type": "markdown",
   "metadata": {},
   "source": [
    "(ii) Determine the price at time zero, denoted $V_0^C$, of the American call that expires at time three and has intrinsic value $g_C(s)=(s-4)^+$."
   ]
  },
  {
   "cell_type": "markdown",
   "metadata": {},
   "source": [
    "(iii) Determine the price at time zero, denoted $V_0^S$, of the American straddle that expires at time three and has intrinsic value $g_S(s)=g_P(s)+g_C(s)$."
   ]
  },
  {
   "cell_type": "markdown",
   "metadata": {},
   "source": [
    "(iv) Explain why $V_0^S<V_0^P+V_0^C$."
   ]
  },
  {
   "cell_type": "markdown",
   "metadata": {},
   "source": [
    "# Answer"
   ]
  },
  {
   "cell_type": "markdown",
   "metadata": {},
   "source": [
    "(i) Note that we can use the pricing algorithm (4.2.5),(4.2.6) for non-path-dependent american derivatives.  In other words, we can price the security with the algorithm\n",
    "\\begin{align}\n",
    "&v_N(s)=\\max\\{g(s),0\\},\\\\\n",
    "&v_n=\\max\\{g(s), \\frac{1}{1+r}[\\tilde{p}v_{n+1}(us)+\\tilde{q}v_{n+1}(ds)]\\}, \\; n=N-1,\\dots,0.\n",
    "\\end{align}\n",
    "To avoid doing the numerious calculation above by hand, we write a Python code to perform these calculations for us."
   ]
  },
  {
   "cell_type": "code",
   "execution_count": 1,
   "metadata": {},
   "outputs": [
    {
     "name": "stdout",
     "output_type": "stream",
     "text": [
      "['HH', 'HT', 'TH', 'TT']\n"
     ]
    }
   ],
   "source": [
    "# returns list of possible sequence of coin tosses of length n.\n",
    "def possible_coin_tosses(n=1):\n",
    "    coin_toss_possibilities = []\n",
    "    for bin_seq in [(n-len(bin(i)[2:]))*'0'+bin(i)[2:] for i in range(2**n)]:\n",
    "        coin_toss_seq = ''\n",
    "        for bit in bin_seq:\n",
    "            if bit == '0':\n",
    "                coin_toss_seq = coin_toss_seq + 'H'\n",
    "            elif bit == '1':\n",
    "                coin_toss_seq = coin_toss_seq + 'T'\n",
    "        coin_toss_possibilities.append(coin_toss_seq)\n",
    "    return coin_toss_possibilities\n",
    "print(possible_coin_tosses(n=2))"
   ]
  },
  {
   "cell_type": "code",
   "execution_count": 2,
   "metadata": {},
   "outputs": [
    {
     "name": "stdout",
     "output_type": "stream",
     "text": [
      "{0: {'': 4}, 1: {'H': 8, 'T': 2.0}, 2: {'HH': 16, 'HT': 4.0, 'TH': 4.0, 'TT': 1.0}, 3: {'HHH': 32, 'HHT': 8.0, 'HTH': 8.0, 'HTT': 2.0, 'THH': 8.0, 'THT': 2.0, 'TTH': 2.0, 'TTT': 0.5}}\n"
     ]
    }
   ],
   "source": [
    "# based on constant d, r, and u factors, generate binomial model\n",
    "# list of stock prices, given some initial stock price,\n",
    "# from time 0 to time t_f, inclusive\n",
    "def bm_stock_prices(s_0=4, d=0.5, r=0.25, u=2, t_f=3):\n",
    "    S={0:{'': s_0}}\n",
    "    for t in range(1,t_f+1):\n",
    "        S[t]={}\n",
    "        for coin_toss_seq in possible_coin_tosses(t):\n",
    "            mult_factor = 1\n",
    "            for toss in coin_toss_seq:\n",
    "                if toss == 'H':\n",
    "                    mult_factor *= u\n",
    "                elif toss == 'T':\n",
    "                    mult_factor *= d\n",
    "            S[t][coin_toss_seq]=s_0*mult_factor\n",
    "    return S\n",
    "S = bm_stock_prices()\n",
    "print(S)"
   ]
  },
  {
   "cell_type": "code",
   "execution_count": 3,
   "metadata": {},
   "outputs": [
    {
     "name": "stdout",
     "output_type": "stream",
     "text": [
      "{0: {'': 0}, 1: {'H': 0, 'T': 2.0}, 2: {'HH': 0, 'HT': 0.0, 'TH': 0.0, 'TT': 3.0}, 3: {'HHH': 0, 'HHT': 0, 'HTH': 0, 'HTT': 2.0, 'THH': 0, 'THT': 2.0, 'TTH': 2.0, 'TTT': 3.5}}\n"
     ]
    }
   ],
   "source": [
    "# compute intrinsic value of american put with strike price K,\n",
    "# and underlying stock price s\n",
    "def american_put_g(s, K=4):\n",
    "    return max([K-s, 0])\n",
    "# generate dictionary of intrinsic values for all possible coin tosses from time 0\n",
    "# to time t_f, inclusive, based on the stock prices in the dictionary S\n",
    "Gp = {}\n",
    "for t in S.keys():\n",
    "    Gp[t]={}\n",
    "    for coin_toss_seq, stock_price in S[t].items():\n",
    "        Gp[t][coin_toss_seq] = american_put_g(s=stock_price, K=4)\n",
    "print(Gp)"
   ]
  },
  {
   "cell_type": "code",
   "execution_count": 4,
   "metadata": {},
   "outputs": [],
   "source": [
    "# up factor, down factor, interest rate, and corresponding risk-neutral probabilities\n",
    "d = 0.5\n",
    "u = 2\n",
    "r = 0.25\n",
    "p = (1+r-d)/(u-d)\n",
    "q = (u-1-r)/(u-d)"
   ]
  },
  {
   "cell_type": "code",
   "execution_count": 5,
   "metadata": {},
   "outputs": [
    {
     "name": "stdout",
     "output_type": "stream",
     "text": [
      "{3: {'HHH': 0, 'HHT': 0, 'HTH': 0, 'HTT': 2.0, 'THH': 0, 'THT': 2.0, 'TTH': 2.0, 'TTT': 3.5}, 2: {'HH': 0, 'HT': 0.8, 'TH': 0.8, 'TT': 3.0}, 1: {'H': 0.32000000000000006, 'T': 2.0}, 0: {'': 0.9280000000000002}}\n"
     ]
    }
   ],
   "source": [
    "# Based on the stock prices in the dictionary S and the intrinsic values in\n",
    "# the dictionary G, calculate the derivative prices V\n",
    "Vp = {}\n",
    "for t in list(S.keys())[::-1]:\n",
    "    Vp[t] = {}\n",
    "    for coin_toss_seq, value in Gp[t].items():\n",
    "        if t==max(S.keys()):\n",
    "            Vp[t][coin_toss_seq] = max([value, 0])\n",
    "        else:\n",
    "            rnd_price = (1/(1+r))*(p*Vp[t+1][coin_toss_seq+'H']+q*Vp[t+1][coin_toss_seq+'T'])\n",
    "            Vp[t][coin_toss_seq] = max([value, rnd_price])     \n",
    "print(Vp) "
   ]
  },
  {
   "cell_type": "markdown",
   "metadata": {},
   "source": [
    "As we can see from the dictionary above, $V_0^P=$ `V[0]['']` $=0.928. \\square$"
   ]
  },
  {
   "cell_type": "markdown",
   "metadata": {},
   "source": [
    "(ii) We can take the same approach as we did for (i).  We just have to compute different dictionary for $G$ because the intrinsic value function has changed. "
   ]
  },
  {
   "cell_type": "code",
   "execution_count": 6,
   "metadata": {},
   "outputs": [
    {
     "name": "stdout",
     "output_type": "stream",
     "text": [
      "{0: {'': 0}, 1: {'H': 4, 'T': 0}, 2: {'HH': 12, 'HT': 0.0, 'TH': 0.0, 'TT': 0}, 3: {'HHH': 28, 'HHT': 4.0, 'HTH': 4.0, 'HTT': 0, 'THH': 4.0, 'THT': 0, 'TTH': 0, 'TTT': 0}}\n"
     ]
    }
   ],
   "source": [
    "# compute intrinsic value of american call with strike price K,\n",
    "# and underlying stock price s\n",
    "def american_call_g(s, K=4):\n",
    "    return max([s-K, 0])\n",
    "# generate dictionary of intrinsic values for all possible coin tosses from time 0\n",
    "# to time t_f, inclusive, based on the stock prices in the dictionary S\n",
    "Gc = {}\n",
    "for t in S.keys():\n",
    "    Gc[t]={}\n",
    "    for coin_toss_seq, stock_price in S[t].items():\n",
    "        Gc[t][coin_toss_seq] = american_call_g(s=stock_price, K=4)\n",
    "print(Gc)"
   ]
  },
  {
   "cell_type": "code",
   "execution_count": 7,
   "metadata": {},
   "outputs": [
    {
     "name": "stdout",
     "output_type": "stream",
     "text": [
      "{3: {'HHH': 28, 'HHT': 4.0, 'HTH': 4.0, 'HTT': 0, 'THH': 4.0, 'THT': 0, 'TTH': 0, 'TTT': 0}, 2: {'HH': 12.8, 'HT': 1.6, 'TH': 1.6, 'TT': 0}, 1: {'H': 5.760000000000001, 'T': 0.6400000000000001}, 0: {'': 2.5600000000000005}}\n"
     ]
    }
   ],
   "source": [
    "# Based on the stock prices in the dictionary S and the intrinsic values in\n",
    "# the dictionary G, calculate the derivative prices V\n",
    "Vc = {}\n",
    "for t in list(S.keys())[::-1]:\n",
    "    Vc[t] = {}\n",
    "    for coin_toss_seq, value in Gc[t].items():\n",
    "        if t==max(S.keys()):\n",
    "            Vc[t][coin_toss_seq] = max([value, 0])\n",
    "        else:\n",
    "            rnd_price = (1/(1+r))*(p*Vc[t+1][coin_toss_seq+'H']+q*Vc[t+1][coin_toss_seq+'T'])\n",
    "            Vc[t][coin_toss_seq] = max([value, rnd_price])     \n",
    "print(Vc)"
   ]
  },
  {
   "cell_type": "markdown",
   "metadata": {},
   "source": [
    "As we can see from the dictionary above, $V_0^C=$ `V[0]['']` $=2.56. \\square$"
   ]
  },
  {
   "cell_type": "markdown",
   "metadata": {},
   "source": [
    "(iii) Again we can take the same approach as we did for (i)-(ii), but we first have to compute different dictionary for $G$ because the intrinsic value function has changed."
   ]
  },
  {
   "cell_type": "code",
   "execution_count": 8,
   "metadata": {},
   "outputs": [
    {
     "name": "stdout",
     "output_type": "stream",
     "text": [
      "{0: {'': 0}, 1: {'H': 4, 'T': 2.0}, 2: {'HH': 12, 'HT': 0.0, 'TH': 0.0, 'TT': 3.0}, 3: {'HHH': 28, 'HHT': 4.0, 'HTH': 4.0, 'HTT': 2.0, 'THH': 4.0, 'THT': 2.0, 'TTH': 2.0, 'TTT': 3.5}}\n"
     ]
    }
   ],
   "source": [
    "# compute intrinsic value of american call with strike price K,\n",
    "# and underlying stock price s\n",
    "def american_straddle_g(s, K=4):\n",
    "    return american_put_g(s=s, K=K) + american_call_g(s=s, K=K)\n",
    "# generate dictionary of intrinsic values for all possible coin tosses from time 0\n",
    "# to time t_f, inclusive, based on the stock prices in the dictionary S\n",
    "Gs = {}\n",
    "for t in S.keys():\n",
    "    Gs[t]={}\n",
    "    for coin_toss_seq, stock_price in S[t].items():\n",
    "        Gs[t][coin_toss_seq] = american_straddle_g(s=stock_price, K=4)\n",
    "print(Gs)"
   ]
  },
  {
   "cell_type": "code",
   "execution_count": 9,
   "metadata": {},
   "outputs": [
    {
     "name": "stdout",
     "output_type": "stream",
     "text": [
      "{3: {'HHH': 28, 'HHT': 4.0, 'HTH': 4.0, 'HTT': 2.0, 'THH': 4.0, 'THT': 2.0, 'TTH': 2.0, 'TTT': 3.5}, 2: {'HH': 12.8, 'HT': 2.4000000000000004, 'TH': 2.4000000000000004, 'TT': 3.0}, 1: {'H': 6.080000000000001, 'T': 2.16}, 0: {'': 3.296000000000001}}\n"
     ]
    }
   ],
   "source": [
    "# Based on the stock prices in the dictionary S and the intrinsic values in\n",
    "# the dictionary G, calculate the derivative prices V\n",
    "Vs = {}\n",
    "for t in list(S.keys())[::-1]:\n",
    "    Vs[t] = {}\n",
    "    for coin_toss_seq, value in Gs[t].items():\n",
    "        if t==max(S.keys()):\n",
    "            Vs[t][coin_toss_seq] = max([value, 0])\n",
    "        else:\n",
    "            rnd_price = (1/(1+r))*(p*Vs[t+1][coin_toss_seq+'H']+q*Vs[t+1][coin_toss_seq+'T'])\n",
    "            Vs[t][coin_toss_seq] = max([value, rnd_price])     \n",
    "print(Vs)"
   ]
  },
  {
   "cell_type": "markdown",
   "metadata": {},
   "source": [
    "As we can see from the dictionary above, $V_0^S=$ `V[0]['']` $=3.296. \\square$"
   ]
  },
  {
   "cell_type": "markdown",
   "metadata": {},
   "source": [
    "(iv) We start by proving that $V_N^S=V_N^P+V_N^C$, and that $V_n^S\\leq V_n^P+V_n^C$ for $n=N-1,\\dots,0$."
   ]
  },
  {
   "cell_type": "markdown",
   "metadata": {},
   "source": [
    "We start by proving the induction hypothesis.  Recall that $V_N^S(s)=\\max\\{g_S(s),0\\}=\\max\\{g_C(s)+g_P(s),0\\}=\\max\\{(s-K)^++(K-s)^+,0\\}=(s-K)^++(K-s)^+=g_C(s)+g_P(s)$.\n",
    "\n",
    "Similarly, $V_N^P(s)=\\max\\{g_P(s),0\\}=\\max\\{(K-s)^+,0\\}=(K-s)^+=g_P(s)$.\n",
    "\n",
    "Similarly, $V_N^C(s)=\\max\\{g_C(s),0\\}=\\max\\{(s-K)^+,0\\}=(s-K)^+=g_C(s)$.\n",
    "\n",
    "In short, $V_N^S(s)=V_N^P(s)+V_N^C(s)$.  In particular, our induction hypothesis $V_N^S(s)\\leq V_N^P(s)+V_N^C(s)$ holds."
   ]
  },
  {
   "cell_type": "markdown",
   "metadata": {},
   "source": [
    "Now let $n<N$.  We want to show that if $V_{n+1}^S\\leq V_{n+1}^P+V_{n+1}^C$ holds, then $V_{n}^S\\leq V_{n}^P+V_{n}^C$ holds.\n",
    "\n",
    "Recall that\n",
    "\\begin{align}\n",
    "V_{n}^S(s)&=\\max\\{g_S(s), \\frac{1}{1+r}[\\tilde{p}V^S_{n+1}(us)+\\tilde{q}V^S_{n+1}(ds)]\\}\\\\\n",
    "&=\\max\\{g_P(s)+g_C(s), \\frac{1}{1+r}[\\tilde{p}V^S_{n+1}(us)+\\tilde{q}V^S_{n+1}(ds)]\\}.\n",
    "\\end{align}\n",
    "By the induction hypothesis, $V^S_{n+1}(us)\\leq V^P_{n+1}(us)+V^C_{n+1}(us)$, and $V^S_{n+1}(ds)\\leq V^P_{n+1}(ds)+V^C_{n+1}(ds)$.  Hence,\n",
    "\\begin{align}\n",
    "V_{n}^S(s)&\\leq \\max\\left\\{g_P(s)+g_C(s), \\frac{1}{1+r}[\\tilde{p}(V^P_{n+1}(us)+V^C_{n+1}(us))+\\tilde{q}(V^P_{n+1}\n",
    "(ds)+V^C_{n+1}(ds))]\\right\\}\\\\\n",
    "&=\\max\\left\\{g_P(s)+g_C(s), \\frac{1}{1+r}[\\tilde{p}V^P_{n+1}(us)+\\tilde{q}V^P_{n+1}(ds)] + \\frac{1}{1+r}[\\tilde{p}V^C_{n+1}(us)+\\tilde{q}V^C_{n+1}(ds)]\\right\\}.\n",
    "\\end{align}"
   ]
  },
  {
   "cell_type": "markdown",
   "metadata": {},
   "source": [
    "Our goal at this point is to ''break up'' the expression above according to the inequality\n",
    "\\begin{equation}\n",
    "\\max\\{a+b,c+d\\}\\leq\\max\\{a,c\\}+\\max\\{b,d\\}.\n",
    "\\end{equation}\n",
    "This inequality can be verified directly.\n",
    "\n",
    "If $\\max\\{a+b,c+d\\}=a+b,\\;\\max\\{a,c\\}=a,\\;\\max\\{b,d\\}=b$, then $\\max\\{a+b,c+d\\}=\\max\\{a,c\\}+\\max\\{b,d\\}$.\n",
    "\n",
    "If $\\max\\{a+b,c+d\\}=a+b,\\;\\max\\{a,c\\}=a,\\;\\max\\{b,d\\}=d$, then $\\max\\{a+b,c+d\\}\\leq\\max\\{a,c\\}+\\max\\{b,d\\}$.\n",
    "\n",
    "If $\\max\\{a+b,c+d\\}=a+b,\\;\\max\\{a,c\\}=c,\\;\\max\\{b,d\\}=b$, then $\\max\\{a+b,c+d\\}\\leq\\max\\{a,c\\}+\\max\\{b,d\\}$.\n",
    "\n",
    "Finally, if $\\max\\{a+b,c+d\\}=a+b$, then in fact we cannot have $\\max\\{a,c\\}=c$ and $\\max\\{b,d\\}=d$.\n",
    "\n",
    "Because of symmetry, we immediately arrive at the same resutls for the case $\\max\\{a+b,c+d\\}=c+d$."
   ]
  },
  {
   "cell_type": "markdown",
   "metadata": {},
   "source": [
    "Using the inequality above and the expression for $V_{n}^S(s)$ above, we have\n",
    "\\begin{align}\n",
    "V_{n}^S(s)&\\leq\\max\\left\\{g_P(s), \\frac{1}{1+r}[\\tilde{p}V^P_{n+1}(us)+\\tilde{q}V^P_{n+1}(ds)]\\right\\} + \\max\\left\\{g_C(s), \\frac{1}{1+r}[\\tilde{p}V^C_{n+1}(us)+\\tilde{q}V^C_{n+1}(ds)]\\right\\}\\\\\n",
    "&=V_{n}^P(s)+V_{n}^C(s).\n",
    "\\end{align}\n",
    "This finishes the proof of our induction claim."
   ]
  },
  {
   "cell_type": "markdown",
   "metadata": {},
   "source": [
    "Note that we introduced an inequality in two places.  First, with the induction hypothesis inequalities\n",
    "\\begin{equation}\n",
    "V^S_{n+1}(us)\\leq V^P_{n+1}(us)+V^C_{n+1}(us),\\\\\n",
    "V^S_{n+1}(ds)\\leq V^P_{n+1}(ds)+V^C_{n+1}(ds).\n",
    "\\end{equation}\n",
    "Whenever one of these inequalities is strict, we see that $V_{n+1}^S(s)<V_{n+1}^P+V_{n+1}^C(s)$."
   ]
  },
  {
   "cell_type": "markdown",
   "metadata": {},
   "source": [
    "Second, we introduced an inequality with\n",
    "\\begin{equation}\n",
    "V_{n}^S(s)\\leq\\max\\left\\{g_P(s), \\frac{1}{1+r}[\\tilde{p}V^P_{n+1}(us)+\\tilde{q}V^P_{n+1}(ds)]\\right\\} + \\max\\left\\{g_C(s), \\frac{1}{1+r}[\\tilde{p}V^C_{n+1}(us)+\\tilde{q}V^C_{n+1}(ds)]\\right\\}.\n",
    "\\end{equation}\n",
    "This inequality is strict whenever the inequality $\\max\\{a+b,c+d\\}\\leq\\max\\{a,c\\}+\\max\\{b,d\\}$ is strict, where\n",
    "\\begin{align}\n",
    "&a=g_P(s),\\\\\n",
    "&b=g_C(s),\\\\\n",
    "&c=\\frac{1}{1+r}[\\tilde{p}V^P_{n+1}(us)+\\tilde{q}V^P_{n+1}(ds)],\\\\\n",
    "&d=\\frac{1}{1+r}[\\tilde{p}V^C_{n+1}(us)+\\tilde{q}V^C_{n+1}(ds)].\n",
    "\\end{align}"
   ]
  },
  {
   "cell_type": "markdown",
   "metadata": {},
   "source": [
    "This is the case in the following four cases. "
   ]
  },
  {
   "cell_type": "markdown",
   "metadata": {},
   "source": [
    "Case 1: The intrinsic value of the straddle is $\\geq$ than its risk-neutral, future-discounted price, $\\max\\{a+b,c+d\\}=a+b$.  The intrinsic value of the put is $\\geq$ than its risk-neutral, future-discounted price, $\\max\\{a,c\\}=a$.  The intrinsic value of the call is $<$ than its risk-neutral, future-discounted price,  $\\max\\{b,d\\}=d>b$."
   ]
  },
  {
   "cell_type": "markdown",
   "metadata": {},
   "source": [
    "Case 2: The intrinsic value of the straddle is $\\geq$ than its risk-neutral, future-discounted price, $\\max\\{a+b,c+d\\}=a+b$.  The intrinsic value of the put is $<$ than its risk-neutral, future-discounted price, $\\max\\{a,c\\}=c>a$.  The intrinsic value of the call is $\\geq$ than its risk-neutral, future-discounted price,  $\\max\\{b,d\\}=b$."
   ]
  },
  {
   "cell_type": "markdown",
   "metadata": {},
   "source": [
    "Case 3: The risk-neutral, future discounted price of the straddle is $\\geq$ than its intrinsic value, $\\max\\{a+b,c+d\\}=c+d$. The risk-neutral, future discounted price of the put is $\\geq$ than its intrinsic value, $\\max\\{a,c\\}=c$. The risk-neutral, future discounted price of the put is $<$ than its intrinsic value, $\\max\\{b,d\\}=b>d$. "
   ]
  },
  {
   "cell_type": "markdown",
   "metadata": {},
   "source": [
    "Case 4: The risk-neutral, future discounted price of the straddle is $\\geq$ than its intrinsic value, $\\max\\{a+b,c+d\\}=c+d$. The risk-neutral, future discounted price of the put is $<$ than its intrinsic value, $\\max\\{a,c\\}=a>c$. The risk-neutral, future discounted price of the put is $\\geq$ than its intrinsic value, $\\max\\{b,d\\}=d$. "
   ]
  },
  {
   "cell_type": "markdown",
   "metadata": {},
   "source": [
    "The results above are consistent with the following intuition.  Just because it is optimal to execute a straddle, it does not mean that it is optimal to simultaneously execute a put and a call (Cases 1 and 2 above).  Similarly, just because it is better to hold off on the executing a straddle, does not mean it is optimal to simultaneously hold off on the executing of a put and a call (Cases 3 and 4 above).  We finish by remarking that the code immediately below can be used to see that we encounter Case 4 if the first coin toss results in $T$.  The code below *that* can be used to see that the induction hypothesis inequalities are strict in that case, as well as at time 0. $\\square$"
   ]
  },
  {
   "cell_type": "code",
   "execution_count": 13,
   "metadata": {},
   "outputs": [
    {
     "name": "stdout",
     "output_type": "stream",
     "text": [
      "Time = 1\n",
      "Coin tosses = T\n",
      "Case 4\n"
     ]
    }
   ],
   "source": [
    "# non-induction-hypothesis inequalities\n",
    "for t in range(0,2+1):\n",
    "    if t==0:\n",
    "        a = Gp[0]['']\n",
    "        b = Gc[0]['']\n",
    "        c = 1/(1+r)*(p*Vp[t+1][''+'H']+q*Vp[t+1][''+'T'])\n",
    "        d = 1/(1+r)*(p*Vc[t+1][''+'H']+q*Vc[t+1][''+'T'])\n",
    "        if max([a+b, c+d])==a+b and max([a, c])==a and max([b, d])>b:\n",
    "            print(\"Case 1\")\n",
    "        elif max([a+b, c+d])==a+b and max([a, c])>a and max([b, d])==b:\n",
    "            print(\"Case 2\")\n",
    "        elif max([a+b, c+d])==c+d and max([a, c])==c and max([b, d])>d:\n",
    "            print(\"Case 3\")\n",
    "        elif max([a+b, c+d])==c+d and max([a, c])>c and max([b, d])==d:\n",
    "            print(\"Case 4\")\n",
    "    elif t>0:\n",
    "        for coin_toss_seq in Gp[t].keys():\n",
    "            a = Gp[t][coin_toss_seq]\n",
    "            b = Gc[t][coin_toss_seq]\n",
    "            c = 1/(1+r)*(p*Vp[t+1][coin_toss_seq+'H']+q*Vp[t+1][coin_toss_seq+'T'])\n",
    "            d = 1/(1+r)*(p*Vc[t+1][coin_toss_seq+'H']+q*Vc[t+1][coin_toss_seq+'T'])\n",
    "            if max([a+b, c+d])==a+b and max([a, c])==a and max([b, d])>b:\n",
    "                print(\"Case 1\")\n",
    "            elif max([a+b, c+d])==a+b and max([a, c])>a and max([b, d])==b:\n",
    "                print(\"Case 2\")\n",
    "            elif max([a+b, c+d])==c+d and max([a, c])==c and max([b, d])>d:\n",
    "                print(\"Case 3\")\n",
    "            elif max([a+b, c+d])==c+d and max([a, c])>c and max([b, d])==d:\n",
    "                print(\"Time = {0}\".format(t))\n",
    "                print(\"Coin tosses = {0}\".format(coin_toss_seq))\n",
    "                print(\"Case 4\")"
   ]
  },
  {
   "cell_type": "code",
   "execution_count": 14,
   "metadata": {},
   "outputs": [
    {
     "name": "stdout",
     "output_type": "stream",
     "text": [
      "Time = 3\n",
      "\n",
      "\n",
      "HHH: True\n",
      "HHT: True\n",
      "HTH: True\n",
      "HTT: True\n",
      "THH: True\n",
      "THT: True\n",
      "TTH: True\n",
      "TTT: True\n",
      "\n",
      "\n",
      "Time = 2\n",
      "\n",
      "\n",
      "HH: True\n",
      "HT: True\n",
      "TH: True\n",
      "TT: True\n",
      "\n",
      "\n",
      "Time = 1\n",
      "\n",
      "\n",
      "H: True\n",
      "T: False\n",
      "\n",
      "\n",
      "Time = 0\n",
      "\n",
      "\n",
      ": False\n",
      "\n",
      "\n"
     ]
    }
   ],
   "source": [
    "# induction hypothesis inequalities\n",
    "for t in range(3,0-1,-1):\n",
    "    print(\"Time = {0}\".format(t))\n",
    "    print(\"\\n\")\n",
    "    for coin_toss_seq in Vs[t].keys():\n",
    "        flag = Vs[t][coin_toss_seq]==Vp[t][coin_toss_seq]+Vc[t][coin_toss_seq]\n",
    "        print(\"{0}: {1}\".format(coin_toss_seq, flag))\n",
    "    print(\"\\n\")"
   ]
  },
  {
   "cell_type": "code",
   "execution_count": null,
   "metadata": {},
   "outputs": [],
   "source": []
  }
 ],
 "metadata": {
  "kernelspec": {
   "display_name": "Python 3",
   "language": "python",
   "name": "python3"
  },
  "language_info": {
   "codemirror_mode": {
    "name": "ipython",
    "version": 3
   },
   "file_extension": ".py",
   "mimetype": "text/x-python",
   "name": "python",
   "nbconvert_exporter": "python",
   "pygments_lexer": "ipython3",
   "version": "3.7.6"
  }
 },
 "nbformat": 4,
 "nbformat_minor": 4
}
