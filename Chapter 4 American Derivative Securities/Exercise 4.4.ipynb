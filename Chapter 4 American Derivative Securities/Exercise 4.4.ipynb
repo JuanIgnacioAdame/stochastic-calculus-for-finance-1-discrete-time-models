{
 "cells": [
  {
   "cell_type": "markdown",
   "metadata": {},
   "source": [
    "# Problem"
   ]
  },
  {
   "cell_type": "markdown",
   "metadata": {},
   "source": [
    "Consider the American put of Example 4.2.1, which has strike price 5.  Suppose at time zero we sell this put to a purchaser who has inside information about the stock movements and uses the exercise rule $\\rho$ of (4.3.2).  In particular, if the first toss is going to result in $H$, the owner of the put exercises at time zero, when the put has intrinsic value $1$.  If the first toss results in $T$ and the second toss is going to result in $H$, the owner exercise at time one, when the put has intrinsic value $3$.  If the the first two tosses result in $TT$, the owner exercies at time two, when the intrinsic value is 4. In summary, the owner of the put has the payoff random variable\n",
    "\\begin{equation}\n",
    "Y(HH)=1, \\; Y(HT)=1, \\; Y(TH)=3, \\; Y(TT)=4.\n",
    "\\end{equation}"
   ]
  },
  {
   "cell_type": "markdown",
   "metadata": {},
   "source": [
    "The risk-neutral expected value of this payoff, discounted from the time of the payment back to zero, is\n",
    "\\begin{equation}\n",
    "\\tilde{\\mathbb{E}}\\left[\\left(\\frac{4}{5}\\right)^\\rho Y\\right]=\\frac{1}{4}\\left[1+1+\\frac{4}{5}\\times 3+\\frac{16}{25}\\times 4\\right]=1.74.\n",
    "\\end{equation}"
   ]
  },
  {
   "cell_type": "markdown",
   "metadata": {},
   "source": [
    "The time-zero price of the put computed in Example 4.2.1 is only 1.36. Do we need to charge the insider more than this amount if we are going to successfully hedge our short position after selling the put to ther?  Explain why or why not."
   ]
  },
  {
   "cell_type": "markdown",
   "metadata": {},
   "source": [
    "# Answer"
   ]
  },
  {
   "cell_type": "markdown",
   "metadata": {},
   "source": [
    "We do not need to charge the insider more than this amount.  Recall that having initial capital equal to the time-zero price worked out in the example in the textbook allows the seller to hedge the short position in the put *regardless* of when the put is exercised. $\\square$"
   ]
  },
  {
   "cell_type": "markdown",
   "metadata": {},
   "source": [
    "### Some Remarks"
   ]
  },
  {
   "cell_type": "markdown",
   "metadata": {},
   "source": [
    "###### Adapted processes"
   ]
  },
  {
   "cell_type": "markdown",
   "metadata": {},
   "source": [
    "Note the very deliberate omission of a subscript in the payoff random variable $Y(.)$ above.  Up to now we have studied derivatives which have random prices $V_N,V_{N-1},\\dots,V_1,V_0$ at each time $t\\in\\{0,\\dots,N\\}$, where each $V_t$ depends only on the first $t$ coin tosses.  All the various theorems assume this condition holds, and hence we cannot use our usual suite of theorems to price $Y$."
   ]
  },
  {
   "cell_type": "markdown",
   "metadata": {},
   "source": [
    "###### Justification for the price 1.36<1.74"
   ]
  },
  {
   "cell_type": "markdown",
   "metadata": {},
   "source": [
    "The pricing methodology used in the example is further justified by Theorem 4.4.3 and Theorem 4.4.5.  More specifically, Theorem 4.4.3 says the the price is acceptable to the seller because she can construct a hedging portfolio with initial capital 1.36.  Theorem 4.4.5 says that the price is acceptable to the buyer because it is possible to find an exercise policy that is a genuine stopping time (i.e. one that does not make use of insider information) such that the risk-neutral expectation of the future-discounted cashflows she will recieve in the future, according to this exercise policy, is equal to 1.36."
   ]
  },
  {
   "cell_type": "code",
   "execution_count": null,
   "metadata": {},
   "outputs": [],
   "source": []
  }
 ],
 "metadata": {
  "kernelspec": {
   "display_name": "Python 3",
   "language": "python",
   "name": "python3"
  },
  "language_info": {
   "codemirror_mode": {
    "name": "ipython",
    "version": 3
   },
   "file_extension": ".py",
   "mimetype": "text/x-python",
   "name": "python",
   "nbconvert_exporter": "python",
   "pygments_lexer": "ipython3",
   "version": "3.7.6"
  }
 },
 "nbformat": 4,
 "nbformat_minor": 4
}
