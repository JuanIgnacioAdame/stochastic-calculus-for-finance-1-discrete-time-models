{
 "cells": [
  {
   "cell_type": "markdown",
   "metadata": {},
   "source": [
    "# Problem"
   ]
  },
  {
   "cell_type": "markdown",
   "metadata": {},
   "source": [
    "In Example 4.2.1, we computed the time-zero value of the American put with strike price 5 to be 1.36.  Consider an agent who borrows 1.36 at time zero and buys the put.  Explain how this agent can generate sufficient funds to pay off his loan (which grows by 25% each period) by trading in the stock and money markets and optimally exercising the put."
   ]
  },
  {
   "cell_type": "markdown",
   "metadata": {},
   "source": [
    "# Answer"
   ]
  },
  {
   "cell_type": "markdown",
   "metadata": {},
   "source": [
    "The general idea will be to sell the hedging portfolio explained in the example, and exercise the option at some optimal time.  We go over this in detail below."
   ]
  },
  {
   "cell_type": "markdown",
   "metadata": {},
   "source": [
    "###### Time $0\\rightarrow 1$"
   ]
  },
  {
   "cell_type": "markdown",
   "metadata": {},
   "source": [
    "Initially, the agent owns a debt $L_0=-1.36$, and owns the put valued at $V_0^P=1.36$."
   ]
  },
  {
   "cell_type": "markdown",
   "metadata": {},
   "source": [
    "From the example, we see that\n",
    "\\begin{equation}\n",
    "v_1(S_1(H))=S_1(H)\\Delta_0+(1+r)(X_0-\\Delta_0S_0),\n",
    "\\end{equation}\n",
    "where $X_0=L_0=1.36$, and $\\Delta_0=-0.43$.  By adding $(1+r)(-X_0)$ to both sides of the equation above, we obtain\n",
    "\\begin{align}\n",
    "v_1(S_1(H))+(1+r)(-X_0)&=S_1(H)\\Delta_0+(1+r)(X_0-\\Delta_0S_0)+(1+r)(-X_0)\\Rightarrow\\\\\n",
    "v_1(S_1(H))+(1+r)(-X_0)&=S_1(H)\\Delta_0+(1+r)(-\\Delta_0S_0)\\Rightarrow\\\\\n",
    "-v_1(S_1(H))+(1+r)(X_0)&=S_1(H)(-\\Delta_0)+(1+r)(\\Delta_0S_0).\n",
    "\\end{align}"
   ]
  },
  {
   "cell_type": "markdown",
   "metadata": {},
   "source": [
    "Similarly, in the example we also see that\n",
    "\\begin{equation}\n",
    "v_1(S_1(T))=S_1(T)\\Delta_0+(1+r)(X_0-\\Delta_0S_0),\n",
    "\\end{equation}\n",
    "from which it holds that\n",
    "\\begin{align}\n",
    "v_1(S_1(T))+(1+r)(-X_0)&=S_1(T)\\Delta_0+(1+r)(X_0-\\Delta_0S_0)+(1+r)(-X_0)\\Rightarrow\\\\\n",
    "v_1(S_1(T))+(1+r)(-X_0)&=S_1(T)\\Delta_0+(1+r)(-\\Delta_0S_0)\\Rightarrow\\\\\n",
    "-v_1(S_1(T))+(1+r)(X_0)&=S_1(T)(-\\Delta_0)+(1+r)(\\Delta_0S_0).\n",
    "\\end{align}"
   ]
  },
  {
   "cell_type": "markdown",
   "metadata": {},
   "source": [
    "In short, if the same agent owning the put and loan additionally sells $\\Delta_0$ of stock and invests the proceeds in the money market, at time 1 he will have  \n",
    "\\begin{equation}\n",
    "\\boxed{-V_1+(1+r)X_0+(1+r)L_0+V_1=0}.\n",
    "\\end{equation}\n",
    "There was no opportunity to make a profit in this outcome."
   ]
  },
  {
   "cell_type": "markdown",
   "metadata": {},
   "source": [
    "###### Time $1\\rightarrow 2:\\omega_1=H$"
   ]
  },
  {
   "cell_type": "markdown",
   "metadata": {},
   "source": [
    "Suppose now that the coin toss results in $H$.  From the example, we see that\n",
    "\\begin{equation}\n",
    "V_2(HH)=S_2(HH)\\Delta_1(H)+(1+r)(V_1(H)-S_1(H)\\Delta_1(H))\n",
    "\\end{equation}\n",
    "(In the notation of the textbook, $V_1(H)=X_1(H)$.  I will avoid using that notation because I find it somewhat confusing.  In other words, I find $X_1(H)$ ambiguous, but $V_1(H)$ unambiguous.)"
   ]
  },
  {
   "cell_type": "markdown",
   "metadata": {},
   "source": [
    "Multiplying the inequality above by $-1$, we get\n",
    "\\begin{equation}\n",
    "-V_2(HH)=S_2(HH)(-\\Delta_1(H))+(1+r)(S_1(H)\\Delta_1(H)-V_1(H)).\n",
    "\\end{equation}\n",
    "If we now add $(1+r)(1+r)X_0$ to both sides, we get\n",
    "\\begin{equation}\n",
    "-V_2(HH)+(1+r)^2X_0=S_2(HH)(-\\Delta_1(H))+(1+r)(S_1(H)\\Delta_1(H)-V_1(H)+(1+r)X_0).\n",
    "\\end{equation}"
   ]
  },
  {
   "cell_type": "markdown",
   "metadata": {},
   "source": [
    "An analogous analysis shows that\n",
    "\\begin{equation}\n",
    "-V_2(HT)+(1+r)^2X_0=S_2(HT)(-\\Delta_1(H))+(1+r)(S_1(H)\\Delta_1(H)-V_1(H)+(1+r)X_0).\n",
    "\\end{equation}"
   ]
  },
  {
   "cell_type": "markdown",
   "metadata": {},
   "source": [
    "In short, if the first coin toss results in $H$, then regardless of the second coin toss $\\omega_2$, we have\n",
    "\\begin{equation}\n",
    "-V_2(H\\omega_2)+(1+r)^2X_0=S_2(H\\omega_2)(-\\Delta_1(H))+(1+r)(-V_1(H)+(1+r)X_0+S_1(H)\\Delta_1(H)).\n",
    "\\end{equation}"
   ]
  },
  {
   "cell_type": "markdown",
   "metadata": {},
   "source": [
    "The equation above says that an investor starting with capital $-V_1(H)+(1+r)X_0$ can sell $\\Delta_1(H)$ of stock, invest her money in the money market, and at time 2 will have wealth\n",
    "\\begin{equation}\n",
    "-V_2(H\\omega_2)+(1+r)^2X_0.\n",
    "\\end{equation}"
   ]
  },
  {
   "cell_type": "markdown",
   "metadata": {},
   "source": [
    "Hence, the agent with wealth $-V_1(H)+(1+r)X_0+(1+r)L_0+V_1(H)$ at time 1 can use the portion $-V_1(H)+(1+r)X_0$ in the manner described above, and she will at time 2 have wealth\n",
    "\\begin{equation}\n",
    "\\boxed{-V_2(H\\omega_2)+(1+r)^2X_0+(1+r)^2L_0+V_2(H\\omega_2)=0}.\n",
    "\\end{equation}\n",
    "There was no opportunity to make a profit in this outcome."
   ]
  },
  {
   "cell_type": "markdown",
   "metadata": {},
   "source": [
    "###### Time $1\\rightarrow 2:\\omega_1=T$"
   ]
  },
  {
   "cell_type": "markdown",
   "metadata": {},
   "source": [
    "Suppose now that the coin toss results in $T$.  As we will see, here we *do* have the opportunity to make a profit by exercising the put.  From the example in the textbook, we see that\n",
    "\\begin{equation}\n",
    "V_2(TH)=S_2(TH)\\Delta_1(T)+(1+r)(2-S_1(T)\\Delta_1(T)).\n",
    "\\end{equation}"
   ]
  },
  {
   "cell_type": "markdown",
   "metadata": {},
   "source": [
    "If we now add both sides by $(1+r)(+1)$, we get\n",
    "\\begin{equation}\n",
    "V_2(TH)+(1+r)(+1)=S_2(TH)(\\Delta_1(T))+(1+r)(3-S_1(T)\\Delta_1(T)).\n",
    "\\end{equation}"
   ]
  },
  {
   "cell_type": "markdown",
   "metadata": {},
   "source": [
    "Recall that $3=V_1(T)$.  In other words, the equality above can be written\n",
    "\\begin{equation}\n",
    "V_2(TH)+(1+r)(+1)=S_2(TH)(\\Delta_1(T))+(1+r)(V_1(T)-S_1(T)\\Delta_1(T)).\n",
    "\\end{equation}"
   ]
  },
  {
   "cell_type": "markdown",
   "metadata": {},
   "source": [
    "An analogous anlysis to the one above would show that \n",
    "\\begin{equation}\n",
    "V_2(TT)+(1+r)(+1)=S_2(TT)(\\Delta_1(T))+(1+r)(V_1(T)-S_1(T)\\Delta_1(T)).\n",
    "\\end{equation}"
   ]
  },
  {
   "cell_type": "markdown",
   "metadata": {},
   "source": [
    "In short, if the first coin toss results in $T$, then regardless of the second coin toss $\\omega_2$, we have\n",
    "\\begin{equation}\n",
    "V_2(T\\omega_2)+(1+r)(+1)=S_2(T\\omega_2)(\\Delta_1(T))+(1+r)(V_1(T)-S_1(T)\\Delta_1(T)).\n",
    "\\end{equation}"
   ]
  },
  {
   "cell_type": "markdown",
   "metadata": {},
   "source": [
    "The equality above says that an investor starting with capital $V_1(T)$ can at time 1 buy $\\Delta_1(T)$ of stock, and at time 2 she will have wealth\n",
    "\\begin{equation}\n",
    "V_2(T\\omega_2)+(1+r)(+1).\n",
    "\\end{equation}"
   ]
  },
  {
   "cell_type": "markdown",
   "metadata": {},
   "source": [
    "Hence, the agent with wealth $-V_1(T)+(1+r)X_0+(1+r)L_0+V_1(T)$ at time 1 can use the portion $V_1(T)$ in the manner described above, and she will at time 2 have wealth\n",
    "\\begin{equation}\n",
    "\\boxed{-V_2(T\\omega_2)+(1+r)^2X_0+(1+r)^2L_0+V_2(T\\omega_2)+(1+r)(+1)=(1+r)(+1)}.\n",
    "\\end{equation}\n",
    "We see that if the coin tosses are $T\\omega_2$, then the agent can end up with wealth $(1+r)(+1)$ if she exercises her put at time 1. $\\square$"
   ]
  },
  {
   "cell_type": "code",
   "execution_count": null,
   "metadata": {},
   "outputs": [],
   "source": []
  }
 ],
 "metadata": {
  "kernelspec": {
   "display_name": "Python 3",
   "language": "python",
   "name": "python3"
  },
  "language_info": {
   "codemirror_mode": {
    "name": "ipython",
    "version": 3
   },
   "file_extension": ".py",
   "mimetype": "text/x-python",
   "name": "python",
   "nbconvert_exporter": "python",
   "pygments_lexer": "ipython3",
   "version": "3.7.6"
  }
 },
 "nbformat": 4,
 "nbformat_minor": 4
}
