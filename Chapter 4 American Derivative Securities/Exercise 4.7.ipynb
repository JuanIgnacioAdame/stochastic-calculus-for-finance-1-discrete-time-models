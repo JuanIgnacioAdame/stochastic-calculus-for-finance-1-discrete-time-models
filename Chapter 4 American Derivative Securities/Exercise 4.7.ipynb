{
 "cells": [
  {
   "cell_type": "markdown",
   "metadata": {},
   "source": [
    "# Problem"
   ]
  },
  {
   "cell_type": "markdown",
   "metadata": {},
   "source": [
    "For the class of derivative securities in Exercise 4.6 whose time-zero price is given by (4.8.3), let $G_n=S_n-K$.  This derivative security permits its owner to buy one share of stock in exchange for a payment of $K$ at any time up to the expiration time $N$.  If the purchase has not been made at time $N$, it must be made then.  Determine the time-zero value and optimal exercise policy for this derivative security."
   ]
  },
  {
   "cell_type": "markdown",
   "metadata": {},
   "source": [
    "# Answer"
   ]
  },
  {
   "cell_type": "markdown",
   "metadata": {},
   "source": [
    "Similar to what we did for Exercise 4.6 (i), we will first show that the discounted intrinsic value process $X_n:=\\frac{1}{(1+r)^n}G_n$ is a submartingale (in Exercise 4.6 (i) we showed the revelant process was a *super*martingale).  Using Theorem 4.3.3, this tells us $\\mathbb{E}X_{n\\land \\tau}\\leq\\mathbb{E}X_n$.  If we let $n=N$, this becomes $\\mathbb{E}X_{N\\land \\tau}\\leq\\mathbb{E}X_N\\Rightarrow\\mathbb{E}X_{\\tau}\\leq\\mathbb{E}X_N$.  This tells us that $\\tau^{*}\\equiv N$, which yields a time-zero value for this derivative of\n",
    "$S_0-\\frac{K}{(1+r)^N}$."
   ]
  },
  {
   "cell_type": "markdown",
   "metadata": {},
   "source": [
    "*A Remark*.  Note that in general the equality $X_{N\\land\\tau}=X_\\tau$ we used above does not hold for American derivatives, as it is not necessary that they be exercised.  In other words, for an American derivative security, it is possible that $\\tau=\\infty$, and hence it is not necessarily the case that $N\\land\\tau=\\tau$."
   ]
  },
  {
   "cell_type": "markdown",
   "metadata": {},
   "source": [
    "It only remains to show that $X_n$ is a submartingale.  This can be seen via the following calculation.\n",
    "\\begin{align}\n",
    "\\tilde{\\mathbb{E}}_n[X_{n+1}]&=\\tilde{\\mathbb{E}}_n\\left[\\frac{1}{(1+r)^{n+1}} G_{n+1}\\right]\\\\\n",
    "&=\\tilde{\\mathbb{E}}_n\\left[\\frac{1}{(1+r)^{n+1}}(S_{n+1}-K)\\right]\\\\\n",
    "&=\\frac{S_n}{(1+r)^n}-\\frac{K}{(1+r)^{n+1}}\\\\\n",
    "&>\\frac{S_n}{(1+r)^n}-\\frac{K}{(1+r)^n}\\\\\n",
    "&=\\frac{1}{(1+r)^n}G_n=X_n.\n",
    "\\end{align}\n",
    "This establishes the desired result. $\\square$."
   ]
  },
  {
   "cell_type": "code",
   "execution_count": null,
   "metadata": {},
   "outputs": [],
   "source": []
  }
 ],
 "metadata": {
  "kernelspec": {
   "display_name": "Python 3",
   "language": "python",
   "name": "python3"
  },
  "language_info": {
   "codemirror_mode": {
    "name": "ipython",
    "version": 3
   },
   "file_extension": ".py",
   "mimetype": "text/x-python",
   "name": "python",
   "nbconvert_exporter": "python",
   "pygments_lexer": "ipython3",
   "version": "3.7.6"
  }
 },
 "nbformat": 4,
 "nbformat_minor": 4
}
