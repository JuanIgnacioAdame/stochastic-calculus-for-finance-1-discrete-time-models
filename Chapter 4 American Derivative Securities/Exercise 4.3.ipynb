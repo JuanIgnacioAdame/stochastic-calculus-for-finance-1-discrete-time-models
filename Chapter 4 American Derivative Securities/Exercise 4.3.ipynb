{
 "cells": [
  {
   "cell_type": "markdown",
   "metadata": {},
   "source": [
    "# Problem"
   ]
  },
  {
   "cell_type": "markdown",
   "metadata": {},
   "source": [
    "In the three-period model of Figure 1.2.2 of Chapter 1, let the interest rate be $r=\\frac{1}{4}$ so the risk-neutral probabilities are $\\tilde{p}=\\tilde{q}=\\frac{1}{2}$.  Find the time-zero price and optimal exercise policy (optimal stopping time) for the path-dependent American derivative security whose intrinsic value at each time $n$, $n=0,1,2,3$, is $\\left(4-\\frac{1}{n+1}\\sum_{j=0}^nS_j\\right)^{+}$.  This intrinsic value is a put on the average stock price between time zero and time $n$."
   ]
  },
  {
   "cell_type": "markdown",
   "metadata": {},
   "source": [
    "# Answer"
   ]
  },
  {
   "cell_type": "markdown",
   "metadata": {},
   "source": [
    "According to Theorem 4.4.5, the optimal stopping time is given by\n",
    "\\begin{equation}\n",
    "\\tau^{*}(\\omega_1\\dots\\omega_{n}\\omega_{n+1}\\dots\\omega_N)=\\min\\{n;\\;V_n(\\omega_1\\dots\\omega_n)=G_n(\\omega_1\\dots\\omega_n)\\}.\n",
    "\\end{equation}"
   ]
  },
  {
   "cell_type": "markdown",
   "metadata": {},
   "source": [
    "To find these values of $\\tau^{*}(\\omega_1\\omega_2\\omega_3)$, we first compute all the values of $G_t(.)$ and $V_t(.)$ at each time step, and for every possible coin toss.  See code below."
   ]
  },
  {
   "cell_type": "code",
   "execution_count": 1,
   "metadata": {},
   "outputs": [],
   "source": [
    "# returns list of possible sequence of coin tosses of length n.\n",
    "def possible_coin_tosses(n=1):\n",
    "    coin_toss_possibilities = []\n",
    "    for bin_seq in [(n-len(bin(i)[2:]))*'0'+bin(i)[2:] for i in range(2**n)]:\n",
    "        coin_toss_seq = ''\n",
    "        for bit in bin_seq:\n",
    "            if bit == '0':\n",
    "                coin_toss_seq = coin_toss_seq + 'H'\n",
    "            elif bit == '1':\n",
    "                coin_toss_seq = coin_toss_seq + 'T'\n",
    "        coin_toss_possibilities.append(coin_toss_seq)\n",
    "    return coin_toss_possibilities"
   ]
  },
  {
   "cell_type": "code",
   "execution_count": 2,
   "metadata": {},
   "outputs": [],
   "source": [
    "# based on constant d, r, and u factors, generate binomial model\n",
    "# list of stock prices, given some initial stock price,\n",
    "# from time 0 to time t_f, inclusive\n",
    "def bm_stock_prices(s_0=4, d=0.5, r=0.25, u=2, t_f=3):\n",
    "    S={0:{'': s_0}}\n",
    "    for t in range(1,t_f+1):\n",
    "        S[t]={}\n",
    "        for coin_toss_seq in possible_coin_tosses(t):\n",
    "            mult_factor = 1\n",
    "            for toss in coin_toss_seq:\n",
    "                if toss == 'H':\n",
    "                    mult_factor *= u\n",
    "                elif toss == 'T':\n",
    "                    mult_factor *= d\n",
    "            S[t][coin_toss_seq]=s_0*mult_factor\n",
    "    return S"
   ]
  },
  {
   "cell_type": "code",
   "execution_count": 3,
   "metadata": {},
   "outputs": [],
   "source": [
    "S = bm_stock_prices(s_0=4, d=0.5, r=0.25, u=2, t_f=3)"
   ]
  },
  {
   "cell_type": "code",
   "execution_count": 4,
   "metadata": {},
   "outputs": [],
   "source": [
    "# intrinsic value for the american derivative under consideration\n",
    "def g(s, coin_toss_seq):\n",
    "    # initialize average\n",
    "    avg = s[0]['']\n",
    "    for i in range(1, len(coin_toss_seq)+1):\n",
    "        partial_coin_toss_seq = coin_toss_seq[:i]\n",
    "        avg += s[i][partial_coin_toss_seq]\n",
    "    avg = avg/(len(coin_toss_seq)+1)\n",
    "    return s[0]['']-avg"
   ]
  },
  {
   "cell_type": "code",
   "execution_count": 5,
   "metadata": {},
   "outputs": [],
   "source": [
    "# Calculate intrinsic value for all price paths\n",
    "N = 3\n",
    "G = {t:{} for t in range(0,N+1)}\n",
    "for t in S.keys():\n",
    "    for coin_toss_seq in S[t].keys():\n",
    "        G[t][coin_toss_seq] = g(S, coin_toss_seq)"
   ]
  },
  {
   "cell_type": "code",
   "execution_count": 6,
   "metadata": {},
   "outputs": [],
   "source": [
    "# parameters of this binomial model\n",
    "d = 0.5\n",
    "r = 0.25\n",
    "u = 2\n",
    "p = (1+r-d)/(u-d)\n",
    "q = (u-1-r)/(u-d)"
   ]
  },
  {
   "cell_type": "code",
   "execution_count": 7,
   "metadata": {},
   "outputs": [
    {
     "name": "stdout",
     "output_type": "stream",
     "text": [
      "{3: {'HHH': 0, 'HHT': 0, 'HTH': 0, 'HTT': 0, 'THH': 0, 'THT': 1.0, 'TTH': 1.75, 'TTT': 2.125}, 2: {'HH': 0.0, 'HT': 0.0, 'TH': 0.6666666666666665, 'TT': 1.6666666666666665}, 1: {'H': 0.0, 'T': 1.0}, 0: {'': 0.4}}\n"
     ]
    }
   ],
   "source": [
    "# Calculate derivative price for all paths using Theorem 4.4.3\n",
    "# Based on the stock prices in the dictionary S and the intrinsic values in\n",
    "# the dictionary G\n",
    "V = {}\n",
    "for t in list(S.keys())[::-1]:\n",
    "    V[t] = {}\n",
    "    for coin_toss_seq, value in G[t].items():\n",
    "        if t==max(S.keys()):\n",
    "            V[t][coin_toss_seq] = max([value, 0])\n",
    "        else:\n",
    "            rnd_price = (1/(1+r))*(p*V[t+1][coin_toss_seq+'H']+q*V[t+1][coin_toss_seq+'T'])\n",
    "            V[t][coin_toss_seq] = max([value, rnd_price])     \n",
    "print(V)"
   ]
  },
  {
   "cell_type": "markdown",
   "metadata": {},
   "source": [
    "According to Theorem 4.4.5, the optimal stopping time is given by\n",
    "\\begin{equation}\n",
    "\\tau^{*}(\\omega_1\\dots\\omega_{n}\\omega_{n+1}\\dots\\omega_N)=\\min\\{n;\\;V_n(\\omega_1\\dots\\omega_n)=G_n(\\omega_1\\dots\\omega_n)\\}.\n",
    "\\end{equation}"
   ]
  },
  {
   "cell_type": "code",
   "execution_count": 8,
   "metadata": {},
   "outputs": [],
   "source": [
    "# return n given above, given dictionary V, G, and coin_toss_seq of length N\n",
    "def min_n(v, g, coin_toss_seq):\n",
    "    for t in range(len(coin_toss_seq)):\n",
    "        partial_seq = coin_toss_seq[:t]\n",
    "        if v[t][partial_seq]==g[t][partial_seq]:\n",
    "            return t\n",
    "    return float('inf')"
   ]
  },
  {
   "cell_type": "code",
   "execution_count": 9,
   "metadata": {},
   "outputs": [
    {
     "name": "stdout",
     "output_type": "stream",
     "text": [
      "{'HHH': inf, 'HHT': inf, 'HTH': inf, 'HTT': inf, 'THH': 1, 'THT': 1, 'TTH': 1, 'TTT': 1}\n"
     ]
    }
   ],
   "source": [
    "# now we calculate \\tau\n",
    "tau = {}\n",
    "for coin_toss_seq in possible_coin_tosses(n=N):\n",
    "    tau[coin_toss_seq] = min_n(V, G, coin_toss_seq)    \n",
    "print(tau)    "
   ]
  },
  {
   "cell_type": "markdown",
   "metadata": {},
   "source": [
    "As we can see in the code above, $V_0=$ `V[0]['']` $=0.4$, and the optimal exercise poilicy is given by $\\tau(\\omega_1\\omega_2\\omega_3)=1$ whenver $\\omega_1=T$, and $\\tau(\\omega_1\\omega_2\\omega_3)=\\infty$ otherwise. $\\square$"
   ]
  },
  {
   "cell_type": "code",
   "execution_count": null,
   "metadata": {},
   "outputs": [],
   "source": []
  }
 ],
 "metadata": {
  "kernelspec": {
   "display_name": "Python 3",
   "language": "python",
   "name": "python3"
  },
  "language_info": {
   "codemirror_mode": {
    "name": "ipython",
    "version": 3
   },
   "file_extension": ".py",
   "mimetype": "text/x-python",
   "name": "python",
   "nbconvert_exporter": "python",
   "pygments_lexer": "ipython3",
   "version": "3.7.6"
  }
 },
 "nbformat": 4,
 "nbformat_minor": 4
}
