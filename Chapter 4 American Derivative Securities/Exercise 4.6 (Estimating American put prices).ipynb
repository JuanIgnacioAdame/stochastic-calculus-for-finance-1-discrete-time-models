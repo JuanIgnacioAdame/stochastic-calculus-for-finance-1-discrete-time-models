{
 "cells": [
  {
   "cell_type": "markdown",
   "metadata": {},
   "source": [
    "# Problem"
   ]
  },
  {
   "cell_type": "markdown",
   "metadata": {},
   "source": [
    "For each $n$, where $n=0,1,\\dots,N$ let $G_n$ be a random variable depending on the first $n$ coin tosses. The time-zero value of a derivative security that can be exercises at any time $n\\leq N$ for payoff $G_n$ but *must be exercised at time $N$ if it has not been exercised before that time* is\n",
    "\\begin{equation}\n",
    "V_0=\\max_{\\tau\\in\\mathcal{S}_0,\\tau\\leq N}\\tilde{\\mathbb{E}}\\left[\\frac{1}{(1+r)^{\\tau}} G_{\\tau}\\right].\n",
    "\\end{equation}\n",
    "In contrast to equation (4.4.1) in the Definition 4.4.1 for American derivative securities, here we consider only stopping times that take one of the values $0,1\\dots,N$ and not the value $\\infty$."
   ]
  },
  {
   "cell_type": "markdown",
   "metadata": {},
   "source": [
    "(i) Consider $G_n=K-S_n$, the derivative security that permits its owner to sell one share of stock for payment $K$ at any time up to and including $N$, but if the owner does not sell by time $N$, then she must do so at time $N$.  Show that the optimal exercise policy is to sell the stock at time zero and that the value of this derivative security is $K-S_0$."
   ]
  },
  {
   "cell_type": "markdown",
   "metadata": {},
   "source": [
    "(ii) Explain why a portfolio that holds the derivative security in (i) and a European call with strike $K$ and expiration time $N$ is at least as valuable as an American put struck at $K$ with expiration time $N$.  Denote the time-zero value of the European call by $V_0^{EC}$ and the time-zero value of the American put by $V_0^{AP}$.  Conclude that the upper bound\n",
    "\\begin{equation}\n",
    "V_0^{AP}\\leq K-S_0+V_0^{EC}\n",
    "\\end{equation}\n",
    "on $V_0^{AP}$ holds."
   ]
  },
  {
   "cell_type": "markdown",
   "metadata": {},
   "source": [
    "(iii) Use put-call parity (Exercise 2.11 of Chapter 2) to derive the lower bound on $V_0^{AP}$:\n",
    "\\begin{equation}\n",
    "\\frac{K}{(1+r)^N}-S_0+V_0^{EC}\\leq V_0^{AP}.\n",
    "\\end{equation}"
   ]
  },
  {
   "cell_type": "markdown",
   "metadata": {},
   "source": [
    "# Problem"
   ]
  },
  {
   "cell_type": "markdown",
   "metadata": {},
   "source": [
    "(i) For our we proof we just have to show that $X_n:=\\frac{1}{(1+r)^n} G_{n}$ is a supermartingale.  Then, using Theorem 4.3.2 we can conclude the stopped process $X_{n\\land \\tau}$ is also a supermartingale.  Then, by the definition of a supermartingale and using iterated conditioning, we get\n",
    "\\begin{align}\n",
    "\\tilde{\\mathbb{E}}X_0&=X_0=X_{0\\land \\tau}\\\\\n",
    "&\\geq\\tilde{\\mathbb{E}}_0[X_{1\\land\\tau}]\\geq\\tilde{\\mathbb{E}}_0[\\tilde{\\mathbb{E}}_1X_{2\\land\\tau}]\\\\\n",
    "&=\\tilde{\\mathbb{E}}_0[X_{2\\land\\tau}]\\geq\\dots\\\\\n",
    "\\vdots\\\\\n",
    "&=\\tilde{\\mathbb{E}}_0[X_{N\\land\\tau}]=\\tilde{\\mathbb{E}}_0[X_{\\tau}].\n",
    "\\end{align}"
   ]
  },
  {
   "cell_type": "markdown",
   "metadata": {},
   "source": [
    "This implies that $\\tau^{*}\\equiv0$."
   ]
  },
  {
   "cell_type": "markdown",
   "metadata": {},
   "source": [
    "*A Remark*.  Note that the equality $X_{N\\land\\tau}=\\tau$ we used above does not hold for American derivatives, as it is not necessary that they be exercised.  In other words, for an American derivative security, it is possible that $\\tau=\\infty$, and hence it is not necessarily the case that $N\\land\\tau=\\tau$."
   ]
  },
  {
   "cell_type": "markdown",
   "metadata": {},
   "source": [
    "It only remains to show that $X_n$ is a supermartingale.  This can be seen via the following calculation.\n",
    "\\begin{align}\n",
    "\\tilde{\\mathbb{E}}_n[X_{n+1}]&=\\tilde{\\mathbb{E}}_n\\left[\\frac{1}{(1+r)^{n+1}} G_{n+1}\\right]\\\\\n",
    "&=\\tilde{\\mathbb{E}}_n\\left[\\frac{1}{(1+r)^{n+1}}(K-S_{n+1})\\right]\\\\\n",
    "&=\\frac{K}{(1+r)^{n+1}}-\\frac{S_n}{(1+r)^n}\\\\\n",
    "&<\\frac{K}{(1+r)^{n}}-\\frac{S_n}{(1+r)^n}\\\\\n",
    "&=\\frac{1}{(1+r)^n}G_n=X_n.\n",
    "\\end{align}\n",
    "This establishes the desired result. $\\square$."
   ]
  },
  {
   "cell_type": "markdown",
   "metadata": {},
   "source": [
    "(ii) To see why this is the case, we first note that this is clear whenever $\\tau\\in\\mathcal{S}_0$ with $\\tau\\leq N$.  Indeed, for any such stopping time (i.e. any stopping time that says the derivative *must* be exercised at some finite time for *all* possible paths), the the derivative security in (i) and the traditional American derivative will have the same pay off."
   ]
  },
  {
   "cell_type": "markdown",
   "metadata": {},
   "source": [
    "Now consider any stopping time $\\tau\\in\\mathcal{S_0}$ such that $\\tau({\\omega})=\\infty$ for at least one $\\omega$.  For such a path $\\omega$, the derivative security at time $N$ has payoff $0$, whereas the derivative security in (i) has payoff $K-S_N$.  Now suppose we additionally exercise the European call, which at this time has payoff $S_N-K$.  Then the total payoff of the portfolio will be $K-S_N+S_N-K=0$, and we see that even for this path $\\omega$ we can hedge against the payoff of the traditional American derivative. $\\square$"
   ]
  },
  {
   "cell_type": "markdown",
   "metadata": {},
   "source": [
    "(iii) We first recall from Exericse 2.11 (ii) that\n",
    "\\begin{equation}\n",
    "C_n-F_n=P_n\\Rightarrow C_0-F_0=P_0,\n",
    "\\end{equation}\n",
    "where $C_0=V_0^{EC}$, and from Exercise 2.11 (ii), $F_0=S_0-\\frac{K}{(1+r)^N}$.  Hence,\n",
    "\\begin{gather}\n",
    "V_0^{EC}-\\left(S_0-\\frac{K}{(1+r)^N}\\right)=P_n\\Rightarrow\\\\\n",
    "\\frac{K}{(1+r)^N}-S_0+V_0^{EC}=P_0.\n",
    "\\end{gather}"
   ]
  },
  {
   "cell_type": "markdown",
   "metadata": {},
   "source": [
    "Finally, we must simply note that $V_0^{AP}\\leq P_0$.  In other words, the American derivative is at least as valuable as its European counterpart, given that under the in-general-not-optimal exercise policy $\\tau\\equiv N$, the American derivative security will have the same payoff as its European counterpart.  Hence, we may finally rewrite the equation above as\n",
    "\\begin{equation}\n",
    "\\frac{K}{(1+r)^N}-S_0+V_0^{EC}\\leq V_0^{AP},\n",
    "\\end{equation}\n",
    "and this establishes the desired result. $\\square$"
   ]
  }
 ],
 "metadata": {
  "kernelspec": {
   "display_name": "Python 3",
   "language": "python",
   "name": "python3"
  },
  "language_info": {
   "codemirror_mode": {
    "name": "ipython",
    "version": 3
   },
   "file_extension": ".py",
   "mimetype": "text/x-python",
   "name": "python",
   "nbconvert_exporter": "python",
   "pygments_lexer": "ipython3",
   "version": "3.7.6"
  }
 },
 "nbformat": 4,
 "nbformat_minor": 4
}
