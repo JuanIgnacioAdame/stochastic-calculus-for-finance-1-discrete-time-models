{
 "cells": [
  {
   "cell_type": "markdown",
   "metadata": {},
   "source": [
    "# Problem"
   ]
  },
  {
   "cell_type": "markdown",
   "metadata": {},
   "source": [
    "In equation (4.4.5), the maximum is computed over all stopping times $\\mathcal{S}_0$.  List all the stopping times in $\\mathcal{S}_0$ (there are 26), and from among them, list the stopping times that never exercise when the option is out of the money (there are 10).  For each stopping time $\\tau$ in the latter set, compute $\\mathbb{E}\\left[\\mathbb{I}_{\\{\\tau\\leq 2\\}}\\left(\\frac{4}{5}\\right)^\\tau G_{\\tau}\\right]$.  Verify that the largest value for this quantity is given by the stopping time (4.4.6), the one that makes this quantity equal to the 1.36 computed in (4.4.7)."
   ]
  },
  {
   "cell_type": "markdown",
   "metadata": {},
   "source": [
    "# Answer"
   ]
  },
  {
   "cell_type": "markdown",
   "metadata": {},
   "source": [
    "We begin by first coming up with an algorithm for generating all $\\tau\\in\\mathcal{S}_0$.  First, let us change the notation slightly.  We will denote by $\\mathcal{S}_0^N$ the set of all stopping times taking values in $\\{0,\\dots,N,\\infty\\}$ in an $N$-period binomial model.  Under this notation, we first note that there exists the following recursion relation between $\\mathcal{S}_0^{N+1}$ and $\\mathcal{S}_0^{N}$ which we explain now.  In an $N+1$-period binomial model, and at time 0, you can choose to either exercise the option, or decline to exercise the option.  In the case that you decline to exercise the option, then at time 1, if the coin toss resulted in $T$, the stopping times that are available to you are all of the stopping times possible in an $N$-period binomial model.  Similarly, if the coin toss resulted in $H$, the stopping times that are available to you are all of the stopping times possible in an $N$-period binomial model."
   ]
  },
  {
   "cell_type": "markdown",
   "metadata": {},
   "source": [
    "We now say this more precisely. Let $\\tau^{N}_1, \\dots, \\tau^{N}_{|\\mathcal{S}_0^{N}|}$ be an enumeration of all stopping times in $\\mathcal{S}_0^{N}$, and let $i,j\\in\\{1,\\dots,|\\mathcal{S}_0^{N}|\\}$.  Then the set of all $\\tau^{N+1}\\in \\mathcal{S}_0^{N+1}$ can be generated via the construction\n",
    "\\begin{gather}\n",
    "\\tau_{ij}^{N+1}(T\\omega_2\\dots\\omega_{N+1})=\\tau^{N}_i(\\omega_2\\dots\\omega_{N+1})+1,\\\\\n",
    "\\tau_{ij}^{N+1}(H\\omega_2\\dots\\omega_{N+1})=\\tau^{N}_j(\\omega_2\\dots\\omega_{N+1})+1,\\\\\n",
    "\\tau_{|\\mathcal{S}_0^{N+1}|}\\equiv 0.\n",
    "\\end{gather}\n",
    "The last equation above corresponds to the exercise policy where the option is exercised immediately at time 0.  The two equations above that correspond to all exercises policies in an $N+1$ period binomial model where the contract is not exercised at time $0$."
   ]
  },
  {
   "cell_type": "markdown",
   "metadata": {},
   "source": [
    "As an interesting aside, using the equations above, we see that\n",
    "\\begin{equation}\n",
    "|\\mathcal{S}_0^{N+1}|=|\\mathcal{S}_0^{N}|^2+1.\n",
    "\\end{equation}\n",
    "Computing this for the first few values of $N$, we get $2,5,26,\\dots$, which indeed agrees with the problem statement. "
   ]
  },
  {
   "cell_type": "markdown",
   "metadata": {},
   "source": [
    "Below we write the code for the recursive generation of stopping times as described above."
   ]
  },
  {
   "cell_type": "code",
   "execution_count": 1,
   "metadata": {},
   "outputs": [],
   "source": [
    "# Code for generating all stopping times up to N\n",
    "# It seems to work :-D !!!!!\n",
    "def Taus_n(N):\n",
    "    if N==0:\n",
    "        # Exercise (at time 0)\n",
    "        tauE = {'': N}\n",
    "        # Don't exercise (at time 0)\n",
    "        tauDE = {'': float('inf')}\n",
    "        return [tauE, tauDE]\n",
    "    else:\n",
    "        # If N!=0, the taus can be generated recursively\n",
    "        # In these for loops we generate the taus as in the top\n",
    "        # 2 of 3 equations above\n",
    "        taus = []\n",
    "        taus_n_1 = Taus_n(N-1)\n",
    "        for tau_i in taus_n_1:\n",
    "            for tau_j in taus_n_1:\n",
    "                tau = {}\n",
    "                for key, value in tau_i.items():\n",
    "                    tau['T'+key] = value + 1\n",
    "                for key, value in tau_j.items():\n",
    "                    tau['H'+key] = value + 1\n",
    "                taus.append(tau)\n",
    "        # The only tau that is not constructed in the code above is the one\n",
    "        # that exercises immediately at time 0, i.e. equation 3 of 3 above\n",
    "        tau = {}\n",
    "        for key in tau_i.keys():\n",
    "            tau['H'+key] = 0\n",
    "            tau['T'+key] = 0\n",
    "        taus.append(tau)\n",
    "        return taus\n",
    "    \n",
    "def is_valid_stopping_time(tau):\n",
    "    # checks that a tau is a valid stopping time\n",
    "    return \n",
    "            \n",
    "def all_taus_unique(taus):\n",
    "    # checks that all taus returned are unique\n",
    "    return"
   ]
  },
  {
   "cell_type": "markdown",
   "metadata": {},
   "source": [
    "The set of all stopping times is given by the dictionary returned by `Taus_n(2)` written above.  We print it below."
   ]
  },
  {
   "cell_type": "code",
   "execution_count": 2,
   "metadata": {},
   "outputs": [
    {
     "name": "stdout",
     "output_type": "stream",
     "text": [
      "Set of all stopping times = [{'TT': 2, 'TH': 2, 'HT': 2, 'HH': 2}, {'TT': 2, 'TH': 2, 'HT': 2, 'HH': inf}, {'TT': 2, 'TH': 2, 'HT': inf, 'HH': 2}, {'TT': 2, 'TH': 2, 'HT': inf, 'HH': inf}, {'TT': 2, 'TH': 2, 'HH': 1, 'HT': 1}, {'TT': 2, 'TH': inf, 'HT': 2, 'HH': 2}, {'TT': 2, 'TH': inf, 'HT': 2, 'HH': inf}, {'TT': 2, 'TH': inf, 'HT': inf, 'HH': 2}, {'TT': 2, 'TH': inf, 'HT': inf, 'HH': inf}, {'TT': 2, 'TH': inf, 'HH': 1, 'HT': 1}, {'TT': inf, 'TH': 2, 'HT': 2, 'HH': 2}, {'TT': inf, 'TH': 2, 'HT': 2, 'HH': inf}, {'TT': inf, 'TH': 2, 'HT': inf, 'HH': 2}, {'TT': inf, 'TH': 2, 'HT': inf, 'HH': inf}, {'TT': inf, 'TH': 2, 'HH': 1, 'HT': 1}, {'TT': inf, 'TH': inf, 'HT': 2, 'HH': 2}, {'TT': inf, 'TH': inf, 'HT': 2, 'HH': inf}, {'TT': inf, 'TH': inf, 'HT': inf, 'HH': 2}, {'TT': inf, 'TH': inf, 'HT': inf, 'HH': inf}, {'TT': inf, 'TH': inf, 'HH': 1, 'HT': 1}, {'TH': 1, 'TT': 1, 'HT': 2, 'HH': 2}, {'TH': 1, 'TT': 1, 'HT': 2, 'HH': inf}, {'TH': 1, 'TT': 1, 'HT': inf, 'HH': 2}, {'TH': 1, 'TT': 1, 'HT': inf, 'HH': inf}, {'TH': 1, 'TT': 1, 'HH': 1, 'HT': 1}, {'HH': 0, 'TH': 0, 'HT': 0, 'TT': 0}]\n",
      "Number of stopping times = 26\n"
     ]
    }
   ],
   "source": [
    "print(\"Set of all stopping times = {0}\".format(Taus_n(2)))\n",
    "print(\"Number of stopping times = {0}\".format(len(Taus_n(2))))"
   ]
  },
  {
   "cell_type": "markdown",
   "metadata": {},
   "source": [
    "Below we write code to determine which of the 26 possible stopping times never exercise when the option is out of the money."
   ]
  },
  {
   "cell_type": "code",
   "execution_count": 3,
   "metadata": {},
   "outputs": [],
   "source": [
    "# hard-coded values of intrinsic values G from Fig 4.4.1\n",
    "G = {t:{} for t in range(0,2+1)}\n",
    "# at time 0\n",
    "G[0][''] = 1\n",
    "# at time 1\n",
    "G[1]['H'] = -3\n",
    "G[1]['T'] = 3\n",
    "# at time 2\n",
    "G[2]['HH'] = -11\n",
    "G[2]['HT'] = 1\n",
    "G[2]['TH'] = 1\n",
    "G[2]['TT'] = 4"
   ]
  },
  {
   "cell_type": "code",
   "execution_count": 4,
   "metadata": {},
   "outputs": [],
   "source": [
    "# Given stopping time, determine if exercise only happens in the money\n",
    "def is_in_the_money(stopping_time):\n",
    "    for key, value in stopping_time.items():\n",
    "        if value!=float('inf'):\n",
    "            pause_path = key[:value]\n",
    "            if G[value][pause_path]<0:\n",
    "                return False\n",
    "    return True"
   ]
  },
  {
   "cell_type": "code",
   "execution_count": 5,
   "metadata": {},
   "outputs": [],
   "source": [
    "# Let's gather all always-in-the-money policies\n",
    "always_in_the_money_taus = []\n",
    "for tau in Taus_n(2):\n",
    "    if is_in_the_money(tau):\n",
    "        always_in_the_money_taus.append(tau)"
   ]
  },
  {
   "cell_type": "markdown",
   "metadata": {},
   "source": [
    "There are `len(always_in_the_money_taus)`$=11$ stopping policies that never exercise when the option is out of the money.  We list them below."
   ]
  },
  {
   "cell_type": "code",
   "execution_count": 6,
   "metadata": {},
   "outputs": [
    {
     "name": "stdout",
     "output_type": "stream",
     "text": [
      "{'TT': 2, 'TH': 2, 'HT': 2, 'HH': inf}\n",
      "{'TT': 2, 'TH': 2, 'HT': inf, 'HH': inf}\n",
      "{'TT': 2, 'TH': inf, 'HT': 2, 'HH': inf}\n",
      "{'TT': 2, 'TH': inf, 'HT': inf, 'HH': inf}\n",
      "{'TT': inf, 'TH': 2, 'HT': 2, 'HH': inf}\n",
      "{'TT': inf, 'TH': 2, 'HT': inf, 'HH': inf}\n",
      "{'TT': inf, 'TH': inf, 'HT': 2, 'HH': inf}\n",
      "{'TT': inf, 'TH': inf, 'HT': inf, 'HH': inf}\n",
      "{'TH': 1, 'TT': 1, 'HT': 2, 'HH': inf}\n",
      "{'TH': 1, 'TT': 1, 'HT': inf, 'HH': inf}\n",
      "{'HH': 0, 'TH': 0, 'HT': 0, 'TT': 0}\n"
     ]
    }
   ],
   "source": [
    "for tau in always_in_the_money_taus:\n",
    "    print(tau)"
   ]
  },
  {
   "cell_type": "markdown",
   "metadata": {},
   "source": [
    "We now compute $\\mathbb{E}\\left[\\mathbb{I}_{\\{\\tau\\leq 2\\}}\\left(\\frac{4}{5}\\right)^\\tau G_{\\tau}\\right]$ for each $\\tau$ above."
   ]
  },
  {
   "cell_type": "code",
   "execution_count": 7,
   "metadata": {},
   "outputs": [],
   "source": [
    "def rnd(stopping_time):\n",
    "    E = 0\n",
    "    # all risk-neutral probabilities in this example are p=1/2^2=1/4\n",
    "    p = 1./4\n",
    "    for key, value in stopping_time.items():\n",
    "        if value<float('inf'):\n",
    "            pause_path = key[:value]\n",
    "            E += ((4./5)**value)* G[value][pause_path] * p\n",
    "    return E"
   ]
  },
  {
   "cell_type": "code",
   "execution_count": 8,
   "metadata": {},
   "outputs": [
    {
     "name": "stdout",
     "output_type": "stream",
     "text": [
      "{'TT': 2, 'TH': 2, 'HT': 2, 'HH': inf}: 0.9600000000000002\n",
      "{'TT': 2, 'TH': 2, 'HT': inf, 'HH': inf}: 0.8000000000000002\n",
      "{'TT': 2, 'TH': inf, 'HT': 2, 'HH': inf}: 0.8000000000000002\n",
      "{'TT': 2, 'TH': inf, 'HT': inf, 'HH': inf}: 0.6400000000000001\n",
      "{'TT': inf, 'TH': 2, 'HT': 2, 'HH': inf}: 0.32000000000000006\n",
      "{'TT': inf, 'TH': 2, 'HT': inf, 'HH': inf}: 0.16000000000000003\n",
      "{'TT': inf, 'TH': inf, 'HT': 2, 'HH': inf}: 0.16000000000000003\n",
      "{'TT': inf, 'TH': inf, 'HT': inf, 'HH': inf}: 0\n",
      "{'TH': 1, 'TT': 1, 'HT': 2, 'HH': inf}: 1.3600000000000003\n",
      "{'TH': 1, 'TT': 1, 'HT': inf, 'HH': inf}: 1.2000000000000002\n",
      "{'HH': 0, 'TH': 0, 'HT': 0, 'TT': 0}: 1.0\n"
     ]
    }
   ],
   "source": [
    "for tau in always_in_the_money_taus:\n",
    "    print(\"{0}: {1}\".format(tau,rnd(tau)))"
   ]
  },
  {
   "cell_type": "markdown",
   "metadata": {},
   "source": [
    "We see from the set of values computed above that indeed the stopping time given by $\\tau(HH)=\\infty, \\tau(HT)=2, \\tau(TT)=\\tau(TH)=1$, as claimed in equation (4.4.6) in the textbook, results in the largest value of $\\mathbb{E}\\left[\\mathbb{I}_{\\{\\tau\\leq 2\\}}\\left(\\frac{4}{5}\\right)^\\tau G_{\\tau}\\right]$, that value being 1.36. $\\square$"
   ]
  }
 ],
 "metadata": {
  "kernelspec": {
   "display_name": "Python 3",
   "language": "python",
   "name": "python3"
  },
  "language_info": {
   "codemirror_mode": {
    "name": "ipython",
    "version": 3
   },
   "file_extension": ".py",
   "mimetype": "text/x-python",
   "name": "python",
   "nbconvert_exporter": "python",
   "pygments_lexer": "ipython3",
   "version": "3.7.6"
  }
 },
 "nbformat": 4,
 "nbformat_minor": 4
}
