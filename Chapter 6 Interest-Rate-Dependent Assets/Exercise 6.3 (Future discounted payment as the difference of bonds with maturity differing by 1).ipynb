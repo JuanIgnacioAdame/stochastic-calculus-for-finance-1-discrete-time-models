{
 "cells": [
  {
   "cell_type": "markdown",
   "metadata": {},
   "source": [
    "### Exercise 6.3"
   ]
  },
  {
   "cell_type": "markdown",
   "metadata": {},
   "source": [
    "Let $0\\leq n\\leq m\\leq N-1$ be given.  According to the risk-neutral pricing formula, the contract that pays $R_m$ at time $m+1$ has time-$n$ price $\\frac{1}{D_n}\\tilde{\\mathbb{E}}_n[D_{m+1}R_m]$.  Use the properties of conditional expectations to show that this gives the same result as Theorem 6.3.5, i.e.\n",
    "\\begin{equation}\n",
    "\\frac{1}{D_n}\\tilde{\\mathbb{E}}_n[D_{m+1}R_m]=B_{n,m}-B_{n,m+1}.\n",
    "\\end{equation}"
   ]
  },
  {
   "cell_type": "markdown",
   "metadata": {},
   "source": [
    "### Solution 6.3"
   ]
  },
  {
   "cell_type": "markdown",
   "metadata": {},
   "source": [
    "We show this with the following simple calculation.\n",
    "\\begin{align}\n",
    "\\frac{1}{D_n}\\tilde{\\mathbb{E}}_n[D_{m+1}R_m]&=\\frac{1}{D_n}\\tilde{\\mathbb{E}}_n[D_{m+1}R_m+\n",
    "\\underbrace{D_{m+1}-D_{m+1}}_{\\text{add $0$}}]\\\\\n",
    "&=\\frac{1}{D_n}\\tilde{\\mathbb{E}}_n[\n",
    "\\underbrace{D_{m+1}(R_m+1)}_{=D_m}-D_{m+1}]\\\\\n",
    "&=\\frac{1}{D_n}\\tilde{\\mathbb{E}}_n[D_m-D_{m+1}]\\\\\n",
    "&=\\tilde{\\mathbb{E}}_n\\left[\\frac{D_m}{D_n}-\\frac{D_{m+1}}{D_n}\\right]\\\\\n",
    "&=\\underbrace{\\tilde{\\mathbb{E}}_n\\left[\\frac{D_m}{D_n}\\right]}_{=B_{n,m}}-\\underbrace{\\tilde{\\mathbb{E}}_n\\left[\\frac{D_{m+1}}{D_n}\\right]}_{=B_{n,m+1}}\\\\\n",
    "&=B_{n,m}-B_{n,m+1}. \\square\n",
    "\\end{align}"
   ]
  }
 ],
 "metadata": {
  "kernelspec": {
   "display_name": "Python 3",
   "language": "python",
   "name": "python3"
  },
  "language_info": {
   "codemirror_mode": {
    "name": "ipython",
    "version": 3
   },
   "file_extension": ".py",
   "mimetype": "text/x-python",
   "name": "python",
   "nbconvert_exporter": "python",
   "pygments_lexer": "ipython3",
   "version": "3.7.6"
  }
 },
 "nbformat": 4,
 "nbformat_minor": 4
}
