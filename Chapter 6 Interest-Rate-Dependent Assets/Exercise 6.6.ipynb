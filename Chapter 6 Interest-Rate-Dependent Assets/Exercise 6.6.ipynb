{
 "cells": [
  {
   "cell_type": "markdown",
   "metadata": {},
   "source": [
    "### Exercise 6.6"
   ]
  },
  {
   "cell_type": "markdown",
   "metadata": {},
   "source": [
    "Let $S_m$ be the price at time $m$ of an asset in a binomial interest rate model. For $n=0,1,\\dots,m,$ the forward price is $\\text{For}_{n,m}=\\frac{S_n}{B_{n,m}}$ and the future price is $\\text{Fut}_{n,m}=\\tilde{\\mathbb{E}}_n[S_m]$."
   ]
  },
  {
   "cell_type": "markdown",
   "metadata": {},
   "source": [
    "### Exercise 6.6.1"
   ]
  },
  {
   "cell_type": "markdown",
   "metadata": {},
   "source": [
    "Suppose that at each time $n$ an agent takes a long forward position and sells this contract at time $n+1$.  Show that this generates cash flow $S_{n+1}-\\frac{S_nB_{n+1,m}}{B_{n,m}}$ at time $n+1$."
   ]
  },
  {
   "cell_type": "markdown",
   "metadata": {},
   "source": [
    "### Solution 6.6.1"
   ]
  },
  {
   "cell_type": "markdown",
   "metadata": {},
   "source": [
    "What we are after is the time-$n+1$ price $V_{n+1}$ of the derivative contract that has payoff equal to that portfolio.  Because there exists a replicating portfolio for this contract (this is by definition of the contract), we can use the risk-neutral pricing formula, which tells us\n",
    "\\begin{equation}\n",
    "D_{n+1}V_{n+1}=\\mathbb{E}_{n+1}\\left[D_mV_m\\right].\n",
    "\\end{equation}"
   ]
  },
  {
   "cell_type": "markdown",
   "metadata": {},
   "source": [
    "Note that $V_m=S_m-F_{n,m}$.  In other words, at time $m$ we recieve the payment $S_m$ and have to cover our short position in $F_{n,m}$.  Plugging this into the equation above, we get\n",
    "\\begin{align}\n",
    "V_{n+1}&=\\frac{1}{D_{n+1}}\\mathbb{E}_{n+1}\\left[D_mS_m-D_{m}F_{n,m}\\right]\\\\\n",
    "&=\\frac{1}{D_{n+1}}(\\mathbb{E}_{n+1}[D_mS_m]-\\mathbb{E}_{n+1}[D_{m}F_{n,m}])\\\\\n",
    "&=\\frac{1}{D_{n+1}}(D_{n+1}S_{n+1}-F_{n,m}\\mathbb{E}_{n+1}[D_{m}])\\\\\n",
    "&=S_{n+1}-\\frac{1}{D_{n+1}}\\frac{S_n}{B_{n,m}}D_{n+1}B_{n+1,m}\\\\\n",
    "&=S_{n+1}-\\frac{S_nB_{n+1,m}}{B_{n,m}}. \\square\n",
    "\\end{align}"
   ]
  },
  {
   "cell_type": "markdown",
   "metadata": {},
   "source": [
    "### Exercise 6.6.2"
   ]
  },
  {
   "cell_type": "markdown",
   "metadata": {},
   "source": [
    "Show that if the interest rate is a constant $r$ and at each time $n$ an agent takes a long position of $(1+r)^{m-n-1}$ forward contracts, selling these contracts at time $n+1$, then the resulting cash flow is the same as the difference in the futures price $\\text{Fut}_{n+1,m}-\\text{Fut}_{n,m}$."
   ]
  },
  {
   "cell_type": "markdown",
   "metadata": {},
   "source": [
    "### Solution 6.6.2"
   ]
  },
  {
   "cell_type": "markdown",
   "metadata": {},
   "source": [
    "From the previous exercise, this cash flow is\n",
    "\\begin{equation}\n",
    "(1+r)^{m-n-1}\\left(S_{n+1}-\\frac{S_nB_{n+1,m}}{B_{n,m}}\\right).\n",
    "\\end{equation}"
   ]
  },
  {
   "cell_type": "markdown",
   "metadata": {},
   "source": [
    "Because the interest rate is constant, the bond prices are given by\n",
    "\\begin{equation}\n",
    "B_{n+1,m}=\\frac{1}{(1+r)^{m-(n+1)}}, \\quad B_{n,m}=\\frac{1}{(1+r)^{m-n}}.\n",
    "\\end{equation}"
   ]
  },
  {
   "cell_type": "markdown",
   "metadata": {},
   "source": [
    "Plugging this back into the first equation, we obtain\n",
    "\\begin{align}\n",
    "&(1+r)^{m-n-1}\\left(S_{n+1}-\\frac{S_n\\frac{1}{(1+r)^{m-(n+1)}}}{\\frac{1}{(1+r)^{m-n}}}\\right)\\\\\n",
    "&=(1+r)^m\\frac{S_{n+1}}{(1+r)^{n+1}}-(1+r)^m\\frac{S_{n}}{(1+r)^{n}}\\\\\n",
    "&=(1+r)^m\\tilde{\\mathbb{E}}_{n+1}\\left[\\frac{S_{m}}{(1+r)^{m}}\\right]-(1+r)^m\\tilde{\\mathbb{E}}_{n}\\left[\\frac{S_{m}}{(1+r)^{m}}\\right]\\\\\n",
    "&=\\tilde{\\mathbb{E}}_{n+1}\\left[S_{m}\\right]-\\tilde{\\mathbb{E}}_{n}\\left[S_{m}\\right]\\\\\n",
    "&=\\text{Fut}_{n+1,m}-\\text{Fut}_{n,m}.\n",
    "\\end{align}"
   ]
  },
  {
   "cell_type": "markdown",
   "metadata": {},
   "source": [
    "Note that the second-to-last equality holds because the interest rate $r$ is constant, and therefore we are able to \"divide out\" the factor $(1+r)^m$. The last equality holds by Theorem 6.5.2, which establishes the risk-neutral price of a futures contract. $\\square$"
   ]
  }
 ],
 "metadata": {
  "kernelspec": {
   "display_name": "Python 3",
   "language": "python",
   "name": "python3"
  },
  "language_info": {
   "codemirror_mode": {
    "name": "ipython",
    "version": 3
   },
   "file_extension": ".py",
   "mimetype": "text/x-python",
   "name": "python",
   "nbconvert_exporter": "python",
   "pygments_lexer": "ipython3",
   "version": "3.7.6"
  }
 },
 "nbformat": 4,
 "nbformat_minor": 4
}
