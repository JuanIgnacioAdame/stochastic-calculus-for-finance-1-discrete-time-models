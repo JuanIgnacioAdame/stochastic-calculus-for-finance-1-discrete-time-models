{
 "cells": [
  {
   "cell_type": "markdown",
   "metadata": {},
   "source": [
    "### Exercise 6.4"
   ]
  },
  {
   "cell_type": "markdown",
   "metadata": {},
   "source": [
    "Using the data in Example 6.3.9, this exercise constructs a hedge for a short position in the caplet paying $(R_2-\\frac{1}{3})^{+}$ at time three.  We observe from the second table in Example 6.3.9 that the payoff at time three of this caplet is\n",
    "\\begin{equation}\n",
    "V_3(HH)=\\frac{2}{3}, V_3(HT)=V_3(TH)=V_3(TT)=0.\n",
    "\\end{equation}"
   ]
  },
  {
   "cell_type": "markdown",
   "metadata": {},
   "source": [
    "Since this payoff depends only on the first two coin tosses, the price of the caplet at time two can be determined by discounting:\n",
    "\\begin{equation}\n",
    "V_2(HH)=\\frac{1}{1+R_2(HH)}V_3(HH)=\\frac{1}{3}, V_2(HT)=V_2(TH)=V_2(TT)=0.\n",
    "\\end{equation}"
   ]
  },
  {
   "cell_type": "markdown",
   "metadata": {},
   "source": [
    "Indeed, if one is hedging a short position in the caplet and has portfolio valued at $\\frac{1}{3}$ at time two in the event $\\omega_1=H, \\omega_2=H$, then one can simply invest this $\\frac{1}{3}$ in the money market in order to have the $\\frac{2}{3}$ required to pay off the caplet at time three."
   ]
  },
  {
   "cell_type": "markdown",
   "metadata": {},
   "source": [
    "In Example 6.3.9, the time-zero price of the caplet is determined to be $\\frac{2}{21}$ (see (6.3.10))."
   ]
  },
  {
   "cell_type": "markdown",
   "metadata": {},
   "source": [
    "### Exercise 6.4.1"
   ]
  },
  {
   "cell_type": "markdown",
   "metadata": {},
   "source": [
    "Determine $V_1(H)$ and $V_1(T)$, the price at tme one of the caplet in the events $\\omega_1=H$ and $\\omega_1=T$, respectively."
   ]
  },
  {
   "cell_type": "markdown",
   "metadata": {},
   "source": [
    "### Solution 6.4.2"
   ]
  },
  {
   "cell_type": "markdown",
   "metadata": {},
   "source": [
    "From Equation 6.3.1 in the textbook, we have that\n",
    "\\begin{equation}\n",
    "D_nV_n=\\tilde{\\mathbb{E}}_n[D_{n+1}V_{n+1}].\n",
    "\\end{equation}"
   ]
  },
  {
   "cell_type": "markdown",
   "metadata": {},
   "source": [
    "Hence,\n",
    "\\begin{equation}\n",
    "D_1V_1(H)=\\tilde{\\mathbb{E}}_1[D_2V_2](H)=\\underbrace{D_2(H)}_{=D_1\\frac{1}{1+R_2(H)}}\\tilde{\\mathbb{E}}_n[V_2],\n",
    "\\end{equation}\n",
    "which means\n",
    "\\begin{align}\n",
    "V_1(H)&=\\frac{1}{1+R_2(H)}[\\tilde{\\mathbb{P}}(\\omega_2=H|\\omega_1=H)V_2(HH)+\\tilde{\\mathbb{P}}(\\omega_2=T|\\omega_1=H)\\underbrace{V_2(HT)}_{=0}]\\\\\n",
    "&=\\frac{1}{1+\\underbrace{R_2(H)}_{=\\frac{1}{6}}}\\underbrace{\\tilde{\\mathbb{P}}(\\omega_2=H|\\omega_1=H)}_{=\\frac{2}{3}}\\underbrace{V_2(HH)}_{\\frac{1}{3}}\\\\\n",
    "&=\\frac{4}{21}.\n",
    "\\end{align}"
   ]
  },
  {
   "cell_type": "markdown",
   "metadata": {},
   "source": [
    "Similary,\n",
    "\\begin{align}\n",
    "V_1(T)&=\\frac{1}{1+R_2(T)}[\\tilde{\\mathbb{P}}(\\omega_2=H|\\omega_1=T)\\underbrace{V_2(HH)}_{=0}+\\tilde{\\mathbb{P}}(\\omega_2=T|\\omega_1=T)\\underbrace{V_2(HT)}_{=0}]\\\\\n",
    "&=0. \\square\n",
    "\\end{align}"
   ]
  },
  {
   "cell_type": "markdown",
   "metadata": {},
   "source": [
    "### Exercise 6.4.2"
   ]
  },
  {
   "cell_type": "markdown",
   "metadata": {},
   "source": [
    "Show how to begin with $\\frac{2}{21}$ at time zero and invest in the money market and the maturity two bond in order to have a portfolio value $X_1$ at time one that agrees with $V_1$, regardless of the outcome of the first coin toss.  Why do we invest in the maturity two bond rather than the maturity three bond to do this?"
   ]
  },
  {
   "cell_type": "markdown",
   "metadata": {},
   "source": [
    "### Solution 6.4.2"
   ]
  },
  {
   "cell_type": "markdown",
   "metadata": {},
   "source": [
    "Let $\\Delta_{0,2}$ be the position we take at time $0$ in the maturity $2$ bond.  If our wealth at time $0$ is given by $X_0=\\frac{2}{21}$, then our wealth at time $1$ is given by\n",
    "\\begin{equation}\n",
    "X_1=(1+R_0)(X_0-\\Delta_{0,2}B_{0,2})+\\Delta_{0,2}B_{1,2}.\n",
    "\\end{equation}"
   ]
  },
  {
   "cell_type": "markdown",
   "metadata": {},
   "source": [
    "Our job now is to choose $\\Delta_{0,2}$ such that\n",
    "\\begin{equation}\n",
    "V_1\\stackrel{!}{=}(1+R_0)(X_0-\\Delta_{0,2}B_{0,2})+\\Delta_{0,2}B_{1,2}\n",
    "\\end{equation}"
   ]
  },
  {
   "cell_type": "markdown",
   "metadata": {},
   "source": [
    "Solving this equation for $\\Delta_{0,2}$, we get\n",
    "\\begin{equation}\n",
    "\\Delta_{0,2}=\\frac{V_1-(1+R_0)X_0}{-(1+R_0)B_{0,2}+B_{1,2}}.\n",
    "\\end{equation}"
   ]
  },
  {
   "cell_type": "markdown",
   "metadata": {},
   "source": [
    "In the case that $\\omega_1=H$, this yields\n",
    "\\begin{align}\n",
    "\\Delta_{0,2}&=\\frac{\\frac{4}{21}-(1+0)\\frac{2}{21}}{-(1+0)\\frac{11}{14}+\\frac{6}{7}}\\\\\n",
    "&=\\frac{4}{3}.\n",
    "\\end{align}"
   ]
  },
  {
   "cell_type": "markdown",
   "metadata": {},
   "source": [
    "If this is correct, this must yield the same answer if $\\omega_1=T$, and indeed we see that this is the case:\n",
    "\\begin{align}\n",
    "\\Delta_{0,2}&=\\frac{0-(1+0)\\frac{2}{21}}{-(1+0)\\frac{11}{14}+\\frac{5}{7}}\\\\\n",
    "&=\\frac{4}{3}.\n",
    "\\end{align}"
   ]
  },
  {
   "cell_type": "markdown",
   "metadata": {},
   "source": [
    "One straightforward reason why we invest in the maturity two bond rather than the maturity three bond is that it is impossible to satisfy $X_1=V_1$ with a position in the maturity three bond.  This is because $B_{1,3}(H)=B_{1,3}(T)$, but $V_1(H)\\neq V_1(T)$."
   ]
  },
  {
   "cell_type": "markdown",
   "metadata": {},
   "source": [
    "Note that we also don't invest in the maturity $1$ bond, aso such an investment is equivalent to investing in the money market.  This is a consequence of Remark 6.2.9 in the textbook. $\\square$"
   ]
  },
  {
   "cell_type": "markdown",
   "metadata": {},
   "source": [
    "### Exercise 6.4.3"
   ]
  },
  {
   "cell_type": "markdown",
   "metadata": {},
   "source": [
    "Show how to take the portfolio value $X_1$ at time one and invest in the money market and maturity three bond in order to have a portfolio value $X_2$ at time two that agrees with $V_2$, regardless of the outome of the first two coin tosses.  Why do we invest in the maturity three bond rather the maturity two bond to do this?"
   ]
  },
  {
   "cell_type": "markdown",
   "metadata": {},
   "source": [
    "### Solution 6.4.3"
   ]
  },
  {
   "cell_type": "markdown",
   "metadata": {},
   "source": [
    "Our job now is to choose $\\Delta_{1,3}$ such that\n",
    "\\begin{equation}\n",
    "V_2\\stackrel{!}{=}(1+R_1)(V_1-\\Delta_{1,3}B_{1,3})+\\Delta_{1,3}B_{2,3}\n",
    "\\end{equation}"
   ]
  },
  {
   "cell_type": "markdown",
   "metadata": {},
   "source": [
    "Solving for $\\Delta_{1,3}$, this yields\n",
    "\\begin{equation}\n",
    "\\Delta_{1,3}=\\frac{V_2-(1+R_1)V_1}{-(1+R_1)B_{1,3}+B_{2,3}}.\n",
    "\\end{equation}"
   ]
  },
  {
   "cell_type": "markdown",
   "metadata": {},
   "source": [
    "If $\\omega_1=H$ and $\\omega_2=H$, this gives\n",
    "\\begin{align}\n",
    "\\Delta_{1,3}(H)&=\\frac{V_2(HH)-(1+R_1(H))V_1(H)}{-(1+R_1(H))B_{1,3}(H)+B_{2,3}(HH)}\\\\\n",
    "&=\\frac{\\frac{1}{3}-(1+\\frac{1}{6})\\frac{4}{21}}{-(1+\\frac{1}{6})\\frac{4}{7}+\\frac{1}{2}}\\\\\n",
    "&=-\\frac{2}{3}.\n",
    "\\end{align}"
   ]
  },
  {
   "cell_type": "markdown",
   "metadata": {},
   "source": [
    "If this is the correct, we should arrive at the same answer if $\\omega_2=T$, and indeed we see that this is the case:\n",
    "\\begin{align}\n",
    "\\Delta_{1,3}(H)&=\\frac{V_2(HT)-(1+R_1(H))V_1(H)}{-(1+R_1(H))B_{1,3}(H)+B_{2,3}(HT)}\\\\\n",
    "&=\\frac{0-(1+\\frac{1}{6})\\frac{4}{21}}{-(1+\\frac{1}{6})\\frac{4}{7}+1}\\\\\n",
    "&=-\\frac{2}{3}.\n",
    "\\end{align}"
   ]
  },
  {
   "cell_type": "markdown",
   "metadata": {},
   "source": [
    "If $\\omega_1=T$, note that $V_2(H\\omega_2)=0$ regardless of the value of $\\omega_2$.  Hedging a position in a derivative security that has (non-random) payoff $0$ should require the trivial hedging portfolio, i.e., $\\Delta=0$.  Let us check this."
   ]
  },
  {
   "cell_type": "markdown",
   "metadata": {},
   "source": [
    "If $\\omega_1=T$ and $\\omega=H$, this gives\n",
    "\\begin{align}\n",
    "\\Delta_{1,3}(T)&=\\frac{V_2(TH)-(1+R_1(T))V_1(T)}{-(1+R_1(T))B_{1,3}(T)+B_{2,3}(TH)}\\\\\n",
    "&=\\frac{0-(1+\\frac{2}{5})0}{-(1+\\frac{2}{5})\\frac{4}{7}+\\frac{4}{5}}\\\\\n",
    "&=0.\n",
    "\\end{align}"
   ]
  },
  {
   "cell_type": "markdown",
   "metadata": {},
   "source": [
    "If this is correct, we should arrive at the same answer if $\\omega_2=T$, and indeed we see that this is the case:\n",
    "\\begin{align}\n",
    "\\Delta_{1,3}(T)&=\\frac{V_2(TT)-(1+R_1(T))V_1(T)}{-(1+R_1(T))B_{1,3}(T)+B_{2,3}(TT)}\\\\\n",
    "&=\\frac{0-(1+\\frac{2}{5})0}{-(1+\\frac{2}{5})\\frac{4}{7}+\\frac{4}{5}}\\\\\n",
    "&=0.\n",
    "\\end{align}"
   ]
  },
  {
   "cell_type": "markdown",
   "metadata": {},
   "source": [
    "Similary to Exercise 6.4.2, note that investing in the maturity $2$ bond at time $1$ is the same as investing in the money market.  We therefore don't have to bother investing in the maturity $2$ bond, as we can invest in the money market directly. $\\square$"
   ]
  }
 ],
 "metadata": {
  "kernelspec": {
   "display_name": "Python 3",
   "language": "python",
   "name": "python3"
  },
  "language_info": {
   "codemirror_mode": {
    "name": "ipython",
    "version": 3
   },
   "file_extension": ".py",
   "mimetype": "text/x-python",
   "name": "python",
   "nbconvert_exporter": "python",
   "pygments_lexer": "ipython3",
   "version": "3.7.6"
  }
 },
 "nbformat": 4,
 "nbformat_minor": 4
}
