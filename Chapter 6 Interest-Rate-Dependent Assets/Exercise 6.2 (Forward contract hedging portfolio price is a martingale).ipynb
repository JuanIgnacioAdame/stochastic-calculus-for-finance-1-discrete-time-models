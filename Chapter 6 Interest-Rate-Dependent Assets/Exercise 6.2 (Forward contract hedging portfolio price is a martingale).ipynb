{
 "cells": [
  {
   "cell_type": "markdown",
   "metadata": {},
   "source": [
    "### Exercise 6.2"
   ]
  },
  {
   "cell_type": "markdown",
   "metadata": {},
   "source": [
    "Verify that the discounted value of the static hedging portfolio constructed in the proof of Theorem 6.3.2 is a martingale under $\\tilde{\\mathbb{P}}$."
   ]
  },
  {
   "cell_type": "markdown",
   "metadata": {},
   "source": [
    "### Solution 6.2"
   ]
  },
  {
   "cell_type": "markdown",
   "metadata": {},
   "source": [
    "First we must explicitly write down the value $X_k$ of the static hedging portfolio that the agent constructed at time $n$.  This is given by\n",
    "\\begin{equation}\n",
    "X_k = \\underbrace{S_k}_{\\text{owns asset}}-\\underbrace{\\frac{S_n}{B_{n,m}}B_{k,m}}_{\\text{short bond position}}-\\underbrace{F_{k,m}}_{\\text{short forward contract position}}.\n",
    "\\end{equation}"
   ]
  },
  {
   "cell_type": "markdown",
   "metadata": {},
   "source": [
    "We want to show that $\\tilde{\\mathbb{E}}_k[D_{k+1}X_{k+1}]=D_kX_{k+1}$.  This can be seen from the following calculation.\n",
    "\\begin{align}\n",
    "\\tilde{\\mathbb{E}}_k[D_{k+1}X_{k+1}]&=\\tilde{\\mathbb{E}}_k\\left[D_{k+1}(S_{k+1}-\\frac{S_n}{B_{n,m}}B_{k+1,m}-F_{k+1,m})\\right]\\\\\n",
    "&=\\underbrace{\\tilde{\\mathbb{E}}_k[D_{k+1}S_{k+1}]}_{=D_kS_k}-\\underbrace{\\tilde{\\mathbb{E}}_k\\left[D_{k+1}\\frac{S_n}{B_{n,m}}B_{k+1,m}\\right]}_{D_{k}\\frac{S_n}{B_{n,m}}B_{k,m}}-\\tilde{\\mathbb{E}}_k[D_{k+1}F_{k+1,m}].\n",
    "\\end{align}"
   ]
  },
  {
   "cell_type": "markdown",
   "metadata": {},
   "source": [
    "The equality for the leftmost term holds by Equation 6.3.1 of the textbook.  In a little more detail, this equality holds by definition of $\\tilde{\\mathbb{P}}$."
   ]
  },
  {
   "cell_type": "markdown",
   "metadata": {},
   "source": [
    "The equality for the middle term holds from Remark 6.2.5 from the textbook, namely, that discounted zero-coupon bond prices are martingales under $\\tilde{\\mathbb{P}}$."
   ]
  },
  {
   "cell_type": "markdown",
   "metadata": {},
   "source": [
    "What we would still like to show is that $\\tilde{\\mathbb{E}}_k[D_{k+1}F_{k+1,m}]=D_kF_{k,m}$.  This holds due to Remark 6.2.8 of the textbook, which says that if it is possible to construct a portfolio that hedges a short position in a derivative security (i.e. that has value $F_{k+1,m}$ at time $k+1$ regardless of the outcome of the coin tossing), then the value of the derivative security at time $k$ must be\n",
    "\\begin{equation}\n",
    "F_{k,m}=\\frac{1}{D_k}\\tilde{\\mathbb{E}}_k[D_{k+1}F_{k+1,m}].\n",
    "\\end{equation}\n",
    "Rewriting this, we obtain\n",
    "\\begin{equation}\n",
    "D_kF_{k,m}=\\tilde{\\mathbb{E}}_k[D_{k+1}F_{k+1,m}],\n",
    "\\end{equation}\n",
    "as desired.  We emphasize that Remark 6.2.8 holds *if* it is possible to construct a portfolio that hedges a short position in the derivative security.  In our case, we know this is possible by Theorem 6.3.2"
   ]
  },
  {
   "cell_type": "markdown",
   "metadata": {},
   "source": [
    "In summary, we have shown that\n",
    "\\begin{equation}\n",
    "\\tilde{\\mathbb{E}}_k[D_{k+1}X_{k+1}]=\\underbrace{\\tilde{\\mathbb{E}}_k[D_{k+1}S_{k+1}]}_{=D_kS_k}-\\underbrace{\\tilde{\\mathbb{E}}_k\\left[D_{k+1}\\frac{S_n}{B_{n,m}}B_{k+1,m}\\right]}_{D_{k}\\frac{S_n}{B_{n,m}}B_{k,m}}-\\underbrace{\\tilde{\\mathbb{E}}_k[D_{k+1}F_{k+1,m}]}_{D_kF_{k,m}}=D_kX_k,\n",
    "\\end{equation}\n",
    "which establishes the desired result. $\\square$"
   ]
  },
  {
   "cell_type": "markdown",
   "metadata": {},
   "source": [
    "#### Remark"
   ]
  },
  {
   "cell_type": "markdown",
   "metadata": {},
   "source": [
    "Here is an alternative way of showing that $\\tilde{\\mathbb{E}}_k[D_{k+1}F_{k+1,m}]=D_kF_{k,m}$."
   ]
  },
  {
   "cell_type": "markdown",
   "metadata": {},
   "source": [
    "Because $F_{k+1,m}$ is a contract which pays $(K-S_m)$ at time $m$, its price must equal the discounted, conditional expectation value of that payment. In other words,\n",
    "\\begin{equation}\n",
    "F_{k+1,m}=\\tilde{\\mathbb{E}}_{k+1}\\left[\\frac{D_m}{D_{k+1}}(K-S_m)\\right].\n",
    "\\end{equation}"
   ]
  },
  {
   "cell_type": "markdown",
   "metadata": {},
   "source": [
    "Hence,\n",
    "\\begin{align}\n",
    "\\tilde{\\mathbb{E}}_k[D_{k+1}F_{k+1,m}]&=\\tilde{\\mathbb{E}}_k\\left[D_{k+1}\\tilde{\\mathbb{E}}_{k+1}\\left[\\frac{D_m}{D_{k+1}}(K-S_m)\\right]\\right]\\\\\n",
    "&=\\tilde{\\mathbb{E}}_k\\left[\\tilde{\\mathbb{E}}_{k+1}\\left[D_m(K-S_m)\\right]\\right]\\\\\n",
    "&=\\tilde{\\mathbb{E}}_k[D_m(K-S_m)]\\\\\n",
    "&=D_kF_{k,m}. \\square\n",
    "\\end{align}"
   ]
  }
 ],
 "metadata": {
  "kernelspec": {
   "display_name": "Python 3",
   "language": "python",
   "name": "python3"
  },
  "language_info": {
   "codemirror_mode": {
    "name": "ipython",
    "version": 3
   },
   "file_extension": ".py",
   "mimetype": "text/x-python",
   "name": "python",
   "nbconvert_exporter": "python",
   "pygments_lexer": "ipython3",
   "version": "3.7.6"
  }
 },
 "nbformat": 4,
 "nbformat_minor": 4
}
