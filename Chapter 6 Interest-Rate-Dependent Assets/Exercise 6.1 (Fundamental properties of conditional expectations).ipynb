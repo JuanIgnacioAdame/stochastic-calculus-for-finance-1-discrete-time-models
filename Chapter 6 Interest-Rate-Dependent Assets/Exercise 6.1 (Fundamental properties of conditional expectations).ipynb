{
 "cells": [
  {
   "cell_type": "markdown",
   "metadata": {},
   "source": [
    "### Exercise 6.1"
   ]
  },
  {
   "cell_type": "markdown",
   "metadata": {},
   "source": [
    "Prove Theorem 2.3.2 when conditional expectation is defined by Definition 6.2.2."
   ]
  },
  {
   "cell_type": "markdown",
   "metadata": {},
   "source": [
    "### Solution 6.1"
   ]
  },
  {
   "cell_type": "markdown",
   "metadata": {},
   "source": [
    "Let us first write the desired Theorem below, proving each result as we go along."
   ]
  },
  {
   "cell_type": "markdown",
   "metadata": {},
   "source": [
    "Let $N$ be a positive integer, and let $X$ and $Y$ be random variables depending on the first $N$ coin tosses. Let $0\\leq n\\leq N$ be given. The following properties hold."
   ]
  },
  {
   "cell_type": "markdown",
   "metadata": {},
   "source": [
    "#### Linearity of conditional expectations"
   ]
  },
  {
   "cell_type": "markdown",
   "metadata": {},
   "source": [
    "For all constants $c_1$ and $c_2$, we have\n",
    "\\begin{equation}\n",
    "\\mathbb{E}_n[c_1X+c_2Y]=c_1\\mathbb{E}_n[X]+c_2\\mathbb{E}_n[Y].\n",
    "\\end{equation}"
   ]
  },
  {
   "cell_type": "markdown",
   "metadata": {},
   "source": [
    "This is just a straightforward computation.\n",
    "\\begin{align}\n",
    "\\mathbb{E}_n[c_1X+c_2Y](\\omega_1\\dots\\omega_n):&=\\sum_{\\omega_{n+1}\\dots\\omega_{N}}(c_1X+c_2Y)(\\omega_1\\dots\\omega_N)\\mathbb{P}(\\omega_{n+1}\\dots\\omega_N|\\omega_1\\dots\\omega_n)\\\\\n",
    "&=\\sum_{\\omega_{n+1}\\dots\\omega_{N}}c_1X(\\omega_1\\dots\\omega_N)\\mathbb{P}(\\omega_{n+1}\\dots\\omega_N|\\omega_1\\dots\\omega_n)+\\sum_{\\omega_{n+1}\\dots\\omega_{N}}c_2Y(\\omega_1\\dots\\omega_N)\\mathbb{P}(\\omega_{n+1}\\dots\\omega_N|\\omega_1\\dots\\omega_n)\\\\\n",
    "&=c_1\\mathbb{E}_nX+c_2\\mathbb{E}_nY.\\square\n",
    "\\end{align}"
   ]
  },
  {
   "cell_type": "markdown",
   "metadata": {},
   "source": [
    "#### Taking out what is known"
   ]
  },
  {
   "cell_type": "markdown",
   "metadata": {},
   "source": [
    "If $X$ actually depends only on the first $n$ coin tosses, then\n",
    "\\begin{equation}\n",
    "\\mathbb{E}_n[XY]=X\\mathbb{E}_n[Y].\n",
    "\\end{equation}"
   ]
  },
  {
   "cell_type": "markdown",
   "metadata": {},
   "source": [
    "This is again a straightforward computation.\n",
    "\\begin{align}\n",
    "\\mathbb{E}_n[XY](\\omega_1\\dots\\omega_n):&=\\sum_{\\omega_{n+1}\\dots\\omega_{N}}(XY)(\\omega_1\\dots\\omega_N)\\mathbb{P}(\\omega_{n+1}\\dots\\omega_N|\\omega_1\\dots\\omega_n).\n",
    "\\end{align}"
   ]
  },
  {
   "cell_type": "markdown",
   "metadata": {},
   "source": [
    "Note that because $X$ actually depends only on the first $n$ coin tosses, we have\n",
    "\\begin{equation}\n",
    "X(\\omega_1\\dots\\omega_n\\omega_{n+1}\\dots\\omega_{N})=X(\\omega_1\\dots\\omega_n\\omega'_{n+1}\\dots\\omega'_{N})\n",
    "\\end{equation}\n",
    "for all choices of $\\omega_{n+1}\\dots\\omega_{N},\\omega'_{n+1}\\dots\\omega'_{N}$. This means that we can in fact pull the $X$ out of the sum in the first equation, and we obtain\n",
    "\\begin{equation}\n",
    "X(\\omega_1\\dots\\omega_n)\\sum_{\\omega_{n+1}\\dots\\omega_{N}}Y(\\omega_1\\dots\\omega_N)\\mathbb{P}(\\omega_{n+1}\\dots\\omega_N|\\omega_1\\dots\\omega_n)=X\\mathbb{E}_nY. \\square\n",
    "\\end{equation}"
   ]
  },
  {
   "cell_type": "markdown",
   "metadata": {},
   "source": [
    "#### Iterated conditioning"
   ]
  },
  {
   "cell_type": "markdown",
   "metadata": {},
   "source": [
    "If $0\\leq n\\leq m\\leq N$, then\n",
    "\\begin{equation}\n",
    "\\mathbb{E}_n[\\mathbb{E}_m[X]]=\\mathbb{E}_n[X].\n",
    "\\end{equation}\n",
    "In particular, $\\mathbb{E}[\\mathbb{E}_m[X]]=\\mathbb{E}X$."
   ]
  },
  {
   "cell_type": "markdown",
   "metadata": {},
   "source": [
    "Let $Y=\\mathbb{E}_mX$, so that $Y$ actually depends on only the first $m$ coin tosses.  Then\n",
    "\\begin{align}\n",
    "\\mathbb{E}_nY&=\\sum_{\\omega_{n+1}\\dots\\omega_N}Y(\\omega_1\\dots\\omega_m)\\mathbb{P}(\\omega_{n+1}\\dots\\omega_{N}|\\omega_1\\dots\\omega_n)\\\\\n",
    "&=\\sum_{\\omega_{n+1}\\dots\\omega_m}\\sum_{\\omega_{m+1}\\dots\\omega_{N}}Y(\\omega_1\\dots\\omega_m)\\mathbb{P}(\\omega_{n+1}\\dots\\omega_{N}|\\omega_1\\dots\\omega_n)\\\\\n",
    "&=\\sum_{\\omega_{n+1}\\dots\\omega_m}Y(\\omega_1\\dots\\omega_m)\\underbrace{\\sum_{\\omega_{m+1}\\dots\\omega_{N}}\\mathbb{P}(\\omega_{n+1}\\dots\\omega_{N}|\\omega_1\\dots\\omega_n)}_{\\mathbb{P}(\\omega_{n+1}\\dots\\omega_{m}|\\omega_1\\dots\\omega_n)}\\\\\n",
    "&=\\sum_{\\omega_{n+1}\\dots\\omega_m}\\mathbb{P}(\\omega_{n+1}\\dots\\omega_{m}|\\omega_1\\dots\\omega_n)Y(\\omega_1\\dots\\omega_m)\\\\\n",
    "&=\\sum_{\\omega_{n+1}\\dots\\omega_m}\\mathbb{P}(\\omega_{n+1}\\dots\\omega_{m}|\\omega_1\\dots\\omega_n)\\sum_{\\omega_{m+1}\\dots\\omega_N}\\mathbb{P}(\\omega_{m+1}\\dots\\omega_N|\\omega_1\\dots\\omega_m)X(\\omega_1\\dots\\omega_N)\\\\\n",
    "&=\\sum_{\\omega_{n+1}\\dots\\omega_m}\\sum_{\\omega_{m+1}\\dots\\omega_N}\\underbrace{\\mathbb{P}(\\omega_{n+1}\\dots\\omega_{m}|\\omega_1\\dots\\omega_n)}_{\\frac{\\mathbb{P}(\\omega_1\\dots\\omega_m)}{\\mathbb{P}(\\omega_1\\dots\\omega_n)}}\\underbrace{\\mathbb{P}(\\omega_{m+1}\\dots\\omega_N|\\omega_1\\dots\\omega_m)}_{\\frac{\\mathbb{P}(\\omega_1\\dots\\omega_N)}{\\mathbb{P}(\\omega_1\\dots\\omega_m)}}X(\\omega_1\\dots\\omega_N)\\\\\n",
    "&=\\sum_{\\omega_{n+1}\\dots\\omega_N}\\mathbb{P}(\\omega_{n+1}\\dots\\omega_{N}|\\omega_1\\dots\\omega_n)X(\\omega_1\\dots\\omega_N)\\\\\n",
    "&=\\mathbb{E}_n[X](\\omega_1\\dots\\omega_n).\\square\n",
    "\\end{align}"
   ]
  },
  {
   "cell_type": "markdown",
   "metadata": {},
   "source": [
    "#### Independence"
   ]
  },
  {
   "cell_type": "markdown",
   "metadata": {},
   "source": [
    "If $X$ depends only on tosses $n+1$ through $N$, then\n",
    "\\begin{equation}\n",
    "\\mathbb{E}_n[X]=\\mathbb{E}X.\n",
    "\\end{equation}"
   ]
  },
  {
   "cell_type": "markdown",
   "metadata": {},
   "source": [
    "This is a simple calculation.\n",
    "\\begin{align}\n",
    "\\mathbb{E}_n[X]=&\\sum_{\\omega_{n+1}\\dots\\omega_N}\\mathbb{P}(\\omega_{n+1}\\dots\\omega_{N}|\\omega_1\\dots\\omega_n)X(\\omega_{n+1}\\dots\\omega_N)\\\\\n",
    "=&\\underbrace{\\sum_{\\omega_{1}\\dots\\omega_{n}}\\mathbb{P}(\\omega_1\\dots\\omega_n)}_{=1}\\times\\sum_{\\omega_{n+1}\\dots\\omega_{N}}\\mathbb{P}(\\omega_{n+1}\\dots\\omega_{N}|\\omega_1\\dots\\omega_n)X(\\omega_{n+1}\\dots\\omega_N)\\\\\n",
    "=&\\sum_{\\omega_{1}\\dots\\omega_N}\\underbrace{\\mathbb{P}(\\omega_1\\dots\\omega_n)\\mathbb{P}(\\omega_{n+1}\\dots\\omega_{N}|\\omega_1\\dots\\omega_n)}_{=\\mathbb{P}(\\omega_1\\dots\\omega_N)}X(\\omega_{n+1}\\dots\\omega_N)\\\\\n",
    "=&\\sum_{\\omega_{1}\\dots\\omega_{N}}\\mathbb{P}(\\omega_1\\dots\\omega_N)X(\\omega_{n+1}\\dots\\omega_N)\\\\\n",
    "=&\\mathbb{E}X. \\square\n",
    "\\end{align}"
   ]
  },
  {
   "cell_type": "code",
   "execution_count": null,
   "metadata": {},
   "outputs": [],
   "source": []
  }
 ],
 "metadata": {
  "kernelspec": {
   "display_name": "Python 3",
   "language": "python",
   "name": "python3"
  },
  "language_info": {
   "codemirror_mode": {
    "name": "ipython",
    "version": 3
   },
   "file_extension": ".py",
   "mimetype": "text/x-python",
   "name": "python",
   "nbconvert_exporter": "python",
   "pygments_lexer": "ipython3",
   "version": "3.7.6"
  }
 },
 "nbformat": 4,
 "nbformat_minor": 4
}
