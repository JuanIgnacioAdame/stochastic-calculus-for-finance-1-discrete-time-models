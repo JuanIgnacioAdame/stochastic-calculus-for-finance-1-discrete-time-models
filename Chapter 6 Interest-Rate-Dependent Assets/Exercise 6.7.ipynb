{
 "cells": [
  {
   "cell_type": "markdown",
   "metadata": {},
   "source": [
    "### Exercise 6.7"
   ]
  },
  {
   "cell_type": "markdown",
   "metadata": {},
   "source": [
    "Consider a binomial interest rate model in which the itnerest rate at time $n$ depends on only the number of heads in the first $n$ coin tosses.  In other words, for each $n$ there is a function $r_n(k)$ such that\n",
    "\\begin{equation}\n",
    "R_n(\\omega_1\\dots\\omega_n)=r_n(\\#H(\\omega_1\\dots\\omega_n)).\n",
    "\\end{equation}"
   ]
  },
  {
   "cell_type": "markdown",
   "metadata": {},
   "source": [
    "Assume the risk-neutral probabilities are $\\tilde{p}=\\tilde{q}=\\frac{1}{2}$. The Ho-Lee model (Example $6.4.4$) and the Black-Derman-Toy model (Example $6.5.5$) satisfy these conditions."
   ]
  },
  {
   "cell_type": "markdown",
   "metadata": {},
   "source": [
    "Consider a derivative security that pays $1$ at time $n$ if and only if there are $k$ heads in the first $n$ tosses; i.e., the payoff is $V_n(k)=\\mathbb{I}_{\\{\\#H(\\omega_1\\dots\\omega_n)=k\\}}$. Define $\\psi_0(0)=1$ and, for $n=1,2,\\dots,$ define\n",
    "\\begin{equation}\n",
    "\\psi_n(k)=\\tilde{\\mathbb{E}}[D_nV_n(k)], \\quad k=0,1,\\dots,n,\n",
    "\\end{equation}\n",
    "to be the price of this security at time zero.  Show that the functions $\\psi_n(k)$ can be computed by the recursion\n",
    "\\begin{align}\n",
    "\\psi_{n+1}(0)&=\\frac{\\psi_n(0)}{2(1+r_n(0))},\\\\\n",
    "\\psi_{n+1}(k)&=\\frac{\\psi_n(k-1)}{2(1+r_n(k-1))}+\\frac{\\psi_n(k)}{2(1+r_n(k))}, \\quad k=1,\\dots,n,\\\\\n",
    "\\psi_{n+1}(n+1)&=\\frac{\\psi_n(n)}{2(1+r_n(n))}.\n",
    "\\end{align}"
   ]
  },
  {
   "cell_type": "markdown",
   "metadata": {},
   "source": [
    "### Solution 6.7"
   ]
  },
  {
   "cell_type": "markdown",
   "metadata": {},
   "source": [
    "We show this with the following calculations.\n",
    "\\begin{align}\n",
    "\\psi_{n+1}(0)&=\\mathbb{E}[D_{n+1}V_{n+1}(0)]\\\\\n",
    "&=\\mathbb{E}[D_{n+1}\\mathbb{I}_{\\{\\#H(\\omega_1\\dots\\omega_{n+1})=0\\}}]\\\\\n",
    "&=p(\\{\\#H(\\omega_1\\dots\\omega_{n+1})=0\\})D_{n+1}(\\{\\#H(\\omega_1\\dots\\omega_{n+1})=0\\})\\\\\n",
    "&=\\underbrace{\\tilde{q}}_{=\\frac{1}{2}}\\underbrace{\\tilde{q}^nD_{n}(\\{\\#H(\\omega_1\\dots\\omega_{n})=0\\})}_{=\\psi_n(0)}\\frac{1}{1+r_n(0)}\\\\\n",
    "&=\\frac{\\psi_n(0)}{2(1+r_n(0))}.\n",
    "\\end{align}"
   ]
  },
  {
   "cell_type": "markdown",
   "metadata": {},
   "source": [
    "Next show the the third equality.\n",
    "\\begin{align}\n",
    "\\psi_{n+1}(n+1)&=\\mathbb{E}[D_{n+1}V_{n+1}(n+1)]\\\\\n",
    "&=\\mathbb{E}[D_{n+1}\\mathbb{I}_{\\{\\#H(\\omega_1\\dots\\omega_{n+1})=n+1\\}}]\\\\\n",
    "&=p(\\{\\#H(\\omega_1\\dots\\omega_{n+1})=n+1\\})D_{n+1}(\\{\\#H(\\omega_1\\dots\\omega_{n+1})=n+1\\})\\\\\n",
    "&=\\underbrace{\\tilde{p}}_{=\\frac{1}{2}}\\underbrace{\\tilde{p}^nD_{n}(\\{\\#H(\\omega_1\\dots\\omega_{n})=n\\})}_{=\\psi_n(n)}\\frac{1}{1+r_n(n)}\\\\\n",
    "&=\\frac{\\psi_n(n)}{2(1+r_n(n))}.\n",
    "\\end{align}"
   ]
  },
  {
   "cell_type": "markdown",
   "metadata": {},
   "source": [
    "Finally, we show the middle equality.\n",
    "\\begin{align}\n",
    "\\psi_{n+1}(k)&=\\mathbb{E}[D_{n+1}V_{n+1}(k)]\\\\\n",
    "&=\\mathbb{E}[D_{n+1}\\mathbb{I}_{\\{\\#H(\\omega_1\\dots\\omega_{n+1})=k\\}}]\n",
    "\\end{align}"
   ]
  },
  {
   "cell_type": "markdown",
   "metadata": {},
   "source": [
    "Note that\n",
    "\\begin{equation}\n",
    "\\{\\#H(\\omega_1\\dots\\omega_{n+1})=k\\}=\\{\\#H(\\omega_1\\dots\\omega_{n})=k-1,\\omega_{n+1}=H\\}\\cup\\{\\#H(\\omega_1\\dots\\omega_{n})=k,\\omega_{n+1}=T\\}.\n",
    "\\end{equation}"
   ]
  },
  {
   "cell_type": "markdown",
   "metadata": {},
   "source": [
    "This means the expectation value becomes\n",
    "\\begin{align}\n",
    "\\psi_{n+1}(k)&=\\mathbb{E}[D_{n+1}(\\mathbb{I}_{\\{\\#H(\\omega_1\\dots\\omega_{n})=k-1,\\omega_{n+1=H}\\}}+\\mathbb{I}_{\\{\\#H(\\omega_1\\dots\\omega_{n})=k,\\omega_{n+1}=T\\}})]\\\\\n",
    "&=\\mathbb{E}[D_{n+1}\\mathbb{I}_{\\{\\#H(\\omega_1\\dots\\omega_{n})=k-1,\\omega_{n+1=H}\\}}]+\\mathbb{E}[D_{n+1}\\mathbb{I}_{\\{\\#H(\\omega_1\\dots\\omega_{n})=k,\\omega_{n+1}=T\\}}]\\\\\n",
    "&=\\tilde{p}\\frac{1}{1+r_n(k-1)}\\mathbb{E}[D_{n}\\mathbb{I}_{\\{\\#H(\\omega_1\\dots\\omega_{n})=k-1\\}}]+\\tilde{q}\\frac{1}{1+r_n(k)}\\mathbb{E}[D_{n}\\mathbb{I}_{\\{\\#H(\\omega_1\\dots\\omega_{n})=k\\}}]\\\\\n",
    "&=\\tilde{p}\\frac{1}{1+r_n(k-1)}\\psi_n(k-1)+\\tilde{q}\\frac{1}{1+r_n(k)}\\psi_n(k)\\\\\n",
    "&=\\frac{\\psi_n(k-1)}{2(1+r_n(k-1))}+\\frac{\\psi_n(k)}{2(1+r_n(k))}.\\square\n",
    "\\end{align}"
   ]
  },
  {
   "cell_type": "code",
   "execution_count": null,
   "metadata": {},
   "outputs": [],
   "source": []
  }
 ],
 "metadata": {
  "kernelspec": {
   "display_name": "Python 3",
   "language": "python",
   "name": "python3"
  },
  "language_info": {
   "codemirror_mode": {
    "name": "ipython",
    "version": 3
   },
   "file_extension": ".py",
   "mimetype": "text/x-python",
   "name": "python",
   "nbconvert_exporter": "python",
   "pygments_lexer": "ipython3",
   "version": "3.7.6"
  }
 },
 "nbformat": 4,
 "nbformat_minor": 4
}
