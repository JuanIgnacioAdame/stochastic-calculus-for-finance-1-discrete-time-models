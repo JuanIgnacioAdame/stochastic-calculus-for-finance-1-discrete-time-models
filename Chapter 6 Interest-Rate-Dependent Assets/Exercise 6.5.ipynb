{
 "cells": [
  {
   "cell_type": "markdown",
   "metadata": {},
   "source": [
    "### Exercise 6.5"
   ]
  },
  {
   "cell_type": "markdown",
   "metadata": {},
   "source": [
    "Let $m$ be given with $0\\leq m\\leq N-1$, and consider the forward interest rate\n",
    "\\begin{equation}\n",
    "F_{n,m}=\\frac{B_{n,m}-B_{n,m+1}}{B_{n,m+1}},\\quad n=0,1,\\dots,m.\n",
    "\\end{equation}"
   ]
  },
  {
   "cell_type": "markdown",
   "metadata": {},
   "source": [
    "### Exercise 6.5.1"
   ]
  },
  {
   "cell_type": "markdown",
   "metadata": {},
   "source": [
    "Use (6.4.8) and (6.2.5) to show that $F_{n,m}$, $n=0,1,\\dots,m$ is a martingale under the $(m+1)$-forward measure $\\tilde{\\mathbb{P}}^{m+1}$."
   ]
  },
  {
   "cell_type": "markdown",
   "metadata": {},
   "source": [
    "### Solution 6.5.1"
   ]
  },
  {
   "cell_type": "markdown",
   "metadata": {},
   "source": [
    "We show this with the following calculation.\n",
    "\\begin{align}\n",
    "\\tilde{\\mathbb{E}}^{m+1}_n[F_{n+1,m}]&=\\frac{1}{D_nB_{n,m+1}}\\tilde{\\mathbb{E}}_n[D_{m+1}F_{n+1,m}]\\\\\n",
    "&=\\frac{1}{D_nB_{n,m+1}}\\tilde{\\mathbb{E}}_n\\left[\\tilde{\\mathbb{E}}_{n+1}[F_{n+1,m}D_{m+1}]\\right]\\\\\n",
    "&=\\frac{1}{D_nB_{n,m+1}}\\tilde{\\mathbb{E}}_n\\left[F_{n+1,m}\\underbrace{\\tilde{\\mathbb{E}}_{n+1}[D_{m+1}]}_{B_{n+1,m+1}D_{n+1}}\\right]\\\\\n",
    "&=\\frac{1}{D_nB_{n,m+1}}\\tilde{\\mathbb{E}}_n\\left[\\underbrace{F_{n+1,m}B_{n+1,m+1}}_{B_{n+1,m}-B_{n+1,m+1}}D_{n+1}\\right]\\\\\n",
    "&=\\frac{1}{D_nB_{n,m+1}}\\tilde{\\mathbb{E}}_n\\left[D_{n+1}B_{n+1,m}-D_{n+1}B_{n+1,m+1}\\right]\\\\\n",
    "&=\\frac{1}{D_nB_{n,m+1}}\\tilde{\\mathbb{E}}_n\\left[\\tilde{\\mathbb{E}}_{n+1}D_m-\\tilde{\\mathbb{E}}_{n+1}D_{m+1}\\right]\\\\\n",
    "&=\\frac{1}{D_nB_{n,m+1}}\\tilde{\\mathbb{E}}_n\\left[D_m-D_{m+1}\\right]\\\\\n",
    "&=\\frac{D_nB_{n,m}-D_nB_{n,m+1}}{D_nB_{n,m+1}}\\\\\n",
    "&=\\frac{B_{n,m}-B_{n,m+1}}{B_{n,m+1}}=F_{n,m}. \\square\n",
    "\\end{align}"
   ]
  },
  {
   "cell_type": "markdown",
   "metadata": {},
   "source": [
    "### Exercise 6.5.2"
   ]
  },
  {
   "cell_type": "markdown",
   "metadata": {},
   "source": [
    "Compute $F_{0,2}$,$F_{1,2}(H)$, and $F_{1,2}(T)$ in Example 6.4.4 ad verify the martingale property\n",
    "\\begin{equation}\n",
    "\\tilde{\\mathbb{E}}^3[F_{1,2}]=F_{0,2}.\n",
    "\\end{equation}"
   ]
  },
  {
   "cell_type": "markdown",
   "metadata": {},
   "source": [
    "### Solution 6.5.2"
   ]
  },
  {
   "cell_type": "markdown",
   "metadata": {},
   "source": [
    "This is just a matter of a performing some simple calculations, with the exact numbers plugged in from the example."
   ]
  },
  {
   "cell_type": "markdown",
   "metadata": {},
   "source": [
    "\\begin{equation}\n",
    "F_{0,2}=\\frac{B_{0,2}}{B_{0,3}}-1=\\frac{0.9071}{0.8639}-1\\approx0.05.\n",
    "\\end{equation}"
   ]
  },
  {
   "cell_type": "markdown",
   "metadata": {},
   "source": [
    "\\begin{equation}\n",
    "F_{1,2}(H)=\\frac{B_{1,2}(H)}{B_{1,3}(H)}-1=\\frac{0.9479}{0.8985}-1\\approx0.055.\n",
    "\\end{equation}"
   ]
  },
  {
   "cell_type": "markdown",
   "metadata": {},
   "source": [
    "\\begin{equation}\n",
    "F_{1,2}(T)=\\frac{B_{1,2}(T)}{B_{1,3}(T)}-1=\\frac{0.9569}{0.9158}-1\\approx0.045.\n",
    "\\end{equation}"
   ]
  },
  {
   "cell_type": "markdown",
   "metadata": {},
   "source": [
    "\\begin{equation}\n",
    "\\tilde{\\mathbb{P}}^{3}(H)=0.1232+0.1232+0.1244+0.1244=0.4952.\n",
    "\\end{equation}"
   ]
  },
  {
   "cell_type": "markdown",
   "metadata": {},
   "source": [
    "\\begin{equation}\n",
    "\\tilde{\\mathbb{P}}^{3}(T)=1-0.4952=0.5048.\n",
    "\\end{equation}"
   ]
  },
  {
   "cell_type": "markdown",
   "metadata": {},
   "source": [
    "Plugging these numbers all in, we obrain the desired results.\n",
    "\\begin{align}\n",
    "\\tilde{\\mathbb{E}}^3_0[F_{1,2}]&=\\tilde{\\mathbb{P}}^{3}(H)F_{1,2}(H)+\\tilde{\\mathbb{P}}^{3}(T)F_{1,2}(T)\\\\\n",
    "&=0.4952\\times0.055+0.5048\\times0.045\\approx0.05=F_{0,1}. \\square\n",
    "\\end{align}"
   ]
  },
  {
   "cell_type": "code",
   "execution_count": null,
   "metadata": {},
   "outputs": [],
   "source": []
  }
 ],
 "metadata": {
  "kernelspec": {
   "display_name": "Python 3",
   "language": "python",
   "name": "python3"
  },
  "language_info": {
   "codemirror_mode": {
    "name": "ipython",
    "version": 3
   },
   "file_extension": ".py",
   "mimetype": "text/x-python",
   "name": "python",
   "nbconvert_exporter": "python",
   "pygments_lexer": "ipython3",
   "version": "3.7.6"
  }
 },
 "nbformat": 4,
 "nbformat_minor": 4
}
