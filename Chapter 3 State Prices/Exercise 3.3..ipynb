{
 "cells": [
  {
   "cell_type": "markdown",
   "metadata": {},
   "source": [
    "# Problem"
   ]
  },
  {
   "cell_type": "markdown",
   "metadata": {},
   "source": [
    "Using the stock price model of Figure 3.1.1 and the actual probabilities $p=\\frac{2}{3}, q=\\frac{1}{3}$, define the estimates of $S_3$ at various times by\n",
    "\\begin{equation}\n",
    "M_n=\\mathbb{E}_n\\left[S_3\\right],\\quad n=0,1,2,3.\n",
    "\\end{equation}\n",
    "Fill in the values of $M_n$ in a tree like that of Figure 3.1.1. Verify that $M_n$ is a martingale."
   ]
  },
  {
   "cell_type": "markdown",
   "metadata": {},
   "source": [
    "# Answer"
   ]
  },
  {
   "cell_type": "markdown",
   "metadata": {},
   "source": [
    "From the definition of conditional expectation, we have that $M_3=\\mathbb{E}_3=\\left[S_3\\right]=S_3$.  Hence, we have\n",
    "\\begin{align}\n",
    "M_3(HHH)&=S_3(HHH)=32\\\\\n",
    "M_3(HHT)&=S_3(HTT)=8\\\\\n",
    "M_3(HTH)&=S_3(HTH)=8\\\\\n",
    "M_3(HTT)&=S_3(HTT)=2\\\\\n",
    "M_3(THH)&=S_3(THH)=8\\\\\n",
    "M_3(THT)&=S_3(THT)=2\\\\\n",
    "M_3(TTH)&=S_3(TTH)=2\\\\\n",
    "M_3(TTT)&=S_3(TTT)=0.5.\n",
    "\\end{align}"
   ]
  },
  {
   "cell_type": "markdown",
   "metadata": {},
   "source": [
    "For $M_2$, we have that\n",
    "\\begin{align}\n",
    "M_2&=\\mathbb{E}_2\\left[S_3(\\omega_1\\omega_2\\omega_3)\\right]=\\\\\n",
    "&=pS_3(\\omega_1\\omega_2H)+qS_3(\\omega_1\\omega_2T).\n",
    "\\end{align}\n",
    "Now we simply plug in the values $p=\\frac{2}{3},q=\\frac{1}{3},\\omega_1\\omega_2\\in\\{HH,HT,TH,TT\\}$:\n",
    "\\begin{align}\n",
    "M_2(HH)&=\\frac{2}{3}S_3(HHH)+\\frac{1}{3}S_3(HHT)=\\frac{2}{3}32+\\frac{1}{3}8=24\\\\\n",
    "M_2(HT)&=\\frac{2}{3}S_3(HTH)+\\frac{1}{3}S_3(HTT)=\\frac{2}{3}8+\\frac{1}{3}2=6\\\\\n",
    "M_2(TH)&=\\frac{2}{3}S_3(THH)+\\frac{1}{3}S_3(THT)=\\frac{2}{3}8+\\frac{1}{3}2=6\\\\\n",
    "M_2(TT)&=\\frac{2}{3}S_3(TTH)+\\frac{1}{3}S_3(TTT)=\\frac{2}{3}2+\\frac{1}{3}0.50=1.5.\n",
    "\\end{align}"
   ]
  },
  {
   "cell_type": "markdown",
   "metadata": {},
   "source": [
    "To compute $M_1$, note that from iterated conditioning that $M_1=\\mathbb{E}_1\\left[S_3\\right]=\\mathbb{E}_1\\left[\\mathbb{E}_2\\left[ S_3\\right]\\right]=\\mathbb{E}_1\\left[M_2\\right]$. Hence,\n",
    "\\begin{equation}\n",
    "M_1=pM_2(\\omega_1H)+qM_2(\\omega_1T).\n",
    "\\end{equation}\n",
    "Now we simply plug in the values $p=\\frac{2}{3},q=\\frac{1}{3},\\omega_1\\in\\{H,T\\}$:\n",
    "\\begin{align}\n",
    "M_1(H)=pM_2(HH)+qM_2(HT)=\\frac{2}{3}24+\\frac{1}{3}6=18\\\\\n",
    "M_1(T)=pM_2(TH)+qM_2(TT)=\\frac{2}{3}6+\\frac{1}{3}1.5=4.5.\\\\\n",
    "\\end{align}"
   ]
  },
  {
   "cell_type": "markdown",
   "metadata": {},
   "source": [
    "For $M_0$ we can use iterating condition as above and obtain $M_0=M_0\\left[M_1\\right]=pM_1(H)+qM_1(T)=\\frac{2}{3}18+\\frac{1}{3}4.5=13.5$"
   ]
  },
  {
   "cell_type": "markdown",
   "metadata": {},
   "source": [
    "That $M_n$ is a martingale holds because of the very way we computed (i.e. recursively backward in time via the very definition of a martingale) the values of $M_n$.  Note that this exercise provides an example of the more general result of Theorem 3.2.1. $\\square$"
   ]
  },
  {
   "cell_type": "code",
   "execution_count": null,
   "metadata": {},
   "outputs": [],
   "source": []
  }
 ],
 "metadata": {
  "kernelspec": {
   "display_name": "Python 3",
   "language": "python",
   "name": "python3"
  },
  "language_info": {
   "codemirror_mode": {
    "name": "ipython",
    "version": 3
   },
   "file_extension": ".py",
   "mimetype": "text/x-python",
   "name": "python",
   "nbconvert_exporter": "python",
   "pygments_lexer": "ipython3",
   "version": "3.7.6"
  }
 },
 "nbformat": 4,
 "nbformat_minor": 4
}
