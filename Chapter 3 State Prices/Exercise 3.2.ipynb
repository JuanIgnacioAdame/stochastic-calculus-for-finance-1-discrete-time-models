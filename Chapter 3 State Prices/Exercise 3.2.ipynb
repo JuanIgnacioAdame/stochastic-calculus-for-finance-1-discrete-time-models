{
 "cells": [
  {
   "cell_type": "markdown",
   "metadata": {},
   "source": [
    "# Problem"
   ]
  },
  {
   "cell_type": "markdown",
   "metadata": {},
   "source": [
    "Let $\\mathbb{P}$ be a probability measure on a finite probability space $\\Omega$. In this problem, we allow the possibility that $\\mathbb{P}(\\omega)=0$ for some values of $\\omega\\in\\Omega$. Let $Z$ be a random variable on $\\Omega$ with the property that $\\mathbb{P}(Z\\geq 0)=1$ and $\\mathbb{E}Z=1$. For $\\omega\\in\\Omega$, define $\\tilde{\\mathbb{P}}(\\omega)=Z(\\omega)\\mathbb{P}(\\omega)$, and for events $A\\subset\\Omega$, define $\\tilde{\\mathbb{P}}(A)=\\sum_{\\omega\\in A}\\tilde{\\mathbb{P}}(\\omega)$. Show the following."
   ]
  },
  {
   "cell_type": "markdown",
   "metadata": {},
   "source": [
    "(i) $\\tilde{\\mathbb{P}}$ is a probability measure, i.e., $\\tilde{\\mathbb{P}}(\\Omega)=1$."
   ]
  },
  {
   "cell_type": "markdown",
   "metadata": {},
   "source": [
    "(ii) If $Y$ is a random variable, then $\\tilde{\\mathbb{E}}Y=\\mathbb{E}\\left[ZY\\right]$."
   ]
  },
  {
   "cell_type": "markdown",
   "metadata": {},
   "source": [
    "(iii) If $A$ is an event with $\\mathbb{P}(A)=0$, then $\\tilde{\\mathbb{P}}(A)=0$."
   ]
  },
  {
   "cell_type": "markdown",
   "metadata": {},
   "source": [
    "(iv) Assume that $\\mathbb{P}(Z>0)=1$. Show that if A is an event with $\\tilde{\\mathbb{P}}(A)=0$, then $\\mathbb{P}(A)=0$."
   ]
  },
  {
   "cell_type": "markdown",
   "metadata": {},
   "source": [
    "When two probability measures agree which events have probability zero (i.e., $P(A)=0$ if and only if $\\tilde{\\mathbb{P}}(A)=0$), the measure are said to be *equivalent*. From (iii) and (iv) above, we see that $\\mathbb{P}$ and $\\tilde{\\mathbb{P}}$ are equivalent under the assumption that $\\mathbb{P}(Z>0)=1$."
   ]
  },
  {
   "cell_type": "markdown",
   "metadata": {},
   "source": [
    "(v) Show that if $\\mathbb{P}$ and $\\tilde{\\mathbb{P}}$ are equivalent, then they agree which events have probability one (i.e., $\\mathbb{P}(A)=1$ if and only if $\\tilde{\\mathbb{P}}(A)=1$)."
   ]
  },
  {
   "cell_type": "markdown",
   "metadata": {},
   "source": [
    "(vi) Construct an example in which we have only $\\mathbb{P}(Z\\geq0)=1$ and $\\mathbb{P}$ and $\\tilde{\\mathbb{P}}$ are note equivalent."
   ]
  },
  {
   "cell_type": "markdown",
   "metadata": {},
   "source": [
    "# Answer"
   ]
  },
  {
   "cell_type": "markdown",
   "metadata": {},
   "source": [
    "(i) This can be shown with a straightforward computation.\n",
    "\\begin{equation}\n",
    "\\tilde{\\mathbb{P}}(\\Omega)=\\sum_{\\omega\\in\\Omega}\\mathbb{P}(\\omega)Z(\\omega)=\\mathbb{E}Z=1.\\square\n",
    "\\end{equation}"
   ]
  },
  {
   "cell_type": "markdown",
   "metadata": {},
   "source": [
    "(ii) This can be shown with a straightforward computation.\n",
    "\\begin{equation}\n",
    "\\tilde{\\mathbb{E}}Y=\\sum_{\\omega\\in\\Omega}\\tilde{\\mathbb{P}}(\\omega)Y(\\omega)=\\sum_{\\omega\\in\\Omega}\\mathbb{P}(\\omega)Z(\\omega)Y(\\omega)=\\mathbb{E}\\left[ZY\\right].\\square\n",
    "\\end{equation}"
   ]
  },
  {
   "cell_type": "markdown",
   "metadata": {},
   "source": [
    "(iii) Note that if $\\mathbb{P}(A)=0$, then $\\mathbb{P}(\\omega)=0$ for all $\\omega\\in A$.  Hence, $\\mathbb{P}(\\omega)Z(\\omega)=0$ for all $\\omega\\in A$.  Summing over all such products, we get\n",
    "\\begin{equation}\n",
    "0=\\sum_{\\omega\\in A}\\underbrace{\\mathbb{P}(\\omega)Z(\\omega)}_{=0}=\\tilde{\\mathbb{P}}(A).\\square\n",
    "\\end{equation}"
   ]
  },
  {
   "cell_type": "markdown",
   "metadata": {},
   "source": [
    "(iv) We carry out the following computation.\n",
    "\\begin{align}\n",
    "0&=\\tilde{\\mathbb{P}}(A)\\\\\n",
    "&=\\sum_{\\omega\\in A}\\mathbb{P}(\\omega)Z(\\omega)\\\\\n",
    "&=\\sum_{\\substack{\\omega\\in A\\\\Z>0}}\\mathbb{P}(\\omega)Z(\\omega)+\\sum_{\\substack{\\omega\\in A\\\\Z\\leq 0}}\\mathbb{P}(\\omega)Z(\\omega).\n",
    "\\end{align}\n",
    "First, note that the second sum above equals 0 because $P(Z>0)=1$, or, equivalently, $P(Z\\leq 0)=0$, which is equivalent to saying that $\\mathbb{P}(\\omega)=0$ for all $\\omega\\in\\Omega$, and hence also all $\\omega\\in A$, with $Z(\\omega)\\leq0$. Hence, we have\n",
    "\\begin{equation}\n",
    "0=\\sum_{\\substack{\\omega\\in A\\\\Z>0}}\\mathbb{P}(\\omega)Z(\\omega).\n",
    "\\end{equation}\n",
    "Because $Z(\\omega)>0$ for every term in that sum, the only way that sum of products can equal $0$ is if $\\mathbb{P}(\\omega)=0$ for every $\\omega\\in A$ with $Z(\\omega)>0$.\n",
    "Putting the two results above together, we get $\\mathbb{P}(\\omega)=0$ for all $\\omega\\in A$, or equivalently $\\mathbb{P}(A)=0$.$\\square$"
   ]
  },
  {
   "cell_type": "markdown",
   "metadata": {},
   "source": [
    "(v) Case: $\\mathbb{P}(A)=1\\Rightarrow\\tilde{\\mathbb{P}}(A)=1$. Because $\\mathbb{P}(A)=1$, $\\mathbb{P}(A^{c})=0$. Because $\\mathbb{P}$ and $\\tilde{\\mathbb{P}}$ are equivalent, we have that $\\tilde{\\mathbb{P}}(A^{c})=0$. Hence, $\\tilde{\\mathbb{P}}(A)=1.$\n",
    "\n",
    "Case: $\\tilde{\\mathbb{P}}(A)=1\\Rightarrow\\mathbb{P}(A)=1$. Because $\\tilde{\\mathbb{P}}(A)=1$, $\\tilde{\\mathbb{P}}(A^{c})=0$. Because $\\tilde{\\mathbb{P}}$ and $\\mathbb{P}$ are equivalent, we have that $\\mathbb{P}(A^{c})=0$. Hence, $\\mathbb{P}(A)=1.$\n",
    "The desired result is established.$\\square$"
   ]
  },
  {
   "cell_type": "markdown",
   "metadata": {},
   "source": [
    "(vi) Let\n",
    "\\begin{align}\n",
    "&\\Omega=\\{\\omega_1,\\omega_2\\},\\\\\n",
    "&\\mathbb{P}(\\omega_1)=\\mathbb{P}(\\omega_2)=0.5,\\\\\n",
    "&Z(\\omega_1)=2, Z(\\omega_2)=0.\n",
    "\\end{align}"
   ]
  },
  {
   "cell_type": "markdown",
   "metadata": {},
   "source": [
    "We need to show two things.  First, we need to show that $\\mathbb{P}$ is a probability measure on a finite probability space.  This is immediately clear.\n",
    "Second, we need to show that $Z$ is a random variable with the property that (1) $\\mathbb{P}(Z\\geq 0)=1$, and (2) $\\mathbb{E}Z=1$. Property (1) is immediately clear, and we can see (2) via the calculation below\n",
    "\\begin{equation}\n",
    "\\mathbb{E}Z=0.5*2+0.5*0=1.\n",
    "\\end{equation}"
   ]
  },
  {
   "cell_type": "markdown",
   "metadata": {},
   "source": [
    "Finally we show that $\\tilde{\\mathbb{P}}$ and $\\mathbb{P}$ are not equivalent.  To see this, note that $\\mathbb{P}(\\omega_2)=0.5$, even though $\\tilde{\\mathbb{P}}(\\omega_2)=\\mathbb{P}(\\omega_2)Z(\\omega_2)=0$.$\\square$"
   ]
  },
  {
   "cell_type": "code",
   "execution_count": null,
   "metadata": {},
   "outputs": [],
   "source": []
  }
 ],
 "metadata": {
  "kernelspec": {
   "display_name": "Python 3",
   "language": "python",
   "name": "python3"
  },
  "language_info": {
   "codemirror_mode": {
    "name": "ipython",
    "version": 3
   },
   "file_extension": ".py",
   "mimetype": "text/x-python",
   "name": "python",
   "nbconvert_exporter": "python",
   "pygments_lexer": "ipython3",
   "version": "3.7.6"
  }
 },
 "nbformat": 4,
 "nbformat_minor": 4
}
