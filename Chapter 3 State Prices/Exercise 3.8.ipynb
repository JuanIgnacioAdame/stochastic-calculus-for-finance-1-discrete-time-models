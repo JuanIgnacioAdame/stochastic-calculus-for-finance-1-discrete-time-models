{
 "cells": [
  {
   "cell_type": "markdown",
   "metadata": {},
   "source": [
    "# Problem"
   ]
  },
  {
   "cell_type": "markdown",
   "metadata": {},
   "source": [
    "The Lagrange Multiplier Theorem used in the solution of Problem 3.3.5 has hypotheses that we did not verify in the solution of that problem.  In particular, the theorem states that if the gradient of the constraint function, which in this case is the vector $(p_1\\zeta_a,\\dots,p_m\\zeta_m)$, is not the zero vector, then the optimal solution must satisfy the Lagrange multipler equations (3.3.22).  This gradient is not the zero vector, so this hypothesis is satisfied.  However, wven when this hypothesis is satisfied, the theorem does not guarantee that there is an optimal solution; the solution to the Lagrange multiplier equations may in fact minimize the expected utility.  The solution could also be neither a maximizer nor a minimizer.  Therefore, in this exercise, we outline a different method for verifying that the random varaible $X_N$ given by (3.3.25) maximizes the expected utility."
   ]
  },
  {
   "cell_type": "markdown",
   "metadata": {},
   "source": [
    "We begin by changing the notation, calling the random variable given by (3.3.25) $X_N^*$ rather than $X_N$. In other words,\n",
    "\\begin{equation}\n",
    "X_N^*=I\\left(\\frac{\\lambda}{(1+r)^N}Z\\right),\n",
    "\\end{equation}\n",
    "where $\\lambda$ is the solution of equation (3.3.26). This permits us to use the notation $X_N$ for an arbitrary (not necessarily optimal) random variable satisfying (3.3.19). We must show that\n",
    "\\begin{equation}\n",
    "\\mathbb{E}U(X_N)\\leq\\mathbb{E}U(X_N^*).\n",
    "\\end{equation}"
   ]
  },
  {
   "cell_type": "markdown",
   "metadata": {},
   "source": [
    "(i) Fix $y>0$, and show that the function of $x$ given by $U(x)-yx$ is maximized by $x=I(y)$. Conclude that\n",
    "\\begin{equation}\n",
    "U(x)-yx\\leq U(I(y))-yI(y)\\quad\\text{ for every } x.\n",
    "\\end{equation}"
   ]
  },
  {
   "cell_type": "markdown",
   "metadata": {},
   "source": [
    "(ii) In (3.6.3), replace the dummy variable $x$ by the random variable $X_N$ and replace the dummy variable $y$ by the random variable $\\frac{\\lambda Z}{(1+r)^N}$. Take the expectations of both sides and use (3.3.19) and (3.3.26) to conclude that (3.6.2) holds."
   ]
  },
  {
   "cell_type": "markdown",
   "metadata": {},
   "source": [
    "# Answer"
   ]
  },
  {
   "cell_type": "markdown",
   "metadata": {},
   "source": [
    "(i) We begin by maximizing the function $f(x)=U(x)-yx$ with respect to $x$.\n",
    "\\begin{gather}\n",
    "f(x)=U(x)-yx\\Rightarrow\\\\\n",
    "f'(x)=U'(x)-y\\stackrel{!}{=}0\\Rightarrow\\\\\n",
    "y=U'(x)\\Rightarrow\\\\\n",
    "x=I(y).\n",
    "\\end{gather}"
   ]
  },
  {
   "cell_type": "markdown",
   "metadata": {},
   "source": [
    "To finish seeing that this is a maxima, recall that $U$ is concave, and hence, if a solution to above equation exists, it is guaranteed to be a maxima.  Alternatively, if $U$ is twice differentiable, then $U''(x)\\leq0$, and hence and solution to the equation above is guaranteed to be a maximizer.  Finallt, we simply pug in the value $x=I(y)$ into f(x) and we immediately conclude\n",
    "\\begin{equation}\n",
    "U(x)-yx\\leq U(I(y))-yI(y)\\quad \\text{for every } x.\n",
    "\\end{equation}"
   ]
  },
  {
   "cell_type": "markdown",
   "metadata": {},
   "source": [
    "(ii) First we substitute the dummy variable $x$ with $X_N$ and $y$ with $\\frac{\\lambda Z}{(1+r)^N}$ in the equation above to obtain\n",
    "\\begin{equation}\n",
    "U(X_N)-\\frac{\\lambda Z}{(1+r)^N}X_N\\leq U\\left(I\\left(\\frac{\\lambda Z}{(1+r)^N}\\right)\\right)-\\frac{\\lambda Z}{(1+r)^N}I\\left(\\frac{\\lambda Z}{(1+r)^N}\\right)\n",
    "\\end{equation}"
   ]
  },
  {
   "cell_type": "markdown",
   "metadata": {},
   "source": [
    "Now we must take the expectation of both sides.  Let us start by taking the expectation value of the left-hand side\n",
    "\\begin{equation}\n",
    "\\mathbb{E}[U(X_N)]-\\mathbb{E}\\left[\\lambda\\frac{Z}{(1+r)^N}X_N\\right].\n",
    "\\end{equation}\n",
    "By Theorem 3.1.1 (iii), and then using the fact that the portfolio wealth process is a martingale under the risk-neutral measure, we can rewrite the second term above in terms of the risk-neutral measure as\n",
    "\\begin{align}\n",
    "\\mathbb{E}\\left[\\lambda\\frac{Z}{(1+r)^N}X_N\\right]&=\\lambda\\tilde{\\mathbb{E}}\\left[\\frac{X_N}{(1+r)^N}\\right]\\\\\n",
    "&=\\lambda X_0.\n",
    "\\end{align}"
   ]
  },
  {
   "cell_type": "markdown",
   "metadata": {},
   "source": [
    "In short, the expectation of the left hand side of the equation above can be written as\n",
    "\\begin{equation}\n",
    "\\mathbb{E}[U(X_N)]-\\lambda X_0.\n",
    "\\end{equation}"
   ]
  },
  {
   "cell_type": "markdown",
   "metadata": {},
   "source": [
    "We now proceed to take the expectation value of the right hand side.\n",
    "\\begin{equation}\n",
    "\\mathbb{E}\\left[U\\left(I\\left(\\frac{\\lambda Z}{(1+r)^N}\\right)\\right)\\right]-\\mathbb{E}\\left[\\frac{\\lambda Z}{(1+r)^N}I\\left(\\frac{\\lambda Z}{(1+r)^N}\\right)\\right].\n",
    "\\end{equation}"
   ]
  },
  {
   "cell_type": "markdown",
   "metadata": {},
   "source": [
    "Using Equation 3.3.26, we can rewrite the term on the right above as\n",
    "\\begin{equation}\n",
    "\\mathbb{E}\\left[\\frac{\\lambda Z}{(1+r)^N}I\\left(\\frac{\\lambda Z}{(1+r)^N}\\right)\\right]=\\lambda X_0.\n",
    "\\end{equation}"
   ]
  },
  {
   "cell_type": "markdown",
   "metadata": {},
   "source": [
    "Combining everything above, we arrive at\n",
    "\\begin{gather}\n",
    "\\mathbb{E}[U(X_N)]-\\lambda X_0\\leq \\mathbb{E}\\left[U\\left(I\\left(\\frac{\\lambda Z}{(1+r)^N}\\right)\\right)\\right] -\\lambda X_0\\Rightarrow\\\\\n",
    "\\mathbb{E}[U(X_N)]\\leq  \\mathbb{E}\\left[U\\left(I\\left(\\frac{\\lambda Z}{(1+r)^N}\\right)\\right)\\right].\n",
    "\\end{gather}"
   ]
  },
  {
   "cell_type": "markdown",
   "metadata": {},
   "source": [
    "This established the desired result with $X_N^*=I\\left(\\frac{\\lambda Z}{(1+r)^N}\\right)$. $\\square$"
   ]
  },
  {
   "cell_type": "code",
   "execution_count": null,
   "metadata": {},
   "outputs": [],
   "source": []
  }
 ],
 "metadata": {
  "kernelspec": {
   "display_name": "Python 3",
   "language": "python",
   "name": "python3"
  },
  "language_info": {
   "codemirror_mode": {
    "name": "ipython",
    "version": 3
   },
   "file_extension": ".py",
   "mimetype": "text/x-python",
   "name": "python",
   "nbconvert_exporter": "python",
   "pygments_lexer": "ipython3",
   "version": "3.7.6"
  }
 },
 "nbformat": 4,
 "nbformat_minor": 4
}
