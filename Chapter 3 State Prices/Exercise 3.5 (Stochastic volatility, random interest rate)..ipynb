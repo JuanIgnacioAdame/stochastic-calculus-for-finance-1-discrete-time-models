{
 "cells": [
  {
   "cell_type": "markdown",
   "metadata": {},
   "source": [
    "# Problem"
   ]
  },
  {
   "cell_type": "markdown",
   "metadata": {},
   "source": [
    "Consider the model of Exercise 2.9 of Chapter 2.  Assume that the actual probability measure is\n",
    "\\begin{equation}\n",
    "\\mathbb{P}(HH)=\\frac{4}{9}, \\mathbb{P}(HT)=\\frac{2}{9}, \\mathbb{P}(TH)=\\frac{2}{9}, \\mathbb{P}(TT)=\\frac{1}{9}.\n",
    "\\end{equation}"
   ]
  },
  {
   "cell_type": "markdown",
   "metadata": {},
   "source": [
    "The risk-neutral measure was computed in Exercise 2.9 of Chapter 2."
   ]
  },
  {
   "cell_type": "markdown",
   "metadata": {},
   "source": [
    "(i) Compute the Radon-Nikodym derivative $Z(HH), Z(HT), Z(TH),$ and $Z(TT)$ of $\\tilde{\\mathbb{P}}$ with respect to $\\mathbb{P}$."
   ]
  },
  {
   "cell_type": "markdown",
   "metadata": {},
   "source": [
    "(ii) The Radon-Nikodym derivative process $Z_0,Z_1,Z_2$ satisfies $Z_2=Z$. Compute $Z_1(H),Z_1(T),$ and $Z_0$. Note that $Z_0=\\mathbb{E}Z=1$."
   ]
  },
  {
   "cell_type": "markdown",
   "metadata": {},
   "source": [
    "(iii) The version of the risk-neutral pricing formula (3.2.6) appropriate for this model, which does not use the risk-neutral measure, is\n",
    "\\begin{align}\n",
    "V_1(H)&=\\frac{1+r_0}{Z_1(H)}\\mathbb{E}_1\\left[\\frac{Z_2}{(1+r_0)(1+r_1)}V_2\\right](H)\\\\\n",
    "&=\\frac{1}{Z_1(H)(1+r_1(H))}\\mathbb{E}_1\\left[Z_2V_2\\right](H),\n",
    "\\end{align}\n",
    "and\n",
    "\\begin{align}\n",
    "V_1(T)&=\\frac{1+r_0}{Z_1(T)}\\mathbb{E}_1\\left[\\frac{Z_2}{(1+r_0)(1+r_1)}V_2\\right](T)\\\\\n",
    "&=\\frac{1}{Z_1(T)(1+r_1(T))}\\mathbb{E}_1\\left[Z_2V_2\\right](T),\n",
    "\\end{align}\n",
    "and finally\n",
    "\\begin{equation}\n",
    "V_0=\\mathbb{E}\\left[\\frac{Z_2}{(1+r_0)(1+r_1)}V_2\\right].\n",
    "\\end{equation}"
   ]
  },
  {
   "cell_type": "markdown",
   "metadata": {},
   "source": [
    "Use this formula to compute $V_1(H), V_1(T)$ and $V_0$ when $V_2=(S_2-7)^{+}$. Compare the result with your answers in Exercise 2.6(ii) of Chapter 2."
   ]
  },
  {
   "cell_type": "markdown",
   "metadata": {},
   "source": [
    "# Answer"
   ]
  },
  {
   "cell_type": "markdown",
   "metadata": {},
   "source": [
    "(i) Recall that the Radon-Nikodym derivative is defined in Definition 3.1.3 by\n",
    "\\begin{equation}\n",
    "Z(\\omega_1\\dots\\omega_N)=\\frac{\\tilde{\\mathbb{P}}(\\omega_1\\dots\\omega_N)}{\\mathbb{P}(\\omega_1\\dots\\omega_N)}.\n",
    "\\end{equation}"
   ]
  },
  {
   "cell_type": "markdown",
   "metadata": {},
   "source": [
    "We are given the actual probability measure $\\mathbb{P}$ above.  The risk-neutral measure we computed in Exercise 2.9 of Chapter 2 gives us\n",
    "\\begin{align}\n",
    "&\\tilde{\\mathbb{P}}(HH)=\\tilde{p}_0\\tilde{p}_1(H)=\\frac{1}{2}\\frac{1}{2}=\\frac{1}{4},\\\\\n",
    "&\\tilde{\\mathbb{P}}(HT)=\\tilde{p}_0\\tilde{q}_1(H)=\\frac{1}{2}\\frac{1}{2}=\\frac{1}{4},\\\\\n",
    "&\\tilde{\\mathbb{P}}(TH)=\\tilde{q}_0\\tilde{p}_1(T)=\\frac{1}{2}\\frac{1}{6}=\\frac{1}{12},\\\\\n",
    "&\\tilde{\\mathbb{P}}(TT)=\\tilde{q}_0\\tilde{q}_1(T)=\\frac{1}{2}\\frac{5}{6}=\\frac{5}{12}.\n",
    "\\end{align}"
   ]
  },
  {
   "cell_type": "markdown",
   "metadata": {},
   "source": [
    "Hence,\n",
    "\\begin{align}\n",
    "&Z(HH)=\\frac{1/4}{4/9}=9/16\\\\\n",
    "&Z(HT)=\\frac{1/4}{2/9}=9/8,\\\\\n",
    "&Z(TH)=\\frac{1/12}{2/9}=3/8,\\\\\n",
    "&Z(TT)=\\frac{5/12}{1/9}=15/4.\\square\n",
    "\\end{align}"
   ]
  },
  {
   "cell_type": "markdown",
   "metadata": {},
   "source": [
    "(ii) Recall that the Radon Nikodym process derivative process is defined in Definition 3.2.4 as\n",
    "\\begin{equation}\n",
    "Z_n=\\mathbb{E}_n[Z],\n",
    "\\end{equation}\n",
    "with $Z_N=Z$ and $Z_0=1$.  This immediately gives us that $Z_2=Z$ and $Z_0=1$.  It remains to find $Z_1$."
   ]
  },
  {
   "cell_type": "markdown",
   "metadata": {},
   "source": [
    "By definition\n",
    "\\begin{align}\n",
    "Z_1&=\\mathbb{E}_1[Z_2]\\\\\n",
    "&=pZ_2(\\omega H)+qZ_2(\\omega T)\\\\\n",
    "&=\\frac{2}{3}Z_2(\\omega H)+\\frac{1}{3}Z_2(\\omega T)\n",
    "\\end{align}"
   ]
  },
  {
   "cell_type": "markdown",
   "metadata": {},
   "source": [
    "From the above equation it follows that\n",
    "\\begin{align}\n",
    "Z_1(H)=\\frac{2}{3}Z_2(HH)+\\frac{1}{3}Z_2(HT)=\\frac{2}{3}(9/16)+\\frac{1}{3}(9/8)=\\frac{3}{4},\\\\\n",
    "Z_1(T)=\\frac{2}{3}Z_2(TH)+\\frac{1}{3}Z_2(TT)=\\frac{2}{3}(3/8)+\\frac{1}{3}(15/4)=\\frac{3}{2}.\\square\n",
    "\\end{align}"
   ]
  },
  {
   "cell_type": "markdown",
   "metadata": {},
   "source": [
    "(iii) First we compute $V_1(H)$:\n",
    "\\begin{align}\n",
    "V_1(H)&=\\frac{1}{Z_1(H)(1+r_1(H))}\\mathbb{E}_1\\left[Z_2V_2\\right](H)\\\\\n",
    "&=\\frac{1}{(3/4)(1+(1/4))}\\left[pZ_2(HH)V_2(HH)+qZ_2(HT)V_2(HT)\\right].\n",
    "\\end{align}"
   ]
  },
  {
   "cell_type": "markdown",
   "metadata": {},
   "source": [
    "We compute $V_2(HH)=(S_2(HH)-7)^{+}=(12-7)^{+}=5$, and $V_2(HT)=(S_2(HT)-7)^{+}=(8-7)^{+}=1$.  Plugging this into the equations above, we have\n",
    "\\begin{align}\n",
    "V_1(H)=\\frac{1}{(3/4)(1+(1/4))}\\left[\\frac{2}{3}\\frac{9}{16}5+\\frac{1}{3}\\frac{9}{8}1\\right]=\\frac{12}{5}.\n",
    "\\end{align}"
   ]
  },
  {
   "cell_type": "markdown",
   "metadata": {},
   "source": [
    "Next we compute $V_1(T)$:\n",
    "\\begin{align}\n",
    "V_1(T)&=\\frac{1}{Z_1(T)(1+r_1(T))}\\mathbb{E}_1\\left[Z_2V_2\\right](T)\\\\\n",
    "&=\\frac{1}{\\frac{3}{2}(1+(1/2))}\\left[pZ_2(TH)V_2(TH)+qZ_2(TT)V_2(TT)\\right].\n",
    "\\end{align}"
   ]
  },
  {
   "cell_type": "markdown",
   "metadata": {},
   "source": [
    "We compute $V_2(TH)=(S_2(TH)-7)^{+}=(8-7)^{+}=1$, and $V_2(TT)=(S_2(TT)-7)^{+}=(2-7)^{+}=0$.  Plugging this into the equations above, we have\n",
    "\\begin{equation}\n",
    "V_1(T)=\\frac{1}{\\frac{3}{2}(1+(1/2))}\\left[\\frac{2}{3}\\frac{3}{8}1+\\frac{1}{3}\\frac{15}{4}0\\right]=\\frac{1}{9}.\n",
    "\\end{equation}"
   ]
  },
  {
   "cell_type": "markdown",
   "metadata": {},
   "source": [
    "Finally, we compute\n",
    "\\begin{align}\n",
    "V_0&=\\mathbb{E}\\left[\\frac{Z_2}{(1+r_0)(1+r_1)}V_2\\right]\\\\\n",
    "&=\\mathbb{P}(HH)\\frac{Z_2(HH)}{(1+r_0)(1+r_1(H))V_2(HH)}+\\mathbb{P}(HT)\\frac{Z_2(HT)}{(1+r_0)(1+r_1(H))V_2(HT)}+\\mathbb{P}(TH)\\frac{Z_2(TH)}{(1+r_0)(1+r_1(T))V_2(TH)}+\\mathbb{P}(TT)\\frac{Z_2(TT)}{(1+r_0)(1+r_1(T))V_2(TT)}\\\\\n",
    "&=\\frac{4}{9}\\frac{\\frac{9}{16}}{(1+\\frac{1}{4})(1+\\frac{1}{4})}5+\\frac{2}{9}\\frac{\\frac{9}{8}}{(1+\\frac{1}{4})(1+\\frac{1}{4})}1+\\frac{2}{9}\\frac{\\frac{3}{8}}{(1+\\frac{1}{4})(1+\\frac{1}{2})}1+\\frac{1}{9}\\frac{\\frac{15}{4}}{(1+\\frac{1}{4})(1+\\frac{1}{2})}0\\\\\n",
    "&=\\frac{226}{225}.\\square\n",
    "\\end{align}"
   ]
  },
  {
   "cell_type": "code",
   "execution_count": null,
   "metadata": {},
   "outputs": [],
   "source": []
  }
 ],
 "metadata": {
  "kernelspec": {
   "display_name": "Python 3",
   "language": "python",
   "name": "python3"
  },
  "language_info": {
   "codemirror_mode": {
    "name": "ipython",
    "version": 3
   },
   "file_extension": ".py",
   "mimetype": "text/x-python",
   "name": "python",
   "nbconvert_exporter": "python",
   "pygments_lexer": "ipython3",
   "version": "3.7.6"
  }
 },
 "nbformat": 4,
 "nbformat_minor": 4
}
