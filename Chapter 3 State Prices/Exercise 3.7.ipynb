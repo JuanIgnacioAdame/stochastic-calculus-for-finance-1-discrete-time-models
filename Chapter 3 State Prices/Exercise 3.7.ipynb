{
 "cells": [
  {
   "cell_type": "markdown",
   "metadata": {},
   "source": [
    "# Problem"
   ]
  },
  {
   "cell_type": "markdown",
   "metadata": {},
   "source": [
    "Consider Problem 3.3.1 in an $N$-period binomial model with the utility function $U(x)=\\frac{1}{p}x^p$, where $p<1, p\\neq 0$. Show that the optimal wealth at time $N$ is\n",
    "\\begin{equation}\n",
    "X_N=\\frac{X_0(1+r)^NZ^{\\frac{1}{p-1}}}{\\mathbb{E}\\left[Z^{\\frac{p}{p-1}}\\right]},\n",
    "\\end{equation}\n",
    "where $Z$ is the Radon-Nikodym derivative of $\\tilde{\\mathbb{P}}$ with respect to $\\mathbb{P}$."
   ]
  },
  {
   "cell_type": "markdown",
   "metadata": {},
   "source": [
    "# Answer"
   ]
  },
  {
   "cell_type": "markdown",
   "metadata": {},
   "source": [
    "As in Exercise 3.6, we proceed by following the procedure outlined by Theorem 3.3.6.  We begin by solving for $\\lambda$ in the equation\n",
    "\\begin{equation}\n",
    "\\mathbb{E}\\left[\\frac{Z}{(1+r)^N}I\\left(\\frac{\\lambda Z}{(1+r)^N}\\right)\\right]=X_0\n",
    "\\end{equation}"
   ]
  },
  {
   "cell_type": "markdown",
   "metadata": {},
   "source": [
    "Before this first step, we caluclate $I$.\n",
    "\\begin{equation}\n",
    "U(x)=\\frac{1}{p}x^p\\Rightarrow\\\\\n",
    "U'(x)=x^{p-1}\\Rightarrow\\\\\n",
    "I(x)=x^{\\frac{1}{p-1}}.\n",
    "\\end{equation}"
   ]
  },
  {
   "cell_type": "markdown",
   "metadata": {},
   "source": [
    "Therefore,\n",
    "\\begin{equation}\n",
    "I\\left(\\frac{\\lambda Z}{(1+r)^N}\\right)=\\left(\\frac{\\lambda Z}{(1+r)^N}\\right)^{\\frac{1}{p-1}}=\\frac{\\lambda^{\\frac{1}{p-1}}Z^{\\frac{1}{p-1}}}{(1+r)^{\\frac{N}{p-1}}}.\n",
    "\\end{equation}"
   ]
  },
  {
   "cell_type": "markdown",
   "metadata": {},
   "source": [
    "We plug into this into equation above and get\n",
    "\\begin{gather}\n",
    "\\mathbb{E}\\left[\\frac{Z}{(1+r)^N}\\frac{\\lambda^{\\frac{1}{p-1}}Z^{\\frac{1}{p-1}}}{(1+r)^{\\frac{N}{p-1}}}\\right]=\\mathbb{E}\\left[\\frac{Z^{\\frac{p}{p-1}}\\lambda^{\\frac{1}{p-1}}}{(1+r)^{\\frac{N(p-1)+N}{p-1}}}\\right]\\Rightarrow\\\\\n",
    "\\lambda^{\\frac{1}{p-1}}\\mathbb{E}\\left[\\frac{Z^{\\frac{p}{p-1}}}{(1+r)^{\\frac{N(p-1)+N}{p-1}}}\\right]=X_0\\Rightarrow\\\\\n",
    "\\boxed{\\lambda=\\left(\\frac{X_0}{\\mathbb{E}\\left[.\\right]}\\right)^{p-1}}.\n",
    "\\end{gather}"
   ]
  },
  {
   "cell_type": "markdown",
   "metadata": {},
   "source": [
    "As per the second step of Theorem 3.3.6, we now plug this into the the following equation for $X_N$:\n",
    "\\begin{gather}\n",
    "X_N=I\\left(\\frac{\\lambda Z}{(1+r)^N}\\right)\\\\\n",
    "=I\\left(\\frac{\\left(\\frac{X_0}{\\mathbb{E}\\left[.\\right]}\\right)^{p-1} Z}{(1+r)^N}\\right)\\\\\n",
    "=\\frac{\\left(\\frac{X_0}{\\mathbb{E}\\left[.\\right]}\\right)Z^{\\frac{1}{p-1}}}{(1+r)^{\\frac{N}{p-1}}}.\n",
    "\\end{gather}"
   ]
  },
  {
   "cell_type": "markdown",
   "metadata": {},
   "source": [
    "Now we write out the full expression for the shorthand $\\mathbb{E}\\left[.\\right]$ and obtain\n",
    "\\begin{align}\n",
    "X_N&=\\frac{\\frac{X_0}{\\mathbb{E}\\left[\\frac{Z^{\\frac{p}{p-1}}}{(1+r)^N(1+r)^{\\frac{N}{p-1}}}\\right]}Z^{\\frac{1}{p-1}}}{(1+r)^{\\frac{N}{p-1}}}\\Rightarrow\\\\\n",
    "X_N&=\\frac{X_0Z^{\\frac{1}{p-1}}(1+r)^N}{\\mathbb{E}\\left[Z^{\\frac{p}{p-1}}\\right]}.\\square\n",
    "\\end{align}"
   ]
  },
  {
   "cell_type": "code",
   "execution_count": null,
   "metadata": {},
   "outputs": [],
   "source": []
  }
 ],
 "metadata": {
  "kernelspec": {
   "display_name": "Python 3",
   "language": "python",
   "name": "python3"
  },
  "language_info": {
   "codemirror_mode": {
    "name": "ipython",
    "version": 3
   },
   "file_extension": ".py",
   "mimetype": "text/x-python",
   "name": "python",
   "nbconvert_exporter": "python",
   "pygments_lexer": "ipython3",
   "version": "3.7.6"
  }
 },
 "nbformat": 4,
 "nbformat_minor": 4
}
