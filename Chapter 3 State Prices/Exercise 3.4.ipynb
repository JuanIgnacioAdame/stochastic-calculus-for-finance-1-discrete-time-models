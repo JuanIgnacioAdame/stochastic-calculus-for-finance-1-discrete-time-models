{
 "cells": [
  {
   "cell_type": "markdown",
   "metadata": {},
   "source": [
    "# Problem"
   ]
  },
  {
   "cell_type": "markdown",
   "metadata": {},
   "source": [
    "This problem refers to the model of Example 3.1.2, whose Radon-Nikodym process $Z_n$ appears in Figure 3.2.1."
   ]
  },
  {
   "cell_type": "markdown",
   "metadata": {},
   "source": [
    "(i) Compute the state price densities\n",
    "\\begin{align}\n",
    "&\\zeta_3(HHH),\\\\\n",
    "&\\zeta_3(HHT)=\\zeta_3(HTH)=\\zeta_3(THH),\\\\\n",
    "&\\zeta_3(TTH)=\\zeta_3(THT)=\\zeta_3(HTT),\\\\\n",
    "&\\zeta_3(TTT).\n",
    "\\end{align}"
   ]
  },
  {
   "cell_type": "markdown",
   "metadata": {},
   "source": [
    "(ii) Use the numbers computed in (i) in formula (3.1.10) to find the time-zero price of the Asian option of Exercise 1.8 of Chapter 1. You should get $v_0(4,4)$ computed in part (ii) of that exercise."
   ]
  },
  {
   "cell_type": "markdown",
   "metadata": {},
   "source": [
    "(iii) Compute also the state price densities $\\zeta_2(HT)=\\zeta_2(TH)$."
   ]
  },
  {
   "cell_type": "markdown",
   "metadata": {},
   "source": [
    "(iv) Use the risk-neutral pricing formula (3.2.6) in the form\n",
    "\\begin{align}\n",
    "V_2(HT)=\\frac{1}{\\zeta_2(HT)}\\mathbb{E}_2\\left[\\zeta_3V_3\\right](HT),\\\\\n",
    "V_2(TH)=\\frac{1}{\\zeta_2(TH)}\\mathbb{E}_2\\left[\\zeta_3V_3\\right](TH)\n",
    "\\end{align}\n",
    "to compute $V_2(HT)$ and $V_2(TH)$. You should get $V_2(HT)=v_2(4,16)$ and $v_2(4,10)$, where $v_2(s,y)$ was computed in part (ii) of Exercise 1.8 of Chapter 1. Note that $V_2(HT)\\neq V_2(TH)$."
   ]
  },
  {
   "cell_type": "markdown",
   "metadata": {},
   "source": [
    "# Answer"
   ]
  },
  {
   "cell_type": "markdown",
   "metadata": {},
   "source": [
    "(i) We recall that the state price density process is given by\n",
    "\\begin{align}\n",
    "&\\zeta_n=\\frac{Z_n}{(1+r)^n},\\\\\n",
    "&Z_n=\\mathbb{E}_nZ,\\\\\n",
    "&Z(\\omega)=\\frac{\\tilde{\\mathbb{P}}(\\omega)}{\\mathbb{P}(\\omega)}.\n",
    "\\end{align}"
   ]
  },
  {
   "cell_type": "markdown",
   "metadata": {},
   "source": [
    "Recall from equation (3.2.4) that $Z_n$ is given by the formula\n",
    "\\begin{equation}\n",
    "Z_n(\\omega_1\\dots\\omega_n)=\\left(\\frac{\\tilde{p}}{p}\\right)^{\\#H(\\omega_1\\dots\\omega_n)}\\left(\\frac{\\tilde{q}}{q}\\right)^{\\#T(\\omega_1\\dots\\omega_n)},\n",
    "\\end{equation}\n",
    "where, in this case, we have that\n",
    "\\begin{align}\n",
    "\\tilde{p}=\\frac{1}{2},\\quad p=\\frac{2}{3},\\\\\n",
    "\\tilde{q}=\\frac{1}{2},\\quad q=\\frac{1}{3}.\n",
    "\\end{align}"
   ]
  },
  {
   "cell_type": "markdown",
   "metadata": {},
   "source": [
    "First, we compute the various values of $Z_3$.\n",
    "\\begin{align}\n",
    "&Z_3(HHH)=\\left(\\frac{\\tilde{p}}{p}\\right)^{\\#H(HHH)}+\\left(\\frac{\\tilde{q}}{q}\\right)^{\\#T(HHH)}=\\left(\\frac{\\frac{1}{2}}{\\frac{2}{3}}\\right)^3\\left(\\frac{\\frac{1}{2}}{\\frac{1}{3}}\\right)^0=\\frac{27}{64}\\\\\n",
    "&Z_3(HHT)=Z_3(HTH)=Z_3(THH)=\\left(\\frac{\\tilde{p}}{p}\\right)^{\\#H(THH)}+\\left(\\frac{\\tilde{q}}{q}\\right)^{\\#T(THH)}=\\left(\\frac{\\frac{1}{2}}{\\frac{2}{3}}\\right)^2\\left(\\frac{\\frac{1}{2}}{\\frac{1}{3}}\\right)^1=\\frac{27}{32}\\\\\n",
    "&Z_3(TTH)=Z_3(THT)=Z_3(HTT)=\\left(\\frac{\\tilde{p}}{p}\\right)^{\\#H(THH)}+\\left(\\frac{\\tilde{q}}{q}\\right)^{\\#T(THH)}=\\left(\\frac{\\frac{1}{2}}{\\frac{2}{3}}\\right)^1\\left(\\frac{\\frac{1}{2}}{\\frac{1}{3}}\\right)^2=\\frac{27}{16}\\\\\n",
    "&Z_3(TTT)=\\left(\\frac{\\tilde{p}}{p}\\right)^{\\#H(TTT)}+\\left(\\frac{\\tilde{q}}{q}\\right)^{\\#T(TTT)}=\\left(\\frac{\\frac{1}{2}}{\\frac{2}{3}}\\right)^0\\left(\\frac{\\frac{1}{2}}{\\frac{1}{3}}\\right)^3=\\frac{27}{8}.\n",
    "\\end{align}\n",
    "                              "
   ]
  },
  {
   "cell_type": "markdown",
   "metadata": {},
   "source": [
    "We can now plug these values into the first equation $\\zeta_n=\\frac{Z_n}{(1+r)^n}$:\n",
    "\\begin{align}\n",
    "&\\zeta_3(HHH)=\\frac{\\frac{27}{64}}{(1+0.25)^3}=0.216\\\\\n",
    "&\\zeta_3(HHT)=\\zeta_3(HTH)=\\zeta_3(THH)=\\frac{\\frac{27}{32}}{(1+0.25)^3}=0.432,\\\\\n",
    "&\\zeta_3(TTH)=\\zeta_3(THT)=\\zeta_3(HTT)=\\frac{\\frac{27}{16}}{(1+0.25)^3}=0.864\\\\\n",
    "&\\zeta_3(TTT)=1.728.\\square\n",
    "\\end{align}"
   ]
  },
  {
   "cell_type": "markdown",
   "metadata": {},
   "source": [
    "(ii) Recall from formula (3.1.10) that\n",
    "\\begin{equation}\n",
    "V_0=\\mathbb{E}\\left[\\zeta V_N\\right]=\\sum_{\\omega\\in\\Omega}V_N(\\omega)\\zeta(\\omega)\\mathbb{P}(\\omega).\n",
    "\\end{equation}"
   ]
  },
  {
   "cell_type": "markdown",
   "metadata": {},
   "source": [
    "Also recall that the payoff (i.e. the various values of $V_3$) this option are given by\n",
    "\\begin{align}\n",
    "V_3=\\left(\\frac{1}{4}Y_3-4\\right)^{+}\\\\\n",
    "Y_3=\\sum_{k=0}^{3}S_k.\n",
    "\\end{align}"
   ]
  },
  {
   "cell_type": "markdown",
   "metadata": {},
   "source": [
    "We proceed by computing the values of $Y_3$ as follows:\n",
    "\\begin{align}\n",
    "&Y_3(HHH)=4+8+16+32=60,\\\\\n",
    "&Y_3(HHT)=4+8+16+8=36,\\\\\n",
    "&Y_3(HTH)=4+8+4+8=24,\\\\\n",
    "&Y_3(THH)=4+2+4+8=18,\\\\\n",
    "&Y_3(HTT)=4+8+4+2=18,\\\\\n",
    "&Y_3(THT)=4+2+4+2=12,\\\\\n",
    "&Y_3(TTH)=4+2+1+2=9,\\\\\n",
    "&Y_3(TTT)=4+2+1+0.5=7.5.\n",
    "\\end{align}"
   ]
  },
  {
   "cell_type": "markdown",
   "metadata": {},
   "source": [
    "Now we use this to compute the corresponding values of $V_3$ as follows:\n",
    "\\begin{align}\n",
    "&V_3(HHH)=\\left(\\frac{1}{4}Y_3(HHH)-4\\right)^{+}=11,\\\\\n",
    "&V_3(HHT)=\\left(\\frac{1}{4}Y_3(HHT)-4\\right)^{+}=5,\\\\\n",
    "&V_3(HTH)=\\left(\\frac{1}{4}Y_3(HTH)-4\\right)^{+}=2,\\\\\n",
    "&V_3(THH)=\\left(\\frac{1}{4}Y_3(THH)-4\\right)^{+}=\\frac{1}{2},\\\\\n",
    "&V_3(HTT)=\\left(\\frac{1}{4}Y_3(HTT)-4\\right)^{+}=\\frac{1}{2},\\\\\n",
    "&V_3(THT)=\\left(\\frac{1}{4}Y_3(THT)-4\\right)^{+}=0,\\\\\n",
    "&V_3(TTH)=\\left(\\frac{1}{4}Y_3(TTH)-4\\right)^{+}=0,\\\\\n",
    "&V_3(TTT)=\\left(\\frac{1}{4}Y_3(TTT)-4\\right)^{+}=0.\n",
    "\\end{align}"
   ]
  },
  {
   "cell_type": "markdown",
   "metadata": {},
   "source": [
    "Finally, we use these values to compute the value of $V_0$ as follows:\n",
    "\\begin{equation}\n",
    "V_0=11\\times0.216\\times\\frac{8}{27}+5\\times0.432\\times\\frac{4}{27}+2\\times0.432\\times\\frac{4}{27}+\\frac{1}{2}\\times0.432\\times\\frac{4}{27}+\\frac{1}{2}\\times0.864\\times\\frac{2}{27}=1.216.\n",
    "\\end{equation}"
   ]
  },
  {
   "cell_type": "markdown",
   "metadata": {},
   "source": [
    "As should be the case, this coincides with the answer we obtained in Exercise 1.8.$\\square$"
   ]
  },
  {
   "cell_type": "markdown",
   "metadata": {},
   "source": [
    "(iii) We first compute $Z_2(HT)=Z_2(TH)$ as follows:\n",
    "\\begin{align}\n",
    "Z_2(HT)=Z_2(TH)=\\left(\\frac{\\tilde{p}}{p}\\right)^{\\#H(TH)}+\\left(\\frac{\\tilde{q}}{q}\\right)^{\\#T(TH)}=\\left(\\frac{\\frac{1}{2}}{\\frac{2}{3}}\\right)^1\\left(\\frac{\\frac{1}{2}}{\\frac{1}{3}}\\right)^1=\\frac{9}{8}.\n",
    "\\end{align}"
   ]
  },
  {
   "cell_type": "markdown",
   "metadata": {},
   "source": [
    "Hence, we have that\n",
    "\\begin{equation}\n",
    "\\zeta_2(HT)=\\zeta_2(TH)=\\frac{Z_2(HT)}{(1+r)^2}=\\frac{\\frac{9}{8}}{(1+0.25)^2}=0.72.\\square\n",
    "\\end{equation}"
   ]
  },
  {
   "cell_type": "markdown",
   "metadata": {},
   "source": [
    "(iv) First we compute the necessary conditional expectation values\n",
    "\\begin{align}\n",
    "\\mathbb{E}_2\\left[\\zeta_3V_3\\right](HT)\\\\\n",
    "&=p\\zeta_3(HTH)V_3(HTH)+q\\zeta_3(HTT)V_3(HTT)\\\\\n",
    "&=\\frac{2}{3}\\times 0.432\\times 2 + \\frac{1}{3}\\times 0.864\\times \\frac{1}{2}\\\\\n",
    "&=0.72.\n",
    "\\end{align}\n",
    "Now we may compute $V_2(HT)$ as\n",
    "\\begin{equation}\n",
    "V_2(HT)=\\frac{1}{\\zeta_2(HT)}\\mathbb{E}_2\\left[\\zeta_3V_3\\right](HT)=\\frac{1}{0.72}\\times 0.792=1.\n",
    "\\end{equation}"
   ]
  },
  {
   "cell_type": "markdown",
   "metadata": {},
   "source": [
    "Similarly, we first compute\n",
    "\\begin{align}\n",
    "\\mathbb{E}_2\\left[\\zeta_3V_3\\right](TH)\\\\\n",
    "&=p\\zeta_3(THH)V_3(THH)+q\\zeta_3(THT)V_3(THT)\\\\\n",
    "&=\\frac{2}{3}\\times 0.432\\times \\frac{1}{2} + \\frac{1}{3}\\times 0.864\\times 0\\\\\n",
    "&=0.144.\n",
    "\\end{align}\n",
    "Now we may compute $V_2(TH)$ as\n",
    "\\begin{equation}\n",
    "V_2(HT)=\\frac{1}{\\zeta_2(TH)}\\mathbb{E}_2\\left[\\zeta_3V_3\\right](HT)=\\frac{1}{0.72}\\times 0.144=0.2.\\square\n",
    "\\end{equation}"
   ]
  },
  {
   "cell_type": "markdown",
   "metadata": {},
   "source": []
  }
 ],
 "metadata": {
  "kernelspec": {
   "display_name": "Python 3",
   "language": "python",
   "name": "python3"
  },
  "language_info": {
   "codemirror_mode": {
    "name": "ipython",
    "version": 3
   },
   "file_extension": ".py",
   "mimetype": "text/x-python",
   "name": "python",
   "nbconvert_exporter": "python",
   "pygments_lexer": "ipython3",
   "version": "3.7.6"
  }
 },
 "nbformat": 4,
 "nbformat_minor": 4
}
