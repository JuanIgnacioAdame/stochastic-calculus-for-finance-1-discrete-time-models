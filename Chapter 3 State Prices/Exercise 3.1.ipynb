{
 "cells": [
  {
   "cell_type": "markdown",
   "metadata": {},
   "source": [
    "# Problem"
   ]
  },
  {
   "cell_type": "markdown",
   "metadata": {},
   "source": [
    "Under the conditions of Theorem 3.1.1, show the following of properties (i)-(iii) of that theorem:"
   ]
  },
  {
   "cell_type": "markdown",
   "metadata": {},
   "source": [
    "(i') $\\tilde{\\mathbb{P}}(\\frac{1}{Z}>0)=1$;"
   ]
  },
  {
   "cell_type": "markdown",
   "metadata": {},
   "source": [
    "(ii') $\\tilde{\\mathbb{E}}\\frac{1}{Z}=1$;"
   ]
  },
  {
   "cell_type": "markdown",
   "metadata": {},
   "source": [
    "(iii') for any random variable $Y$,\n",
    "\\begin{equation}\n",
    "\\mathbb{E}Y=\\tilde{\\mathbb{E}}\\left[\\frac{1}{Z}Y\\right].\n",
    "\\end{equation}"
   ]
  },
  {
   "cell_type": "markdown",
   "metadata": {},
   "source": [
    "In other words, $\\frac{1}{Z}$ facilitates the switch from $\\tilde{\\mathbb{E}}$ to $\\mathbb{E}$ in the same way $Z$ facilitates the switch from $\\mathbb{E}$ to $\\tilde{\\mathbb{E}}$."
   ]
  },
  {
   "cell_type": "markdown",
   "metadata": {},
   "source": [
    "# Answer"
   ]
  },
  {
   "cell_type": "markdown",
   "metadata": {},
   "source": [
    "(i') Note that $\\frac{1}{Z}>0$ if and only $Z>0$, and hence $\\tilde{\\mathbb{P}}(\\frac{1}{Z}>0)=\\tilde{\\mathbb{P}}(Z>0)=1$ by Theorem 3.1.1 (i).$\\square$"
   ]
  },
  {
   "cell_type": "markdown",
   "metadata": {},
   "source": [
    "(ii') We can show this by carrying out the following computation\n",
    "\\begin{align}\n",
    "\\tilde{\\mathbb{E}}\\frac{1}{Z}&=\\sum_{\\omega\\in\\Omega}\\tilde{\\mathbb{P}}(\\omega)\\frac{1}{Z(\\omega)}\\\\\n",
    "&=\\sum_{\\omega\\in\\Omega}\\tilde{\\mathbb{P}}(\\omega)\\frac{1}{\\frac{\\tilde{\\mathbb{P}}(\\omega)}{\\mathbb{P}(\\omega)}}\\\\\n",
    "&=\\sum_{\\omega\\in\\Omega}\\mathbb{P}(\\omega)=1,\n",
    "\\end{align}\n",
    "where the last equality holds because $\\mathbb{P}$ is a probability measure. $\\square$"
   ]
  },
  {
   "cell_type": "markdown",
   "metadata": {},
   "source": [
    "(iii') We can show this by carrying out the following compuation\n",
    "\\begin{align}\n",
    "\\mathbb{E}Y&=\\sum_{\\omega\\in\\Omega}\\mathbb{P}(\\omega)Y(\\omega)\\\\\n",
    "&=\\sum_{\\omega\\in\\Omega}\\mathbb{P}(\\omega)\\frac{\\tilde{\\mathbb{P}(\\omega)}}{\\tilde{\\mathbb{P}(\\omega)}}Y(\\omega)\\\\\n",
    "&=\\sum_{\\omega\\in\\Omega}\\frac{1}{Z(\\omega)}Y(\\omega)\\tilde{\\mathbb{P}}(\\omega)\\\\\n",
    "&=\\tilde{\\mathbb{E}}\\left[\\frac{1}{Z}Y\\right]. \\square\n",
    "\\end{align}"
   ]
  },
  {
   "cell_type": "code",
   "execution_count": null,
   "metadata": {},
   "outputs": [],
   "source": []
  }
 ],
 "metadata": {
  "kernelspec": {
   "display_name": "Python 3",
   "language": "python",
   "name": "python3"
  },
  "language_info": {
   "codemirror_mode": {
    "name": "ipython",
    "version": 3
   },
   "file_extension": ".py",
   "mimetype": "text/x-python",
   "name": "python",
   "nbconvert_exporter": "python",
   "pygments_lexer": "ipython3",
   "version": "3.7.6"
  }
 },
 "nbformat": 4,
 "nbformat_minor": 4
}
