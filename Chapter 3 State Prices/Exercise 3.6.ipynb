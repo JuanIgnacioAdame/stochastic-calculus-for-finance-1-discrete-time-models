{
 "cells": [
  {
   "cell_type": "markdown",
   "metadata": {},
   "source": [
    "# Problem"
   ]
  },
  {
   "cell_type": "markdown",
   "metadata": {},
   "source": [
    "Consider Problem 3.3.1 in an $N$-period binomial model with the utility function $U(x)=\\ln (x)$.  Show that the optimal wealth process corresponding to the optimal portfolio process is given by $X_n=\\frac{X_0}{\\zeta_n}, n=0,1,\\dots,N,$ where $\\zeta_n$ is the state price density process defined in (3.2.7)."
   ]
  },
  {
   "cell_type": "markdown",
   "metadata": {},
   "source": [
    "# Answer"
   ]
  },
  {
   "cell_type": "markdown",
   "metadata": {},
   "source": [
    "First we recall the formulation of Problem 3.3.1: Given $X_0$, find an adapted portfolio process $\\Delta_0,\\Delta_1,\\dots,\\Delta_{N-1}$ that maximizes\n",
    "\\begin{equation}\n",
    "\\mathbb{E}U(X_N),\n",
    "\\end{equation}\n",
    "subject to the wealth equation\n",
    "\\begin{equation}\n",
    "X_{n+1}=\\Delta_nS_{n+1}+(1+r)(X_n-\\Delta_nS_n).\n",
    "\\end{equation}"
   ]
  },
  {
   "cell_type": "markdown",
   "metadata": {},
   "source": [
    "We proceed to solve the problem as outlined by Theorem 3.36. First, we must solve the equation below for $\\lambda$:\n",
    "\\begin{equation}\n",
    "\\mathbb{E}\\left[\\frac{Z}{(1+r)^N}I(\\frac{\\lambda Z}{(1+r)^N})\\right]=X_0,\n",
    "\\end{equation}\n",
    "where $I(y)=\\frac{1}{y}$ is the inverse function of $U'(x)=\\frac{1}{x}$, i.e., $I(U'(x))=I(\\frac{1}{x})=x$.  Note that $\\frac{Z}{(1+r)^N}I(\\frac{\\lambda Z}{(1+r)^N})=\\frac{Z}{(1+r)^N}\\frac{(1+r)^N}{\\lambda Z}=\\frac{1}{\\lambda}$, and hence\n",
    "\\begin{equation}\n",
    "\\frac{1}{\\lambda}=X_0\\Rightarrow\\boxed{\\lambda=\\frac{1}{X_0}}.\n",
    "\\end{equation}"
   ]
  },
  {
   "cell_type": "markdown",
   "metadata": {},
   "source": [
    "The second step, according to Theorem 3.36, is to compute $X_N$ via\n",
    "\\begin{equation}\n",
    "X_N=I\\left(\\frac{\\lambda Z}{(1+r)^N}\\right).\n",
    "\\end{equation}\n",
    "Plugging in the value of $\\lambda$ we obtained above, we get\n",
    "\\begin{align}\n",
    "X_N&=I\\left(\\frac{\\frac{1}{X_0} Z}{(1+r)^N}\\right)\\\\\n",
    "&=\\frac{(1+r)^N}{\\frac{1}{X_0} Z}\\\\\n",
    "&=\\frac{(1+r)^NX_0}{Z}.\n",
    "\\end{align}\n",
    "Recall that the state price density is, by definition, the time-discounted value of the Radon Nikodym process, i.e.\n",
    "\\begin{equation}\n",
    "\\zeta_n=\\frac{Z_n}{(1+r)^n}, \\quad n=0,1,\\dots,N.\n",
    "\\end{equation}\n",
    "From this it follows that we can rewrite the equation above as\n",
    "\\begin{equation}\n",
    "\\boxed{X_N=\\frac{X_0}{\\zeta_N}}.\n",
    "\\end{equation}"
   ]
  },
  {
   "cell_type": "markdown",
   "metadata": {},
   "source": [
    "The third and final step of Theorem 3.36 is to, backwards in time, replicate the derivative that at time $N$ has the payoff above, thereby obtaining the values $X_n$ for the remaining $n=0,\\dots,N-1$.  Because we don't need the replicating portfolio itself, but rather only its value, we can in fact just use Theorem 3.2.7, which gives us that\n",
    "\\begin{equation}\n",
    "V_n=\\frac{1}{\\zeta_n}\\mathbb{E}_n\\left[\\zeta_NX_N\\right].\n",
    "\\end{equation}"
   ]
  },
  {
   "cell_type": "markdown",
   "metadata": {},
   "source": [
    "If we replace $V_n$ by $X_n$, and $X_N$ $\\frac{X_0}{\\zeta_N}$ (see boxed equation above), we can rewrite this as\n",
    "\\begin{gather}\n",
    "X_n=\\frac{1}{\\zeta_n}\\mathbb{E}_n\\left[\\zeta_N\\frac{X_0}{\\zeta_N}\\right]\\Rightarrow\\\\\n",
    "\\boxed{X_n=\\frac{1}{\\zeta_n}X_0}.\\square\n",
    "\\end{gather}"
   ]
  },
  {
   "cell_type": "code",
   "execution_count": null,
   "metadata": {},
   "outputs": [],
   "source": []
  }
 ],
 "metadata": {
  "kernelspec": {
   "display_name": "Python 3",
   "language": "python",
   "name": "python3"
  },
  "language_info": {
   "codemirror_mode": {
    "name": "ipython",
    "version": 3
   },
   "file_extension": ".py",
   "mimetype": "text/x-python",
   "name": "python",
   "nbconvert_exporter": "python",
   "pygments_lexer": "ipython3",
   "version": "3.7.6"
  }
 },
 "nbformat": 4,
 "nbformat_minor": 4
}
